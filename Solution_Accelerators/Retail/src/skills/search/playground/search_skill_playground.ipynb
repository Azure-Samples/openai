{
 "cells": [
  {
   "cell_type": "markdown",
   "metadata": {},
   "source": [
    "# Azure AI Search Skill Playground"
   ]
  },
  {
   "cell_type": "markdown",
   "metadata": {},
   "source": [
    "## Blocks"
   ]
  },
  {
   "cell_type": "markdown",
   "metadata": {},
   "source": [
    "### Common Setup"
   ]
  },
  {
   "cell_type": "code",
   "execution_count": null,
   "metadata": {},
   "outputs": [],
   "source": [
    "from dotenv import load_dotenv\n",
    "\n",
    "load_dotenv(\"../.env\")\n",
    "\n",
    "import sys\n",
    "sys.path.insert(0, '..\\\\src')"
   ]
  },
  {
   "cell_type": "markdown",
   "metadata": {},
   "source": [
    "### Azure AI Search"
   ]
  },
  {
   "cell_type": "markdown",
   "metadata": {},
   "source": [
    "#### Azure AI Search Index"
   ]
  },
  {
   "cell_type": "code",
   "execution_count": null,
   "metadata": {},
   "outputs": [],
   "source": [
    "from components.search.cognitiveIndex_search import CognitiveSearchIndex\n",
    "from components.models.config_models import SearchFieldConfig\n",
    "\n",
    "img_index_name = \"sample-images-idx\"\n",
    "select_fields_map = {\n",
    "    img_index_name: [\n",
    "        SearchFieldConfig(name=\"article_id\", is_item_id=True),\n",
    "        SearchFieldConfig(name=\"category\", is_product_category=True),\n",
    "        SearchFieldConfig(name=\"prod_name\"),\n",
    "        SearchFieldConfig(name=\"image_filepath\"),\n",
    "        SearchFieldConfig(name=\"description\", contains_image_description=True),\n",
    "        SearchFieldConfig(name=\"gptv_description\", contains_image_description=True)\n",
    "    ]\n",
    "}\n",
    "SearchFieldConfig(name=\"article_id\", is_item_id=True)\n",
    "vector_config_map = {\n",
    "    img_index_name: [\"gptv_hybrid_description_embedding\"]\n",
    "}\n"
   ]
  },
  {
   "cell_type": "markdown",
   "metadata": {},
   "source": [
    "### Test Category filter with and without\n",
    "Using keyword search since it gives the worse results to spot the differences easier"
   ]
  },
  {
   "cell_type": "code",
   "execution_count": null,
   "metadata": {},
   "outputs": [],
   "source": [
    "from components.models.config_models import SearchType\n",
    "\n",
    "img_search_index = CognitiveSearchIndex(\n",
    "    img_index_name, \n",
    "    select_fields=select_fields_map.get(img_index_name, []),\n",
    "    vector_config=vector_config_map.get(img_index_name, []),\n",
    "    search_type=SearchType.keywords\n",
    ")\n",
    "print(img_search_index.get_filterable_categories())"
   ]
  },
  {
   "cell_type": "code",
   "execution_count": null,
   "metadata": {},
   "outputs": [],
   "source": [
    "query = \"red cozy pants\"\n",
    "print(\"----WITHOUT category filter----\")\n",
    "print(img_search_index.search(query, results_count=3))\n",
    "print(\"----WITH category filter----\")\n",
    "print(img_search_index.search(query, results_count=3, categories=[\"Trousers\"]))"
   ]
  },
  {
   "cell_type": "code",
   "execution_count": null,
   "metadata": {},
   "outputs": [],
   "source": [
    "img_search_index_vector = CognitiveSearchIndex(\n",
    "    img_index_name, \n",
    "    select_fields=select_fields_map.get(img_index_name, []),\n",
    "    vector_config=vector_config_map.get(img_index_name, []),\n",
    "    search_type=SearchType.vector\n",
    ")\n",
    "print(\"----WITHOUT category filter----\")\n",
    "print(img_search_index_vector.search(query, results_count=3))\n",
    "print(\"----WITH category filter----\")\n",
    "print(img_search_index_vector.search(query, results_count=3, categories=[\"Trousers\"]))"
   ]
  },
  {
   "cell_type": "markdown",
   "metadata": {},
   "source": [
    "Other examples for validating multiple categories"
   ]
  },
  {
   "cell_type": "code",
   "execution_count": null,
   "metadata": {},
   "outputs": [],
   "source": [
    "img_search_index._get_filter_input([\"Jacket\",\"Sweater\"])"
   ]
  },
  {
   "cell_type": "code",
   "execution_count": null,
   "metadata": {},
   "outputs": [],
   "source": [
    "query = \"something to keep me warm\"\n",
    "print(\"----WITHOUT category filter----\")\n",
    "print(img_search_index.search(query, results_count=3))\n",
    "print(\"----WITH category filter----\")\n",
    "print(img_search_index.search(query, results_count=3, categories=[\"Jacket\",\"Sweater\"]))"
   ]
  },
  {
   "cell_type": "markdown",
   "metadata": {},
   "source": [
    "### Get all matching items from 1 category"
   ]
  },
  {
   "cell_type": "code",
   "execution_count": null,
   "metadata": {},
   "outputs": [],
   "source": [
    "img_search_index.get_items_by_category(\"Jacket\")"
   ]
  },
  {
   "cell_type": "markdown",
   "metadata": {},
   "source": [
    "#### Cognitive Search Index Manager\n",
    "\n",
    "Loads config file and retrieve only indexes defined in config with specific vector and select fields config"
   ]
  },
  {
   "cell_type": "code",
   "execution_count": null,
   "metadata": {},
   "outputs": [],
   "source": [
    "from components.shared.errors import InvalidConfigError\n",
    "from components.models.config_models import get_valid_config\n",
    "from components.search.cognitiveIndex_manager import CognitiveSearchIndexManager\n",
    "\n",
    "valid_config, config = get_valid_config(config_path=\"../src/components/templates/cognitiveSearch.config.json\")\n",
    "\n",
    "if not valid_config:\n",
    "    raise InvalidConfigError(\"Invalid configuration file. Make sure it follows schema format\")\n",
    "\n",
    "index_manager = CognitiveSearchIndexManager(config)"
   ]
  },
  {
   "cell_type": "code",
   "execution_count": null,
   "metadata": {},
   "outputs": [],
   "source": [
    "search_query = \"baby outfit with light colors and with stripes\"\n",
    "index_manager.get_product_image_index().search(search_query, 2)"
   ]
  },
  {
   "cell_type": "markdown",
   "metadata": {},
   "source": [
    "## Post-Filtering Logic"
   ]
  },
  {
   "cell_type": "code",
   "execution_count": null,
   "metadata": {},
   "outputs": [],
   "source": [
    "search_query = \"baby outfit with light colors and with stripes\"\n",
    "search_results = index_manager.get_product_image_index().search(search_query, 6)\n",
    "search_results"
   ]
  },
  {
   "cell_type": "code",
   "execution_count": null,
   "metadata": {},
   "outputs": [],
   "source": [
    "from components.gpt_filtering.post_search_filters import post_search_filter\n",
    "\n",
    "post_search_filter(search_query, search_results, \n",
    "                   items_count=3, \n",
    "                   id_key=\"article_id\", \n",
    "                   description_keys=[\"description\", \"gptv_description\"])"
   ]
  },
  {
   "cell_type": "markdown",
   "metadata": {},
   "source": [
    "### Category summary experiments"
   ]
  },
  {
   "cell_type": "code",
   "execution_count": null,
   "metadata": {},
   "outputs": [],
   "source": [
    "print(img_search_index.get_filterable_categories())"
   ]
  },
  {
   "cell_type": "code",
   "execution_count": null,
   "metadata": {},
   "outputs": [],
   "source": [
    "category = \"Dress\"\n",
    "items = img_search_index.get_items_by_category(category)\n",
    "print(items)"
   ]
  },
  {
   "cell_type": "code",
   "execution_count": null,
   "metadata": {},
   "outputs": [],
   "source": [
    "from components.gpt_filtering.post_search_filters import summarize_collection_items_description\n",
    "\n",
    "summarize_collection_items_description(category, items)"
   ]
  },
  {
   "cell_type": "code",
   "execution_count": null,
   "metadata": {},
   "outputs": [],
   "source": [
    "from components.utils.blob_storage_utils import get_blob_url\n",
    "\n",
    "get_blob_url(\"174057022/0174057022.jpg\")"
   ]
  }
 ],
 "metadata": {
  "kernelspec": {
   "display_name": ".venv",
   "language": "python",
   "name": "python3"
  },
  "language_info": {
   "codemirror_mode": {
    "name": "ipython",
    "version": 3
   },
   "file_extension": ".py",
   "mimetype": "text/x-python",
   "name": "python",
   "nbconvert_exporter": "python",
   "pygments_lexer": "ipython3",
   "version": "3.10.11"
  },
  "orig_nbformat": 4
 },
 "nbformat": 4,
 "nbformat_minor": 2
}
