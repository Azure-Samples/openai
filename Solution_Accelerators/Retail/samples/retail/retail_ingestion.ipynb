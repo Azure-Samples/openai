{
 "cells": [
  {
   "cell_type": "markdown",
   "metadata": {},
   "source": [
    "## Creating a Search Index using Azure AI Search SDK"
   ]
  },
  {
   "cell_type": "markdown",
   "metadata": {},
   "source": [
    "## Prerequisites\n",
    "\n",
    "Before starting, ensure you have:<br>\n",
    "\n",
    "An Azure account with an Azure AI Search service created. The service name, admin API key, and endpoint URL.<br>\n",
    "\n",
    "You can find information on setting up your Azure and all needed requirements [here](../../SETUP_RETAIL.md)."
   ]
  },
  {
   "cell_type": "markdown",
   "metadata": {},
   "source": [
    "#### Install SDK"
   ]
  },
  {
   "cell_type": "code",
   "execution_count": null,
   "metadata": {},
   "outputs": [],
   "source": [
    "%pip install azure-identity --quiet\n",
    "%pip install azure-storage-blob --quiet\n",
    "%pip install azure-search-documents --quiet\n",
    "%pip install openai --quiet"
   ]
  },
  {
   "cell_type": "markdown",
   "metadata": {},
   "source": [
    "#### Install libraries"
   ]
  },
  {
   "cell_type": "code",
   "execution_count": null,
   "metadata": {},
   "outputs": [],
   "source": [
    "%pip install requests --quiet\n",
    "%pip install json --quiet\n",
    "%pip install typing --quiet"
   ]
  },
  {
   "cell_type": "markdown",
   "metadata": {},
   "source": [
    "#### Import Libraries"
   ]
  },
  {
   "cell_type": "code",
   "execution_count": 2,
   "metadata": {},
   "outputs": [],
   "source": [
    "import requests\n",
    "import json\n",
    "import os\n",
    "from typing import Dict\n",
    "\n",
    "from openai import AzureOpenAI\n",
    "\n",
    "from azure.identity import DefaultAzureCredential, get_bearer_token_provider\n",
    "\n",
    "from azure.storage.blob import BlobServiceClient\n",
    "\n",
    "from azure.search.documents import SearchClient, SearchItemPaged\n",
    "from azure.search.documents.indexes import SearchIndexClient\n",
    "from azure.search.documents.models import VectorizedQuery, QueryType\n",
    "from azure.search.documents.indexes.models import (\n",
    "    SearchIndex,\n",
    "    SearchField,\n",
    "    VectorSearch,\n",
    "    VectorSearchProfile,\n",
    "    HnswAlgorithmConfiguration,\n",
    "    SemanticConfiguration,\n",
    "    SemanticPrioritizedFields,\n",
    "    SemanticField,\n",
    "    SemanticSearch\n",
    ")"
   ]
  },
  {
   "cell_type": "markdown",
   "metadata": {},
   "source": [
    "#### Define Search Index Schema"
   ]
  },
  {
   "cell_type": "markdown",
   "metadata": {},
   "source": [
    "Put the name of your search index in placeholder below. If you have created search index just update the name in placeholder below and jump to [Data Ingestion](#data-ingestion). Otherwise follow steps below to create your index."
   ]
  },
  {
   "cell_type": "code",
   "execution_count": null,
   "metadata": {},
   "outputs": [],
   "source": [
    "index_name = '<your_index_name>'"
   ]
  },
  {
   "cell_type": "code",
   "execution_count": 3,
   "metadata": {},
   "outputs": [],
   "source": [
    "retail_index = SearchIndex(\n",
    "    name = index_name,\n",
    "    fields = [\n",
    "        SearchField(name='id', type='Edm.String', key=True),\n",
    "        SearchField(name='articleId', type='Edm.String', stored=True, facetable=True),\n",
    "        SearchField(name='productName', type='Edm.String', stored=True, facetable=True),\n",
    "        SearchField(name='productType', type='Edm.String', stored=True, filterable=True, facetable=True),\n",
    "        SearchField(name='indexGroupName', type='Edm.String', stored=True, filterable=True, facetable=True),\n",
    "        SearchField(name='gender', type='Edm.String', stored=True, filterable=True, facetable=True),\n",
    "        SearchField(name='detailDescription', type='Edm.String', stored=True, searchable=True, analyzer_name='en.microsoft'),\n",
    "        SearchField(name='detailDescriptionVector', type='Collection(Edm.Single)', hidden=True, stored=True, searchable=True, vector_search_dimensions=1536, vector_search_profile_name='myHnswProfile'),\n",
    "        SearchField(name='summarizedDescription', type='Edm.String', stored=True, searchable=True, analyzer_name='en.microsoft'),\n",
    "        SearchField(name='summarizedDescriptionVector', type='Collection(Edm.Single)', hidden=True, stored=True, searchable=True, vector_search_dimensions=1536, vector_search_profile_name='myHnswProfile'),\n",
    "        SearchField(name='generatedDescription', type='Edm.String', stored=True, searchable=True, analyzer_name='en.microsoft'),\n",
    "        SearchField(name='generatedDescriptionVector', type='Collection(Edm.Single)', hidden=True, stored=True, searchable=True, vector_search_dimensions=1536, vector_search_profile_name='myHnswProfile'),\n",
    "        SearchField(name='imageUrl', type='Edm.String', stored=True, facetable=True) \n",
    "    ]\n",
    ")\n"
   ]
  },
  {
   "cell_type": "markdown",
   "metadata": {},
   "source": [
    "#### Introduce Vector Search: Define Vector Search Parameters"
   ]
  },
  {
   "cell_type": "code",
   "execution_count": 4,
   "metadata": {},
   "outputs": [],
   "source": [
    "vector_search = VectorSearch(\n",
    "    algorithms=[\n",
    "        HnswAlgorithmConfiguration(\n",
    "            name=\"myHnsw\"\n",
    "        )\n",
    "    ],\n",
    "    profiles=[\n",
    "        VectorSearchProfile(\n",
    "            name=\"myHnswProfile\",\n",
    "            algorithm_configuration_name=\"myHnsw\",\n",
    "        )\n",
    "    ]\n",
    ")\n",
    "\n",
    "retail_index.vector_search = vector_search"
   ]
  },
  {
   "cell_type": "markdown",
   "metadata": {},
   "source": [
    "#### Introduce Semantic Search: Define Semantic configuration based on Index schema"
   ]
  },
  {
   "cell_type": "code",
   "execution_count": 5,
   "metadata": {},
   "outputs": [],
   "source": [
    "semantic_config = SemanticConfiguration(\n",
    "    name=\"catalog-semantic-config\",\n",
    "    prioritized_fields=SemanticPrioritizedFields(\n",
    "        keywords_fields=[\n",
    "            SemanticField(field_name=\"indexGroupName\"),\n",
    "            SemanticField(field_name=\"gender\"),\n",
    "            SemanticField(field_name=\"productType\")\n",
    "        ],\n",
    "        content_fields=[\n",
    "            SemanticField(field_name=\"detailDescription\"),\n",
    "            SemanticField(field_name=\"summarizedDescription\"),\n",
    "            SemanticField(field_name=\"generatedDescription\")\n",
    "        ]\n",
    "    )\n",
    ")\n",
    "\n",
    "# Create the semantic settings with the configuration\n",
    "retail_index.semantic_search = SemanticSearch(configurations=[semantic_config])"
   ]
  },
  {
   "cell_type": "markdown",
   "metadata": {},
   "source": [
    "#### Create Index in Azure AI Search"
   ]
  },
  {
   "cell_type": "code",
   "execution_count": null,
   "metadata": {},
   "outputs": [],
   "source": [
    "# Replace the placeholders with your Azure AI Search service details.\n",
    "AZURE_AI_SEARCH_RESOURCE_NAME = '<your_search_service_name>'\n",
    "\n",
    "# Create a SearchIndexClient for index management\n",
    "index_client = SearchIndexClient(endpoint=f\"https://{AZURE_AI_SEARCH_RESOURCE_NAME}.search.windows.net\",\n",
    "                                 credential=DefaultAzureCredential())\n",
    "\n",
    "result = index_client.create_index(retail_index)\n",
    "print(f\"Successfully created index '{index_name}'.\")\n",
    "\n",
    "# Check if the Index Exists\n",
    "index_list = index_client.list_index_names()\n",
    "if index_name in index_list:\n",
    "    print(f\"Index '{index_name}' exists.\")"
   ]
  },
  {
   "cell_type": "markdown",
   "metadata": {},
   "source": [
    "## Data Ingestion"
   ]
  },
  {
   "cell_type": "markdown",
   "metadata": {},
   "source": [
    "For ingesting data you will need two components:<br>\n",
    "1. Images of catalog items: These will be stored in blob storage. It is important that name of each image be exactly articleID of corresponding catalog item. These images are crucial for enhancements during ingestion. Images are provided [here](../../data/retail/product_images) <br>\n",
    "2. Listing of product : This listing will be ingested into Azure AI Search. Listing is provided [here](../../data/retail/product_listings.json)"
   ]
  },
  {
   "cell_type": "code",
   "execution_count": null,
   "metadata": {},
   "outputs": [],
   "source": [
    "# Setup Storage Account details\n",
    "AZURE_STORAGE_ACCOUNT_NAME = \"\"\n",
    "AZURE_STORAGE_BLOB_CONTAINER_NAME = \"\"\n",
    "\n",
    "blob_client = BlobServiceClient(\n",
    "    account_url=f\"https://{AZURE_STORAGE_ACCOUNT_NAME}.blob.core.windows.net\",\n",
    "    credential=DefaultAzureCredential()\n",
    ")\n",
    "\n",
    "blob_container_client = blob_client.get_container_client(AZURE_STORAGE_BLOB_CONTAINER_NAME)\n",
    "if not blob_container_client.exists():\n",
    "    blob_container_client.create_container()\n",
    "    print(f\"Created container {AZURE_STORAGE_BLOB_CONTAINER_NAME} in {AZURE_STORAGE_ACCOUNT_NAME}.\")\n",
    "\n",
    "# Upload images to the blob storage\n",
    "directory_path = \"../../data/retail/product_images\"\n",
    "for root, dirs, files in os.walk(directory_path):\n",
    "    for filename in files:\n",
    "        with open(os.path.join(root, filename), \"rb\") as f:\n",
    "            blob_client = blob_container_client.upload_blob(name=filename, data=f.read(), overwrite=True)"
   ]
  },
  {
   "cell_type": "markdown",
   "metadata": {},
   "source": [
    "#### Ingest data into Azure AI Search"
   ]
  },
  {
   "cell_type": "code",
   "execution_count": null,
   "metadata": {},
   "outputs": [],
   "source": [
    "# Replace the placeholders with Ingestion service URL (local or remote).\n",
    "INGESTION_SERVICE_URL = \"\"\n",
    "\n",
    "# Setup HTTP request (URL and headers)\n",
    "CONVERSATION_ID = \"\" # Required\n",
    "USER_ID = \"\" # Required\n",
    "DIALOG_ID = \"\" # Required\n",
    "\n",
    "url = f'{INGESTION_SERVICE_URL}/indexer/index'\n",
    "headers = {'conversation_id': CONVERSATION_ID, 'user_id': USER_ID, 'dialog_id': DIALOG_ID}\n",
    "\n",
    "# Create payload\n",
    "with open(\"../../data/retail/product_listings.json\") as product_file:\n",
    "    product_items = json.load(product_file)\n",
    "\n",
    "payload = {\n",
    "  \"storage_container_name\": AZURE_STORAGE_BLOB_CONTAINER_NAME,\n",
    "  \"index_name\": index_name,\n",
    "  \"enrichment\": \"IMAGE_DESCRIPTION\",\n",
    "  \"payload\": product_items\n",
    "}\n",
    "\n",
    "response = requests.post(url, json=payload, headers=headers)\n",
    "if response.status_code == 201:\n",
    "  print(f\"Catalog items submitted for indexing successfully.\")"
   ]
  },
  {
   "cell_type": "markdown",
   "metadata": {},
   "source": [
    "## Search"
   ]
  },
  {
   "cell_type": "markdown",
   "metadata": {},
   "source": [
    "This part is for testing your ingested data and is not needed for ingesting date directly."
   ]
  },
  {
   "cell_type": "markdown",
   "metadata": {},
   "source": [
    "#### Setup Search Client"
   ]
  },
  {
   "cell_type": "code",
   "execution_count": null,
   "metadata": {},
   "outputs": [],
   "source": [
    "AZURE_SEARCH_SERVICE = \"\"\n",
    "AZURE_SEARCH_ENDPOINT = f\"https://{AZURE_SEARCH_SERVICE}.search.windows.net\"\n",
    "\n",
    "credential = DefaultAzureCredential()\n",
    "\n",
    "index_client = SearchIndexClient(endpoint=AZURE_SEARCH_ENDPOINT, credential=credential)\n",
    "search_client = SearchClient(AZURE_SEARCH_ENDPOINT, index_name, credential=credential)"
   ]
  },
  {
   "cell_type": "markdown",
   "metadata": {},
   "source": [
    "#### Setup Utility Functions"
   ]
  },
  {
   "cell_type": "code",
   "execution_count": null,
   "metadata": {},
   "outputs": [],
   "source": [
    "# Replace the placeholders with your Azure OpenAI Service and Model Deployment.\n",
    "AZURE_OPENAI_SERVICE = \"\"\n",
    "AZURE_OPENAI_ADA_DEPLOYMENT = \"\"\n",
    "\n",
    "token_provider = get_bearer_token_provider(\n",
    "    DefaultAzureCredential(),\n",
    "    \"https://cognitiveservices.azure.com/.default\"\n",
    ")\n",
    "\n",
    "openai_client = AzureOpenAI(\n",
    "    api_version=\"2024-08-01-preview\",\n",
    "    azure_endpoint=f\"https://{AZURE_OPENAI_SERVICE}.openai.azure.com\",\n",
    "    azure_ad_token_provider=token_provider)\n",
    "\n",
    "def get_embedding(text):\n",
    "    get_embeddings_response = openai_client.embeddings.create(model=AZURE_OPENAI_ADA_DEPLOYMENT, input=text)\n",
    "    return get_embeddings_response.data[0].embedding\n",
    "\n",
    "def search_results_cleanup(result_dict: dict) -> dict:\n",
    "        '''\n",
    "        Removing entries in the search result dict that have None value\n",
    "        '''\n",
    "        return {key: value for key, value in result_dict.items() if value is not None and key != \"@search.score\"}\n",
    "\n",
    "def unpack_search_results(results: SearchItemPaged[Dict]):\n",
    "        output = list()\n",
    "        # search results come in an iterator, unpacking before returning\n",
    "        for r in results:\n",
    "            output.append(search_results_cleanup(r))\n",
    "\n",
    "        return output\n"
   ]
  },
  {
   "cell_type": "markdown",
   "metadata": {},
   "source": [
    "#### Search Using Vector Similarity"
   ]
  },
  {
   "cell_type": "code",
   "execution_count": null,
   "metadata": {},
   "outputs": [],
   "source": [
    "search_query = \"Show me green shirts.\"\n",
    "\n",
    "search_query_vector = get_embedding(search_query)\n",
    "\n",
    "results = search_client.search(\n",
    "    search_text=search_query,\n",
    "    top=5,\n",
    "    vector_queries=[\n",
    "        VectorizedQuery(vector=search_query_vector,\n",
    "                        k_nearest_neighbors=5,\n",
    "                        fields=\"detailDescriptionVector, summarizedDescriptionVector, generatedDescriptionVector\")\n",
    "    ],\n",
    "    query_type=QueryType.SEMANTIC,\n",
    "    semantic_configuration_name=semantic_config.name)\n",
    "\n",
    "final_result_set = unpack_search_results(results)\n",
    "print(f\"Successfully retrieved {len(final_result_set)} results from Search.\")\n"
   ]
  }
 ],
 "metadata": {
  "kernelspec": {
   "display_name": "Python 3",
   "language": "python",
   "name": "python3"
  },
  "language_info": {
   "codemirror_mode": {
    "name": "ipython",
    "version": 3
   },
   "file_extension": ".py",
   "mimetype": "text/x-python",
   "name": "python",
   "nbconvert_exporter": "python",
   "pygments_lexer": "ipython3",
   "version": "3.12.9"
  }
 },
 "nbformat": 4,
 "nbformat_minor": 2
}
