{
 "cells": [
  {
   "cell_type": "markdown",
   "metadata": {},
   "source": [
    "## Evaluating the output"
   ]
  },
  {
   "cell_type": "code",
   "execution_count": null,
   "metadata": {},
   "outputs": [],
   "source": [
    "import numpy as np \n",
    "import pandas as pd\n",
    "from scipy.stats import ttest_ind\n",
    "from scipy.stats import ttest_1samp, binom\n",
    "\n",
    "import json \n",
    "import copy\n",
    "import jsonlines\n",
    "import os\n",
    "import openai\n",
    "from openai import AzureOpenAI\n",
    "from tqdm import tqdm"
   ]
  },
  {
   "cell_type": "code",
   "execution_count": null,
   "metadata": {},
   "outputs": [],
   "source": [
    "endpoint = \"\"\n",
    "api_key = \"\" \n",
    "\n",
    "openai.azure_endpoint = endpoint  # your endpoint should look like \"https://<your-resource-name>.openai.azure.com/\"  \n",
    "openai.api_version = \"\"  # specify the API version you're using  \n",
    "openai.api_key = api_key  \n",
    "openai.api_type = \"azure\"  \n",
    "\n",
    "def call_llm(query):\n",
    "\n",
    "    completion = openai.chat.completions.create(\n",
    "        model=\"gpt-4o\",\n",
    "        messages=[        \n",
    "            {\n",
    "                \"role\": \"user\",\n",
    "                \"content\": query\n",
    "            }\n",
    "        ],\n",
    "        temperature=0.0,\n",
    "        #response_format={\"type\": \"json_object\"}\n",
    "    )\n",
    "        \n",
    "    return completion.choices[0].message.content\n",
    "\n",
    "def check_table(text, prompt = None):\n",
    "\n",
    "    if prompt is None:\n",
    "        prompt = \"\"\"\n",
    "    You are to check if there is any table in the text given. \n",
    "    Lists and equations are not tables so do not include them. \n",
    "\n",
    "    TEXT: {text}\n",
    "\n",
    "    #OUTPUT \n",
    "    You are to give your answer in JSON format which is either\n",
    "    {{\"Table\": \"True\"}} or {{\"Table\": \"False\"}}\n",
    "    \"\"\"\n",
    "\n",
    "    try:\n",
    "        response = call_llm(prompt.format(text = text))\n",
    "    except Exception as e:\n",
    "        print(f\"Error calling LLM: {e}\")\n",
    "        response = None             \n",
    "\n",
    "    return eval(response)\n",
    "\n",
    "def check_tone(text_1, text_2 , prompt = None):\n",
    "\n",
    "    if prompt is None:\n",
    "        prompt = \"\"\"\n",
    "    You are given 2 texts. You are to judge which of them comes from an financial expert based on the tone. \n",
    "    You are also to give the reason why you think it is so.\n",
    "    TEXT 1: {text_1}\n",
    "\n",
    "    TEXT 2: {text_2}\n",
    "\n",
    "    #OUTPUT \n",
    "    You are to give your answer in JSON format which is either\n",
    "    {{\"Judgement\": \"TEXT_1\",\n",
    "      \"Reason\"   : \"...\"}} \n",
    "    or\n",
    "    {{\"Judgement\": \"TEXT_2\",\n",
    "      \"Reason\"   : \"...\"}}\n",
    "    \"\"\"\n",
    "\n",
    "    try:\n",
    "        response = call_llm(prompt.format(text_1, text_2))\n",
    "    except Exception as e:\n",
    "        print(f\"Error calling LLM: {e}\")\n",
    "        response = None               \n",
    "\n",
    "    return eval(response)"
   ]
  },
  {
   "cell_type": "code",
   "execution_count": 2,
   "metadata": {},
   "outputs": [],
   "source": [
    "Finetune_answer_example = \\\n",
    "''' \n",
    "For the period ended 31 March 2022, the company reported other income of AED 252 million. The main contributor to this income was dividend income from the company's investment in the company Limited \n",
    "\n",
    "| Description | Amount (AED million) |\n",
    "|-------------|----------------------|\n",
    "| Other Income | 252 |\n",
    "| Main Contributor | Dividend Income  |\n",
    "'''\n",
    "\n",
    "Control_answer_example = \\\n",
    "''' \n",
    "For the period ended 31 March 2022, the company reported other income of AED 252 million. The main contributor to this other income was dividend income from the company's investment in the company Limited.\n",
    "\n",
    "'''"
   ]
  },
  {
   "cell_type": "code",
   "execution_count": null,
   "metadata": {},
   "outputs": [],
   "source": [
    "print(check_table(Finetune_answer_example))\n",
    "print(check_tone(Finetune_answer_example, Control_answer_example))"
   ]
  }
 ],
 "metadata": {
  "kernelspec": {
   "display_name": "Python 3",
   "language": "python",
   "name": "python3"
  },
  "language_info": {
   "codemirror_mode": {
    "name": "ipython",
    "version": 3
   },
   "file_extension": ".py",
   "mimetype": "text/x-python",
   "name": "python",
   "nbconvert_exporter": "python",
   "pygments_lexer": "ipython3",
   "version": "3.10.11"
  }
 },
 "nbformat": 4,
 "nbformat_minor": 2
}
