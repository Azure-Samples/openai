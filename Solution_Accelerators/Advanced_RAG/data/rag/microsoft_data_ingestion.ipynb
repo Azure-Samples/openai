{
 "cells": [
  {
   "cell_type": "markdown",
   "metadata": {},
   "source": [
    "## Creating a Search Index using Azure AI Search SDK to support RAG based scenarios\n",
    "\n",
    "#### Prerequisites  \n",
    "  \n",
    "Before starting, ensure you have:  \n",
    "  \n",
    "- An Azure account with an Azure AI Search service created.\n",
    "- The service name, admin API key, and endpoint URL.\n",
    "- Installed the Azure AI Search SDK: `azure-search-documents`. See below to install."
   ]
  },
  {
   "cell_type": "markdown",
   "metadata": {},
   "source": [
    "#### Install SDK"
   ]
  },
  {
   "cell_type": "code",
   "execution_count": null,
   "metadata": {},
   "outputs": [],
   "source": [
    "%pip install azure-search-documents --quiet\n",
    "%pip install azure-storage-blob --quiet\n",
    "%pip install azure-identity --quiet\n",
    "%pip install openai --quiet"
   ]
  },
  {
   "cell_type": "markdown",
   "metadata": {},
   "source": [
    "#### Import Libraries"
   ]
  },
  {
   "cell_type": "code",
   "execution_count": null,
   "metadata": {},
   "outputs": [],
   "source": [
    "import os\n",
    "import random\n",
    "import requests\n",
    "\n",
    "from typing import Dict\n",
    "from openai import AzureOpenAI\n",
    "from azure.identity import DefaultAzureCredential, get_bearer_token_provider\n",
    "\n",
    "from azure.storage.blob import BlobServiceClient\n",
    "\n",
    "from azure.search.documents import SearchClient, SearchItemPaged\n",
    "from azure.search.documents.indexes import SearchIndexClient\n",
    "from azure.search.documents.models import VectorizedQuery, QueryType\n",
    "from azure.search.documents.indexes.models import (\n",
    "    SearchIndex,\n",
    "    SimpleField,\n",
    "    SearchFieldDataType,\n",
    "    SearchField,\n",
    "    SemanticConfiguration,\n",
    "    SemanticField,\n",
    "    VectorSearch,\n",
    "    SemanticSearch,\n",
    "    SemanticPrioritizedFields,\n",
    "    SearchableField,\n",
    "    HnswAlgorithmConfiguration,\n",
    "    VectorSearchProfile\n",
    ")"
   ]
  },
  {
   "cell_type": "markdown",
   "metadata": {},
   "source": [
    "#### Define Search Index Schema"
   ]
  },
  {
   "cell_type": "markdown",
   "metadata": {},
   "source": [
    "Put the name of your search index in placeholder below. If you have created search index just update the name in placeholder below and jump to [Data Ingestion](#data-ingestion). Otherwise follow steps below to create your index."
   ]
  },
  {
   "cell_type": "code",
   "execution_count": null,
   "metadata": {},
   "outputs": [],
   "source": [
    "index_name = '<your_index_name>'"
   ]
  },
  {
   "cell_type": "code",
   "execution_count": null,
   "metadata": {},
   "outputs": [],
   "source": [
    "financial_index = SearchIndex(\n",
    "    name=index_name,\n",
    "    fields = [\n",
    "        SimpleField(name=\"id\", type=SearchFieldDataType.String, key=True),\n",
    "        SearchableField(name=\"content\", type=SearchFieldDataType.String, analyzer_name=\"en.microsoft\"),\n",
    "        SearchField(name=\"contentVector\", type=SearchFieldDataType.Collection(SearchFieldDataType.Single), searchable=True, vector_search_dimensions=1536, vector_search_profile_name=\"myHnswProfile\"),\n",
    "        SearchableField(name=\"headings\", type=SearchFieldDataType.Collection(SearchFieldDataType.String), collection=True, filterable=True, facetable=True),\n",
    "        SearchableField(name=\"sourcePage\", type=SearchFieldDataType.String, filterable=True, facetable=True),\n",
    "        SearchableField(name=\"sourceFile\", type=SearchFieldDataType.String, filterable=True, facetable=True),\n",
    "        SearchableField(name=\"reportedYear\", type=SearchFieldDataType.String, filterable=True, facetable=True),\n",
    "        SearchableField(name=\"subsidiary\", type=SearchFieldDataType.String, filterable=True, facetable=True)\n",
    "    ]\n",
    ")"
   ]
  },
  {
   "cell_type": "markdown",
   "metadata": {},
   "source": [
    "#### Introduce Vector Search: Define Vector Search Parameters"
   ]
  },
  {
   "cell_type": "code",
   "execution_count": null,
   "metadata": {},
   "outputs": [],
   "source": [
    "vector_search = VectorSearch(\n",
    "    algorithms=[\n",
    "        HnswAlgorithmConfiguration(\n",
    "            name=\"myHnsw\"\n",
    "        )\n",
    "    ],\n",
    "    profiles=[\n",
    "        VectorSearchProfile(\n",
    "            name=\"myHnswProfile\",\n",
    "            algorithm_configuration_name=\"myHnsw\",\n",
    "        )\n",
    "    ]\n",
    ")\n",
    "\n",
    "financial_index.vector_search = vector_search"
   ]
  },
  {
   "cell_type": "markdown",
   "metadata": {},
   "source": [
    "#### Introduce Semantic Search: Define Semantic configuration based on Index schema"
   ]
  },
  {
   "cell_type": "code",
   "execution_count": null,
   "metadata": {},
   "outputs": [],
   "source": [
    "semantic_config = SemanticConfiguration(\n",
    "    name=\"microsoft-semantic-config\",\n",
    "    prioritized_fields=SemanticPrioritizedFields(\n",
    "        title_field=SemanticField(field_name=\"headings\"),\n",
    "        keywords_fields=[\n",
    "            SemanticField(field_name=\"reportedYear\"),\n",
    "            SemanticField(field_name=\"subsidiary\")\n",
    "        ],\n",
    "        content_fields=[\n",
    "            SemanticField(field_name=\"content\")\n",
    "        ]\n",
    "    )\n",
    ")\n",
    "\n",
    "# Create the semantic settings with the configuration\n",
    "financial_index.semantic_search = SemanticSearch(configurations=[semantic_config])"
   ]
  },
  {
   "cell_type": "markdown",
   "metadata": {},
   "source": [
    "#### Create Index in Azure AI Search"
   ]
  },
  {
   "cell_type": "code",
   "execution_count": null,
   "metadata": {},
   "outputs": [],
   "source": [
    "# Replace the placeholders with your Azure AI Search service details.\n",
    "AZURE_AI_SEARCH_RESOURCE_NAME = 'srch-5xd4xcq23ihzu'  # e.g., 'my-search-service'\n",
    "\n",
    "# Create a SearchIndexClient for index management\n",
    "index_client = SearchIndexClient(endpoint=f\"https://{AZURE_AI_SEARCH_RESOURCE_NAME}.search.windows.net\",\n",
    "                                 credential=DefaultAzureCredential())\n",
    "\n",
    "result = index_client.create_index(financial_index)\n",
    "print(f\"Successfully created index '{index_name}'.\")\n",
    "\n",
    "# Check if the Index Exists\n",
    "index_list = index_client.list_index_names()\n",
    "if index_name in index_list:\n",
    "    print(f\"Index '{index_name}' exists.\")"
   ]
  },
  {
   "cell_type": "markdown",
   "metadata": {},
   "source": [
    "## Data Ingestion"
   ]
  },
  {
   "cell_type": "markdown",
   "metadata": {},
   "source": [
    "#### Load Microsoft Financial Data"
   ]
  },
  {
   "cell_type": "code",
   "execution_count": null,
   "metadata": {},
   "outputs": [],
   "source": [
    "# Setup Storage Account details\n",
    "AZURE_STORAGE_ACCOUNT_NAME = \"\"\n",
    "AZURE_STORAGE_BLOB_CONTAINER_NAME = \"\"\n",
    "\n",
    "blob_client = BlobServiceClient(\n",
    "    account_url=f\"https://{AZURE_STORAGE_ACCOUNT_NAME}.blob.core.windows.net\",\n",
    "    credential=DefaultAzureCredential()\n",
    ")\n",
    "\n",
    "blob_container_client = blob_client.get_container_client(AZURE_STORAGE_BLOB_CONTAINER_NAME)\n",
    "if not blob_container_client.exists():\n",
    "    blob_container_client.create_container()\n",
    "    print(f\"Created container {AZURE_STORAGE_BLOB_CONTAINER_NAME} in {AZURE_STORAGE_ACCOUNT_NAME}.\")\n",
    "\n",
    "# List all financial data files\n",
    "directory_path = \"data\"\n",
    "microsoft_financial_pdfs = []\n",
    "\n",
    "for root, dirs, files in os.walk(directory_path):\n",
    "    for filename in files:\n",
    "        if filename.lower().endswith('.pdf'):\n",
    "            with open(os.path.join(root, filename), 'rb') as f:\n",
    "                # Upload file to storage\n",
    "                blob_client = blob_container_client.upload_blob(name=filename, data=f.read(), overwrite=True)\n",
    "\n",
    "                # Track files to ingest\n",
    "                microsoft_financial_pdfs.append(filename)\n",
    "\n",
    "print(f\"Microsoft Financial data found. Total files to be ingested: {len(microsoft_financial_pdfs)}\")"
   ]
  },
  {
   "cell_type": "markdown",
   "metadata": {},
   "source": [
    "#### Ingest data into Azure AI Search"
   ]
  },
  {
   "cell_type": "code",
   "execution_count": null,
   "metadata": {},
   "outputs": [],
   "source": [
    "# Replace the placeholders with Ingestion service URL (local or remote).\n",
    "INGESTION_SERVICE_URL = \"\"\n",
    "\n",
    "# Create a map for filenames to reported year and subsidiary\n",
    "microsoft_financial_report_to_metadata_map = {\n",
    "    \"2022_Annual_Report.pdf\" : { \"reported_year\": \"2022\", \"subsidiary\": \"Microsoft\" },\n",
    "    \"2023_Annual_Report.pdf\" : { \"reported_year\": \"2023\", \"subsidiary\": \"Microsoft\" },\n",
    "    \"2024_Annual_Report.pdf\" : { \"reported_year\": \"2024\", \"subsidiary\": \"Microsoft\" },\n",
    "    \"MSFT_FY22Q4_10K.pdf\" : { \"reported_year\": \"2022\", \"subsidiary\": \"Microsoft\" },\n",
    "    \"MSFT_FY23Q4_10K.pdf\" : { \"reported_year\": \"2023\", \"subsidiary\": \"Microsoft\" },\n",
    "    \"MSFT_FY24Q4_10K.pdf\" : { \"reported_year\": \"2024\", \"subsidiary\": \"Microsoft\" },\n",
    "    \"2022-Q1.pdf\" : { \"reported_year\": \"2022\", \"subsidiary\": \"Microsoft\" },\n",
    "    \"2022-Q2.pdf\" : { \"reported_year\": \"2022\", \"subsidiary\": \"Microsoft\" },\n",
    "    \"2022-Q3.pdf\" : { \"reported_year\": \"2022\", \"subsidiary\": \"Microsoft\" },\n",
    "    \"2023-Q1.pdf\" : { \"reported_year\": \"2023\", \"subsidiary\": \"Microsoft\" },\n",
    "    \"2023-Q2.pdf\" : { \"reported_year\": \"2023\", \"subsidiary\": \"Microsoft\" },\n",
    "    \"2023-Q3.pdf\" : { \"reported_year\": \"2023\", \"subsidiary\": \"Microsoft\" },\n",
    "    \"2024-Q1.pdf\" : { \"reported_year\": \"2024\", \"subsidiary\": \"Microsoft\" },\n",
    "    \"2024-Q2.pdf\" : { \"reported_year\": \"2024\", \"subsidiary\": \"Microsoft\" },\n",
    "    \"2024-Q3.pdf\" : { \"reported_year\": \"2024\", \"subsidiary\": \"Microsoft\" },\n",
    "}\n",
    "\n",
    "# Setup HTTP request (URL and headers)\n",
    "CONVERSATION_ID = \"\" # Required\n",
    "USER_ID = \"\" # Required\n",
    "DIALOG_ID = \"\" # Required\n",
    "\n",
    "url = f'{INGESTION_SERVICE_URL}/indexer/index'\n",
    "headers = {'conversation_id': CONVERSATION_ID, 'user_id': USER_ID, 'dialog_id': DIALOG_ID}\n",
    "\n",
    "# Create payload for each file\n",
    "for pdf_file in microsoft_financial_pdfs[:1]:\n",
    "    file_payload = {\n",
    "        \"storage_container_name\": \"microsoft-content\",\n",
    "        \"index_name\": index_name,\n",
    "        \"payload\": {\n",
    "            \"filename\": pdf_file,\n",
    "            \"reported_year\": microsoft_financial_report_to_metadata_map[pdf_file][\"reported_year\"],\n",
    "            \"subsidiary\": microsoft_financial_report_to_metadata_map[pdf_file][\"subsidiary\"]\n",
    "        },\n",
    "        \"enrichment\": \"NONE\" # can be NONE | TABLE_AS_LIST | IMAGE_DESCRIPTION\n",
    "    }\n",
    "\n",
    "    response = requests.post(url, json=file_payload, headers=headers)\n",
    "    if response.status_code == 201:\n",
    "        print(f\"Report {pdf_file} submitted for indexing successfully.\")"
   ]
  },
  {
   "cell_type": "markdown",
   "metadata": {},
   "source": [
    "### Search"
   ]
  },
  {
   "cell_type": "markdown",
   "metadata": {},
   "source": [
    "This part is for testing your ingested data and is not needed for ingesting date directly."
   ]
  },
  {
   "cell_type": "markdown",
   "metadata": {},
   "source": [
    "#### Setup Search Client"
   ]
  },
  {
   "cell_type": "code",
   "execution_count": null,
   "metadata": {},
   "outputs": [],
   "source": [
    "AZURE_SEARCH_SERVICE = \"\"\n",
    "AZURE_SEARCH_ENDPOINT = f\"https://{AZURE_SEARCH_SERVICE}.search.windows.net\"\n",
    "\n",
    "credential = DefaultAzureCredential()\n",
    "\n",
    "index_client = SearchIndexClient(endpoint=AZURE_SEARCH_ENDPOINT, credential=credential)\n",
    "search_client = SearchClient(AZURE_SEARCH_ENDPOINT, index_name, credential=credential)"
   ]
  },
  {
   "cell_type": "markdown",
   "metadata": {},
   "source": [
    "#### Setup Utility Functions"
   ]
  },
  {
   "cell_type": "code",
   "execution_count": null,
   "metadata": {},
   "outputs": [],
   "source": [
    "# Replace the placeholders with your Azure OpenAI Service and Model Deployment.\n",
    "AZURE_OPENAI_SERVICE = \"\"\n",
    "AZURE_OPENAI_ADA_DEPLOYMENT = \"\"\n",
    "\n",
    "token_provider = get_bearer_token_provider(\n",
    "    DefaultAzureCredential(),\n",
    "    \"https://cognitiveservices.azure.com/.default\"\n",
    ")\n",
    "\n",
    "openai_client = AzureOpenAI(\n",
    "    api_version=\"2024-08-01-preview\",\n",
    "    azure_endpoint=f\"https://{AZURE_OPENAI_SERVICE}.openai.azure.com\",\n",
    "    azure_ad_token_provider=token_provider)\n",
    "\n",
    "def get_embedding(text):\n",
    "    get_embeddings_response = openai_client.embeddings.create(model=AZURE_OPENAI_ADA_DEPLOYMENT, input=text)\n",
    "    return get_embeddings_response.data[0].embedding\n",
    "\n",
    "def search_results_cleanup(result_dict: dict) -> dict:\n",
    "    '''\n",
    "    Removing entries in the search result dict that have None value\n",
    "    '''\n",
    "    return {key: value for key, value in result_dict.items() if value is not None and key != \"@search.score\"}\n",
    "\n",
    "def unpack_search_results(results: SearchItemPaged[Dict]):\n",
    "        output = list()\n",
    "        # search results come in an iterator, unpacking before returning\n",
    "        for r in results:\n",
    "            output.append(search_results_cleanup(r))\n",
    "\n",
    "        return output"
   ]
  },
  {
   "cell_type": "markdown",
   "metadata": {},
   "source": [
    "#### Search using vector similarity (hybrid + semantic search)"
   ]
  },
  {
   "cell_type": "code",
   "execution_count": null,
   "metadata": {},
   "outputs": [],
   "source": [
    "# NOTE: These queries are specifically tailored for Microsoft Financial documents.\n",
    "microsoft_sample_queries = [\n",
    "    \"What was Microsoft's revenue in fiscal year 2022?\",\n",
    "    \"What was Microsoft's revenue in Q3 of fiscal year 2023?\",\n",
    "    \"How did Microsoft's operating income trend from 2022 to 2024?\",\n",
    "    \"Can you analyze the compound quarterly growth rate (CQGR) for Microsoft's Intelligent Cloud segment from Q3 2022 to Q3 2024?\",\n",
    "    \"What were the most significant changes in Microsoft's financial performance in fiscal year 2024 compared to previous years?\"\n",
    "]\n",
    "\n",
    "search_query = random.choice(microsoft_sample_queries)\n",
    "\n",
    "search_query_vector = get_embedding(search_query)\n",
    "\n",
    "results = search_client.search(\n",
    "    search_text=search_query,\n",
    "    top=5,\n",
    "    vector_queries=[\n",
    "        VectorizedQuery(vector=search_query_vector,\n",
    "                        k_nearest_neighbors=5,\n",
    "                        fields=\"contentVector\")\n",
    "    ],\n",
    "    query_type=QueryType.SEMANTIC,\n",
    "    semantic_configuration_name=semantic_config.name)\n",
    "\n",
    "final_result_set = unpack_search_results(results)\n",
    "print(f\"Successfully retrieved {len(final_result_set)} results from Search.\")"
   ]
  }
 ],
 "metadata": {
  "kernelspec": {
   "display_name": "Python 3",
   "language": "python",
   "name": "python3"
  },
  "language_info": {
   "codemirror_mode": {
    "name": "ipython",
    "version": 3
   },
   "file_extension": ".py",
   "mimetype": "text/x-python",
   "name": "python",
   "nbconvert_exporter": "python",
   "pygments_lexer": "ipython3",
   "version": "3.11.9"
  }
 },
 "nbformat": 4,
 "nbformat_minor": 2
}
