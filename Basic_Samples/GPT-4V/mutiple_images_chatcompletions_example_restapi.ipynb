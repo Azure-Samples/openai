{
 "cells": [
  {
   "cell_type": "markdown",
   "id": "759f9ec0",
   "metadata": {},
   "source": [
    "<h1 align =\"center\"> REST API Mutiple Image Samples</h1>\n",
    "<hr>\n",
    "   \n",
    "# Chat Completions"
   ]
  },
  {
   "cell_type": "code",
   "execution_count": 1,
   "id": "f4b3d21a",
   "metadata": {},
   "outputs": [],
   "source": [
    "import json\n",
    "import os\n",
    "import requests\n",
    "import base64"
   ]
  },
  {
   "cell_type": "markdown",
   "id": "5b2d4a0f",
   "metadata": {},
   "source": [
    "### Setup Parameters\n",
    "\n",
    "\n",
    "Here we will load the configurations from _config.json_ file to setup deployment_name, openai_api_base, openai_api_key and openai_api_version."
   ]
  },
  {
   "cell_type": "code",
   "execution_count": 2,
   "id": "fd85fb30",
   "metadata": {},
   "outputs": [],
   "source": [
    "# Load config values\n",
    "with open(r'config.json') as config_file:\n",
    "    config_details = json.load(config_file)\n",
    "    \n",
    "# Setting up the deployment name\n",
    "deployment_name = config_details['GPT-4V_MODEL']\n",
    "\n",
    "# The base URL for your Azure OpenAI resource. e.g. \"https://<your resource name>.openai.azure.com\"\n",
    "openai_api_base = config_details['OPENAI_API_BASE']\n",
    "\n",
    "# The API key for your Azure OpenAI resource.\n",
    "openai_api_key = os.getenv(\"OPENAI_API_KEY\")\n",
    "\n",
    "# Currently OPENAI API have the following versions available: 2022-12-01. All versions follow the YYYY-MM-DD date structure.\n",
    "openai_api_version = config_details['OPENAI_API_VERSION']"
   ]
  },
  {
   "cell_type": "code",
   "execution_count": 3,
   "id": "aef62557",
   "metadata": {},
   "outputs": [
    {
     "name": "stdout",
     "output_type": "stream",
     "text": [
      "Defect detected.\n",
      "\n",
      "The test image shows a can lid with visible deformations. There are areas where the material appears to be peeled or chipped off, especially around the center near the pull tab. This is a clear deviation from the reference image, which shows a flawless, smooth surface with no imperfections. The reference image displays a pristine can lid with an intact surface and an unblemished appearance, whereas the test image exhibits damage that would be considered a defect in a quality control assessment.\n"
     ]
    }
   ],
   "source": [
    "\n",
    "#Defect Detector\n",
    "reference_image_file_path = \"../../common/images/DefectDetectorReference.jfif\" \n",
    "with open(reference_image_file_path, 'rb') as image_file:\n",
    "    encoded_reference_image = base64.b64encode(image_file.read()).decode('utf-8')\n",
    "\n",
    "test_image_file_path = \"../../common/images/DefectDetectorTest.jfif\"\n",
    "with open(test_image_file_path, 'rb') as image_file:\n",
    "    encoded_test_image = base64.b64encode(image_file.read()).decode('utf-8')\n",
    "\n",
    "sys_message = \"\"\"\n",
    "You're a professional defect detector.\n",
    "Your job is to compare the test image with reference image, please answer the question with \"No defect detected\" or \"Defect detected\", \n",
    "also explain your decision as detail as possible.\"\n",
    "\"\"\"\n",
    "\n",
    "# Construct the API request URL\n",
    "api_url = f\"{openai_api_base}/openai/deployments/{deployment_name}/chat/completions?api-version={openai_api_version}\"\n",
    "\n",
    "# Including the api-key in HTTP headers\n",
    "headers = {\n",
    "    \"Content-Type\": \"application/json\",\n",
    "    \"api-key\": openai_api_key,\n",
    "}\n",
    "\n",
    "# Payload for the request\n",
    "payload = {\n",
    "  \"model\": \"gpt-4-vision-preview\",\n",
    "  \"messages\": [\n",
    "    {\n",
    "      \"role\": \"system\",\n",
    "      \"content\": [\n",
    "          {\n",
    "            \"type\": \"text\", \n",
    "            \"text\": sys_message\n",
    "          }\n",
    "      ]\n",
    "    },\n",
    "    {\n",
    "      \"role\": \"user\",\n",
    "      \"content\": [\n",
    "          {\n",
    "            \"type\": \"text\",\n",
    "            \"text\": \"Here is the reference image\", # Pass the prompt\n",
    "          },\n",
    "          {\n",
    "            \"type\": \"image_url\",\n",
    "            \"image_url\": {\n",
    "                \"url\": f\"data:image/jpeg;base64,{encoded_reference_image}\" #Pass the encoded reference image\n",
    "            }\n",
    "          },\n",
    "          {\n",
    "            \"type\": \"text\",\n",
    "            \"text\": \"Here is the test image\", # Pass the prompt\n",
    "          },\n",
    "          {\n",
    "            \"type\": \"image_url\",\n",
    "            \"image_url\": {\n",
    "                \"url\": f\"data:image/jpeg;base64,{encoded_test_image}\" #Pass the encoded test image\n",
    "            }\n",
    "          }\n",
    "      ]\n",
    "    }    \n",
    "  ],\n",
    "  \"temperature\": 0.7,\n",
    "  \"top_p\": 0.95,\n",
    "  \"max_tokens\": 800\n",
    "}\n",
    "\n",
    "# Send the request and handle the response\n",
    "try:\n",
    "    response = requests.post(api_url, headers=headers, json=payload)\n",
    "    response.raise_for_status()  # Raise an error for bad HTTP status codes\n",
    "    response_content = response.json()\n",
    "    print(response_content['choices'][0]['message']['content'])  # Print the content of the response\n",
    "except requests.RequestException as e:\n",
    "    raise SystemExit(f\"Failed to make the request. Error: {e}\")"
   ]
  }
 ],
 "metadata": {
  "kernelspec": {
   "display_name": "Python 3 (ipykernel)",
   "language": "python",
   "name": "python3"
  },
  "language_info": {
   "codemirror_mode": {
    "name": "ipython",
    "version": 3
   },
   "file_extension": ".py",
   "mimetype": "text/x-python",
   "name": "python",
   "nbconvert_exporter": "python",
   "pygments_lexer": "ipython3",
   "version": "3.9.18"
  }
 },
 "nbformat": 4,
 "nbformat_minor": 5
}
