{
 "cells": [
  {
   "cell_type": "markdown",
   "id": "759f9ec0",
   "metadata": {},
   "source": [
    "<h1 align =\"center\"> REST API Mutiple Image Samples</h1>\n",
    "<hr>\n",
    "   \n",
    "# Chat Completions"
   ]
  },
  {
   "cell_type": "code",
   "execution_count": 1,
   "id": "f4b3d21a",
   "metadata": {},
   "outputs": [],
   "source": [
    "import base64\n",
    "%run shared_functions.ipynb"
   ]
  },
  {
   "cell_type": "code",
   "execution_count": 3,
   "id": "aef62557",
   "metadata": {},
   "outputs": [
    {
     "name": "stdout",
     "output_type": "stream",
     "text": [
      "Defect detected.\n",
      "\n",
      "The test image shows a can lid with visible deformations. There are areas where the material appears to be peeled or chipped off, especially around the center near the pull tab. This is a clear deviation from the reference image, which shows a flawless, smooth surface with no imperfections. The reference image displays a pristine can lid with an intact surface and an unblemished appearance, whereas the test image exhibits damage that would be considered a defect in a quality control assessment.\n"
     ]
    }
   ],
   "source": [
    "\n",
    "#Defect Detector\n",
    "reference_image_file_path = \"../../common/images/DefectDetectorReference.jfif\" \n",
    "with open(reference_image_file_path, 'rb') as image_file:\n",
    "    encoded_reference_image = base64.b64encode(image_file.read()).decode('utf-8')\n",
    "\n",
    "test_image_file_path = \"../../common/images/DefectDetectorTest.jfif\"\n",
    "with open(test_image_file_path, 'rb') as image_file:\n",
    "    encoded_test_image = base64.b64encode(image_file.read()).decode('utf-8')\n",
    "\n",
    "sys_message = \"\"\"\n",
    "You're a professional defect detector.\n",
    "Your job is to compare the test image with reference image, please answer the question with \"No defect detected\" or \"Defect detected\", \n",
    "also explain your decision as detail as possible.\"\n",
    "\"\"\"\n",
    "\n",
    "messages = [\n",
    "    {\n",
    "      \"role\": \"system\",\n",
    "      \"content\": [\n",
    "          {\n",
    "            \"type\": \"text\", \n",
    "            \"text\": sys_message\n",
    "          }\n",
    "      ]\n",
    "    },\n",
    "    {\n",
    "      \"role\": \"user\",\n",
    "      \"content\": [\n",
    "          {\n",
    "            \"type\": \"text\",\n",
    "            \"text\": \"Here is the reference image\", # Pass the prompt\n",
    "          },\n",
    "          {\n",
    "            \"type\": \"image_url\",\n",
    "            \"image_url\": {\n",
    "                \"url\": f\"data:image/jpeg;base64,{encoded_reference_image}\" #Pass the encoded reference image\n",
    "            }\n",
    "          },\n",
    "          {\n",
    "            \"type\": \"text\",\n",
    "            \"text\": \"Here is the test image\", # Pass the prompt\n",
    "          },\n",
    "          {\n",
    "            \"type\": \"image_url\",\n",
    "            \"image_url\": {\n",
    "                \"url\": f\"data:image/jpeg;base64,{encoded_test_image}\" #Pass the encoded test image\n",
    "            }\n",
    "          }\n",
    "      ]\n",
    "    }    \n",
    "  ]\n",
    "\n",
    "try:\n",
    "    response_content = call_GPT4V_image(messages)\n",
    "    print(response_content['choices'][0]['message']['content'])  # Print the content of the response\n",
    "except Exception as e:\n",
    "    raise SystemExit(f\"Failed to call GPT-4V API. Error: {e}\")"
   ]
  }
 ],
 "metadata": {
  "kernelspec": {
   "display_name": "Python 3 (ipykernel)",
   "language": "python",
   "name": "python3"
  },
  "language_info": {
   "codemirror_mode": {
    "name": "ipython",
    "version": 3
   },
   "file_extension": ".py",
   "mimetype": "text/x-python",
   "name": "python",
   "nbconvert_exporter": "python",
   "pygments_lexer": "ipython3",
   "version": "3.9.18"
  }
 },
 "nbformat": 4,
 "nbformat_minor": 5
}
