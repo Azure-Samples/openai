{
 "cells": [
  {
   "cell_type": "markdown",
   "id": "759f9ec0",
   "metadata": {},
   "source": [
    "<h1 align =\"center\"> REST API Basic Samples</h1>\n",
    "<hr>\n",
    "   \n",
    "# Chat Completions"
   ]
  },
  {
   "cell_type": "code",
   "execution_count": 10,
   "id": "f4b3d21a",
   "metadata": {},
   "outputs": [],
   "source": [
    "import json\n",
    "import os\n",
    "import requests\n",
    "import base64"
   ]
  },
  {
   "cell_type": "markdown",
   "id": "5b2d4a0f",
   "metadata": {},
   "source": [
    "### Setup Parameters\n",
    "\n",
    "\n",
    "Here we will load the configurations from _config.json_ file to setup deployment_name, openai_api_base, openai_api_key and openai_api_version."
   ]
  },
  {
   "cell_type": "code",
   "execution_count": 11,
   "id": "fd85fb30",
   "metadata": {},
   "outputs": [],
   "source": [
    "# Load config values\n",
    "with open(r'config.json') as config_file:\n",
    "    config_details = json.load(config_file)\n",
    "    \n",
    "# Setting up the deployment name\n",
    "deployment_name = config_details['GPT-4V_MODEL']\n",
    "\n",
    "# The base URL for your Azure OpenAI resource. e.g. \"https://<your resource name>.openai.azure.com\"\n",
    "openai_api_base = config_details['OPENAI_API_BASE']\n",
    "\n",
    "# The API key for your Azure OpenAI resource.\n",
    "openai_api_key = os.getenv(\"OPENAI_API_KEY\")\n",
    "\n",
    "# Currently OPENAI API have the following versions available: 2022-12-01. All versions follow the YYYY-MM-DD date structure.\n",
    "openai_api_version = config_details['OPENAI_API_VERSION']"
   ]
  },
  {
   "cell_type": "code",
   "execution_count": 12,
   "id": "aef62557",
   "metadata": {},
   "outputs": [
    {
     "name": "stdout",
     "output_type": "stream",
     "text": [
      "### Tropical Paradise Escape: Your Ideal Vacation Awaits!\n",
      "\n",
      "Step into a world where luxury and nature intertwine seamlessly, and every corner promises relaxation and grandeur. This exquisite vacation home is nestled amidst lush tropical greenery, offering an oasis of calm and elegance. Designed to perfection, the architecture blends modern amenities with elements that echo the natural surroundings, ensuring a stay that is both comfortable and visually stunning.\n",
      "\n",
      "Bask in the glory of the sun on the plush loungers by the pristine pool, its crystal-clear waters inviting you to take a refreshing dip and wash your worries away. The manicured landscape, adorned with vibrant flowers and towering palms, adds an element of enchantment to your private sanctuary. Every inch of this property is designed to offer a visual and sensory delight, ensuring that your stay is nothing short of magical.\n",
      "\n",
      "The spacious balconies open a world of tranquility, where the gentle rustling of the leaves and the harmonious songs of the tropical birds become a sweet serenade. As the sun kisses the earth goodbye, the warm hues of the sunset paint a masterpiece across the sky, offering a spectacle of colors that promise to take your breath away. The evenings are tranquil, and the starlit sky brings a sense of calm, making every moment spent here a cherished memory.\n",
      "\n",
      "Inside, elegance and comfort take center stage, with spacious interiors that are as inviting as they are lavish. Every piece of furniture, every amenity is handpicked to ensure your utmost comfort. Large windows allow natural light to dance gracefully across the rooms, illuminating the space with an ethereal glow.\n",
      "\n",
      "Your tropical paradise is not just a stay but an experience that promises to be as enchanting as the tales of old. It is a haven where luxury, comfort, and nature dance in harmony, offering a symphony of experiences that promise to caress your soul, invigorate your senses, and paint your memories with strokes of gold. Your escape to paradise awaits - a world where every sunrise is a sonnet and every sunset, a poem; where every moment is a treasure, and every sound, a melody.\n",
      "\n",
      "Indulge in the magic, embrace the elegance, and let the symphony of luxury and nature whisk you away to a world where dreams aren’t just lived but are also felt with every breath. Your paradise awaits, promising not just a stay, but a story that will be told for generations - a tale of magic, luxury, and the harmonious dance of nature and elegance. Welcome to a world where every moment is a masterpiece, every view a painting, and every stay, a journey into the heart of paradise.\n"
     ]
    }
   ],
   "source": [
    "\n",
    "#Image Description Assistant\n",
    "image_file_path = \"../../common/images/ImageDescriptionAssistant.jpg\"  # Update with your image path\n",
    "sys_message = \"You are an AI assistant that helps people craft a clear and detailed sentence that describes the content depicted in an image.\"\n",
    "user_prompt = \"Describe image\"\n",
    "\n",
    "#Image Tagging Assistant\n",
    "\"\"\"\n",
    "image_file_path = \"../../common/images/ImageTaggingAssistant.jpg\"  \n",
    "sys_message = \"Generate a list of descriptive tags for the following image. Analyze the image carefully and produce tags that accurately represent the image. Ensure the tags are relevant.\"\n",
    "user_prompt = \"Provide tags for this image.\"\n",
    "\"\"\"\n",
    "\n",
    "#Listing Assistant\n",
    "\"\"\"\n",
    "image_file_path = \"../../common/images/ListingAssistant.jpg\"  \n",
    "sys_message = \"You are an AI assistant which generates listings for vacation rentals.  Please generate exciting and inviting content for this image but don't talk about content that you cannot see. Follow the format of an attention-grabbing title and provide a description that is 6 sentences long.\"\n",
    "user_prompt = \"Generate content.\"\n",
    "\"\"\"\n",
    "\n",
    "# Encode the image in base64\n",
    "with open(image_file_path, 'rb') as image_file:\n",
    "    encoded_image = base64.b64encode(image_file.read()).decode('ascii')\n",
    "\n",
    "# Construct the API request URL\n",
    "api_url = f\"{openai_api_base}/openai/deployments/{deployment_name}/chat/completions?api-version={openai_api_version}\"\n",
    "\n",
    "# Including the api-key in HTTP headers\n",
    "headers = {\n",
    "    \"Content-Type\": \"application/json\",\n",
    "    \"api-key\": openai_api_key,\n",
    "}\n",
    "\n",
    "# Payload for the request\n",
    "payload = {\n",
    "  \"messages\": [\n",
    "    {\n",
    "      \"role\": \"system\",\n",
    "      \"content\": [\n",
    "        sys_message\n",
    "      ]\n",
    "    },\n",
    "    {\n",
    "      \"role\": \"user\",\n",
    "      \"content\": [\n",
    "        user_prompt, # Pass the prompt\n",
    "        {\n",
    "          \"image\": encoded_image  #Pass the encoded image\n",
    "        }\n",
    "      ]\n",
    "    }\n",
    "  ],\n",
    "  \"temperature\": 0.7,\n",
    "  \"top_p\": 0.95,\n",
    "  \"max_tokens\": 800\n",
    "}\n",
    "\n",
    "# Send the request and handle the response\n",
    "try:\n",
    "    response = requests.post(api_url, headers=headers, json=payload)\n",
    "    response.raise_for_status()  # Raise an error for bad HTTP status codes\n",
    "    response_content = response.json()\n",
    "    print(response_content['choices'][0]['message']['content'])  # Print the content of the response\n",
    "except requests.RequestException as e:\n",
    "    raise SystemExit(f\"Failed to make the request. Error: {e}\")"
   ]
  },
  {
   "cell_type": "code",
   "execution_count": null,
   "id": "b6165c63",
   "metadata": {},
   "outputs": [],
   "source": []
  }
 ],
 "metadata": {
  "kernelspec": {
   "display_name": "Python 3 (ipykernel)",
   "language": "python",
   "name": "python3"
  },
  "language_info": {
   "codemirror_mode": {
    "name": "ipython",
    "version": 3
   },
   "file_extension": ".py",
   "mimetype": "text/x-python",
   "name": "python",
   "nbconvert_exporter": "python",
   "pygments_lexer": "ipython3",
   "version": "3.9.18"
  }
 },
 "nbformat": 4,
 "nbformat_minor": 5
}
