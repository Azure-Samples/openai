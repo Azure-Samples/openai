{
 "cells": [
  {
   "cell_type": "markdown",
   "id": "759f9ec0",
   "metadata": {},
   "source": [
    "<h1 align =\"center\"> REST API Basic Samples</h1>\n",
    "<hr>\n",
    "   \n",
    "# Chat Completions"
   ]
  },
  {
   "cell_type": "code",
   "execution_count": 2,
   "id": "f4b3d21a",
   "metadata": {},
   "outputs": [],
   "source": [
    "import base64\n",
    "%run shared_functions.ipynb"
   ]
  },
  {
   "cell_type": "code",
   "execution_count": 18,
   "id": "aef62557",
   "metadata": {},
   "outputs": [
    {
     "name": "stdout",
     "output_type": "stream",
     "text": [
      "1. Fresh produce\n",
      "2. Assorted fruits\n",
      "3. Variety of vegetables\n",
      "4. Healthy food\n",
      "5. Colorful food assortment\n",
      "6. Organic produce\n",
      "7. Raw fruits and vegetables\n",
      "8. Vegan ingredients\n",
      "9. Nutritious diet\n",
      "10. Whole foods\n",
      "11. Farmers market\n",
      "12. Seasonal produce\n",
      "13. Plant-based diet\n",
      "14. Fresh harvest\n",
      "15. Food background\n"
     ]
    }
   ],
   "source": [
    "#Image Tagging Assistant\n",
    "image_file_path = \"../../common/images/ImageTaggingAssistant.jpg\"  \n",
    "sys_message = \"Generate a list of descriptive tags for the following image. Analyze the image carefully and produce tags that accurately represent the image. Ensure the tags are relevant.\"\n",
    "user_prompt = \"Provide tags for this image.\"\n",
    "\n",
    "#Listing Assistant\n",
    "\"\"\"\n",
    "image_file_path = \"../../common/images/ListingAssistant.jpg\"  \n",
    "sys_message = \"You are an AI assistant which generates listings for vacation rentals.  Please generate exciting and inviting content for this image but don't talk about content that you cannot see. Follow the format of an attention-grabbing title and provide a description that is 6 sentences long.\"\n",
    "user_prompt = \"Generate content.\"\n",
    "\"\"\"\n",
    "\n",
    "# Encode the image in base64\n",
    "with open(image_file_path, 'rb') as image_file:\n",
    "    encoded_image = base64.b64encode(image_file.read()).decode('utf-8')\n",
    "\n",
    "messages = [\n",
    "    {\n",
    "      \"role\": \"system\",\n",
    "      \"content\": [\n",
    "          {\n",
    "            \"type\": \"text\", \n",
    "            \"text\": sys_message\n",
    "          }\n",
    "      ]\n",
    "    },\n",
    "    {\n",
    "      \"role\": \"user\",\n",
    "      \"content\": [\n",
    "          {\n",
    "            \"type\": \"text\",\n",
    "            \"text\": user_prompt\n",
    "          },\n",
    "          {\n",
    "            \"type\": \"image_url\",\n",
    "            \"image_url\": {\n",
    "                \"url\": f\"data:image/jpeg;base64,{encoded_image}\"\n",
    "          }\n",
    "          }\n",
    "      ]\n",
    "    }\n",
    "  ]\n",
    "\n",
    "try:\n",
    "    response_content = call_GPT4V_image(messages)\n",
    "    print(response_content['choices'][0]['message']['content'])  # Print the content of the response\n",
    "except Exception as e:\n",
    "    raise SystemExit(f\"Failed to call GPT-4V API. Error: {e}\")"
   ]
  }
 ],
 "metadata": {
  "kernelspec": {
   "display_name": "Python 3 (ipykernel)",
   "language": "python",
   "name": "python3"
  },
  "language_info": {
   "codemirror_mode": {
    "name": "ipython",
    "version": 3
   },
   "file_extension": ".py",
   "mimetype": "text/x-python",
   "name": "python",
   "nbconvert_exporter": "python",
   "pygments_lexer": "ipython3",
   "version": "3.9.18"
  }
 },
 "nbformat": 4,
 "nbformat_minor": 5
}
