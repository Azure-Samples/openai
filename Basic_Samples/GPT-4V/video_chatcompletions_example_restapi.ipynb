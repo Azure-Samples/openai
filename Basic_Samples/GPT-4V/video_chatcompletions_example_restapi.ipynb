{
 "cells": [
  {
   "cell_type": "markdown",
   "id": "759f9ec0",
   "metadata": {},
   "source": [
    "<h1 align =\"center\"> REST API Video Samples</h1>\n",
    "<hr>\n",
    "   \n",
    "# Chat Completions"
   ]
  },
  {
   "cell_type": "code",
   "execution_count": 3,
   "id": "f4b3d21a",
   "metadata": {},
   "outputs": [],
   "source": [
    "import json\n",
    "import os\n",
    "import re\n",
    "%run shared_functions.ipynb"
   ]
  },
  {
   "cell_type": "markdown",
   "id": "5b2d4a0f",
   "metadata": {},
   "source": [
    "### Setup Parameters\n",
    "\n",
    "\n",
    "Here we will load the configurations from _config.json_ file to setup vision_api_key, vision_api_endpoint, video_SAS_url, video_index_name, and video_id."
   ]
  },
  {
   "cell_type": "code",
   "execution_count": 4,
   "id": "fd85fb30",
   "metadata": {},
   "outputs": [],
   "source": [
    "# Load config values\n",
    "with open(r'config.json') as config_file:\n",
    "    config_details = json.load(config_file)\n",
    "\n",
    "# Setting up the vision resource key\n",
    "vision_api_key = os.getenv(\"VISION_API_KEY\")\n",
    "\n",
    "# The base URL for your vision resource endpoint, e.g. \"https://<your-resource-name>.cognitiveservices.azure.com\"\n",
    "# You must create your resource in the East US region.\n",
    "vision_api_endpoint = config_details['VISION_API_ENDPOINT']\n",
    "\n",
    "# Insert your video SAS URL, e.g. https://<your-storage-account-name>.blob.core.windows.net/<your-container-name>/<your-video-name>?<SAS-token>\n",
    "video_SAS_url = \"https://gpt4vsamples.blob.core.windows.net/videos/Microsoft%20Copilot%20Short.mp4\" #config_details[\"VIDEO_SAS_URL\"] \n",
    "\n",
    "# This index name must be unique\n",
    "video_index_name = config_details[\"VIDEO_INDEX_NAME\"]\n",
    "\n",
    "# This video ID must be unique\n",
    "video_id = config_details[\"VIDEO_INDEX_ID\"] # This video ID must be unique"
   ]
  },
  {
   "cell_type": "markdown",
   "metadata": {},
   "source": [
    "### Create Video Index\n"
   ]
  },
  {
   "cell_type": "code",
   "execution_count": 5,
   "id": "704ffbda",
   "metadata": {},
   "outputs": [
    {
     "name": "stdout",
     "output_type": "stream",
     "text": [
      "201 {\"name\":\"new-test-zhi-v5\",\"userData\":{},\"features\":[{\"name\":\"vision\",\"modelVersion\":\"2023-05-31\",\"domain\":\"surveillance\"},{\"name\":\"speech\",\"modelVersion\":\"2023-06-30\",\"domain\":\"generic\"}],\"eTag\":\"\\\"d9b271e7335e40b2aab35f0c69562040\\\"\",\"createdDateTime\":\"2023-12-05T18:14:55.4017333Z\",\"lastModifiedDateTime\":\"2023-12-05T18:14:55.4017333Z\"}\n",
      "202 {\"name\":\"my-ingestion\",\"state\":\"Running\",\"batchName\":\"e8adb161-5bb5-4a77-bd2c-738086c815a2\",\"createdDateTime\":\"2023-12-05T18:14:56.2923663Z\",\"lastModifiedDateTime\":\"2023-12-05T18:14:56.6048786Z\"}\n",
      "{'value': [{'name': 'my-ingestion', 'state': 'Completed', 'batchName': 'e8adb161-5bb5-4a77-bd2c-738086c815a2', 'createdDateTime': '2023-12-05T18:14:56.2923663Z', 'lastModifiedDateTime': '2023-12-05T18:18:37.8844717Z'}]}\n",
      "Ingestion completed.\n"
     ]
    }
   ],
   "source": [
    "# You only need to run this cell once to create the index\n",
    "process_video_indexing(vision_api_endpoint, vision_api_key, video_index_name, video_SAS_url, video_id)"
   ]
  },
  {
   "cell_type": "markdown",
   "metadata": {},
   "source": [
    "### Call GPT-4V API with Video Index"
   ]
  },
  {
   "cell_type": "code",
   "execution_count": 6,
   "id": "b6165c63",
   "metadata": {},
   "outputs": [
    {
     "name": "stdout",
     "output_type": "stream",
     "text": [
      "The video appears to be a visually stimulating advertisement for a digital or software product.\n",
      "It begins with a blurred image that sets a serene mood with pastel colors.\n",
      "At timestamp 00:00:04.6000000, the video presents a dynamic logo with a vibrant color palette of blues, pinks, and purples, suggesting creativity and innovation.\n",
      "By 00:00:09.2000000, we see a user interface that seems to be for a computer application or operating system, indicating the product's utility in organizing and enhancing digital workspaces.\n",
      "\n",
      "At 00:00:13.8000000, there's a close-up of a digital screen with simulated features and a disclaimer noting that the screens are simulated, implying that the product is in development and features may vary.\n",
      "The focus on the visuals continues with abstract, soft textures and colors at 00:00:18.4000000, which could represent the ease and fluidity of using the software.\n",
      "\n",
      "The video continues to highlight the software's features through various screen displays set against a backdrop of tranquil and dreamy environments, as seen at timestamps 00:00:23 and 00:00:32.2000000.\n",
      "These images are combined with text overlays such as \"Sustainable Design: What, Why, and How\" and email interfaces, hinting at the software's potential applications in productivity and creativity.\n",
      "\n",
      "At 00:00:27.6000000 and 00:00:36.8000000, the video includes call-to-action buttons with phrases like \"Organize my plans\" and \"Help me relax,\" which suggest the software's functionality in assisting with personal organization and stress relief.\n",
      "\n",
      "The final frame at 00:00:41.4000000 depicts a neatly organized workspace in a peaceful evening setting, reinforcing the message of tranquility and control over one's digital environment.\n",
      "\n",
      "In summary, the main message of the advertisement seems to be showcasing a software product that is designed to enhance creativity, productivity, and personal well-being through a visually appealing and intuitive interface.\n",
      "It emphasizes the software's role in creating a harmonious digital space that can adapt to various user needs, from organization to relaxation.\n"
     ]
    }
   ],
   "source": [
    "# System messages and user prompt\n",
    "sys_message = \"\"\"\n",
    "Your task is to assist in analyzing and optimizing creative assets. \n",
    "You will be presented with advertisement videos for products. \n",
    "First describe the video in detail paying close attention to Product characteristics highlighted, \n",
    "Background images, Lighting, Color Palette and Human characteristics for persons in the video. \n",
    "Finally provide a summary of the video and talk about the main message the advertisement video tries to convey to the viewer. \n",
    "\"\"\"\n",
    "user_prompt = \"Summarize the ad video\"\n",
    "\n",
    "messages = [\n",
    "            {\n",
    "                \"role\": \"system\",\n",
    "                \"content\": [\n",
    "                    {\n",
    "                        \"type\": \"text\", \n",
    "                        \"text\": sys_message\n",
    "                    }\n",
    "                ]\n",
    "            },\n",
    "            {\n",
    "                \"role\": \"user\",\n",
    "                \"content\": [\n",
    "                        {\n",
    "                            \"type\": \"acv_document_id\",\n",
    "                            \"acv_document_id\": video_id\n",
    "                        }\n",
    "                    ]\n",
    "            },\n",
    "            {\n",
    "                \"role\": \"user\",\n",
    "                \"content\": [\n",
    "                        {\n",
    "                            \"type\": \"text\",\n",
    "                            \"text\": user_prompt # Prompt for the user\n",
    "                        }\n",
    "                    ]\n",
    "            }\n",
    "        ]\n",
    "\n",
    "vision_api_config = {\n",
    "    \"endpoint\": vision_api_endpoint,\n",
    "    \"key\": vision_api_key\n",
    "}\n",
    "\n",
    "video_config = {\n",
    "    \"video_SAS_url\": video_SAS_url,\n",
    "    \"video_index_name\": video_index_name,\n",
    "}\n",
    "\n",
    "# Call GPT-4V API and print the response\n",
    "try:\n",
    "    response = call_GPT4V_video(messages, vision_api=vision_api_config, video_index=video_config)\n",
    "    text = response['choices'][0]['message']['content']\n",
    "    sentences = re.split(r'(?<!\\w\\.\\w.)(?<![A-Z][a-z]\\.)(?<=\\.|\\?)\\s', text)\n",
    "    for sentence in sentences:  # Print the content of the response\n",
    "        print(sentence)\n",
    "except Exception as e:\n",
    "    raise SystemExit(f\"Failed to call GPT-4V API. Error: {e}\")"
   ]
  }
 ],
 "metadata": {
  "kernelspec": {
   "display_name": "Python 3 (ipykernel)",
   "language": "python",
   "name": "python3"
  },
  "language_info": {
   "codemirror_mode": {
    "name": "ipython",
    "version": 3
   },
   "file_extension": ".py",
   "mimetype": "text/x-python",
   "name": "python",
   "nbconvert_exporter": "python",
   "pygments_lexer": "ipython3",
   "version": "3.9.18"
  }
 },
 "nbformat": 4,
 "nbformat_minor": 5
}
