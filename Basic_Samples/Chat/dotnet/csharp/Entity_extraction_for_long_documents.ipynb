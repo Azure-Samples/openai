{
 "cells": [
  {
   "cell_type": "markdown",
   "metadata": {},
   "source": [
    "# Long Document Content Extraction\n",
    "GPT-3 can help us extract key figures, dates or other bits of important content from documents that are too big to fit into the context window. One approach for solving this is to chunk the document up and process each chunk separately, before combining into one list of answers. \n",
    "In this notebook we'll run through this approach:\n",
    "- Load in a long PDF and pull the text out\n",
    "- Create a prompt to be used to extract key bits of information\n",
    "- Chunk up our document and process each chunk to pull any answers out\n",
    "- Combine them at the end\n",
    "- This simple approach will then be extended to three more difficult questions\n",
    "## Approach\n",
    "- **Setup**: Take a PDF, a Formula 1 Financial Regulation document on Power Units, and extract the text from it for entity extraction. We'll use this to try to extract answers that are buried in the content.\n",
    "- **Simple Entity Extraction**: Extract key bits of information from chunks of a document by:\n",
    "    - Creating a template prompt with our questions and an example of the format it expects\n",
    "    - Create a function to take a chunk of text as input, combine with the prompt and get a response\n",
    "    - Run a script to chunk the text, extract answers and output them for parsing\n",
    "- **Complex Entity Extraction**: Ask some more difficult questions which require tougher reasoning to work out"
   ]
  },
  {
   "cell_type": "code",
   "execution_count": 1,
   "metadata": {
    "dotnet_interactive": {
     "language": "csharp"
    },
    "polyglot_notebook": {
     "kernelName": "csharp"
    },
    "vscode": {
     "languageId": "polyglot-notebook"
    }
   },
   "outputs": [
    {
     "data": {
      "text/html": [
       "<div><div></div><div></div><div><strong>Installed Packages</strong><ul><li><span>Azure.AI.OpenAI, 1.0.0-beta.12</span></li></ul></div></div>"
      ]
     },
     "metadata": {},
     "output_type": "display_data"
    }
   ],
   "source": [
    "#r \"nuget: Azure.AI.OpenAI, 1.0.0-beta.14\""
   ]
  },
  {
   "cell_type": "code",
   "execution_count": null,
   "metadata": {
    "dotnet_interactive": {
     "language": "csharp"
    },
    "polyglot_notebook": {
     "kernelName": "csharp"
    },
    "vscode": {
     "languageId": "polyglot-notebook"
    }
   },
   "outputs": [],
   "source": [
    "#r \"nuget:Microsoft.DotNet.Interactive.AIUtilities, 1.0.0-beta.24129.1\""
   ]
  },
  {
   "cell_type": "code",
   "execution_count": 3,
   "metadata": {
    "dotnet_interactive": {
     "language": "csharp"
    },
    "polyglot_notebook": {
     "kernelName": "csharp"
    },
    "vscode": {
     "languageId": "polyglot-notebook"
    }
   },
   "outputs": [],
   "source": [
    "using Microsoft.DotNet.Interactive;\n",
    "using Microsoft.DotNet.Interactive.AIUtilities;\n",
    "using Azure;\n",
    "using Azure.AI.OpenAI;"
   ]
  },
  {
   "cell_type": "markdown",
   "metadata": {},
   "source": [
    "## Run this cell, it will prompt you for the apiKey, endPoint, and chatDeployment"
   ]
  },
  {
   "cell_type": "code",
   "execution_count": 4,
   "metadata": {
    "dotnet_interactive": {
     "language": "csharp"
    },
    "polyglot_notebook": {
     "kernelName": "csharp"
    },
    "vscode": {
     "languageId": "polyglot-notebook"
    }
   },
   "outputs": [],
   "source": [
    "var azureOpenAIKey = await Kernel.GetPasswordAsync(\"Provide your OPEN_AI_KEY\");\n",
    "\n",
    "// Your endpoint should look like the following https://YOUR_OPEN_AI_RESOURCE_NAME.openai.azure.com/\n",
    "var azureOpenAIEndpoint = await Kernel.GetInputAsync(\"Provide the OPEN_AI_ENDPOINT\");\n",
    "\n",
    "// Enter the deployment name you chose when you deployed the model.\n",
    "var chatDeployment = await Kernel.GetInputAsync(\"Provide chat deployment name\");"
   ]
  },
  {
   "cell_type": "code",
   "execution_count": 5,
   "metadata": {
    "dotnet_interactive": {
     "language": "csharp"
    },
    "polyglot_notebook": {
     "kernelName": "csharp"
    },
    "vscode": {
     "languageId": "polyglot-notebook"
    }
   },
   "outputs": [],
   "source": [
    "OpenAIClient client = new (new Uri(azureOpenAIEndpoint), new AzureKeyCredential(azureOpenAIKey.GetClearTextPassword()));"
   ]
  },
  {
   "cell_type": "markdown",
   "metadata": {},
   "source": [
    "### Install `itext` pacakge\n",
    "Parsing pdfs using [iTextCore](https://itextpdf.com/products/itext-core) from nuget"
   ]
  },
  {
   "cell_type": "code",
   "execution_count": 6,
   "metadata": {
    "dotnet_interactive": {
     "language": "csharp"
    },
    "polyglot_notebook": {
     "kernelName": "csharp"
    },
    "vscode": {
     "languageId": "polyglot-notebook"
    }
   },
   "outputs": [
    {
     "data": {
      "text/html": [
       "<div><div></div><div></div><div><strong>Installed Packages</strong><ul><li><span>itext7, 8.0.2</span></li></ul></div></div>"
      ]
     },
     "metadata": {},
     "output_type": "display_data"
    }
   ],
   "source": [
    "#r \"nuget: itext7, 8.0.2\""
   ]
  },
  {
   "cell_type": "code",
   "execution_count": 7,
   "metadata": {
    "dotnet_interactive": {
     "language": "csharp"
    },
    "polyglot_notebook": {
     "kernelName": "csharp"
    },
    "vscode": {
     "languageId": "polyglot-notebook"
    }
   },
   "outputs": [],
   "source": [
    "using iText.Kernel.Pdf;\n",
    "using iText.Kernel.Pdf.Canvas.Parser;\n",
    "using iText.Kernel.Pdf.Canvas.Parser.Listener;\n",
    "using System.IO;\n",
    "\n",
    "public string ReadPdfFile(string fileName)\n",
    "{\n",
    "    var pages = new List<string>();\n",
    "    using (PdfDocument pdfDoc = new PdfDocument(new PdfReader(fileName)))\n",
    "    {            \n",
    "        for (int i = 1; i <= pdfDoc.GetNumberOfPages(); i++)\n",
    "        {\n",
    "            PdfPage page = pdfDoc.GetPage(i);\n",
    "            ITextExtractionStrategy strategy = new SimpleTextExtractionStrategy();\n",
    "            string currentText = PdfTextExtractor.GetTextFromPage(page, strategy);\n",
    "            pages.Add(currentText);\n",
    "        }          \n",
    "    }\n",
    "    return string.Join(Environment.NewLine, pages);\n",
    "}"
   ]
  },
  {
   "cell_type": "code",
   "execution_count": 8,
   "metadata": {
    "dotnet_interactive": {
     "language": "csharp"
    },
    "polyglot_notebook": {
     "kernelName": "csharp"
    },
    "vscode": {
     "languageId": "polyglot-notebook"
    }
   },
   "outputs": [],
   "source": [
    "var filePath = Path.Combine(\"..\",\"..\",\"..\",\"Data\",\"fia_f1_power_unit_financial_regulations_issue_1_-_2022-08-16.pdf\");"
   ]
  },
  {
   "cell_type": "code",
   "execution_count": 9,
   "metadata": {
    "dotnet_interactive": {
     "language": "csharp"
    },
    "polyglot_notebook": {
     "kernelName": "csharp"
    },
    "vscode": {
     "languageId": "polyglot-notebook"
    }
   },
   "outputs": [],
   "source": [
    "var cleanText = ReadPdfFile(filePath).Replace(\"  \", \" \").Replace(\"\\n\", \"; \").Replace(';',' ');"
   ]
  },
  {
   "cell_type": "markdown",
   "metadata": {},
   "source": [
    "## Simple Entity Extraction"
   ]
  },
  {
   "cell_type": "code",
   "execution_count": 10,
   "metadata": {
    "dotnet_interactive": {
     "language": "csharp"
    },
    "polyglot_notebook": {
     "kernelName": "csharp"
    },
    "vscode": {
     "languageId": "polyglot-notebook"
    }
   },
   "outputs": [],
   "source": [
    "var tokenizer = await Tokenizer.CreateAsync(TokenizerModel.gpt35);\n",
    "var chunks = tokenizer.ChunkByTokenCount(cleanText, 1000, true);"
   ]
  },
  {
   "cell_type": "code",
   "execution_count": 12,
   "metadata": {
    "dotnet_interactive": {
     "language": "csharp"
    },
    "polyglot_notebook": {
     "kernelName": "csharp"
    },
    "vscode": {
     "languageId": "polyglot-notebook"
    }
   },
   "outputs": [],
   "source": [
    "var extractions = new List<string>();\n",
    "\n",
    "foreach (var chunk in chunks)\n",
    "{\n",
    "    var prompt = \n",
    "$\"\"\"\n",
    "Extract key pieces of information from this regulation document.\n",
    "If a particular piece of information is not present, output \"Not specified\".\n",
    "When you extract a key piece of information, include the closest page number.\n",
    "Use the following format:\n",
    "0. Who is the author\n",
    "1. What is the amount of the \"Power Unit Cost Cap\" in USD, GBP and EUR\n",
    "2. What is the value of External Manufacturing Costs in USD\n",
    "3. What is the Capital Expenditure Limit in USD\n",
    "\n",
    "Document: \\\"\\\"\\\"{chunk}\\\"\\\"\\\"\n",
    "\n",
    "0. Who is the author: Tom Anderson (Page 1)\n",
    "1.\n",
    "\"\"\";\n",
    "    var options= new ChatCompletionsOptions{\n",
    "        Messages ={ new ChatRequestUserMessage(prompt)},\n",
    "        Temperature = 0f,\n",
    "        DeploymentName = chatDeployment,\n",
    "    };\n",
    "\n",
    "    var response = await client.GetChatCompletionsAsync(options);\n",
    "    var extraction = response.Value.Choices.FirstOrDefault()?.Message?.Content;\n",
    "    extractions.AddRange(extraction.Split(new []{\"\\n\"}, StringSplitOptions.RemoveEmptyEntries));\n",
    "}"
   ]
  },
  {
   "cell_type": "markdown",
   "metadata": {},
   "source": [
    "The `extractions` object is a collection that contains the extracted information. Each item in the collection is a string that represents a piece of information extracted from the document.\n",
    "\n",
    "The `Where` method is a LINQ (Language Integrated Query) method that is used to filter the collection. The method takes a lambda expression `p => !p.Contains(\"Not specified\")` as an argument. This expression is a function that takes an item from the collection (represented by `p`) and returns `true` if the item does not contain the string \"Not specified\", and `false` otherwise. In other words, this method filters out any items in the collection that contain the string \"Not specified\".\n",
    "\n",
    "The `DisplayTable` method is then called on the filtered collection. This method displays the items in the collection as a table. Each item in the collection is displayed as a row in the table.\n",
    "\n",
    "In summary, this code is used to filter out any items in the `extractions` collection that contain the string \"Not specified\", and then display the remaining items as a table."
   ]
  },
  {
   "cell_type": "code",
   "execution_count": 13,
   "metadata": {
    "dotnet_interactive": {
     "language": "csharp"
    },
    "polyglot_notebook": {
     "kernelName": "csharp"
    },
    "vscode": {
     "languageId": "polyglot-notebook"
    }
   },
   "outputs": [
    {
     "data": {
      "text/csv": [
       "value\r\n",
       "\"What is the amount of the \"\"Power Unit Cost Cap\"\" in USD, GBP and EUR: \"\r\n",
       "\"- USD: $95,000,000 (Page 2)\"\r\n",
       "\"- GBP: £76,459 (Page 2)\"\r\n",
       "\"- EUR: €90,210 (Page 2)\"\r\n",
       "\"3. What is the Capital Expenditure Limit in USD: US Dollars 30,000,000 (Page 2)\"\r\n"
      ],
      "text/html": [
       "<table><thead><tr><td><span>value</span></td></tr></thead><tbody><tr><td>What is the amount of the &quot;Power Unit Cost Cap&quot; in USD, GBP and EUR: </td></tr><tr><td>- USD: $95,000,000 (Page 2)</td></tr><tr><td>- GBP: &#163;76,459 (Page 2)</td></tr><tr><td>- EUR: €90,210 (Page 2)</td></tr><tr><td>3. What is the Capital Expenditure Limit in USD: US Dollars 30,000,000 (Page 2)</td></tr></tbody></table><style>\r\n",
       ".dni-code-hint {\r\n",
       "    font-style: italic;\r\n",
       "    overflow: hidden;\r\n",
       "    white-space: nowrap;\r\n",
       "}\r\n",
       ".dni-treeview {\r\n",
       "    white-space: nowrap;\r\n",
       "}\r\n",
       ".dni-treeview td {\r\n",
       "    vertical-align: top;\r\n",
       "    text-align: start;\r\n",
       "}\r\n",
       "details.dni-treeview {\r\n",
       "    padding-left: 1em;\r\n",
       "}\r\n",
       "table td {\r\n",
       "    text-align: start;\r\n",
       "}\r\n",
       "table tr { \r\n",
       "    vertical-align: top; \r\n",
       "    margin: 0em 0px;\r\n",
       "}\r\n",
       "table tr td pre \r\n",
       "{ \r\n",
       "    vertical-align: top !important; \r\n",
       "    margin: 0em 0px !important;\r\n",
       "} \r\n",
       "table th {\r\n",
       "    text-align: start;\r\n",
       "}\r\n",
       "</style>"
      ]
     },
     "metadata": {},
     "output_type": "display_data"
    }
   ],
   "source": [
    "extractions.Where(p => !p.Contains(\"Not specified\")).DisplayTable();"
   ]
  },
  {
   "cell_type": "markdown",
   "metadata": {},
   "source": [
    "## Complex Entity Extraction"
   ]
  },
  {
   "cell_type": "code",
   "execution_count": 14,
   "metadata": {
    "dotnet_interactive": {
     "language": "csharp"
    },
    "polyglot_notebook": {
     "kernelName": "csharp"
    },
    "vscode": {
     "languageId": "polyglot-notebook"
    }
   },
   "outputs": [],
   "source": [
    "var extractions = new List<string>();\n",
    "\n",
    "foreach (var chunk in chunks)\n",
    "{\n",
    "    var prompt = \n",
    "$\"\"\"\n",
    "Extract key pieces of information from this regulation document.\n",
    "If a particular piece of information is not present, output \"Not specified\".\n",
    "When you extract a key piece of information, include the closest page number.\n",
    "Use the following format:\n",
    "0. Who is the author\n",
    "1. How is a Minor Overspend Breach calculated\n",
    "2. How is a Major Overspend Breach calculated\n",
    "3. Which years do these financial regulations apply to\n",
    "\n",
    "Document: \\\"\\\"\\\"{chunk}\\\"\\\"\\\"\\\n",
    "\n",
    "0. Who is the author: Tom Anderson (Page 1)\n",
    "1.\n",
    "\"\"\";\n",
    "    var options= new ChatCompletionsOptions{\n",
    "        Messages ={ new ChatRequestUserMessage(prompt)},\n",
    "        Temperature = 0f,\n",
    "        DeploymentName = chatDeployment\n",
    "    };\n",
    "\n",
    "    var response = await client.GetChatCompletionsAsync(options);\n",
    "    var extraction = response.Value.Choices.FirstOrDefault()?.Message?.Content;\n",
    "    extractions.AddRange(extraction.Split(new []{\"\\n\"}, StringSplitOptions.RemoveEmptyEntries));\n",
    "}"
   ]
  },
  {
   "cell_type": "code",
   "execution_count": 15,
   "metadata": {
    "dotnet_interactive": {
     "language": "csharp"
    },
    "polyglot_notebook": {
     "kernelName": "csharp"
    },
    "vscode": {
     "languageId": "polyglot-notebook"
    }
   },
   "outputs": [
    {
     "data": {
      "text/csv": [
       "value\r\n",
       "\"3. Which years do these financial regulations apply to: From 1 January 2023 onwards (Page 1)\"\r\n",
       "\"3. Which years do these financial regulations apply to: 31 December 2023, 31 December 2024, 31 December 2025, 31 December 2026 and each subsequent Full Year Reporting Period (Page 2)\"\r\n",
       "\"3. Which years do these financial regulations apply to: 16 August 2022 (Page 0)\"\r\n",
       "\"3. Which years do these financial regulations apply to: 2022 (Page 24)\"\r\n",
       "\"How is a Minor Overspend Breach calculated: A \"\"Minor Overspend Breach\"\" arises when a Power Unit Manufacturer's Relevant Costs exceed the Power Unit Cost Cap by less than 5% (Page 1)\r\"\r\n",
       "\"2. How is a Major Overspend Breach calculated: A \"\"Material Overspend Breach\"\" arises when a Power Unit Manufacturer's Relevant Costs exceed the Power Unit Cost Cap by 5% or more (Page 1)\r\"\r\n",
       "\"3. Which years do these financial regulations apply to: 2026 (Page 1)\"\r\n",
       "\"3. Which years do these financial regulations apply to: 2023, 2024, 2025, 2026 onwards (Page 1)\"\r\n",
       "\"3. Which years do these financial regulations apply to: 2026 to 2030 seasons (inclusive) (Page 2)\"\r\n",
       "\"3. Which years do these financial regulations apply to: 2022 (Page 47)\"\r\n"
      ],
      "text/html": [
       "<table><thead><tr><td><span>value</span></td></tr></thead><tbody><tr><td>3. Which years do these financial regulations apply to: From 1 January 2023 onwards (Page 1)</td></tr><tr><td>3. Which years do these financial regulations apply to: 31 December 2023, 31 December 2024, 31 December 2025, 31 December 2026 and each subsequent Full Year Reporting Period (Page 2)</td></tr><tr><td>3. Which years do these financial regulations apply to: 16 August 2022 (Page 0)</td></tr><tr><td>3. Which years do these financial regulations apply to: 2022 (Page 24)</td></tr><tr><td>How is a Minor Overspend Breach calculated: A &quot;Minor Overspend Breach&quot; arises when a Power Unit Manufacturer&#39;s Relevant Costs exceed the Power Unit Cost Cap by less than 5% (Page 1)\r</td></tr><tr><td>2. How is a Major Overspend Breach calculated: A &quot;Material Overspend Breach&quot; arises when a Power Unit Manufacturer&#39;s Relevant Costs exceed the Power Unit Cost Cap by 5% or more (Page 1)\r</td></tr><tr><td>3. Which years do these financial regulations apply to: 2026 (Page 1)</td></tr><tr><td>3. Which years do these financial regulations apply to: 2023, 2024, 2025, 2026 onwards (Page 1)</td></tr><tr><td>3. Which years do these financial regulations apply to: 2026 to 2030 seasons (inclusive) (Page 2)</td></tr><tr><td>3. Which years do these financial regulations apply to: 2022 (Page 47)</td></tr></tbody></table><style>\r\n",
       ".dni-code-hint {\r\n",
       "    font-style: italic;\r\n",
       "    overflow: hidden;\r\n",
       "    white-space: nowrap;\r\n",
       "}\r\n",
       ".dni-treeview {\r\n",
       "    white-space: nowrap;\r\n",
       "}\r\n",
       ".dni-treeview td {\r\n",
       "    vertical-align: top;\r\n",
       "    text-align: start;\r\n",
       "}\r\n",
       "details.dni-treeview {\r\n",
       "    padding-left: 1em;\r\n",
       "}\r\n",
       "table td {\r\n",
       "    text-align: start;\r\n",
       "}\r\n",
       "table tr { \r\n",
       "    vertical-align: top; \r\n",
       "    margin: 0em 0px;\r\n",
       "}\r\n",
       "table tr td pre \r\n",
       "{ \r\n",
       "    vertical-align: top !important; \r\n",
       "    margin: 0em 0px !important;\r\n",
       "} \r\n",
       "table th {\r\n",
       "    text-align: start;\r\n",
       "}\r\n",
       "</style>"
      ]
     },
     "metadata": {},
     "output_type": "display_data"
    }
   ],
   "source": [
    "extractions.Where(p => !p.Contains(\"Not specified\")).DisplayTable();"
   ]
  },
  {
   "cell_type": "markdown",
   "metadata": {},
   "source": [
    "## Consolidation\n",
    "\n",
    "We've been able to extract the first two answers safely, while the third was confounded by the date that appeared on every page, though the correct answer is in there as well.\n",
    "\n",
    "To tune this further you can consider experimenting with:\n",
    "- A more descriptive or specific prompt\n",
    "- If you have sufficient training data, fine-tuning a model to find a set of outputs very well\n",
    "- The way you chunk your data - we have gone for 1000 tokens with no overlap, but more intelligent chunking that breaks info into sections, cuts by tokens or similar may get better results\n",
    "\n",
    "However, with minimal tuning we have now answered 6 questions of varying difficulty using the contents of a long document, and have a reusable approach that we can apply to any long document requiring entity extraction. Look forward to seeing what you can do with this!"
   ]
  }
 ],
 "metadata": {
  "language_info": {
   "name": "csharp"
  },
  "orig_nbformat": 4
 },
 "nbformat": 4,
 "nbformat_minor": 2
}
