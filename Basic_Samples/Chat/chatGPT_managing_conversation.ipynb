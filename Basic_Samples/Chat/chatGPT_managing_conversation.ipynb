{
 "cells": [
  {
   "cell_type": "markdown",
   "metadata": {},
   "source": [
    "# Managing conversation history with the ChatGPT model\n",
    "This sample notebook demonstrates a couple of simple patterns you can use for managing the prompts and conversation history with the ChatGPT model."
   ]
  },
  {
   "cell_type": "code",
   "execution_count": 23,
   "metadata": {},
   "outputs": [
    {
     "name": "stdout",
     "output_type": "stream",
     "text": [
      "Requirement already satisfied: openai in /Users/kelseysun/anaconda3/lib/python3.11/site-packages (1.16.2)\n",
      "Requirement already satisfied: anyio<5,>=3.5.0 in /Users/kelseysun/anaconda3/lib/python3.11/site-packages (from openai) (3.5.0)\n",
      "Requirement already satisfied: distro<2,>=1.7.0 in /Users/kelseysun/anaconda3/lib/python3.11/site-packages (from openai) (1.9.0)\n",
      "Requirement already satisfied: httpx<1,>=0.23.0 in /Users/kelseysun/anaconda3/lib/python3.11/site-packages (from openai) (0.26.0)\n",
      "Requirement already satisfied: pydantic<3,>=1.9.0 in /Users/kelseysun/anaconda3/lib/python3.11/site-packages (from openai) (1.10.8)\n",
      "Requirement already satisfied: sniffio in /Users/kelseysun/anaconda3/lib/python3.11/site-packages (from openai) (1.2.0)\n",
      "Requirement already satisfied: tqdm>4 in /Users/kelseysun/anaconda3/lib/python3.11/site-packages (from openai) (4.65.0)\n",
      "Requirement already satisfied: typing-extensions<5,>=4.7 in /Users/kelseysun/anaconda3/lib/python3.11/site-packages (from openai) (4.10.0)\n",
      "Requirement already satisfied: idna>=2.8 in /Users/kelseysun/anaconda3/lib/python3.11/site-packages (from anyio<5,>=3.5.0->openai) (3.4)\n",
      "Requirement already satisfied: certifi in /Users/kelseysun/anaconda3/lib/python3.11/site-packages (from httpx<1,>=0.23.0->openai) (2024.2.2)\n",
      "Requirement already satisfied: httpcore==1.* in /Users/kelseysun/anaconda3/lib/python3.11/site-packages (from httpx<1,>=0.23.0->openai) (1.0.2)\n",
      "Requirement already satisfied: h11<0.15,>=0.13 in /Users/kelseysun/anaconda3/lib/python3.11/site-packages (from httpcore==1.*->httpx<1,>=0.23.0->openai) (0.14.0)\n",
      "Note: you may need to restart the kernel to use updated packages.\n"
     ]
    }
   ],
   "source": [
    "# if needed, install and/or upgrade to the latest version of the OpenAI Python library\n",
    "%pip install --upgrade openai"
   ]
  },
  {
   "cell_type": "code",
   "execution_count": 27,
   "metadata": {},
   "outputs": [
    {
     "data": {
      "text/plain": [
       "True"
      ]
     },
     "execution_count": 27,
     "metadata": {},
     "output_type": "execute_result"
    }
   ],
   "source": [
    "# import os module & the OpenAI Python library for calling the OpenAI API\n",
    "# please make sure you have installed required libraries via pip install -r requirements.txt\n",
    "import os, dotenv\n",
    "import openai\n",
    "\n",
    "dotenv.load_dotenv()"
   ]
  },
  {
   "cell_type": "code",
   "execution_count": 28,
   "metadata": {},
   "outputs": [],
   "source": [
    "# Setting up the deployment name\n",
    "deployment_name = os.environ['CHAT_COMPLETIONS_MODEL']\n",
    "\n",
    "# The base URL for your Azure OpenAI resource. e.g. \"https://<your resource name>.openai.azure.com\"\n",
    "azure_endpoint = os.environ['AZURE_OPENAI_ENDPOINT']\n",
    "\n",
    "# The API key for your Azure OpenAI resource.\n",
    "api_key = os.environ['AZURE_OPENAI_API_KEY']\n",
    "\n",
    "# Currently OPENAI API have the following versions available: https://learn.microsoft.com/azure/ai-services/openai/reference\n",
    "api_version = os.environ['OPENAI_API_VERSION']\n",
    "\n",
    "client = openai.AzureOpenAI(\n",
    "  azure_endpoint = azure_endpoint, \n",
    "  api_key=api_key,  \n",
    "  api_version=api_version\n",
    ")"
   ]
  },
  {
   "cell_type": "markdown",
   "metadata": {},
   "source": [
    "## 1.0 Create the system message for ChatGPT"
   ]
  },
  {
   "cell_type": "code",
   "execution_count": 29,
   "metadata": {},
   "outputs": [
    {
     "name": "stdout",
     "output_type": "stream",
     "text": [
      "You are a helpful assistant.\n"
     ]
    }
   ],
   "source": [
    "base_system_message = \"You are a helpful assistant.\"\n",
    "\n",
    "system_message = f\"{base_system_message.strip()}\"\n",
    "print(system_message)"
   ]
  },
  {
   "cell_type": "markdown",
   "metadata": {},
   "source": [
    "## 2.0 Define helper functions\n",
    "\n"
   ]
  },
  {
   "cell_type": "code",
   "execution_count": 30,
   "metadata": {},
   "outputs": [],
   "source": [
    "import tiktoken\n",
    "\n",
    "def num_tokens_from_messages(messages, model=\"gpt-3.5-turbo-0301\"):\n",
    "    encoding = tiktoken.encoding_for_model(model)\n",
    "    num_tokens = 0\n",
    "    for message in messages:\n",
    "        num_tokens += 4  # every message follows <im_start>{role/name}\\n{content}<im_end>\\n\n",
    "        for key, value in message.items():\n",
    "            num_tokens += len(encoding.encode(value))\n",
    "            if key == \"name\":  # if there's a name, the role is omitted\n",
    "                num_tokens += -1  # role is always required and always 1 token\n",
    "    num_tokens += 2  # every reply is primed with <im_start>assistant\n",
    "    return num_tokens"
   ]
  },
  {
   "cell_type": "code",
   "execution_count": 31,
   "metadata": {},
   "outputs": [],
   "source": [
    "# Defining a function to send the prompt to the ChatGPT model\n",
    "# More info : https://learn.microsoft.com/en-us/azure/cognitive-services/openai/how-to/chatgpt?pivots=programming-language-chat-completions\n",
    "def send_message(messages, model_name, max_response_tokens=500):\n",
    "    response = client.chat.completions.create(\n",
    "        model=model_name,\n",
    "        messages=messages,\n",
    "        temperature=0.5,\n",
    "        max_tokens=max_response_tokens,\n",
    "        top_p=0.9,\n",
    "        frequency_penalty=0,\n",
    "        presence_penalty=0,\n",
    "    )\n",
    "    return response.choices[0].message.content\n",
    "\n",
    "# Defining a function to print out the conversation in a readable format\n",
    "def print_conversation(messages):\n",
    "    for message in messages:\n",
    "        print(f\"[{message['role'].upper()}]\")\n",
    "        print(message['content'])\n",
    "        print()"
   ]
  },
  {
   "cell_type": "markdown",
   "metadata": {},
   "source": [
    "## 3.0 Start the conversation"
   ]
  },
  {
   "cell_type": "code",
   "execution_count": 32,
   "metadata": {},
   "outputs": [],
   "source": [
    "# This is the first user message that will be sent to the model. Feel free to update this.\n",
    "user_message = \"I want to write a blog post about the impact of AI on the future of work.\""
   ]
  },
  {
   "cell_type": "code",
   "execution_count": 33,
   "metadata": {},
   "outputs": [],
   "source": [
    "# Create the list of messages. role can be either \"user\" or \"assistant\" \n",
    "messages=[\n",
    "    {\"role\": \"system\", \"content\": system_message},\n",
    "    {\"role\": \"user\", \"name\":\"example_user\", \"content\": user_message}\n",
    "]"
   ]
  },
  {
   "cell_type": "code",
   "execution_count": 34,
   "metadata": {},
   "outputs": [
    {
     "name": "stdout",
     "output_type": "stream",
     "text": [
      "Token count: 37\n"
     ]
    }
   ],
   "source": [
    "token_count = num_tokens_from_messages(messages)\n",
    "print(f\"Token count: {token_count}\")"
   ]
  },
  {
   "cell_type": "code",
   "execution_count": 35,
   "metadata": {},
   "outputs": [
    {
     "name": "stdout",
     "output_type": "stream",
     "text": [
      "[SYSTEM]\n",
      "You are a helpful assistant.\n",
      "\n",
      "[USER]\n",
      "I want to write a blog post about the impact of AI on the future of work.\n",
      "\n",
      "[ASSISTANT]\n",
      "Great topic choice! The impact of AI on the future of work is indeed a fascinating and relevant subject. Here's a structure you can follow to write your blog post:\n",
      "\n",
      "1. Introduction:\n",
      "   - Start with a captivating opening statement or a thought-provoking question to grab the reader's attention.\n",
      "   - Provide a brief overview of AI and its growing significance in various industries.\n",
      "\n",
      "2. The current state of AI in the workplace:\n",
      "   - Discuss how AI is already being used in different sectors, such as healthcare, finance, manufacturing, and customer service.\n",
      "   - Highlight some specific examples of AI technologies and their applications.\n",
      "\n",
      "3. Advantages of AI in the workplace:\n",
      "   - Explain the potential benefits that AI brings to businesses and employees.\n",
      "   - Discuss how AI can automate repetitive tasks, enhance productivity, and improve decision-making processes.\n",
      "   - Mention how AI-powered tools can assist workers in performing their jobs more efficiently.\n",
      "\n",
      "4. Potential challenges and concerns:\n",
      "   - Address the concerns surrounding AI's impact on jobs and the workforce.\n",
      "   - Discuss the fear of job displacement and the need for upskilling and reskilling to adapt to the changing job market.\n",
      "   - Explore ethical considerations, such as bias in AI algorithms and privacy concerns.\n",
      "\n",
      "5. Opportunities for collaboration between humans and AI:\n",
      "   - Emphasize the importance of humans and AI working together as a team.\n",
      "   - Discuss how AI can augment human capabilities and free up time for more complex and creative tasks.\n",
      "   - Highlight examples of successful collaborations between humans and AI.\n",
      "\n",
      "6. Future implications and predictions:\n",
      "   - Explore the potential long-term effects of AI on the job market and employment landscape.\n",
      "   - Discuss different viewpoints and predictions from experts regarding the future of work in an AI-driven world.\n",
      "\n",
      "7. Conclusion:\n",
      "   - Summarize the key points discussed in the blog post.\n",
      "   - End with a thought-provoking statement or call-to-action, encouraging readers to stay informed and adapt to the changing work environment.\n",
      "\n",
      "Remember to support your arguments with relevant statistics, case studies, and credible sources. Good luck with your blog post!\n",
      "\n"
     ]
    }
   ],
   "source": [
    "max_response_tokens = 500\n",
    "\n",
    "response = send_message(messages, deployment_name, max_response_tokens)\n",
    "messages.append({\"role\": \"assistant\", \"content\": response})\n",
    "\n",
    "print_conversation(messages)"
   ]
  },
  {
   "cell_type": "markdown",
   "metadata": {},
   "source": [
    "## 4.0 Continue the conversation\n",
    "\n",
    "When working with the ChatGPT model, it's your responsibity to make sure you stay within the token limits of the model. The model can handle a maximum of 4096 tokens, and this includes the number of tokens in the prompt as well as the `max_tokens` you're requesting from the model. If you exceed these limits, the model will return an error.\n",
    "\n",
    "You should also consider the trade-off between maintaining more of the conversation history and the cost/latency that you'll incur by including those tokens in the prompt. Shorter prompts are cheaper and faster. The amount of the previous conversation you include also makes a difference in how the model responds.\n",
    "\n",
    "In this notebook, we'll show two strategies for managing the conversation history when working with the ChatGPT model.\n",
    "- Option 1: Keep the conversation within a given token limit\n",
    "- Option 2: Keep the conversation within a given number of turns"
   ]
  },
  {
   "cell_type": "markdown",
   "metadata": {},
   "source": [
    "### Option 1: Keep the conversation within a given token limit\n",
    "\n",
    "`overall_max_tokens` is the maximum number of tokens that you want to include in the prompt. Th maximum number this can be set to is 4096 but you can also consider reducing this number to reduce the cost and latency of the request."
   ]
  },
  {
   "cell_type": "code",
   "execution_count": 36,
   "metadata": {},
   "outputs": [],
   "source": [
    "overall_max_tokens = 4096\n",
    "prompt_max_tokens = overall_max_tokens - max_response_tokens"
   ]
  },
  {
   "cell_type": "markdown",
   "metadata": {},
   "source": [
    "You can continue the conversation below by editing the user_message and running the cell as many times as you would like."
   ]
  },
  {
   "cell_type": "code",
   "execution_count": 38,
   "metadata": {},
   "outputs": [
    {
     "name": "stdout",
     "output_type": "stream",
     "text": [
      "Token count: 865\n",
      "[SYSTEM]\n",
      "You are a helpful assistant.\n",
      "\n",
      "[USER]\n",
      "I want to write a blog post about the impact of AI on the future of work.\n",
      "\n",
      "[ASSISTANT]\n",
      "Great topic choice! The impact of AI on the future of work is indeed a fascinating and relevant subject. Here's a structure you can follow to write your blog post:\n",
      "\n",
      "1. Introduction:\n",
      "   - Start with a captivating opening statement or a thought-provoking question to grab the reader's attention.\n",
      "   - Provide a brief overview of AI and its growing significance in various industries.\n",
      "\n",
      "2. The current state of AI in the workplace:\n",
      "   - Discuss how AI is already being used in different sectors, such as healthcare, finance, manufacturing, and customer service.\n",
      "   - Highlight some specific examples of AI technologies and their applications.\n",
      "\n",
      "3. Advantages of AI in the workplace:\n",
      "   - Explain the potential benefits that AI brings to businesses and employees.\n",
      "   - Discuss how AI can automate repetitive tasks, enhance productivity, and improve decision-making processes.\n",
      "   - Mention how AI-powered tools can assist workers in performing their jobs more efficiently.\n",
      "\n",
      "4. Potential challenges and concerns:\n",
      "   - Address the concerns surrounding AI's impact on jobs and the workforce.\n",
      "   - Discuss the fear of job displacement and the need for upskilling and reskilling to adapt to the changing job market.\n",
      "   - Explore ethical considerations, such as bias in AI algorithms and privacy concerns.\n",
      "\n",
      "5. Opportunities for collaboration between humans and AI:\n",
      "   - Emphasize the importance of humans and AI working together as a team.\n",
      "   - Discuss how AI can augment human capabilities and free up time for more complex and creative tasks.\n",
      "   - Highlight examples of successful collaborations between humans and AI.\n",
      "\n",
      "6. Future implications and predictions:\n",
      "   - Explore the potential long-term effects of AI on the job market and employment landscape.\n",
      "   - Discuss different viewpoints and predictions from experts regarding the future of work in an AI-driven world.\n",
      "\n",
      "7. Conclusion:\n",
      "   - Summarize the key points discussed in the blog post.\n",
      "   - End with a thought-provoking statement or call-to-action, encouraging readers to stay informed and adapt to the changing work environment.\n",
      "\n",
      "Remember to support your arguments with relevant statistics, case studies, and credible sources. Good luck with your blog post!\n",
      "\n",
      "[USER]\n",
      "The target audience for the blog post should be business leaders working in the tech industry.\n",
      "\n",
      "[ASSISTANT]\n",
      "That's a great target audience! When writing your blog post for business leaders in the tech industry, you can tailor your content to address their specific interests and concerns. Here are a few suggestions to make your blog post more relevant to this audience:\n",
      "\n",
      "1. Use industry-specific examples: Incorporate case studies and examples from the tech industry to demonstrate how AI is already impacting businesses in their sector. This will help them relate to the topic and understand its relevance.\n",
      "\n",
      "2. Highlight the competitive advantage: Emphasize how AI adoption can give businesses a competitive edge in the tech industry. Discuss how AI can improve efficiency, streamline processes, and drive innovation.\n",
      "\n",
      "3. Address industry-specific challenges: Discuss the unique challenges that tech companies may face when implementing AI, such as data privacy and security concerns, talent acquisition, or regulatory compliance. Offer insights and strategies to overcome these challenges.\n",
      "\n",
      "4. Discuss emerging trends: Provide insights into the latest trends and advancements in AI technology that are specifically relevant to the tech industry. This can include topics like machine learning, natural language processing, or computer vision.\n",
      "\n",
      "5. Discuss the future of tech jobs: Explore the potential impact of AI on job roles and skills required in the tech industry. Discuss how business leaders can prepare their workforce for the future by investing in upskilling and reskilling programs.\n",
      "\n",
      "6. Provide actionable advice: Offer practical tips and recommendations for business leaders on how to successfully integrate AI into their organizations. This can include guidance on selecting the right AI solutions, ensuring ethical AI practices, and fostering a culture of collaboration between humans and AI.\n",
      "\n",
      "By tailoring your content to address the specific interests and challenges faced by business leaders in the tech industry, you can make your blog post more engaging and valuable to your target audience.\n",
      "\n",
      "[USER]\n",
      "The target audience for the blog post should be business leaders working in the tech industry.\n",
      "\n",
      "[ASSISTANT]\n",
      "That's a great target audience! When writing your blog post for business leaders in the tech industry, you can tailor your content to address their specific interests and concerns. Here are a few suggestions to make your blog post more relevant to this audience:\n",
      "\n",
      "1. Start with a compelling hook: Begin your blog post with a statement or statistic that highlights the impact of AI on the tech industry. This will grab the attention of business leaders and make them eager to continue reading.\n",
      "\n",
      "2. Discuss industry-specific applications: Explore how AI is transforming various aspects of the tech industry, such as software development, cybersecurity, data analysis, or product innovation. Provide real-world examples and success stories to showcase the practical applications of AI in these areas.\n",
      "\n",
      "3. Highlight the competitive advantage: Emphasize how AI adoption can give tech companies a competitive edge. Discuss how AI can enhance product development, improve customer experience, or optimize business operations. Illustrate the benefits of AI in terms of increased efficiency, cost savings, or revenue growth.\n",
      "\n",
      "4. Address concerns and challenges: Acknowledge the concerns that business leaders in the tech industry may have regarding AI. Discuss potential challenges such as job displacement, ethical considerations, or regulatory compliance. Offer insights and strategies to mitigate these concerns and navigate the evolving landscape.\n",
      "\n",
      "5. Explore future opportunities: Discuss the future potential of AI in the tech industry. Highlight emerging trends and technologies that business leaders should be aware of, such as machine learning, robotics, or augmented reality. Discuss how these advancements may shape the future of work and present new opportunities for innovation.\n",
      "\n",
      "6. Provide actionable insights: Offer practical advice and recommendations for business leaders to leverage AI effectively. Discuss strategies for implementing AI solutions, building AI-driven teams, or fostering a culture of innovation. Provide resources and tools that can help them stay updated on the latest AI advancements.\n",
      "\n",
      "7. Conclusion: Summarize the key takeaways from your blog post and leave the readers with a call-to-action. Encourage business leaders to embrace AI as a transformative force and to proactively explore its potential within their organizations.\n",
      "\n",
      "By tailoring your content to address the specific interests and challenges faced by business leaders in the tech industry, you can make your blog post more engaging and valuable to your target audience.\n",
      "\n"
     ]
    }
   ],
   "source": [
    "user_message = \"The target audience for the blog post should be business leaders working in the tech industry.\"\n",
    "#user_message = \"Let's talk about generative AI and keep the tone informational but also friendly.\"\n",
    "#user_message = \"Show me a few more examples\"\n",
    "messages.append({\"role\": \"user\", \"content\": user_message})\n",
    "\n",
    "token_count = num_tokens_from_messages(messages)\n",
    "print(f\"Token count: {token_count}\")\n",
    "\n",
    "# remove first message while over the token limit\n",
    "while token_count > prompt_max_tokens:\n",
    "    messages.pop(0)\n",
    "    token_count = num_tokens_from_messages(messages)\n",
    "\n",
    "response = send_message(messages, deployment_name, max_response_tokens)\n",
    "\n",
    "messages.append({\"role\": \"assistant\", \"content\": response})\n",
    "print_conversation(messages)"
   ]
  },
  {
   "cell_type": "markdown",
   "metadata": {},
   "source": [
    "### Option 2: Keep the conversation within a given number of turns"
   ]
  },
  {
   "cell_type": "code",
   "execution_count": 39,
   "metadata": {},
   "outputs": [],
   "source": [
    "max_messages = 10\n",
    "\n",
    "overall_max_tokens = 4096\n",
    "prompt_max_tokens = overall_max_tokens - max_response_tokens"
   ]
  },
  {
   "cell_type": "markdown",
   "metadata": {},
   "source": [
    "You can continue the conversation below by editing the user_message and running the cell as many times as you would like."
   ]
  },
  {
   "cell_type": "code",
   "execution_count": 41,
   "metadata": {},
   "outputs": [
    {
     "name": "stdout",
     "output_type": "stream",
     "text": [
      "[SYSTEM]\n",
      "You are a helpful assistant.\n",
      "\n",
      "[USER]\n",
      "I want to write a blog post about the impact of AI on the future of work.\n",
      "\n",
      "[ASSISTANT]\n",
      "Great topic choice! The impact of AI on the future of work is indeed a fascinating and relevant subject. Here's a structure you can follow to write your blog post:\n",
      "\n",
      "1. Introduction:\n",
      "   - Start with a captivating opening statement or a thought-provoking question to grab the reader's attention.\n",
      "   - Provide a brief overview of AI and its growing significance in various industries.\n",
      "\n",
      "2. The current state of AI in the workplace:\n",
      "   - Discuss how AI is already being used in different sectors, such as healthcare, finance, manufacturing, and customer service.\n",
      "   - Highlight some specific examples of AI technologies and their applications.\n",
      "\n",
      "3. Advantages of AI in the workplace:\n",
      "   - Explain the potential benefits that AI brings to businesses and employees.\n",
      "   - Discuss how AI can automate repetitive tasks, enhance productivity, and improve decision-making processes.\n",
      "   - Mention how AI-powered tools can assist workers in performing their jobs more efficiently.\n",
      "\n",
      "4. Potential challenges and concerns:\n",
      "   - Address the concerns surrounding AI's impact on jobs and the workforce.\n",
      "   - Discuss the fear of job displacement and the need for upskilling and reskilling to adapt to the changing job market.\n",
      "   - Explore ethical considerations, such as bias in AI algorithms and privacy concerns.\n",
      "\n",
      "5. Opportunities for collaboration between humans and AI:\n",
      "   - Emphasize the importance of humans and AI working together as a team.\n",
      "   - Discuss how AI can augment human capabilities and free up time for more complex and creative tasks.\n",
      "   - Highlight examples of successful collaborations between humans and AI.\n",
      "\n",
      "6. Future implications and predictions:\n",
      "   - Explore the potential long-term effects of AI on the job market and employment landscape.\n",
      "   - Discuss different viewpoints and predictions from experts regarding the future of work in an AI-driven world.\n",
      "\n",
      "7. Conclusion:\n",
      "   - Summarize the key points discussed in the blog post.\n",
      "   - End with a thought-provoking statement or call-to-action, encouraging readers to stay informed and adapt to the changing work environment.\n",
      "\n",
      "Remember to support your arguments with relevant statistics, case studies, and credible sources. Good luck with your blog post!\n",
      "\n",
      "[USER]\n",
      "The target audience for the blog post should be business leaders working in the tech industry.\n",
      "\n",
      "[ASSISTANT]\n",
      "That's a great target audience! When writing your blog post for business leaders in the tech industry, you can tailor your content to address their specific interests and concerns. Here are a few suggestions to make your blog post more relevant to this audience:\n",
      "\n",
      "1. Use industry-specific examples: Incorporate case studies and examples from the tech industry to demonstrate how AI is already impacting businesses in their sector. This will help them relate to the topic and understand its relevance.\n",
      "\n",
      "2. Highlight the competitive advantage: Emphasize how AI adoption can give businesses a competitive edge in the tech industry. Discuss how AI can improve efficiency, streamline processes, and drive innovation.\n",
      "\n",
      "3. Address industry-specific challenges: Discuss the unique challenges that tech companies may face when implementing AI, such as data privacy and security concerns, talent acquisition, or regulatory compliance. Offer insights and strategies to overcome these challenges.\n",
      "\n",
      "4. Discuss emerging trends: Provide insights into the latest trends and advancements in AI technology that are specifically relevant to the tech industry. This can include topics like machine learning, natural language processing, or computer vision.\n",
      "\n",
      "5. Discuss the future of tech jobs: Explore the potential impact of AI on job roles and skills required in the tech industry. Discuss how business leaders can prepare their workforce for the future by investing in upskilling and reskilling programs.\n",
      "\n",
      "6. Provide actionable advice: Offer practical tips and recommendations for business leaders on how to successfully integrate AI into their organizations. This can include guidance on selecting the right AI solutions, ensuring ethical AI practices, and fostering a culture of collaboration between humans and AI.\n",
      "\n",
      "By tailoring your content to address the specific interests and challenges faced by business leaders in the tech industry, you can make your blog post more engaging and valuable to your target audience.\n",
      "\n",
      "[USER]\n",
      "The target audience for the blog post should be business leaders working in the tech industry.\n",
      "\n",
      "[ASSISTANT]\n",
      "That's a great target audience! When writing your blog post for business leaders in the tech industry, you can tailor your content to address their specific interests and concerns. Here are a few suggestions to make your blog post more relevant to this audience:\n",
      "\n",
      "1. Start with a compelling hook: Begin your blog post with a statement or statistic that highlights the impact of AI on the tech industry. This will grab the attention of business leaders and make them eager to continue reading.\n",
      "\n",
      "2. Discuss industry-specific applications: Explore how AI is transforming various aspects of the tech industry, such as software development, cybersecurity, data analysis, or product innovation. Provide real-world examples and success stories to showcase the practical applications of AI in these areas.\n",
      "\n",
      "3. Highlight the competitive advantage: Emphasize how AI adoption can give tech companies a competitive edge. Discuss how AI can enhance product development, improve customer experience, or optimize business operations. Illustrate the benefits of AI in terms of increased efficiency, cost savings, or revenue growth.\n",
      "\n",
      "4. Address concerns and challenges: Acknowledge the concerns that business leaders in the tech industry may have regarding AI. Discuss potential challenges such as job displacement, ethical considerations, or regulatory compliance. Offer insights and strategies to mitigate these concerns and navigate the evolving landscape.\n",
      "\n",
      "5. Explore future opportunities: Discuss the future potential of AI in the tech industry. Highlight emerging trends and technologies that business leaders should be aware of, such as machine learning, robotics, or augmented reality. Discuss how these advancements may shape the future of work and present new opportunities for innovation.\n",
      "\n",
      "6. Provide actionable insights: Offer practical advice and recommendations for business leaders to leverage AI effectively. Discuss strategies for implementing AI solutions, building AI-driven teams, or fostering a culture of innovation. Provide resources and tools that can help them stay updated on the latest AI advancements.\n",
      "\n",
      "7. Conclusion: Summarize the key takeaways from your blog post and leave the readers with a call-to-action. Encourage business leaders to embrace AI as a transformative force and to proactively explore its potential within their organizations.\n",
      "\n",
      "By tailoring your content to address the specific interests and challenges faced by business leaders in the tech industry, you can make your blog post more engaging and valuable to your target audience.\n",
      "\n",
      "[USER]\n",
      "Make the post about generative AI aimed at business leaders who have some knowledge of the technology.\n",
      "\n",
      "[ASSISTANT]\n",
      "Certainly! Here's an updated outline for your blog post, focusing on generative AI for business leaders with some knowledge of the technology:\n",
      "\n",
      "1. Introduction:\n",
      "   - Start with an attention-grabbing statement about the power and potential of generative AI.\n",
      "   - Briefly explain what generative AI is and its significance in various industries.\n",
      "\n",
      "2. The current state of generative AI:\n",
      "   - Discuss the advancements in generative AI technology and its applications in fields like art, design, content creation, and product development.\n",
      "   - Highlight specific examples of generative AI tools and platforms that have gained traction in the business world.\n",
      "\n",
      "3. Benefits and opportunities of generative AI:\n",
      "   - Explain how generative AI can enhance creativity and innovation in business processes.\n",
      "   - Discuss how generative AI can assist in generating new ideas, designing unique products, or creating personalized customer experiences.\n",
      "   - Highlight the potential for cost and time savings through automation and optimization with generative AI.\n",
      "\n",
      "4. Industry-specific applications:\n",
      "   - Explore how generative AI is being used in specific industries, such as marketing, fashion, gaming, or architecture.\n",
      "   - Discuss the impact of generative AI on these industries, including improved design workflows, personalized marketing campaigns, or virtual prototyping.\n",
      "\n",
      "5. Challenges and considerations:\n",
      "   - Address the challenges and limitations of generative AI, such as ethical concerns, bias in AI-generated content, or the need for human oversight.\n",
      "   - Discuss strategies for mitigating these challenges and ensuring responsible use of generative AI.\n",
      "\n",
      "6. Implications for business leaders:\n",
      "   - Discuss the implications of generative AI on business models and processes.\n",
      "   - Explore how business leaders can leverage generative AI to gain a competitive edge, drive innovation, and create unique value propositions.\n",
      "   - Highlight the importance of fostering a culture of experimentation and collaboration with generative AI tools and teams.\n",
      "\n",
      "7. Looking ahead:\n",
      "   - Discuss emerging trends and future developments in generative AI.\n",
      "   - Explore the potential impact of generative AI on job roles, workforce skills, and the need for upskilling or reskilling.\n",
      "\n",
      "8. Conclusion:\n",
      "   - Summarize the key points discussed in the blog post.\n",
      "   - Encourage business leaders to embrace generative AI as a powerful tool for creativity, innovation, and competitive advantage.\n",
      "   - Provide resources or recommendations for further exploration of generative AI in their respective industries.\n",
      "\n",
      "Remember to support your arguments with relevant case studies, examples, and credible sources.\n",
      "\n",
      "[USER]\n",
      "Make the post about generative AI aimed at business leaders who have some knowledge of the technology.\n",
      "\n",
      "[ASSISTANT]\n",
      "Title: Unleashing Creativity and Innovation: Exploring the Power of Generative AI for Tech-Savvy Business Leaders\n",
      "\n",
      "Introduction:\n",
      "- Captivating opening: \"Imagine a world where machines can generate unique and captivating designs, write compelling content, or even create personalized customer experiences. Welcome to the realm of generative AI.\"\n",
      "- Briefly define generative AI and its growing significance in various industries.\n",
      "- Highlight the relevance of generative AI for tech-savvy business leaders who already have some knowledge of the technology.\n",
      "\n",
      "1. The Evolution of Generative AI:\n",
      "- Discuss the advancements in generative AI technology and its journey from basic rule-based systems to sophisticated deep learning models.\n",
      "- Highlight key breakthroughs and techniques like GANs (Generative Adversarial Networks) and VAEs (Variational Autoencoders) that enable generative AI to produce realistic and creative outputs.\n",
      "\n",
      "2. Applications of Generative AI:\n",
      "- Explore the diverse range of applications where generative AI is making an impact, such as art, design, content creation, and product development.\n",
      "- Provide real-world examples of successful generative AI applications, showcasing how businesses are leveraging this technology to streamline workflows, generate innovative ideas, and enhance customer experiences.\n",
      "\n",
      "3. Unlocking Creativity and Innovation:\n",
      "- Discuss how generative AI can augment human creativity and unlock new possibilities.\n",
      "- Highlight how generative AI tools can assist in brainstorming sessions, idea generation, and concept exploration, providing a fresh perspective and pushing the boundaries of innovation.\n",
      "- Showcase how generative AI can automate repetitive tasks, freeing up valuable time for creative problem-solving and strategic thinking.\n",
      "\n",
      "4. Industry-Specific Impacts:\n",
      "- Dive into industry-specific impacts of generative AI, focusing on sectors like marketing, fashion, gaming, or architecture.\n",
      "- Explore how generative AI is revolutionizing these industries, from personalized marketing campaigns and virtual try-on experiences to procedural content generation and architectural design optimization.\n",
      "\n",
      "5. Ethical Considerations and Human Oversight:\n",
      "- Address the ethical considerations surrounding generative AI, such as potential biases in AI-generated content or the risk of AI replacing human creativity.\n",
      "- Discuss the importance of human oversight and collaboration in the generative AI process to ensure responsible and ethical outcomes.\n",
      "- Highlight the need for business leaders to establish guidelines and frameworks that prioritize ethical and inclusive generative AI practices.\n",
      "\n",
      "6. Embracing Generative AI for Competitive Advantage:\n",
      "- Discuss the strategic implications of generative AI for businesses and their competitive advantage.\n",
      "- Explore\n",
      "\n"
     ]
    }
   ],
   "source": [
    "user_message = \"Make the post about generative AI aimed at business leaders who have some knowledge of the technology.\"\n",
    "messages.append({\"role\": \"user\", \"content\": user_message})\n",
    "\n",
    "while len(messages) > max_messages:\n",
    "    messages.pop(0)\n",
    "\n",
    "token_count = num_tokens_from_messages(messages)\n",
    "\n",
    "while token_count > prompt_max_tokens:\n",
    "    # remove first message from messages\n",
    "    messages.pop(0)\n",
    "    token_count = num_tokens_from_messages(messages)\n",
    "\n",
    "response = send_message(messages, deployment_name)\n",
    "messages.append({\"role\": \"assistant\", \"content\": response})\n",
    "print_conversation(messages)\n"
   ]
  }
 ],
 "metadata": {
  "kernelspec": {
   "display_name": "Python 3 (ipykernel)",
   "language": "python",
   "name": "python3"
  },
  "language_info": {
   "codemirror_mode": {
    "name": "ipython",
    "version": 3
   },
   "file_extension": ".py",
   "mimetype": "text/x-python",
   "name": "python",
   "nbconvert_exporter": "python",
   "pygments_lexer": "ipython3",
   "version": "3.11.5"
  },
  "vscode": {
   "interpreter": {
    "hash": "fc180f703c9255d3d630e6d09ed4eb3355d27845db546035ce1b410f2bfa43b7"
   }
  }
 },
 "nbformat": 4,
 "nbformat_minor": 2
}
