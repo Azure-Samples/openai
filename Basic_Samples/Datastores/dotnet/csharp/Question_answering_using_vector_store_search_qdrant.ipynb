{
 "cells": [
  {
   "cell_type": "markdown",
   "metadata": {},
   "source": [
    "# Question answering using vector store search\n",
    "GPT excels at answering questions, but only on topics it remembers from its training data.\n",
    "What should you do if you want GPT to answer questions about unfamiliar topics? E.g.,\n",
    "- Recent events after Sep 2021\n",
    "- Your non-public documents\n",
    "- Information from past conversations\n",
    "- etc.\n",
    "\n",
    "This notebook demonstrates a two-step Search-Ask method for enabling GPT to answer questions using a library of reference text.\n",
    "\n",
    " 1. **Search:** search your library of text for relevant text sections\n",
    " 2. **Ask:** insert the retrieved text sections into a message to GPT and ask it the question\"\n",
    "\n",
    "## Why search is better than fine-tuning\n",
    "\n",
    "GPT can learn knowledge in two ways:\n",
    "\n",
    " - Via model weights (i.e., fine-tune the model on a training set)\n",
    " - Via model inputs (i.e., insert the knowledge into an input message)\n",
    "\n",
    "Although fine-tuning can feel like the more natural option—training on data is how GPT learned all of its other knowledge, after all—we generally do not recommend it as a way to teach the model knowledge. Fine-tuning is better suited to teaching specialized tasks or styles, and is less reliable for factual recall.\n",
    "\n",
    "As an analogy, model weights are like long-term memory. When you fine-tune a model, it's like studying for an exam a week away. When the exam arrives, the model may forget details, or misremember facts it never read.\n",
    "\n",
    "In contrast, message inputs are like short-term memory. When you insert knowledge into a message, it's like taking an exam with open notes. With notes in hand, the model is more likely to arrive at correct answers.\n",
    "\n",
    "One downside of text search relative to fine-tuning is that each model is limited by a maximum amount of text it can read at once:\n",
    "\n",
    "| Model           | Maximum text length       |\n",
    "|-----------------|---------------------------|\n",
    "| `gpt-3.5-turbo` | 4,096 tokens (~5 pages)   |\n",
    "| `gpt-4`         | 8,192 tokens (~10 pages)  |\n",
    "| `gpt-4-32k`     | 32,768 tokens (~40 pages) |\n",
    "\n",
    "Continuing the analogy, you can think of the model like a student who can only look at a few pages of notes at a time, despite potentially having shelves of textbooks to draw upon.\n",
    "\n",
    "Therefore, to build a system capable of drawing upon large quantities of text to answer questions, we recommend using a Search-Ask approach.\n",
    "Continuing the analogy, you can think of the model like a student who can only look at a few pages of notes at a time, despite potentially having shelves of textbooks to draw upon.\n",
    "\n",
    "Therefore, to build a system capable of drawing upon large quantities of text to answer questions, we recommend using a Search-Ask approach.\n",
    "\n",
    "## Search\n",
    "Text can be searched in many ways. E.g.,\n",
    "- Lexical-based search\n",
    "- Graph-based search\n",
    "- Embedding-based search\n",
    "\n",
    "This example notebook uses embedding-based search. [Embeddings](https://platform.openai.com/docs/guides/embeddings) are simple to implement and work especially well with questions, as questions often don't lexically overlap with their answers.\n",
    "\n",
    "Consider embeddings-only search as a starting point for your own system. Better search systems might combine multiple search methods, along with features like popularity, recency, user history, redundancy with prior search results, click rate data, etc. Q&A retrieval performance may also be improved with techniques like [HyDE](https://arxiv.org/abs/2212.10496), in which questions are first transformed into hypothetical answers before being embedded. Similarly, GPT can also potentially improve search results by automatically transforming questions into sets of keywords or search terms.\n",
    "\n",
    "## Full procedure\n",
    "Specifically, this notebook demonstrates the following procedure:\n",
    "1. Prepare search data (once per document)\n",
    "    1. Collect: We'll download a few hundred Wikipedia articles about the 2022 Olympics\n",
    "    2. Chunk: Documents are split into short, mostly self-contained sections to be embedded\n",
    "    3. Embed: Each section is embedded with the OpenAI API\n",
    "    4. Store: Embeddings are saved (for large datasets, use a vector database)\n",
    "2. Search (once per query)\n",
    "    1. Given a user question, generate an embedding for the query from the OpenAI API\n",
    "    2. Using the embeddings, rank the text sections by relevance to the query\n",
    "3. Ask (once per query)\n",
    "    1. Insert the question and the most relevant sections into a message to GPT\n",
    "    2. Return GPT's answer\n",
    "\n",
    "### Costs\n",
    "Because GPT is more expensive than embeddings search, a system with a decent volume of queries will have its costs dominated by step 3.\n",
    "\n",
    "- For `gpt-3.5-turbo` using ~1,000 tokens per query, it costs ~$0.002 per query, or ~500 queries per dollar (as of Apr 2023)\n",
    "- For `gpt-4`, again assuming ~1,000 tokens per query, it costs ~$0.03 per query, or ~30 queries per dollar (as of Apr 2023)\n",
    "Of course, exact costs will depend on the system specifics and usage patterns.\n",
    "\n",
    "## Preamble\n",
    "We'll begin by:\n",
    "- Importing the necessary libraries\n",
    "- Selecting models for embeddings search and question answering"
   ]
  },
  {
   "cell_type": "markdown",
   "metadata": {},
   "source": [
    "## Installation\n",
    "Install the Azure Open AI SDK using the below command."
   ]
  },
  {
   "cell_type": "code",
   "execution_count": 1,
   "metadata": {
    "dotnet_interactive": {
     "language": "csharp"
    },
    "polyglot_notebook": {
     "kernelName": "csharp"
    },
    "vscode": {
     "languageId": "polyglot-notebook"
    }
   },
   "outputs": [
    {
     "data": {
      "text/html": [
       "<div><div></div><div></div><div><strong>Installed Packages</strong><ul><li><span>Azure.AI.OpenAI, 1.0.0-beta.14</span></li></ul></div></div>"
      ]
     },
     "metadata": {},
     "output_type": "display_data"
    }
   ],
   "source": [
    "#r \"nuget: Azure.AI.OpenAI, 1.0.0-beta.14\""
   ]
  },
  {
   "cell_type": "code",
   "execution_count": null,
   "metadata": {
    "dotnet_interactive": {
     "language": "csharp"
    },
    "polyglot_notebook": {
     "kernelName": "csharp"
    },
    "vscode": {
     "languageId": "polyglot-notebook"
    }
   },
   "outputs": [],
   "source": [
    "#r \"nuget:Microsoft.DotNet.Interactive.AIUtilities, 1.0.0-beta.24129.1\"\n",
    "\n",
    "using Microsoft.DotNet.Interactive;\n",
    "using Microsoft.DotNet.Interactive.AIUtilities;"
   ]
  },
  {
   "cell_type": "markdown",
   "metadata": {},
   "source": [
    "## Run this cell, it will prompt you for the apiKey, endPoint, embeddingDeployment, and chatDeployment"
   ]
  },
  {
   "cell_type": "code",
   "execution_count": 4,
   "metadata": {
    "dotnet_interactive": {
     "language": "csharp"
    },
    "polyglot_notebook": {
     "kernelName": "csharp"
    },
    "vscode": {
     "languageId": "polyglot-notebook"
    }
   },
   "outputs": [],
   "source": [
    "var azureOpenAIKey = await Kernel.GetPasswordAsync(\"Provide your OPEN_AI_KEY\");\n",
    "\n",
    "// Your endpoint should look like the following https://YOUR_OPEN_AI_RESOURCE_NAME.openai.azure.com/\n",
    "var azureOpenAIEndpoint = await Kernel.GetInputAsync(\"Provide the OPEN_AI_ENDPOINT\");\n",
    "\n",
    "// Enter the deployment name you chose when you deployed the model.\n",
    "var embeddingDeployment = await Kernel.GetInputAsync(\"Provide embedding deployment name\");\n",
    "var chatDeployment = await Kernel.GetInputAsync(\"Provide chat deployment name\");"
   ]
  },
  {
   "cell_type": "markdown",
   "metadata": {},
   "source": [
    "### Import namesapaces and create an instance of `OpenAiClient` using the `azureOpenAIEndpoint` and the `azureOpenAIKey`"
   ]
  },
  {
   "cell_type": "code",
   "execution_count": 5,
   "metadata": {
    "dotnet_interactive": {
     "language": "csharp"
    },
    "polyglot_notebook": {
     "kernelName": "csharp"
    },
    "vscode": {
     "languageId": "polyglot-notebook"
    }
   },
   "outputs": [],
   "source": [
    "using Azure;\n",
    "using Azure.AI.OpenAI;"
   ]
  },
  {
   "cell_type": "code",
   "execution_count": 6,
   "metadata": {
    "dotnet_interactive": {
     "language": "csharp"
    },
    "polyglot_notebook": {
     "kernelName": "csharp"
    },
    "vscode": {
     "languageId": "polyglot-notebook"
    }
   },
   "outputs": [],
   "source": [
    "OpenAIClient client = new (new System.Uri(azureOpenAIEndpoint), new AzureKeyCredential(azureOpenAIKey.GetClearTextPassword()));"
   ]
  },
  {
   "cell_type": "markdown",
   "metadata": {},
   "source": [
    "## Load embedding data"
   ]
  },
  {
   "cell_type": "markdown",
   "metadata": {},
   "source": [
    "**IMPORTANT** In this sample, we'll be loading *wikipedia_embeddings.json*. This file is generated by running the [Embedding_Wikipedia_articles_for_search.ipynb](../../../Embeddings/dotnet/csharp/Embedding_Wikipedia_articles_for_search.ipynb) notebook."
   ]
  },
  {
   "cell_type": "code",
   "execution_count": 7,
   "metadata": {
    "dotnet_interactive": {
     "language": "csharp"
    },
    "polyglot_notebook": {
     "kernelName": "csharp"
    },
    "vscode": {
     "languageId": "polyglot-notebook"
    }
   },
   "outputs": [],
   "source": [
    "public record PageBlockWithEmbeddings(string PageTitle, string Block, float[] Embedding);"
   ]
  },
  {
   "cell_type": "code",
   "execution_count": 8,
   "metadata": {
    "dotnet_interactive": {
     "language": "csharp"
    },
    "polyglot_notebook": {
     "kernelName": "csharp"
    },
    "vscode": {
     "languageId": "polyglot-notebook"
    }
   },
   "outputs": [],
   "source": [
    "using System.Text.Json;\n",
    "using System.Text.Json.Serialization;\n",
    "using System.IO;\n",
    "\n",
    "var filePath = Path.Combine(\"..\",\"..\",\"..\",\"Data\",\"wikipedia_embeddings.json\");\n",
    "\n",
    "var olympicsData = JsonSerializer.Deserialize<PageBlockWithEmbeddings[]>(File.ReadAllText(filePath));"
   ]
  },
  {
   "cell_type": "code",
   "execution_count": 11,
   "metadata": {
    "dotnet_interactive": {
     "language": "csharp"
    },
    "polyglot_notebook": {
     "kernelName": "csharp"
    },
    "vscode": {
     "languageId": "polyglot-notebook"
    }
   },
   "outputs": [
    {
     "data": {
      "text/csv": [
       "PageTitle,Block,Embedding\r\n",
       "\"2022 Winter Olympics\",\"The 2022 Winter Olympics, officially called the XXIV Olympic Winter Games () and commonly known as Beijing 2022 (2022), was an international winter multi-sport event held from 4 to 20 February 2022 in Beijing, China, and surrounding areas with competition in selected events beginning 2 February 2022.{{cite web|title=SuperSport|url=https://supersport.com/news/cd6663a2-8236-44d8-a8b9-4fa192190da7/%7B%7B%20url()-%3Ecurrent()%20%7D%7D|access-date=25 February 2022|website=supersport.com|language=ZA|archive-date=25 February 2022|archive-url=https://web.archive.org/web/20220225173447/https://supersport.com/news/cd6663a2-8236-44d8-a8b9-4fa192190da7/%7B%7B%20url()-%3Ecurrent()%20%7D%7D|url-status=live}} It was the 24th edition of the Winter Olympic Games.\",System.Single[]\r\n",
       "\"2022 Winter Olympics\",\"Beijing was selected as host city on 31 July 2015 at the 128th IOC Session in Kuala Lumpur, Malaysia, marking its second time hosting the Olympics, and the last of three consecutive Olympics hosted in East Asia following the 2018 Winter Olympics in Pyeongchang County, South Korea, and the 2020 Summer Olympics in Tokyo, Japan. Having previously hosted the 2008 Summer Olympics, Beijing became the first city to have hosted both the Summer and Winter Olympics. The venues for the Games were concentrated around Beijing, its suburb Yanqing District, and Zhangjiakou, with some events (including the ceremonies and curling) repurposing venues originally built for Beijing 2008 (such as Beijing National Stadium and the Beijing National Aquatics Centre).\",System.Single[]\r\n",
       "\"2022 Winter Olympics\",\"The Games featured a record 109 events across 15 disciplines, with big air freestyle skiing and women's monobob making their Olympic debuts as medal events, as well as several new mixed competitions. A total of 2,871 athletes representing 91 teams competed in the Games, with Haiti and Saudi Arabia making their Winter Olympic debut.\",System.Single[]\r\n",
       "\"2022 Winter Olympics\",\"Beijing's hosting of the Games was subject to various concerns and controversies including those related to human rights violations in China, such as the Uyghur genocide, which led to calls for a boycott of the games.{{Cite news|last=Reyes|first=Yacob|date=8 December 2021|title=Beijing Olympics: These countries have announced diplomatic boycotts|work=[[Axios (website)|Axios]]|url=https://www.axios.com/diplomatic-boycott-beijing-olympics-list-countries-73e1240f-b925-40bf-ae67-648e774971c8.html|access-date=5 February 2022|archive-date=4 February 2022|archive-url=https://web.archive.org/web/20220204210817/https://www.axios.com/diplomatic-boycott-beijing-olympics-list-countries-73e1240f-b925-40bf-ae67-648e774971c8.html|url-status=live}}{{Cite news|last1=Allen-Ebrahimian|first1=Bethany|last2=Baker|first2=Kendall|date=1 February 2022|title=The IOC stays silent on human rights in China|work=[[Axios (website)|Axios]]|url=https://www.axios.com/winter-olympics-beijing-ioc-silence-human-rights-31ec1273-d894-4a67-993b-4b4156d42d44.html|access-date=5 February 2022|archive-date=5 February 2022|archive-url=https://web.archive.org/web/20220205020342/https://www.axios.com/winter-olympics-beijing-ioc-silence-human-rights-31ec1273-d894-4a67-993b-4b4156d42d44.html|url-status=live}} Like the Summer Olympics held six months earlier in Tokyo, the COVID-19 pandemic resulted in the implementation of health and safety protocols, and, for the second Games in a row, the Games being closed to the public (with selected events open to invited guests at a reduced capacity).\",System.Single[]\r\n"
      ],
      "text/html": [
       "<table><thead><tr><td><span>PageTitle</span></td><td><span>Block</span></td><td><span>Embedding</span></td></tr></thead><tbody><tr><td>2022 Winter Olympics</td><td>The 2022 Winter Olympics, officially called the XXIV Olympic Winter Games () and commonly known as Beijing 2022 (2022), was an international winter multi-sport event held from 4 to 20 February 2022 in Beijing, China, and surrounding areas with competition in selected events beginning 2 February 2022.{{cite web|title=SuperSport|url=https://supersport.com/news/cd6663a2-8236-44d8-a8b9-4fa192190da7/%7B%7B%20url()-%3Ecurrent()%20%7D%7D|access-date=25 February 2022|website=supersport.com|language=ZA|archive-date=25 February 2022|archive-url=https://web.archive.org/web/20220225173447/https://supersport.com/news/cd6663a2-8236-44d8-a8b9-4fa192190da7/%7B%7B%20url()-%3Ecurrent()%20%7D%7D|url-status=live}} It was the 24th edition of the Winter Olympic Games.</td><td><div class=\"dni-plaintext\"><pre>[ -0.007000031, -0.025182178, -0.010695381, -0.005645496, -0.026770474, 0.010612124, -0.01401287, -0.00023596284, -0.0060201543, -0.022453895, 0.03729934, 0.0129561415, -0.030408185, -0.023824442, -0.014550841, -0.027718328, 0.016702726, -0.0068463245, 0.0015754872, -0.015831726 ... (1516 more) ]</pre></div></td></tr><tr><td>2022 Winter Olympics</td><td>Beijing was selected as host city on 31 July 2015 at the 128th IOC Session in Kuala Lumpur, Malaysia, marking its second time hosting the Olympics, and the last of three consecutive Olympics hosted in East Asia following the 2018 Winter Olympics in Pyeongchang County, South Korea, and the 2020 Summer Olympics in Tokyo, Japan. Having previously hosted the 2008 Summer Olympics, Beijing became the first city to have hosted both the Summer and Winter Olympics. The venues for the Games were concentrated around Beijing, its suburb Yanqing District, and Zhangjiakou, with some events (including the ceremonies and curling) repurposing venues originally built for Beijing 2008 (such as Beijing National Stadium and the Beijing National Aquatics Centre).</td><td><div class=\"dni-plaintext\"><pre>[ 0.008893254, -0.012699212, -0.007250349, -0.0007829965, -0.020767841, 0.024421562, -0.03750137, -0.0052427067, -0.0037869278, -0.019334264, 0.016835019, 0.010022355, -0.0055186385, -0.0069966186, -0.02300067, -0.008538032, 0.014373833, -0.011024591, -0.0111577995, 0.0054932656 ... (1516 more) ]</pre></div></td></tr><tr><td>2022 Winter Olympics</td><td>The Games featured a record 109 events across 15 disciplines, with big air freestyle skiing and women&#39;s monobob making their Olympic debuts as medal events, as well as several new mixed competitions. A total of 2,871 athletes representing 91 teams competed in the Games, with Haiti and Saudi Arabia making their Winter Olympic debut.</td><td><div class=\"dni-plaintext\"><pre>[ -0.009414442, 0.0101670865, -0.0019868554, -0.023944318, -0.0073287217, 0.01984942, -0.017017433, 0.0011855755, -0.00017719848, -0.03722404, 0.017514944, 0.006266727, -0.013177667, -0.025602689, -0.0065027256, -0.001007779, 0.029697588, -0.017132243, -0.01583106, -0.0075710993 ... (1516 more) ]</pre></div></td></tr><tr><td>2022 Winter Olympics</td><td>Beijing&#39;s hosting of the Games was subject to various concerns and controversies including those related to human rights violations in China, such as the Uyghur genocide, which led to calls for a boycott of the games.{{Cite news|last=Reyes|first=Yacob|date=8 December 2021|title=Beijing Olympics: These countries have announced diplomatic boycotts|work=[[Axios (website)|Axios]]|url=https://www.axios.com/diplomatic-boycott-beijing-olympics-list-countries-73e1240f-b925-40bf-ae67-648e774971c8.html|access-date=5 February 2022|archive-date=4 February 2022|archive-url=https://web.archive.org/web/20220204210817/https://www.axios.com/diplomatic-boycott-beijing-olympics-list-countries-73e1240f-b925-40bf-ae67-648e774971c8.html|url-status=live}}{{Cite news|last1=Allen-Ebrahimian|first1=Bethany|last2=Baker|first2=Kendall|date=1 February 2022|title=The IOC stays silent on human rights in China|work=[[Axios (website)|Axios]]|url=https://www.axios.com/winter-olympics-beijing-ioc-silence-human-rights-31ec1273-d894-4a67-993b-4b4156d42d44.html|access-date=5 February 2022|archive-date=5 February 2022|archive-url=https://web.archive.org/web/20220205020342/https://www.axios.com/winter-olympics-beijing-ioc-silence-human-rights-31ec1273-d894-4a67-993b-4b4156d42d44.html|url-status=live}} Like the Summer Olympics held six months earlier in Tokyo, the COVID-19 pandemic resulted in the implementation of health and safety protocols, and, for the second Games in a row, the Games being closed to the public (with selected events open to invited guests at a reduced capacity).</td><td><div class=\"dni-plaintext\"><pre>[ 0.0005398922, -0.037917137, 0.008794742, -0.0010528916, -0.01572492, -0.006063091, -0.02190536, -0.005261198, -0.014212407, -0.021031754, 0.020875288, 0.009987801, -0.016402943, -0.004302839, -0.018997686, 0.0067476337, 0.031136906, 0.0013633806, 0.00018142414, -0.012680336 ... (1516 more) ]</pre></div></td></tr></tbody></table><style>\r\n",
       ".dni-code-hint {\r\n",
       "    font-style: italic;\r\n",
       "    overflow: hidden;\r\n",
       "    white-space: nowrap;\r\n",
       "}\r\n",
       ".dni-treeview {\r\n",
       "    white-space: nowrap;\r\n",
       "}\r\n",
       ".dni-treeview td {\r\n",
       "    vertical-align: top;\r\n",
       "    text-align: start;\r\n",
       "}\r\n",
       "details.dni-treeview {\r\n",
       "    padding-left: 1em;\r\n",
       "}\r\n",
       "table td {\r\n",
       "    text-align: start;\r\n",
       "}\r\n",
       "table tr { \r\n",
       "    vertical-align: top; \r\n",
       "    margin: 0em 0px;\r\n",
       "}\r\n",
       "table tr td pre \r\n",
       "{ \r\n",
       "    vertical-align: top !important; \r\n",
       "    margin: 0em 0px !important;\r\n",
       "} \r\n",
       "table th {\r\n",
       "    text-align: start;\r\n",
       "}\r\n",
       "</style>"
      ]
     },
     "metadata": {},
     "output_type": "display_data"
    }
   ],
   "source": [
    "olympicsData.Take(4).DisplayTable();"
   ]
  },
  {
   "cell_type": "markdown",
   "metadata": {},
   "source": [
    "## 2. Start DB locally"
   ]
  },
  {
   "cell_type": "code",
   "execution_count": 10,
   "metadata": {
    "dotnet_interactive": {
     "language": "pwsh"
    },
    "polyglot_notebook": {
     "kernelName": "pwsh"
    },
    "vscode": {
     "languageId": "polyglot-notebook"
    }
   },
   "outputs": [
    {
     "name": "stdout",
     "output_type": "stream",
     "text": [
      "506bef4dd2f09b84216f63afae2ba8c426c66339a61465faae5423b50512b12e\r\n"
     ]
    }
   ],
   "source": [
    "docker run -d -p 6333:6333 -p 6334:6334 -v \"$pwd/qdrant_storage:/qdrant/storage:z\" qdrant/qdrant"
   ]
  },
  {
   "cell_type": "code",
   "execution_count": 11,
   "metadata": {
    "dotnet_interactive": {
     "language": "csharp"
    },
    "polyglot_notebook": {
     "kernelName": "csharp"
    },
    "vscode": {
     "languageId": "polyglot-notebook"
    }
   },
   "outputs": [
    {
     "data": {
      "text/html": [
       "<div><div></div><div></div><div><strong>Installed Packages</strong><ul><li><span>Qdrant.Client, 1.6.0-alpha.1</span></li></ul></div></div>"
      ]
     },
     "metadata": {},
     "output_type": "display_data"
    }
   ],
   "source": [
    "#r \"nuget: Qdrant.Client, 1.6.0-alpha.1\""
   ]
  },
  {
   "cell_type": "code",
   "execution_count": 12,
   "metadata": {
    "dotnet_interactive": {
     "language": "csharp"
    },
    "polyglot_notebook": {
     "kernelName": "csharp"
    },
    "vscode": {
     "languageId": "polyglot-notebook"
    }
   },
   "outputs": [],
   "source": [
    "using Qdrant.Client;\n",
    "using Qdrant.Client.Grpc;"
   ]
  },
  {
   "cell_type": "code",
   "execution_count": 13,
   "metadata": {
    "dotnet_interactive": {
     "language": "csharp"
    },
    "polyglot_notebook": {
     "kernelName": "csharp"
    },
    "vscode": {
     "languageId": "polyglot-notebook"
    }
   },
   "outputs": [],
   "source": [
    "var qdrantClient = new QdrantClient(host: \"localhost\",port: 6334,https:false);"
   ]
  },
  {
   "cell_type": "markdown",
   "metadata": {},
   "source": [
    "### Create collection "
   ]
  },
  {
   "cell_type": "code",
   "execution_count": null,
   "metadata": {
    "dotnet_interactive": {
     "language": "csharp"
    },
    "polyglot_notebook": {
     "kernelName": "csharp"
    },
    "vscode": {
     "languageId": "polyglot-notebook"
    }
   },
   "outputs": [],
   "source": [
    "await qdrantClient.CreateCollectionAsync(\"wikipediawinterolympics2022\", new VectorParams { Size=1536, Distance=Distance.Cosine});"
   ]
  },
  {
   "cell_type": "code",
   "execution_count": 16,
   "metadata": {
    "dotnet_interactive": {
     "language": "csharp"
    },
    "polyglot_notebook": {
     "kernelName": "csharp"
    },
    "vscode": {
     "languageId": "polyglot-notebook"
    }
   },
   "outputs": [],
   "source": [
    "var points = \n",
    "    olympicsData\n",
    "        .Select((x,i) =>{\n",
    "        var point = new PointStruct\n",
    "        {\n",
    "            Id = new PointId { Num = (ulong)i },\n",
    "            Vectors = x.Embedding,\n",
    "             Payload = \n",
    "            {\n",
    "                [\"text\"] = x.Block,\n",
    "                [\"title\"] = x.PageTitle\n",
    "            }\n",
    "        };\n",
    "        return point;\n",
    "}).ToList();\n"
   ]
  },
  {
   "cell_type": "markdown",
   "metadata": {},
   "source": [
    "### Persist data"
   ]
  },
  {
   "cell_type": "code",
   "execution_count": 17,
   "metadata": {
    "dotnet_interactive": {
     "language": "csharp"
    },
    "polyglot_notebook": {
     "kernelName": "csharp"
    },
    "vscode": {
     "languageId": "polyglot-notebook"
    }
   },
   "outputs": [],
   "source": [
    "await qdrantClient.UpsertAsync(\"wikipediawinterolympics2022\",points);"
   ]
  },
  {
   "cell_type": "markdown",
   "metadata": {},
   "source": [
    " ## 2. Search\n",
    "    \n",
    " \n",
    " Now we'll define a search function that:\n",
    " - Takes a user query and a dataframe with text & embedding columns\n",
    " - Embeds the user query with the OpenAI API\n",
    " - Uses distance between query embedding and text embeddings to rank the texts\n",
    " - Returns two lists:\n",
    "    - The top N texts, ranked by relevance\n",
    "    - Their corresponding relevance scores"
   ]
  },
  {
   "cell_type": "markdown",
   "metadata": {},
   "source": [
    "### Define search function\n",
    "\n",
    "- Generates embeddings for user query\n",
    "- Builds query parameters for Milvus search client to extract the page_name and content_block fields\n",
    "- Run search\n",
    "- Transform search results into an `IEnumerable<SearchResult>`"
   ]
  },
  {
   "cell_type": "code",
   "execution_count": 19,
   "metadata": {
    "dotnet_interactive": {
     "language": "csharp"
    },
    "polyglot_notebook": {
     "kernelName": "csharp"
    },
    "vscode": {
     "languageId": "polyglot-notebook"
    }
   },
   "outputs": [],
   "source": [
    "public record SearchResult(string PageTitle, string Text, float Score);\n",
    "\n",
    "public async Task<IEnumerable<SearchResult>> SearchAsync(string query, int resultCount = 5){\n",
    "    var response = await client.GetEmbeddingsAsync(new EmbeddingsOptions(embeddingDeployment, new []{query}));\n",
    "    var queryEmbedding = response.Value.Data[0].Embedding.ToArray();\n",
    "\n",
    "    var results = await qdrantClient.SearchAsync(\"wikipediawinterolympics2022\",queryEmbedding, limit:(ulong)resultCount);\n",
    "   \n",
    "    return results.Select(x => new SearchResult(x.Payload[\"title\"].ToString(), x.Payload[\"text\"].ToString(), x.Score));\n",
    "}"
   ]
  },
  {
   "cell_type": "markdown",
   "metadata": {},
   "source": [
    "### Use `SearchAsync` to search the data"
   ]
  },
  {
   "cell_type": "code",
   "execution_count": 20,
   "metadata": {
    "dotnet_interactive": {
     "language": "csharp"
    },
    "polyglot_notebook": {
     "kernelName": "csharp"
    },
    "vscode": {
     "languageId": "polyglot-notebook"
    }
   },
   "outputs": [
    {
     "data": {
      "text/csv": [
       "PageTitle,Text,Score\r\n",
       "\"{ \"\"stringValue\"\": \"\"2022 Winter Olympics medal table\"\" }\",\"{ \"\"stringValue\"\": \"\"Two bronze medals were awarded to Daniela Maier and Fanny Smith for a third-place tie in the freestyle women's ski cross event following a decision by the Court of Arbitration for Sport.{{cite web|url=https://www.tas-cas.org/fileadmin/user_upload/CAS_Media_Release_8741.pdf|title=Court of Arbitration for Sport Media Release|access-date=13 December 2022|publisher=[[Court of Arbitration for Sport]]|date=13 December 2022|archive-date=13 December 2022|archive-url=https://web.archive.org/web/20221213171856/https://www.tas-cas.org/fileadmin/user_upload/CAS_Media_Release_8741.pdf|url-status=live}}\"\" }\",0.84077513\r\n",
       "\"{ \"\"stringValue\"\": \"\"2022 Winter Olympics medal table\"\" }\",\"{ \"\"stringValue\"\": \"\"Biathletes Johannes Thingnes Bø, Quentin Fillon Maillet, and Marte Olsbu Røiseland, and cross-country skier Alexander Bolshunov won the most total medals at the games with five each.{{cite web |title=Beijing 2022 |url=https://www.teamgb.com/competitions/beijing-2022/6dWdXrzU85Vn1jF6ZC9Onl |publisher=[[British Olympic Association]] |access-date=26 February 2022 |archive-date=18 March 2022 |archive-url=https://web.archive.org/web/20220318145104/https://www.teamgb.com/competitions/beijing-2022/6dWdXrzU85Vn1jF6ZC9Onl |url-status=live }} Bø also earned the most gold medals with four.{{cite news |author=[[Agence France-Presse]] |title=Norwegian Biathlete Boe Gets Fourth Beijing Olympics Gold Medal |url=https://www.barrons.com/news/norwegian-biathlete-boe-gets-fourth-beijing-olympics-gold-medal-01645189808 |access-date=27 March 2022 |work=[[Barron's (newspaper)|Barron's]] |date=18 February 2022 |archive-date=22 February 2023 |archive-url=https://web.archive.org/web/20230222200651/https://www.barrons.com/news/norwegian-biathlete-boe-gets-fourth-beijing-olympics-gold-medal-01645189808 |url-status=live }} Snowboarder Zoi Sadowski-Synnott of New Zealand won the first Winter Olympic gold medal for that nation.{{cite news |first1=Bryan Armen |last1=Graham |title=Zoi Sadowski-Synnott Wins New Zealand's First Ever Winter Olympic Gold |url=https://www.theguardian.com/sport/2022/feb/05/zoi-sadowski-synnott-new-zealand-first-winter-olympic-gold-snowboard-beijing-2022-tess-coady |access-date=12 July 2022 |work=[[The Guardian]] |date=5 February 2022 |archive-date=26 February 2022 |archive-url=https://web.archive.org/web/20220226175310/https://www.theguardian.com/sport/2022/feb/05/zoi-sadowski-synnott-new-zealand-first-winter-olympic-gold-snowboard-beijing-2022-tess-coady |url-status=live }} Germany achieved a podium sweep in the men's two-man bobsleigh competition with Francesco Friedrich and Thorsten Margis\\twinning gold, Johannes Lochner and Florian Bauer earning silver, and Christoph Hafer and Matthias Sommer attaining bronze.{{cite news |last1=Levinsohn |first1=Dan |title=Germany Sweeps Two-Man Bobsled Podium with Friedrich, Lochner, Hafer |url=https://www.nbcolympics.com/news/recap-two-man-final-heats |access-date=19 February 2022 |agency=[[NBC Sports]] |date=15 February 2022 |archive-date=19 March 2023 |archive-url=https://web.archive.org/web/20230319113128/https://www.nbcolympics.com/news/recap-two-man-final-heats |url-status=live }}\"\" }\",0.8386181\r\n",
       "\"{ \"\"stringValue\"\": \"\"2022 Winter Olympics\"\" }\",\"{ \"\"stringValue\"\": \"\"thumb|Medals of 2022 Winter Olympics\\n\\nNorway finished at the top of the medal table for the second successive Winter Olympics, winning a total of 37 medals, of which 16 were gold, setting a new record for the largest number of gold medals won at a single Winter Olympics. Germany finished second with 12 golds and 27 medals overall, and the host nation China finished third with nine gold medals, marking their most successful performance in Winter Olympics history. The team representing the ROC ended up with the second largest number of medals won at the Games, with 32, but finished ninth on the medal table, as only six gold medals were won by the delegation. Traditional Winter powerhouse Canada; despite having won 26 medals, only four of them were gold, resulting in a finish outside the top ten in the medal table for the first time since 1988 (34 years).{{cite news|first=Spencer|last=Donna|url=https://www.cbc.ca/sports/olympics/winter/beijing-2022-team-canada-wrap-1.6358707|title=Canada caps COVID Olympic Winter Games in Beijing with 26 medals, including 4 gold|agency=[[Canadian Press]]|date=20 February 2022|website=www.cbc.ca/|publisher=[[CBC Sports]]|access-date=22 February 2022|archive-date=19 March 2023|archive-url=https://web.archive.org/web/20230319113124/https://www.cbc.ca/sports/olympics/winter/beijing-2022-team-canada-wrap-1.6358707|url-status=live}}{{cite news|date=20 February 2022|title=Canada finish outside medals top 10 for first time in 34 years|url=https://en.as.com/en/2022/02/20/olympic_games/1645368256_325990.html|work=[[Diario AS]]|location=Madrid, Spain|access-date=22 February 2022|archive-date=19 March 2023|archive-url=https://web.archive.org/web/20230319113119/https://en.as.com/en/2022/02/20/olympic_games/1645368256_325990.html|url-status=live}}\"\" }\",0.8366933\r\n"
      ],
      "text/html": [
       "<table><thead><tr><td><span>PageTitle</span></td><td><span>Text</span></td><td><span>Score</span></td></tr></thead><tbody><tr><td>{ &quot;stringValue&quot;: &quot;2022 Winter Olympics medal table&quot; }</td><td>{ &quot;stringValue&quot;: &quot;Two bronze medals were awarded to Daniela Maier and Fanny Smith for a third-place tie in the freestyle women&#39;s ski cross event following a decision by the Court of Arbitration for Sport.{{cite web|url=https://www.tas-cas.org/fileadmin/user_upload/CAS_Media_Release_8741.pdf|title=Court of Arbitration for Sport Media Release|access-date=13 December 2022|publisher=[[Court of Arbitration for Sport]]|date=13 December 2022|archive-date=13 December 2022|archive-url=https://web.archive.org/web/20221213171856/https://www.tas-cas.org/fileadmin/user_upload/CAS_Media_Release_8741.pdf|url-status=live}}&quot; }</td><td><div class=\"dni-plaintext\"><pre>0.84077513</pre></div></td></tr><tr><td>{ &quot;stringValue&quot;: &quot;2022 Winter Olympics medal table&quot; }</td><td>{ &quot;stringValue&quot;: &quot;Biathletes Johannes Thingnes B&#248;, Quentin Fillon Maillet, and Marte Olsbu R&#248;iseland, and cross-country skier Alexander Bolshunov won the most total medals at the games with five each.{{cite web |title=Beijing 2022 |url=https://www.teamgb.com/competitions/beijing-2022/6dWdXrzU85Vn1jF6ZC9Onl |publisher=[[British Olympic Association]] |access-date=26 February 2022 |archive-date=18 March 2022 |archive-url=https://web.archive.org/web/20220318145104/https://www.teamgb.com/competitions/beijing-2022/6dWdXrzU85Vn1jF6ZC9Onl |url-status=live }} B&#248; also earned the most gold medals with four.{{cite news |author=[[Agence France-Presse]] |title=Norwegian Biathlete Boe Gets Fourth Beijing Olympics Gold Medal |url=https://www.barrons.com/news/norwegian-biathlete-boe-gets-fourth-beijing-olympics-gold-medal-01645189808 |access-date=27 March 2022 |work=[[Barron&#39;s (newspaper)|Barron&#39;s]] |date=18 February 2022 |archive-date=22 February 2023 |archive-url=https://web.archive.org/web/20230222200651/https://www.barrons.com/news/norwegian-biathlete-boe-gets-fourth-beijing-olympics-gold-medal-01645189808 |url-status=live }} Snowboarder Zoi Sadowski-Synnott of New Zealand won the first Winter Olympic gold medal for that nation.{{cite news |first1=Bryan Armen |last1=Graham |title=Zoi Sadowski-Synnott Wins New Zealand&#39;s First Ever Winter Olympic Gold |url=https://www.theguardian.com/sport/2022/feb/05/zoi-sadowski-synnott-new-zealand-first-winter-olympic-gold-snowboard-beijing-2022-tess-coady |access-date=12 July 2022 |work=[[The Guardian]] |date=5 February 2022 |archive-date=26 February 2022 |archive-url=https://web.archive.org/web/20220226175310/https://www.theguardian.com/sport/2022/feb/05/zoi-sadowski-synnott-new-zealand-first-winter-olympic-gold-snowboard-beijing-2022-tess-coady |url-status=live }} Germany achieved a podium sweep in the men&#39;s two-man bobsleigh competition with Francesco Friedrich and Thorsten Margis\\twinning gold, Johannes Lochner and Florian Bauer earning silver, and Christoph Hafer and Matthias Sommer attaining bronze.{{cite news |last1=Levinsohn |first1=Dan |title=Germany Sweeps Two-Man Bobsled Podium with Friedrich, Lochner, Hafer |url=https://www.nbcolympics.com/news/recap-two-man-final-heats |access-date=19 February 2022 |agency=[[NBC Sports]] |date=15 February 2022 |archive-date=19 March 2023 |archive-url=https://web.archive.org/web/20230319113128/https://www.nbcolympics.com/news/recap-two-man-final-heats |url-status=live }}&quot; }</td><td><div class=\"dni-plaintext\"><pre>0.8386181</pre></div></td></tr><tr><td>{ &quot;stringValue&quot;: &quot;2022 Winter Olympics&quot; }</td><td>{ &quot;stringValue&quot;: &quot;thumb|Medals of 2022 Winter Olympics\\n\\nNorway finished at the top of the medal table for the second successive Winter Olympics, winning a total of 37 medals, of which 16 were gold, setting a new record for the largest number of gold medals won at a single Winter Olympics. Germany finished second with 12 golds and 27 medals overall, and the host nation China finished third with nine gold medals, marking their most successful performance in Winter Olympics history. The team representing the ROC ended up with the second largest number of medals won at the Games, with 32, but finished ninth on the medal table, as only six gold medals were won by the delegation. Traditional Winter powerhouse Canada; despite having won 26 medals, only four of them were gold, resulting in a finish outside the top ten in the medal table for the first time since 1988 (34 years).{{cite news|first=Spencer|last=Donna|url=https://www.cbc.ca/sports/olympics/winter/beijing-2022-team-canada-wrap-1.6358707|title=Canada caps COVID Olympic Winter Games in Beijing with 26 medals, including 4 gold|agency=[[Canadian Press]]|date=20 February 2022|website=www.cbc.ca/|publisher=[[CBC Sports]]|access-date=22 February 2022|archive-date=19 March 2023|archive-url=https://web.archive.org/web/20230319113124/https://www.cbc.ca/sports/olympics/winter/beijing-2022-team-canada-wrap-1.6358707|url-status=live}}{{cite news|date=20 February 2022|title=Canada finish outside medals top 10 for first time in 34 years|url=https://en.as.com/en/2022/02/20/olympic_games/1645368256_325990.html|work=[[Diario AS]]|location=Madrid, Spain|access-date=22 February 2022|archive-date=19 March 2023|archive-url=https://web.archive.org/web/20230319113119/https://en.as.com/en/2022/02/20/olympic_games/1645368256_325990.html|url-status=live}}&quot; }</td><td><div class=\"dni-plaintext\"><pre>0.8366933</pre></div></td></tr></tbody></table><style>\r\n",
       ".dni-code-hint {\r\n",
       "    font-style: italic;\r\n",
       "    overflow: hidden;\r\n",
       "    white-space: nowrap;\r\n",
       "}\r\n",
       ".dni-treeview {\r\n",
       "    white-space: nowrap;\r\n",
       "}\r\n",
       ".dni-treeview td {\r\n",
       "    vertical-align: top;\r\n",
       "    text-align: start;\r\n",
       "}\r\n",
       "details.dni-treeview {\r\n",
       "    padding-left: 1em;\r\n",
       "}\r\n",
       "table td {\r\n",
       "    text-align: start;\r\n",
       "}\r\n",
       "table tr { \r\n",
       "    vertical-align: top; \r\n",
       "    margin: 0em 0px;\r\n",
       "}\r\n",
       "table tr td pre \r\n",
       "{ \r\n",
       "    vertical-align: top !important; \r\n",
       "    margin: 0em 0px !important;\r\n",
       "} \r\n",
       "table th {\r\n",
       "    text-align: start;\r\n",
       "}\r\n",
       "</style>"
      ]
     },
     "metadata": {},
     "output_type": "display_data"
    }
   ],
   "source": [
    "var search = await SearchAsync(\"curling gold medal\", 3);\n",
    "\n",
    "search.DisplayTable();"
   ]
  },
  {
   "cell_type": "markdown",
   "metadata": {},
   "source": [
    "## 3.Ask\n",
    "With the search function above, we can now automatically retrieve relevant knowledge and insert it into messages to GPT.\n",
    "\n",
    "Below, we define a function `AskAsync` that:\n",
    "\n",
    " - Takes a user query\n",
    " - Searches for text relevant to the query\n",
    " - Stuffs that text into a message for GPT\n",
    " - Sends the message to GPT\n",
    " - Returns GPT's answer"
   ]
  },
  {
   "cell_type": "code",
   "execution_count": 21,
   "metadata": {
    "dotnet_interactive": {
     "language": "csharp"
    },
    "polyglot_notebook": {
     "kernelName": "csharp"
    },
    "vscode": {
     "languageId": "polyglot-notebook"
    }
   },
   "outputs": [],
   "source": [
    "var tokenizer = await Tokenizer.CreateAsync(TokenizerModel.gpt35);\n",
    "\n",
    "public async Task<string> AskAsync(string question){\n",
    "\n",
    "    var searchResults = await SearchAsync(question, 3);\n",
    "\n",
    "    var articles = string.Join(\"\\n\", searchResults.Select(s => $\"\"\"\n",
    "    Wikipedia article section:\n",
    "    {s.Text}\n",
    "\n",
    "    \"\"\"));\n",
    "\n",
    "    var userQuestion = $\"\"\"\"\"\n",
    "                Use the below articles on the 2022 Winter Olympics to answer the subsequent question. If the answer cannot be found in the articles, write \"I could not find an answer.\"\n",
    "                \n",
    "                {articles}\n",
    "                \n",
    "                Question: {question}\n",
    "                \"\"\"\"\";\n",
    "\n",
    "    var options= new ChatCompletionsOptions{\n",
    "        Messages =\n",
    "            {\n",
    "                new ChatRequestSystemMessage(@\"You answer questions about the 2022 Winter Olympics.\"),\n",
    "                new ChatRequestUserMessage(userQuestion)\n",
    "            },\n",
    "        Temperature = 0f,\n",
    "        MaxTokens = 3500,\n",
    "        DeploymentName = chatDeployment\n",
    "    };\n",
    "\n",
    "    var response = await client.GetChatCompletionsAsync(options);\n",
    "\n",
    "    var answer = response.Value.Choices.FirstOrDefault()?.Message?.Content;  \n",
    "    return answer;\n",
    "}"
   ]
  },
  {
   "cell_type": "code",
   "execution_count": 22,
   "metadata": {
    "dotnet_interactive": {
     "language": "csharp"
    },
    "polyglot_notebook": {
     "kernelName": "csharp"
    },
    "vscode": {
     "languageId": "polyglot-notebook"
    }
   },
   "outputs": [
    {
     "data": {
      "text/plain": [
       "The athletes from Norway won a total of 16 gold medals at the 2022 Winter Olympics."
      ]
     },
     "metadata": {},
     "output_type": "display_data"
    }
   ],
   "source": [
    "await AskAsync(\"How many gold medals in total?\")"
   ]
  },
  {
   "cell_type": "code",
   "execution_count": 23,
   "metadata": {
    "dotnet_interactive": {
     "language": "csharp"
    },
    "polyglot_notebook": {
     "kernelName": "csharp"
    },
    "vscode": {
     "languageId": "polyglot-notebook"
    }
   },
   "outputs": [
    {
     "data": {
      "text/plain": [
       "The 2022 Winter Olympics took place in Beijing, China."
      ]
     },
     "metadata": {},
     "output_type": "display_data"
    }
   ],
   "source": [
    "await AskAsync(\"Where did the 2022 winter Olympics took place?\")"
   ]
  }
 ],
 "metadata": {
  "language_info": {
   "name": "csharp"
  },
  "orig_nbformat": 4
 },
 "nbformat": 4,
 "nbformat_minor": 2
}
