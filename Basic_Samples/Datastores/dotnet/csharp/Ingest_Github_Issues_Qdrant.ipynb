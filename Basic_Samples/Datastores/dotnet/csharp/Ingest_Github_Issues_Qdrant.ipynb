{
 "cells": [
  {
   "cell_type": "markdown",
   "metadata": {},
   "source": [
    "# Ingest GitHub Issues into Qdrant\n",
    "\n",
    "This sample shows how to get started loading and querying dotnet/runtime repo GitHub issue embeddings using Azure OpenAI and the Qdrant SDK"
   ]
  },
  {
   "cell_type": "markdown",
   "metadata": {},
   "source": [
    "## Install packages"
   ]
  },
  {
   "cell_type": "code",
   "execution_count": 1,
   "metadata": {
    "dotnet_interactive": {
     "language": "csharp"
    },
    "polyglot_notebook": {
     "kernelName": "csharp"
    },
    "vscode": {
     "languageId": "polyglot-notebook"
    }
   },
   "outputs": [
    {
     "data": {
      "text/html": [
       "<div><div></div><div></div><div><strong>Installed Packages</strong><ul><li><span>Azure.AI.OpenAI, 1.0.0-beta.14</span></li><li><span>Qdrant.Client, 1.6.0-alpha.1</span></li></ul></div></div>"
      ]
     },
     "metadata": {},
     "output_type": "display_data"
    }
   ],
   "source": [
    "#r \"nuget: Azure.AI.OpenAI, 1.0.0-beta.14\"\n",
    "#r \"nuget: Qdrant.Client, 1.6.0-alpha.1\""
   ]
  },
  {
   "cell_type": "code",
   "execution_count": 2,
   "metadata": {
    "dotnet_interactive": {
     "language": "csharp"
    },
    "polyglot_notebook": {
     "kernelName": "csharp"
    },
    "vscode": {
     "languageId": "polyglot-notebook"
    }
   },
   "outputs": [
    {
     "data": {
      "text/html": [
       "<div><div></div><div></div><div><strong>Installed Packages</strong><ul><li><span>Octokit, 9.0.0</span></li><li><span>Octokit.Reactive, 9.0.0</span></li></ul></div></div>"
      ]
     },
     "metadata": {},
     "output_type": "display_data"
    }
   ],
   "source": [
    "#r \"nuget: Octokit, 9.0.0\"\n",
    "#r \"nuget: Octokit.Reactive, 9.0.0\""
   ]
  },
  {
   "cell_type": "code",
   "execution_count": null,
   "metadata": {
    "dotnet_interactive": {
     "language": "csharp"
    },
    "polyglot_notebook": {
     "kernelName": "csharp"
    },
    "vscode": {
     "languageId": "polyglot-notebook"
    }
   },
   "outputs": [],
   "source": [
    "#r \"nuget:Microsoft.DotNet.Interactive.AIUtilities, 1.0.0-beta.24129.1\""
   ]
  },
  {
   "cell_type": "markdown",
   "metadata": {},
   "source": [
    "## Add using statements"
   ]
  },
  {
   "cell_type": "code",
   "execution_count": 4,
   "metadata": {
    "dotnet_interactive": {
     "language": "csharp"
    },
    "polyglot_notebook": {
     "kernelName": "csharp"
    },
    "vscode": {
     "languageId": "polyglot-notebook"
    }
   },
   "outputs": [],
   "source": [
    "using Azure;\n",
    "using Azure.AI.OpenAI;\n",
    "using Microsoft.DotNet.Interactive;\n",
    "using Microsoft.DotNet.Interactive.AIUtilities;\n",
    "using Octokit;"
   ]
  },
  {
   "cell_type": "markdown",
   "metadata": {},
   "source": [
    "## Configure Azure OpenAI credentials"
   ]
  },
  {
   "cell_type": "code",
   "execution_count": 6,
   "metadata": {
    "dotnet_interactive": {
     "language": "csharp"
    },
    "polyglot_notebook": {
     "kernelName": "csharp"
    },
    "vscode": {
     "languageId": "polyglot-notebook"
    }
   },
   "outputs": [],
   "source": [
    "var azureOpenAIKey = await Kernel.GetPasswordAsync(\"Provide your OPEN_AI_KEY\");\n",
    "var azureOpenAIEndpoint = await Kernel.GetInputAsync(\"Provide the OPEN_AI_ENDPOINT\");\n",
    "var embeddingDeployment = await Kernel.GetInputAsync(\"Provide embedding name\");"
   ]
  },
  {
   "cell_type": "markdown",
   "metadata": {},
   "source": [
    "## Configure GitHub credentials \n",
    "\n",
    "You will need access token with rights to query and update issues."
   ]
  },
  {
   "cell_type": "code",
   "execution_count": 38,
   "metadata": {
    "dotnet_interactive": {
     "language": "csharp"
    },
    "polyglot_notebook": {
     "kernelName": "csharp"
    },
    "vscode": {
     "languageId": "polyglot-notebook"
    }
   },
   "outputs": [],
   "source": [
    "var githubKey = await Kernel.GetPasswordAsync(\"Provide your Github api key\");\n",
    "var repoName = await Kernel.GetInputAsync(\"Provide repo\");\n",
    "var org = await Kernel.GetInputAsync(\"Provide org\");"
   ]
  },
  {
   "cell_type": "markdown",
   "metadata": {},
   "source": [
    "## Configure OpenAI client"
   ]
  },
  {
   "cell_type": "code",
   "execution_count": 39,
   "metadata": {
    "dotnet_interactive": {
     "language": "csharp"
    },
    "polyglot_notebook": {
     "kernelName": "csharp"
    },
    "vscode": {
     "languageId": "polyglot-notebook"
    }
   },
   "outputs": [],
   "source": [
    "OpenAIClient openAIClient = new (new System.Uri(azureOpenAIEndpoint), new AzureKeyCredential(azureOpenAIKey.GetClearTextPassword()));"
   ]
  },
  {
   "cell_type": "markdown",
   "metadata": {},
   "source": [
    "## Configure GitHub client"
   ]
  },
  {
   "cell_type": "code",
   "execution_count": 40,
   "metadata": {
    "dotnet_interactive": {
     "language": "csharp"
    },
    "polyglot_notebook": {
     "kernelName": "csharp"
    },
    "vscode": {
     "languageId": "polyglot-notebook"
    }
   },
   "outputs": [
    {
     "name": "stdout",
     "output_type": "stream",
     "text": [
      "Using GitHub API token\r\n"
     ]
    }
   ],
   "source": [
    "var options = new ApiOptions();\n",
    "var gitHubClient = new GitHubClient(new ProductHeaderValue(\"notebook\"));\n",
    "\n",
    "if (!string.IsNullOrEmpty(githubKey.GetClearTextPassword())) {\n",
    "    Console.WriteLine(\"Using GitHub API token\");\n",
    "    var tokenAuth = new Credentials(githubKey.GetClearTextPassword());\n",
    "    gitHubClient.Credentials = tokenAuth;\n",
    "} else {\n",
    "    Console.WriteLine(\"Using anonymous GitHub API\");\n",
    "}"
   ]
  },
  {
   "cell_type": "markdown",
   "metadata": {},
   "source": [
    "## Download data from GitHub"
   ]
  },
  {
   "cell_type": "markdown",
   "metadata": {},
   "source": [
    "### Get labels from the repository"
   ]
  },
  {
   "cell_type": "code",
   "execution_count": 41,
   "metadata": {
    "dotnet_interactive": {
     "language": "csharp"
    },
    "polyglot_notebook": {
     "kernelName": "csharp"
    },
    "vscode": {
     "languageId": "polyglot-notebook"
    }
   },
   "outputs": [],
   "source": [
    "var allLabels = await gitHubClient.Issue.Labels.GetAllForRepository(org, repoName);"
   ]
  },
  {
   "cell_type": "code",
   "execution_count": 42,
   "metadata": {
    "dotnet_interactive": {
     "language": "csharp"
    },
    "polyglot_notebook": {
     "kernelName": "csharp"
    },
    "vscode": {
     "languageId": "polyglot-notebook"
    }
   },
   "outputs": [],
   "source": [
    "var areaLabels = allLabels.Where(label => label.Name.StartsWith(\"area-\", StringComparison.OrdinalIgnoreCase)).ToList();"
   ]
  },
  {
   "cell_type": "markdown",
   "metadata": {},
   "source": [
    "### Get all issues from the repository"
   ]
  },
  {
   "cell_type": "code",
   "execution_count": 43,
   "metadata": {
    "dotnet_interactive": {
     "language": "csharp"
    },
    "polyglot_notebook": {
     "kernelName": "csharp"
    },
    "vscode": {
     "languageId": "polyglot-notebook"
    }
   },
   "outputs": [],
   "source": [
    "var allIssues = new List<Issue>();"
   ]
  },
  {
   "cell_type": "code",
   "execution_count": 44,
   "metadata": {
    "dotnet_interactive": {
     "language": "csharp"
    },
    "polyglot_notebook": {
     "kernelName": "csharp"
    },
    "vscode": {
     "languageId": "polyglot-notebook"
    }
   },
   "outputs": [],
   "source": [
    "foreach(var label in areaLabels)\n",
    "{\n",
    "    var request = new RepositoryIssueRequest\n",
    "    {\n",
    "        Filter = IssueFilter.All\n",
    "    };\n",
    "    \n",
    "    request.Labels.Add(label.Name);\n",
    "\n",
    "    var apiOptions = new ApiOptions\n",
    "    {\n",
    "        PageSize = 50,\n",
    "        PageCount = 1\n",
    "    };\n",
    "\n",
    "    var issues = await gitHubClient.Issue.GetAllForRepository(org, repoName, request, apiOptions);\n",
    "    \n",
    "    allIssues.AddRange(issues);\n",
    "}"
   ]
  },
  {
   "cell_type": "code",
   "execution_count": 45,
   "metadata": {
    "dotnet_interactive": {
     "language": "csharp"
    },
    "polyglot_notebook": {
     "kernelName": "csharp"
    },
    "vscode": {
     "languageId": "polyglot-notebook"
    }
   },
   "outputs": [
    {
     "data": {
      "text/html": [
       "<div class=\"dni-plaintext\"><pre>4138</pre></div><style>\r\n",
       ".dni-code-hint {\r\n",
       "    font-style: italic;\r\n",
       "    overflow: hidden;\r\n",
       "    white-space: nowrap;\r\n",
       "}\r\n",
       ".dni-treeview {\r\n",
       "    white-space: nowrap;\r\n",
       "}\r\n",
       ".dni-treeview td {\r\n",
       "    vertical-align: top;\r\n",
       "    text-align: start;\r\n",
       "}\r\n",
       "details.dni-treeview {\r\n",
       "    padding-left: 1em;\r\n",
       "}\r\n",
       "table td {\r\n",
       "    text-align: start;\r\n",
       "}\r\n",
       "table tr { \r\n",
       "    vertical-align: top; \r\n",
       "    margin: 0em 0px;\r\n",
       "}\r\n",
       "table tr td pre \r\n",
       "{ \r\n",
       "    vertical-align: top !important; \r\n",
       "    margin: 0em 0px !important;\r\n",
       "} \r\n",
       "table th {\r\n",
       "    text-align: start;\r\n",
       "}\r\n",
       "</style>"
      ]
     },
     "metadata": {},
     "output_type": "display_data"
    }
   ],
   "source": [
    "allIssues.Count()"
   ]
  },
  {
   "cell_type": "code",
   "execution_count": 46,
   "metadata": {
    "dotnet_interactive": {
     "language": "csharp"
    },
    "polyglot_notebook": {
     "kernelName": "csharp"
    },
    "vscode": {
     "languageId": "polyglot-notebook"
    }
   },
   "outputs": [],
   "source": [
    "public record GitHubIssue(string Title, string Text, string Area, string Url);"
   ]
  },
  {
   "cell_type": "code",
   "execution_count": 66,
   "metadata": {
    "dotnet_interactive": {
     "language": "csharp"
    },
    "polyglot_notebook": {
     "kernelName": "csharp"
    },
    "vscode": {
     "languageId": "polyglot-notebook"
    }
   },
   "outputs": [],
   "source": [
    "var dataCollection = \n",
    "    allIssues\n",
    "        .DistinctBy(issue => issue.Id)\n",
    "        .Select(issue => \n",
    "            new GitHubIssue(\n",
    "                issue.Title,\n",
    "                issue.Body,\n",
    "                issue.Labels?.Where(l => \n",
    "                    l.Name.StartsWith(\"area-\",StringComparison.OrdinalIgnoreCase))\n",
    "                        .FirstOrDefault()?\n",
    "                        .Name?\n",
    "                        .Replace(\"area-\",string.Empty)?\n",
    "                        .Replace(\"-\",\" \"),\n",
    "                issue.HtmlUrl));"
   ]
  },
  {
   "cell_type": "markdown",
   "metadata": {},
   "source": [
    "## Helper functions to save and load to disk"
   ]
  },
  {
   "cell_type": "code",
   "execution_count": 48,
   "metadata": {
    "dotnet_interactive": {
     "language": "csharp"
    },
    "polyglot_notebook": {
     "kernelName": "csharp"
    },
    "vscode": {
     "languageId": "polyglot-notebook"
    }
   },
   "outputs": [],
   "source": [
    "using System.IO;\n",
    "using System.Text.Json;\n",
    "using System.Text.Json.Serialization;\n",
    "\n",
    "public async Task SaveIssuesToFileAsync(IEnumerable<GitHubIssue> data, string fileName)\n",
    "{ \n",
    "    var filePath = Path.Combine(\"..\",\"..\",\"..\",\"Data\",fileName);\n",
    "    var issuesJson = JsonSerializer.Serialize(data,new JsonSerializerOptions(JsonSerializerOptions.Default){WriteIndented=true});\n",
    "    await File.WriteAllTextAsync(filePath, issuesJson);\n",
    "}\n",
    "\n",
    "public async Task<GitHubIssue[]> LoadIssuesFromFileAsync(string fileName)\n",
    "{\n",
    "    var filePath = Path.Combine(\"..\",\"..\",\"..\",\"Data\",fileName);\n",
    "    var text = await File.ReadAllTextAsync(filePath);\n",
    "    return JsonSerializer.Deserialize<GitHubIssue[]>(text);\n",
    "}"
   ]
  },
  {
   "cell_type": "code",
   "execution_count": 67,
   "metadata": {
    "dotnet_interactive": {
     "language": "csharp"
    },
    "polyglot_notebook": {
     "kernelName": "csharp"
    },
    "vscode": {
     "languageId": "polyglot-notebook"
    }
   },
   "outputs": [],
   "source": [
    "await SaveIssuesToFileAsync(dataCollection, \"issues.json\");"
   ]
  },
  {
   "cell_type": "markdown",
   "metadata": {},
   "source": [
    "## Naive Search"
   ]
  },
  {
   "cell_type": "code",
   "execution_count": 68,
   "metadata": {
    "dotnet_interactive": {
     "language": "csharp"
    },
    "polyglot_notebook": {
     "kernelName": "csharp"
    },
    "vscode": {
     "languageId": "polyglot-notebook"
    }
   },
   "outputs": [],
   "source": [
    "var dataCollection = await LoadIssuesFromFileAsync(\"issues.json\");"
   ]
  },
  {
   "cell_type": "code",
   "execution_count": 69,
   "metadata": {
    "dotnet_interactive": {
     "language": "csharp"
    },
    "polyglot_notebook": {
     "kernelName": "csharp"
    },
    "vscode": {
     "languageId": "polyglot-notebook"
    }
   },
   "outputs": [
    {
     "data": {
      "text/html": [
       "<div class=\"dni-plaintext\"><pre>4127</pre></div><style>\r\n",
       ".dni-code-hint {\r\n",
       "    font-style: italic;\r\n",
       "    overflow: hidden;\r\n",
       "    white-space: nowrap;\r\n",
       "}\r\n",
       ".dni-treeview {\r\n",
       "    white-space: nowrap;\r\n",
       "}\r\n",
       ".dni-treeview td {\r\n",
       "    vertical-align: top;\r\n",
       "    text-align: start;\r\n",
       "}\r\n",
       "details.dni-treeview {\r\n",
       "    padding-left: 1em;\r\n",
       "}\r\n",
       "table td {\r\n",
       "    text-align: start;\r\n",
       "}\r\n",
       "table tr { \r\n",
       "    vertical-align: top; \r\n",
       "    margin: 0em 0px;\r\n",
       "}\r\n",
       "table tr td pre \r\n",
       "{ \r\n",
       "    vertical-align: top !important; \r\n",
       "    margin: 0em 0px !important;\r\n",
       "} \r\n",
       "table th {\r\n",
       "    text-align: start;\r\n",
       "}\r\n",
       "</style>"
      ]
     },
     "metadata": {},
     "output_type": "display_data"
    }
   ],
   "source": [
    "dataCollection.Count()"
   ]
  },
  {
   "cell_type": "code",
   "execution_count": 70,
   "metadata": {
    "dotnet_interactive": {
     "language": "csharp"
    },
    "polyglot_notebook": {
     "kernelName": "csharp"
    },
    "vscode": {
     "languageId": "polyglot-notebook"
    }
   },
   "outputs": [],
   "source": [
    "public string[] NaiveSearch(string query, IEnumerable<GitHubIssue> data,int resultLimit = 1)\n",
    "{\n",
    "    return data\n",
    "            .Where(d => d.Text?.Contains(query)==true)\n",
    "            .Select(d => d.Text)\n",
    "            .Take(resultLimit)\n",
    "            .ToArray();\n",
    "}"
   ]
  },
  {
   "cell_type": "code",
   "execution_count": 71,
   "metadata": {
    "dotnet_interactive": {
     "language": "csharp"
    },
    "polyglot_notebook": {
     "kernelName": "csharp"
    },
    "vscode": {
     "languageId": "polyglot-notebook"
    }
   },
   "outputs": [
    {
     "data": {
      "text/html": [
       "<div class=\"dni-plaintext\"><pre>[  ]</pre></div><style>\r\n",
       ".dni-code-hint {\r\n",
       "    font-style: italic;\r\n",
       "    overflow: hidden;\r\n",
       "    white-space: nowrap;\r\n",
       "}\r\n",
       ".dni-treeview {\r\n",
       "    white-space: nowrap;\r\n",
       "}\r\n",
       ".dni-treeview td {\r\n",
       "    vertical-align: top;\r\n",
       "    text-align: start;\r\n",
       "}\r\n",
       "details.dni-treeview {\r\n",
       "    padding-left: 1em;\r\n",
       "}\r\n",
       "table td {\r\n",
       "    text-align: start;\r\n",
       "}\r\n",
       "table tr { \r\n",
       "    vertical-align: top; \r\n",
       "    margin: 0em 0px;\r\n",
       "}\r\n",
       "table tr td pre \r\n",
       "{ \r\n",
       "    vertical-align: top !important; \r\n",
       "    margin: 0em 0px !important;\r\n",
       "} \r\n",
       "table th {\r\n",
       "    text-align: start;\r\n",
       "}\r\n",
       "</style>"
      ]
     },
     "metadata": {},
     "output_type": "display_data"
    }
   ],
   "source": [
    "NaiveSearch(\"What are the latest issues for AOT\",dataCollection).Display();"
   ]
  },
  {
   "cell_type": "markdown",
   "metadata": {},
   "source": [
    "## Chunk issues"
   ]
  },
  {
   "cell_type": "code",
   "execution_count": 72,
   "metadata": {
    "dotnet_interactive": {
     "language": "csharp"
    },
    "polyglot_notebook": {
     "kernelName": "csharp"
    },
    "vscode": {
     "languageId": "polyglot-notebook"
    }
   },
   "outputs": [],
   "source": [
    "var dataCollection = await LoadIssuesFromFileAsync(\"issues.json\");"
   ]
  },
  {
   "cell_type": "code",
   "execution_count": 73,
   "metadata": {
    "dotnet_interactive": {
     "language": "csharp"
    },
    "polyglot_notebook": {
     "kernelName": "csharp"
    },
    "vscode": {
     "languageId": "polyglot-notebook"
    }
   },
   "outputs": [
    {
     "data": {
      "text/html": [
       "<div class=\"dni-plaintext\"><pre>4127</pre></div><style>\r\n",
       ".dni-code-hint {\r\n",
       "    font-style: italic;\r\n",
       "    overflow: hidden;\r\n",
       "    white-space: nowrap;\r\n",
       "}\r\n",
       ".dni-treeview {\r\n",
       "    white-space: nowrap;\r\n",
       "}\r\n",
       ".dni-treeview td {\r\n",
       "    vertical-align: top;\r\n",
       "    text-align: start;\r\n",
       "}\r\n",
       "details.dni-treeview {\r\n",
       "    padding-left: 1em;\r\n",
       "}\r\n",
       "table td {\r\n",
       "    text-align: start;\r\n",
       "}\r\n",
       "table tr { \r\n",
       "    vertical-align: top; \r\n",
       "    margin: 0em 0px;\r\n",
       "}\r\n",
       "table tr td pre \r\n",
       "{ \r\n",
       "    vertical-align: top !important; \r\n",
       "    margin: 0em 0px !important;\r\n",
       "} \r\n",
       "table th {\r\n",
       "    text-align: start;\r\n",
       "}\r\n",
       "</style>"
      ]
     },
     "metadata": {},
     "output_type": "display_data"
    }
   ],
   "source": [
    "dataCollection.Count()"
   ]
  },
  {
   "cell_type": "markdown",
   "metadata": {},
   "source": [
    "### Initialize collection of issues with chunks"
   ]
  },
  {
   "cell_type": "code",
   "execution_count": 74,
   "metadata": {
    "dotnet_interactive": {
     "language": "csharp"
    },
    "polyglot_notebook": {
     "kernelName": "csharp"
    },
    "vscode": {
     "languageId": "polyglot-notebook"
    }
   },
   "outputs": [],
   "source": [
    "public record TextWithEmbedding(string Text, float[] Embedding);\n",
    "public record IssueWithChunks(GitHubIssue Issue,List<TextWithEmbedding> Chunks);"
   ]
  },
  {
   "cell_type": "code",
   "execution_count": 75,
   "metadata": {
    "dotnet_interactive": {
     "language": "csharp"
    },
    "polyglot_notebook": {
     "kernelName": "csharp"
    },
    "vscode": {
     "languageId": "polyglot-notebook"
    }
   },
   "outputs": [],
   "source": [
    "var issuesWithChunksCollection = \n",
    "    dataCollection\n",
    "        .Select(issue => new IssueWithChunks(issue, new ()))\n",
    "        .ToArray();"
   ]
  },
  {
   "cell_type": "markdown",
   "metadata": {},
   "source": [
    "### Helper functions to save and load chunks to disk"
   ]
  },
  {
   "cell_type": "code",
   "execution_count": 76,
   "metadata": {
    "dotnet_interactive": {
     "language": "csharp"
    },
    "polyglot_notebook": {
     "kernelName": "csharp"
    },
    "vscode": {
     "languageId": "polyglot-notebook"
    }
   },
   "outputs": [],
   "source": [
    "using System.IO;\n",
    "using System.Text.Json;\n",
    "using System.Text.Json.Serialization;\n",
    "\n",
    "public async Task SaveIssuesWithChunksToFileAsync(IEnumerable<IssueWithChunks> data, string fileName)\n",
    "{ \n",
    "    var filePath = Path.Combine(\"..\",\"..\",\"..\",\"Data\",fileName);\n",
    "    var issuesJson = JsonSerializer.Serialize(data,new JsonSerializerOptions(JsonSerializerOptions.Default){WriteIndented=true});\n",
    "    await File.WriteAllTextAsync(filePath, issuesJson);\n",
    "}\n",
    "\n",
    "public async Task<IssueWithChunks[]> LoadIssuesWithChunksFromFileAsync(string fileName)\n",
    "{\n",
    "    var filePath = Path.Combine(\"..\",\"..\",\"..\",\"Data\",fileName);\n",
    "    var text = await File.ReadAllTextAsync(filePath);\n",
    "    return JsonSerializer.Deserialize<IssueWithChunks[]>(text);\n",
    "}"
   ]
  },
  {
   "cell_type": "markdown",
   "metadata": {},
   "source": [
    "### Chunk data and generate embeddings"
   ]
  },
  {
   "cell_type": "code",
   "execution_count": 77,
   "metadata": {
    "dotnet_interactive": {
     "language": "csharp"
    },
    "polyglot_notebook": {
     "kernelName": "csharp"
    },
    "vscode": {
     "languageId": "polyglot-notebook"
    }
   },
   "outputs": [],
   "source": [
    "var tokenizer = await Tokenizer.CreateAsync(TokenizerModel.ada2);\n",
    "\n",
    "var counter = 0;\n",
    "\n",
    "foreach(var item in issuesWithChunksCollection.Take(100))\n",
    "{\n",
    "    var fullText = item.Issue.Text;\n",
    "    if(string.IsNullOrWhiteSpace(fullText))\n",
    "        continue;\n",
    "\n",
    "    var chunks = \n",
    "        tokenizer\n",
    "            .ChunkByTokenCountWithOverlap(fullText, 3000, 50)\n",
    "            .Select(t => \n",
    "$\"\"\"\n",
    "Title: {item.Issue.Title}\n",
    "Area: {item.Issue.Area}\n",
    "\n",
    "{t}\n",
    "\"\"\")\n",
    "            .Chunk(16)\n",
    "            .ToArray();\n",
    "\n",
    "    foreach(var chunk in chunks)\n",
    "    {\n",
    "        \n",
    "        var embeddingResponse = await openAIClient.GetEmbeddingsAsync(new EmbeddingsOptions(embeddingDeployment,chunk));\n",
    "        item.Chunks.AddRange(\n",
    "            embeddingResponse.Value.Data.Select(d => \n",
    "                new TextWithEmbedding(chunk[d.Index],d.Embedding.ToArray())));\n",
    "    }\n",
    "\n",
    "    if(counter % 50 == 0)\n",
    "        await SaveIssuesWithChunksToFileAsync(issuesWithChunksCollection, \"areaIssuesWithEmbeddingsSubset.json\");\n",
    "    counter++;\n",
    "}\n",
    "\n",
    "await SaveIssuesWithChunksToFileAsync(issuesWithChunksCollection, \"areaIssuesWithEmbeddingsSubset.json\");"
   ]
  },
  {
   "cell_type": "code",
   "execution_count": 78,
   "metadata": {
    "dotnet_interactive": {
     "language": "csharp"
    },
    "polyglot_notebook": {
     "kernelName": "csharp"
    },
    "vscode": {
     "languageId": "polyglot-notebook"
    }
   },
   "outputs": [
    {
     "data": {
      "text/csv": [
       "Issue,Chunks\r\n",
       "\"GitHubIssue { Title = DependencyContext RuntimeGraph expected behavior., Text = To my knowledge this is not a defect but I am finding a discrepancy in the behavior of DependencyContext's [RuntimeGraph](https://learn.microsoft.com/en-us/dotnet/api/microsoft.extensions.dependencymodel.dependencycontext.runtimegraph?view=dotnet-plat-ext-7.0) property.\r\n",
       "\r\n",
       "I've actually asked Bing's AI twice and received two different answers on this, but where does the information for RuntimeGraph come from? [Official documentation](https://learn.microsoft.com/en-us/dotnet/api/microsoft.extensions.dependencymodel.dependencycontext?view=dotnet-plat-ext-7.0) says \"\"ApplicationName.deps.json\"\" but AI also said ApplicationName.runtimeconfig.json. However, it can't strictly be this as I've created an application that simply prints the RuntimeGraph to console and it differs depending on which platform I run it on. \r\n",
       "\r\n",
       "The application I've created uses default csproj options for a dotnet 6.0 Exe. I am compiling it in WSL on an Oracle Linux 8.7 system as RuntimeGetter and launching it against RuntimeGetter.dll. I do not set the RuntimeIdentifier.\r\n",
       "\r\n",
       "The code is simple, it loads the Assembly using `LoadFromAssemblyPath` using arg[0] and then does:\r\n",
       "```\r\n",
       "            string retVal = \"\"\"\";\r\n",
       "\r\n",
       "            foreach (var item in DependencyCtx.RuntimeGraph)\r\n",
       "            {\r\n",
       "                retVal += \"\"Runtime: \"\" + item.Runtime;\r\n",
       "                retVal += \"\" | Fallbacks: \"\";\r\n",
       "                foreach (var item2 in item.Fallbacks)\r\n",
       "                {\r\n",
       "                    retVal += item2 + \"\" \"\";\r\n",
       "                }\r\n",
       "            }\r\n",
       "\r\n",
       "            return retVal;\r\n",
       "```\r\n",
       "\r\n",
       "When run on Oracle Linux 8.7 I see the following:\r\n",
       "\r\n",
       ">  Runtime: ol.8.7-x64 | Fallbacks: ol.8.7 ol.8.6-x64 rhel.8.7-x64 ol.8.6 rhel.8.7 ol.8.5-x64 rhel.8.6-x64 ol.8.5 rhel.8.6 ol.8.4-x64 rhel.8.5-x64 ol.8.4 rhel.8.5 ol.8.3-x64 rhel.8.4-x64 ol.8.3 rhel.8.4 ol.8.2-x64 rhel.8.3-x64 ol.8.2 rhel.8.3 ol.8.1-x64 rhel.8.2-x64 ol.8.1 rhel.8.2 ol.8.0-x64 rhel.8.1-x64 ol.8.0 rhel.8.1 ol.8-x64 rhel.8.0-x64 ol.8 rhel.8.0 ol-x64 rhel.8-x64 ol rhel.8 rhel-x64 rhel linux-x64 linux unix-x64 unix any base\r\n",
       "\r\n",
       "To me, this makes sense as the application was published from an OL8.7 system and is running on an OL8.7 system. I then copy it to an Amazon Linux 2 system and get the following:\r\n",
       "\r\n",
       "> Runtime: alpine-x64 | Fallbacks: alpine linux-musl-x64 linux-musl linux-x64 linux unix-x64 unix any base Runtime: alpine.3.10-x64 | Fallbacks: alpine.3.10 alpine.3.9-x64 alpine.3.9 alpine.3.8-x64 alpine.3.8 alpine.3.7-x64 alpine.3.7 alpine.3.6-x64 alpine.3.6 alpine-x64 alpine linux-musl-x64 linux-musl linux-x64 linux unix-x64 unix any base Runtime: alpine.3.11-x64 | Fallbacks: alpine.3.11 alpine.3.10-x64 alpine.3.10 alpine.3.9-x64 alpine.3.9 alpine.3.8-x64 alpine.3.8 alpine.3.7-x64 alpine.3.7 alpine.3.6-x64 alpine.3.6 alpine-x64 alpine linux-musl-x64 linux-musl linux-x64 linux unix-x64 unix any base Runtime: alpine.3.12-x64 | Fallbacks: alpine.3.12 alpine.3.11-x64 alpine.3.11 alpine.3.10-x64 alpine.3.10 alpine.3.9-x64 alpine.3.9 alpine.3.8-x64 alpine.3.8 alpine.3.7-x64 alpine.3.7 alpine.3.6-x64 alpine.3.6 alpine-x64 alpine linux-musl-x64 linux-musl linux-x64 linux unix-x64 unix any base Runtime: alpine.3.13-x64 | Fallbacks: alpine.3.13 alpine.3.12-x64 alpine.3.12 alpine.3.11-x64 alpine.3.11 alpine.3.10-x64 alpine.3.10 alpine.3.9-x64 alpine.3.9 alpine.3.8-x64 alpine.3.8 alpine.3.7-x64 alpine.3.7 alpine.3.6-x64 alpine.3.6 alpine-x64 alpine linux-musl-x64 linux-musl linux-x64 linux unix-x64 unix any base Runtime: alpine.3.14-x64 | Fallbacks: alpine.3.14 alpine.3.13-x64 alpine.3.13 alpine.3.12-x64 alpine.3.12 alpine.3.11-x64 alpine.3.11 alpine.3.10-x64 alpine.3.10 alpine.3.9-x64 alpine.3.9 alpine.3.8-x64 alpine.3.8 alpine.3.7-x64 alpine.3.7 alpine.3.6-x64 alpine.3.6 alpine-x64 alpine linux-musl-x64 linux-musl linux-x64 linux unix-x64 unix any base Runtime: alpine.3.15-x64 | Fallbacks: alpine.3.15 alpine.3.14-x64 alpine.3.14 alpine.3.13-x64 alpine.3.13 alpine.3.12-x64 alpine.3.12 alpine.3.11-x64 alpine.3.11 alpine.3.10-x64 alpine.3.10 alpine.3.9-x64 alpine.3.9 alpine.3.8-x64 alpine.3.8 alpine.3.7-x64 alpine.3.7 alpine.3.6-x64 alpine.3.6 alpine-x64 alpine linux-musl-x64 linux-musl linux-x64 linux unix-x64 unix any base Runtime: alpine.3.16-x64 | Fallbacks: alpine.3.16 alpine.3.15-x64 alpine.3.15 alpine.3.14-x64 alpine.3.14 alpine.3.13-x64 alpine.3.13 alpine.3.12-x64 alpine.3.12 alpine.3.11-x64 alpine.3.11 alpine.3.10-x64 alpine.3.10 alpine.3.9-x64 alpine.3.9 alpine.3.8-x64 alpine.3.8 alpine.3.7-x64 alpine.3.7 alpine.3.6-x64 alpine.3.6 alpine-x64 alpine linux-musl-x64 linux-musl linux-x64 linux unix-x64 unix any base Runtime: alpine.3.17-x64 | Fallbacks: alpine.3.17 alpine.3.16-x64 alpine.3.16 alpine.3.15-x64 alpine.3.15 alpine.3.14-x64 alpine.3.14 alpine.3.13-x64 alpine.3.13 alpine.3.12-x64 alpine.3.12 alpine.3.11-x64 alpine.3.11 alpine.3.10-x64 alpine.3.10 alpine.3.9-x64 alpine.3.9 alpine.3.8-x64 alpine.3.8 alpine.3.7-x64 alpine.3.7 alpine.3.6-x64 alpine.3.6 alpine-x64 alpine linux-musl-x64 linux-musl linux-x64 linux unix-x64 unix any base Runtime: alpine.3.18-x64 | Fallbacks: alpine.3.18 alpine.3.17-x64 alpine.3.17 alpine.3.16-x64 alpine.3.16 alpine.3.15-x64 alpine.3.15 alpine.3.14-x64 alpine.3.14 alpine.3.13-x64 alpine.3.13 alpine.3.12-x64 alpine.3.12 alpine.3.11-x64 alpine.3.11 alpine.3.10-x64 alpine.3.10 alpine.3.9-x64 alpine.3.9 alpine.3.8-x64 alpine.3.8 alpine.3.7-x64 alpine.3.7 alpine.3.6-x64 alpine.3.6 alpine-x64 alpine linux-musl-x64 linux-musl linux-x64 linux unix-x64 unix any base Runtime: alpine.3.6-x64 | Fallbacks: alpine.3.6 alpine-x64 alpine linux-musl-x64 linux-musl linux-x64 linux unix-x64 unix any base Runtime: alpine.3.7-x64 | Fallbacks: alpine.3.7 alpine.3.6-x64 alpine.3.6 alpine-x64 alpine linux-musl-x64 linux-musl linux-x64 linux unix-x64 unix any base Runtime: alpine.3.8-x64 | Fallbacks: alpine.3.8 alpine.3.7-x64 alpine.3.7 alpine.3.6-x64 alpine.3.6 alpine-x64 alpine linux-musl-x64 linux-musl linux-x64 linux unix-x64 unix any base Runtime: alpine.3.9-x64 | Fallbacks: alpine.3.9 alpine.3.8-x64 alpine.3.8 alpine.3.7-x64 alpine.3.7 alpine.3.6-x64 alpine.3.6 alpine-x64 alpine linux-musl-x64 linux-musl linux-x64 linux unix-x64 unix any base Runtime: android-x64 | Fallbacks: android linux-x64 linux unix-x64 unix any base Runtime: android.21-x64 | Fallbacks: android.21 android-x64 android linux-x64 linux unix-x64 unix any base Runtime: android.22-x64 | Fallbacks: android.22 android.21-x64 android.21 android-x64 android linux-x64 linux unix-x64 unix any base Runtime: android.23-x64 | Fallbacks: android.23 android.22-x64 android.22 android.21-x64 android.21 android-x64 android linux-x64 linux unix-x64 unix any base Runtime: android.24-x64 | Fallbacks: android.24 android.23-x64 android.23 android.22-x64 android.22 android.21-x64 android.21 android-x64 android linux-x64 linux unix-x64 unix any base Runtime: android.25-x64 | Fallbacks: android.25 android.24-x64 android.24 android.23-x64 android.23 android.22-x64 android.22 android.21-x64 android.21 android-x64 android linux-x64 linux unix-x64 unix any base Runtime: android.26-x64 | Fallbacks: android.26 android.25-x64 android.25 android.24-x64 android.24 android.23-x64 android.23 android.22-x64 android.22 android.21-x64 android.21 android-x64 android linux-x64 linux unix-x64 unix any base Runtime: android.27-x64 | Fallbacks: android.27 android.26-x64 android.26 android.25-x64 android.25 android.24-x64 android.24 android.23-x64 android.23 android.22-x64 android.22 android.21-x64 android.21 android-x64 android linux-x64 linux unix-x64 unix any base Runtime: android.28-x64 | Fallbacks: android.28 android.27-x64 android.27 android.26-x64 android.26 android.25-x64 android.25 android.24-x64 android.24 android.23-x64 android.23 android.22-x64 android.22 android.21-x64 android.21 android-x64 android linux-x64 linux unix-x64 unix any base Runtime: android.29-x64 | Fallbacks: android.29 android.28-x64 android.28 android.27-x64 android.27 android.26-x64 android.26 android.25-x64 android.25 android.24-x64 android.24 android.23-x64 android.23 android.22-x64 android.22 android.21-x64 android.21 android-x64 android linux-x64 linux unix-x64 unix any base Runtime: android.30-x64 | Fallbacks: android.30 android.29-x64 android.29 android.28-x64 android.28 android.27-x64 android.27 android.26-x64 android.26 android.25-x64 android.25 android.24-x64 android.24 android.23-x64 android.23 android.22-x64 android.22 android.21-x64 android.21 android-x64 android linux-x64 linux unix-x64 unix any base Runtime: android.31-x64 | Fallbacks: android.31 android.30-x64 android.30 android.29-x64 android.29 android.28-x64 android.28 android.27-x64 android.27 android.26-x64 android.26 android.25-x64 android.25 android.24-x64 android.24 android.23-x64 android.23 android.22-x64 android.22 android.21-x64 android.21 android-x64 android linux-x64 linux unix-x64 unix any base Runtime: android.32-x64 | Fallbacks: android.32 android.31-x64 android.31 android.30-x64 android.30 android.29-x64 android.29 android.28-x64 android.28 android.27-x64 android.27 android.26-x64 android.26 android.25-x64 android.25 android.24-x64 android.24 android.23-x64 android.23 android.22-x64 android.22 android.21-x64 android.21 android-x64 android linux-x64 linux unix-x64 unix any base Runtime: arch-x64 | Fallbacks: arch linux-x64 linux unix-x64 unix any base Runtime: centos-x64 | Fallbacks: centos rhel-x64 rhel linux-x64 linux unix-x64 unix any base Runtime: centos.7-x64 | Fallbacks: centos.7 centos-x64 rhel.7-x64 centos rhel.7 rhel-x64 rhel linux-x64 linux unix-x64 unix any base Runtime: centos.8-x64 | Fallbacks: centos.8 centos-x64 rhel.8-x64 centos rhel.8 rhel-x64 rhel linux-x64 linux unix-x64 unix any base Runtime: centos.9-x64 | Fallbacks: centos.9 centos-x64 rhel.9-x64 centos rhel.9 rhel-x64 rhel linux-x64 linux unix-x64 unix any base {SNIP} (you get the idea)...\r\n",
       "\r\n",
       "On Rocky Linux 8.8, I also get a single entry stating `rocky.8-x64` (note: no minor build number, unlike OL) with fallbacks for Rocky.\r\n",
       "\r\n",
       "It seems to be about every known linux distribution from https://github.com/dotnet/runtime/blob/main/src/libraries/Microsoft.NETCore.Platforms/src/runtime.json.\r\n",
       "\r\n",
       "Which of these is the correct behavior?\r\n",
       "Does something else need to be done during build/publish time to change this?, Area = AssemblyLoader coreclr, Url = https://github.com/dotnet/runtime/issues/94305 }\",System.Collections.Generic.List`1[Submission#72+TextWithEmbedding]\r\n",
       "\"GitHubIssue { Title = No way to set the .NET entry assembly from unmanaged host? Also, documentation seems to be wrong/unclear., Text = ### Description\r\n",
       "\r\n",
       "I have a rather complex scenario where I have to launch a WPF (.NET 7) application from another .NET application (let's call that one the .NET host application), in the same process as the .NET host application, which in turn is hosted in an unmanaged application using hostfxr's `hdt_load_assembly_and_get_function_pointer`.\r\n",
       "\r\n",
       "In the  .NET host application, I load the WPF application assembly from bytes in memory, then invoke the `Assembly.EntryPoint` to launch it. It is here that the problem manifests itself. WPF depends on Assembly.GetEntryAssembly () returning the main WPF assembly for resource management.\r\n",
       "In my case however, Assembly.GetEntryAssembly () returns `null`, with no apparent way to set it to anything else, making the WPF app crash.\r\n",
       "\r\n",
       "The [documentation](https://learn.microsoft.com/en-us/dotnet/api/system.reflection.assembly.getentryassembly?view=net-7.0) for `Assembly.GetEntryAssembly` states it returns:\r\n",
       "\r\n",
       "`The assembly that is the process executable in the default application domain, or the first executable that was executed by AppDomain.ExecuteAssembly(String). Can return null when called from unmanaged code.`\r\n",
       "\r\n",
       "However, when I look at the runtime source code, all `AppDomain.ExecuteAssembly(String)` seems to do is call a private method that invokes the assembly entrypoint, just like I am doing:\r\n",
       "\r\n",
       "```c#\r\n",
       "private static int ExecuteAssembly(Assembly assembly, string?[]? args)\r\n",
       "{\r\n",
       "    MethodInfo? entry = assembly.EntryPoint;\r\n",
       "    if (entry == null)\r\n",
       "    {\r\n",
       "        throw new MissingMethodException(SR.Arg_EntryPointNotFoundException);\r\n",
       "    }\r\n",
       "\r\n",
       "    object? result = entry.Invoke(\r\n",
       "        obj: null,\r\n",
       "        invokeAttr: BindingFlags.DoNotWrapExceptions,\r\n",
       "        binder: null,\r\n",
       "        parameters: entry.GetParameters().Length > 0 ? new object?[] { args } : null,\r\n",
       "        culture: null);\r\n",
       "\r\n",
       "    return result != null ? (int)result : 0;\r\n",
       "}\r\n",
       "``` \r\n",
       "\r\n",
       "Needless to say, this does not make `Assembly.GetEntryAssembly ()` return a different value.\r\n",
       "\r\n",
       "As far as I can tell, there's no way to change the behavior of `Assembly.GetEntryAssembly ()`, as all this function does is call `GetEntryAssemblyInternal`: [github](https://github.com/search?q=repo%3Adotnet%2Fruntime%20GetEntryAssemblyInternal&type=code)\r\n",
       "\r\n",
       "So how do I make this work? (assuming I can't modify the WPF application as it is not mine).\r\n",
       "\r\n",
       "\r\n",
       "\r\n",
       "### Reproduction Steps\r\n",
       "\r\n",
       "Create an unmanaged .NET host, use that to load a .NET assembly that loads another .NET assembly that is the main assembly of a WPF application.\r\n",
       "Start the WPF application by invoking its `Assembly.EntryPoint`.\r\n",
       "\r\n",
       "The application crashes on exceptions caused by `Assembly.GetEntryAssembly ()` returning `null`.\r\n",
       "\r\n",
       "### Expected behavior\r\n",
       "\r\n",
       "I expect there should be a way for an unmanaged host (or even another .NET assembly) to set the value returned by `Assembly.GetEntryAssembly()` to a specific assembly so that it does not return `null`.\r\n",
       "\r\n",
       "### Actual behavior\r\n",
       "\r\n",
       "`Assembly.GetEntryAssembly()` always returns `null`\r\n",
       "\r\n",
       "### Regression?\r\n",
       "\r\n",
       "_No response_\r\n",
       "\r\n",
       "### Known Workarounds\r\n",
       "\r\n",
       "None as far as I can tell\r\n",
       "\r\n",
       "### Configuration\r\n",
       "\r\n",
       ".NET 7, Windows 11, x64. Not relevant, I suspect.\r\n",
       "\r\n",
       "### Other information\r\n",
       "\r\n",
       "_No response_, Area = AssemblyLoader coreclr, Url = https://github.com/dotnet/runtime/issues/94139 }\",System.Collections.Generic.List`1[Submission#72+TextWithEmbedding]\r\n",
       "\"GitHubIssue { Title = System.Text.Json 7.0.2 fails to load in a .net6 application., Text = ### Description\r\n",
       "\r\n",
       "We are attempting to reference RestSharp 110.2 which references system.text.json 7.0.2.\r\n",
       "Our application has many integration scenarios (as a full wpf application, headless service, or as a desktop plugin) and targets net6.\r\n",
       "We do not currently use deps.json files as they caused our application to not find our own project dependencies during our migration to .net6.\r\n",
       "\r\n",
       "When starting our application we try to use a RestSharp class, this attempts to resolve system.text.json which fails with an error that the assembly cannot be loaded. A reason is not given and the inner exception is null.\r\n",
       "\r\n",
       "Using dotnet-trace I see the following:\r\n",
       "```\r\n",
       "HasStack=\"\"True\"\" ThreadID=\"\"19,208\"\" ProcessorNumber=\"\"0\"\" ClrInstanceID=\"\"6\"\" AssemblyName=\"\"System.Text.Json, Version=7.0.0.0, Culture=neutral, PublicKeyToken=cc7b13ffcd2ddd51\"\" Stage=\"\"ApplicationAssemblies\"\" AssemblyLoadContext=\"\"Default\"\" Result=\"\"MismatchedAssemblyName\"\" ResultAssemblyName=\"\"System.Text.Json, Version=6.0.0.0, Culture=neutral, PublicKeyToken=cc7b13ffcd2ddd51\"\" ResultAssemblyPath=\"\"C:\\Program Files\\dotnet\\shared\\Microsoft.NETCore.App\\6.0.23\\System.Text.Json.dll\"\" ErrorMessage=\"\"Requested version 7.0.0.0 is incompatible with found version 6.0.0.0\"\" ActivityID=\"\"/#15712/1/225/\"\" \r\n",
       "```\r\n",
       "\r\n",
       "I have verified in the module window in visual studio that no version of system.text.json is loaded at this time.\r\n",
       "\r\n",
       "In a small test project, we can recreate this issue by removing the deps.json file.\r\n",
       "\r\n",
       "\r\n",
       "\r\n",
       "\r\n",
       "\r\n",
       "\r\n",
       "\r\n",
       "### Reproduction Steps\r\n",
       "\r\n",
       "please see:\r\n",
       "https://github.com/pinzart90/SytemTextDemo/tree/main\r\n",
       "\r\n",
       "this test project sets `GenerateDependencyFile` to false at build time, setting it to true resolves the issue. But that causes other issues for our application and integration.\r\n",
       "\r\n",
       "We'd like to understand if the behavior we are seeing is a bug or as designed and if there are any workarounds.\r\n",
       "\r\n",
       "### Expected behavior\r\n",
       "\r\n",
       "We expect that STJ 7.0 will be loaded in net6 since we reference it and no other earlier version of STJ is loaded.\r\n",
       "We expect that it will be loaded even if a `GenerateDependencyFile` is false at build time and we do not have deps.json files.\r\n",
       "\r\n",
       "### Actual behavior\r\n",
       "\r\n",
       "The assembly fails to load even when using an assembly resolver.\r\n",
       "\r\n",
       "### Regression?\r\n",
       "\r\n",
       "unknown\r\n",
       "\r\n",
       "### Known Workarounds\r\n",
       "\r\n",
       "Hoping you can provide some.\r\n",
       "\r\n",
       "### Configuration\r\n",
       "\r\n",
       "6.0.415\r\n",
       "windows 11 pro\r\n",
       "x64\r\n",
       "no\r\n",
       "na\r\n",
       "\r\n",
       "### Other information\r\n",
       "\r\n",
       "_No response_, Area = AssemblyLoader coreclr, Url = https://github.com/dotnet/runtime/issues/93780 }\",System.Collections.Generic.List`1[Submission#72+TextWithEmbedding]\r\n",
       "\"GitHubIssue { Title = [API Proposal]: Add constructor to AssemblyLoadContext that's accepting custom path, Text = ### Background and motivation\r\n",
       "\r\n",
       "# Current Situation\r\n",
       "\r\n",
       "It’s such a common case to load a number of assemblies from a different location – in fact, this is the default case for using [`AssemblyLoadContext`](https://learn.microsoft.com/en-us/dotnet/api/system.runtime.loader.assemblyloadcontext).\r\n",
       "\r\n",
       "Yet, for implementing this simple and regular use case, it's required to manually derive from [`AssemblyLoadContext`](https://learn.microsoft.com/en-us/dotnet/api/system.runtime.loader.assemblyloadcontext) and to create your own implementation that’s doing nothing else than just providing [`AssemblyDependencyResolver`](https://learn.microsoft.com/en-us/dotnet/api/system.runtime.loader.assemblydependencyresolver) with that path, making a mountain out of a molehill.\r\n",
       "\r\n",
       "See [Create a .NET Core application with plugins](https://learn.microsoft.com/en-us/dotnet/core/tutorials/creating-app-with-plugin-support#load-plugins) for reference.\r\n",
       "\r\n",
       "# Desired Situation\r\n",
       "\r\n",
       "I propose to add a constructor to [`AssemblyLoadContext`](https://learn.microsoft.com/en-us/dotnet/api/system.runtime.loader.assemblyloadcontext) that’s accepting a file system directory path, so we can just use this constructor instead of being required to create a blatantly dispensable new class for this standard use case.\r\n",
       "\r\n",
       "### API Proposal\r\n",
       "\r\n",
       "```csharp\r\n",
       "public AssemblyLoadContext(string filePath, string? name = null, bool isCollectible = false) {}\r\n",
       "```\r\n",
       "\r\n",
       "### API Usage\r\n",
       "\r\n",
       "```csharp\r\n",
       "new AssemblyLoadContext(@\"\".\\plugIns\"\").LoadFromAssemblyPath(@\"\".\\plugIns\\PlugIn1.dll\"\")\r\n",
       "```, Area = AssemblyLoader coreclr, Url = https://github.com/dotnet/runtime/issues/92074 }\",System.Collections.Generic.List`1[Submission#72+TextWithEmbedding]\r\n",
       "\"GitHubIssue { Title = Assembly Resolution finding a mismatched version corrupts state and makes loading good version impossible, Text = ### Description\r\n",
       "\r\n",
       "While trying to resolve an assembly for loading, if one of the stages finds a mismatched version, later resolution stages fail to load good version.\r\n",
       "\r\n",
       "### Reproduction Steps\r\n",
       "\r\n",
       "Put an old version of the required assembly in the application process .exe folder, then subscribe an assembly loader that will pick the right version from elsewhere.\r\n",
       "\r\n",
       "Alternatively, I suspect that attempting to call Assembly.Load(name) with the wrong version beside the .exe and then execute LoadFrom(pathToGoodVersion) will fail as well.\r\n",
       "\r\n",
       "### Expected behavior\r\n",
       "\r\n",
       "Good version should always succeed to load.\r\n",
       "\r\n",
       "Here are traces of what happens if the assembly is not found at stage:ApplicationAssemblies, stage:AppDomainAssemblyResolveEvent succeeds.\r\n",
       "\r\n",
       "<HTML>\r\n",
       "<BODY>\r\n",
       "<!--StartFragment--><TABLE><TR><TD>Rest</TD></TR><TR><TD>HasStack=&quot;True&quot; ThreadID=&quot;55,320&quot; ProcessorNumber=&quot;0&quot; ClrInstanceID=&quot;10&quot; AssemblyName=&quot;FluentAssertions, Version=6.7.0.0, Culture=neutral, PublicKeyToken=33f2691a05b67b6a&quot; Stage=&quot;FindInLoadContext&quot; AssemblyLoadContext=&quot;Default&quot; Result=&quot;AssemblyNotFound&quot; ResultAssemblyName=&quot;&quot; ResultAssemblyPath=&quot;&quot; ErrorMessage=&quot;Could not locate assembly&quot; ActivityID=&quot;/#7520/1/206/&quot; </TD></TR><TR><TD>HasStack=&quot;True&quot; ThreadID=&quot;55,320&quot; ProcessorNumber=&quot;0&quot; ClrInstanceID=&quot;10&quot; AssemblyName=&quot;FluentAssertions, Version=6.7.0.0, Culture=neutral, PublicKeyToken=33f2691a05b67b6a&quot; Stage=&quot;ApplicationAssemblies&quot; AssemblyLoadContext=&quot;Default&quot; Result=&quot;AssemblyNotFound&quot; ResultAssemblyName=&quot;&quot; ResultAssemblyPath=&quot;&quot; ErrorMessage=&quot;Could not locate assembly&quot; ActivityID=&quot;/#7520/1/206/&quot; </TD></TR><TR><TD>HasStack=&quot;True&quot; ThreadID=&quot;55,320&quot; ProcessorNumber=&quot;0&quot; ClrInstanceID=&quot;10&quot; AssemblyName=&quot;FluentAssertions, Version=6.7.0.0, Culture=neutral, PublicKeyToken=33f2691a05b67b6a&quot; Stage=&quot;AssemblyLoadContextResolvingEvent&quot; AssemblyLoadContext=&quot;Default&quot; Result=&quot;AssemblyNotFound&quot; ResultAssemblyName=&quot;&quot; ResultAssemblyPath=&quot;&quot; ErrorMessage=&quot;Could not locate assembly&quot; ActivityID=&quot;/#7520/1/206/&quot; </TD></TR><TR><TD>HasStack=&quot;True&quot; ThreadID=&quot;55,320&quot; ProcessorNumber=&quot;0&quot; ClrInstanceID=&quot;10&quot; AssemblyName=&quot;FluentAssertions, Version=6.7.0.0, Culture=neutral, PublicKeyToken=33f2691a05b67b6a&quot; Stage=&quot;AppDomainAssemblyResolveEvent&quot; AssemblyLoadContext=&quot;Default&quot; Result=&quot;Success&quot; ResultAssemblyName=&quot;FluentAssertions, Version=6.7.0.0, Culture=neutral, PublicKeyToken=33f2691a05b67b6a&quot; ResultAssemblyPath=&quot;D:\\src\\subs\\target\\test\\managedstore\\Internal.Exchange.Test.ManagedStore.QTests.Common\\bin\\Debug\\net6.0\\FluentAssertions.dll&quot; ErrorMessage=&quot;&quot; ActivityID=&quot;/#7520/1/206/&quot; </TD></TR></TABLE>\r\n",
       "<!--EndFragment-->\r\n",
       "</BODY>\r\n",
       "</HTML>\r\n",
       "\r\n",
       "### Actual behavior\r\n",
       "\r\n",
       "If the mismatched version is ever rejected, no good version can be loaded.\r\n",
       "\r\n",
       "Here are traces of what happens if the mismatched version is found at stage:ApplicationAssemblies, stage:AppDomainAssemblyResolveEvent succeeds.\r\n",
       "\r\n",
       "<HTML>\r\n",
       "<BODY>\r\n",
       "<!--StartFragment--><TABLE><TR><TD>Rest</TD></TR><TR><TD>HasStack=&quot;True&quot; ThreadID=&quot;60,068&quot; ProcessorNumber=&quot;0&quot; ClrInstanceID=&quot;9&quot; AssemblyName=&quot;FluentAssertions, Version=6.7.0.0, Culture=neutral, PublicKeyToken=33f2691a05b67b6a&quot; Stage=&quot;FindInLoadContext&quot; AssemblyLoadContext=&quot;Default&quot; Result=&quot;AssemblyNotFound&quot; ResultAssemblyName=&quot;&quot; ResultAssemblyPath=&quot;&quot; ErrorMessage=&quot;Could not locate assembly&quot; ActivityID=&quot;/#57240/1/206/&quot; </TD></TR><TR><TD>HasStack=&quot;True&quot; ThreadID=&quot;60,068&quot; ProcessorNumber=&quot;0&quot; ClrInstanceID=&quot;9&quot; AssemblyName=&quot;FluentAssertions, Version=6.7.0.0, Culture=neutral, PublicKeyToken=33f2691a05b67b6a&quot; Stage=&quot;ApplicationAssemblies&quot; AssemblyLoadContext=&quot;Default&quot; Result=&quot;MismatchedAssemblyName&quot; ResultAssemblyName=&quot;FluentAssertions, Version=5.6.0.0, Culture=neutral, PublicKeyToken=33f2691a05b67b6a&quot; ResultAssemblyPath=&quot;D:\\src\\subs\\target\\test\\tools\\UniTP\\bin\\Debug\\net6.0\\FluentAssertions.dll&quot; ErrorMessage=&quot;Requested version 6.7.0.0 is incompatible with found version 5.6.0.0&quot; ActivityID=&quot;/#57240/1/206/&quot; </TD></TR><TR><TD>HasStack=&quot;True&quot; ThreadID=&quot;60,068&quot; ProcessorNumber=&quot;0&quot; ClrInstanceID=&quot;9&quot; AssemblyName=&quot;FluentAssertions, Version=6.7.0.0, Culture=neutral, PublicKeyToken=33f2691a05b67b6a&quot; Stage=&quot;AssemblyLoadContextResolvingEvent&quot; AssemblyLoadContext=&quot;Default&quot; Result=&quot;AssemblyNotFound&quot; ResultAssemblyName=&quot;&quot; ResultAssemblyPath=&quot;&quot; ErrorMessage=&quot;Could not locate assembly&quot; ActivityID=&quot;/#57240/1/206/&quot; </TD></TR><TR><TD>HasStack=&quot;True&quot; ThreadID=&quot;60,068&quot; ProcessorNumber=&quot;0&quot; ClrInstanceID=&quot;9&quot; AssemblyName=&quot;FluentAssertions, Version=6.7.0.0, Culture=neutral, PublicKeyToken=33f2691a05b67b6a&quot; Stage=&quot;AppDomainAssemblyResolveEvent&quot; AssemblyLoadContext=&quot;Default&quot; Result=&quot;Exception&quot; ResultAssemblyName=&quot;&quot; ResultAssemblyPath=&quot;&quot; ErrorMessage=&quot;Could not load file or assembly 'FluentAssertions, Version=6.7.0.0, Culture=neutral, PublicKeyToken=33f2691a05b67b6a'.&quot; ActivityID=&quot;/#57240/1/206/&quot; </TD></TR></TABLE>\r\n",
       "<!--EndFragment-->\r\n",
       "</BODY>\r\n",
       "</HTML>\r\n",
       "\r\n",
       "### Regression?\r\n",
       "\r\n",
       "Yes,\r\n",
       "This did not happen in net472, but happens in net6.0\r\n",
       "\r\n",
       "### Known Workarounds\r\n",
       "\r\n",
       "Avoid bad versions.\r\n",
       "\r\n",
       "### Configuration\r\n",
       "\r\n",
       "net6.0\r\n",
       "Windows\r\n",
       "x64\r\n",
       "\r\n",
       "\r\n",
       "### Other information\r\n",
       "\r\n",
       "_No response_, Area = AssemblyLoader coreclr, Url = https://github.com/dotnet/runtime/issues/91952 }\",System.Collections.Generic.List`1[Submission#72+TextWithEmbedding]\r\n"
      ],
      "text/html": [
       "<table><thead><tr><td><span>Issue</span></td><td><span>Chunks</span></td></tr></thead><tbody><tr><td><details class=\"dni-treeview\"><summary><span class=\"dni-code-hint\"><code>GitHubIssue { Title = DependencyContext RuntimeGraph expected behavior., Text = To my knowledge this is not a defect but I am finding a discrepancy in the behavior of DependencyContext&#39;s [RuntimeGraph](https://learn.microsoft.com/en-us/dotnet/api/microsoft.extensions.dependencymodel.dependencycontex...</code></span></summary><div><table><thead><tr></tr></thead><tbody><tr><td>Title</td><td><div class=\"dni-plaintext\"><pre>DependencyContext RuntimeGraph expected behavior.</pre></div></td></tr><tr><td>Text</td><td><div class=\"dni-plaintext\"><pre>To my knowledge this is not a defect but I am finding a discrepancy in the behavior of DependencyContext&#39;s [RuntimeGraph](https://learn.microsoft.com/en-us/dotnet/api/microsoft.extensions.dependencymodel.dependencycontext.runtimegraph?view=dotnet-plat-ext-7.0) property.\r\n",
       "\r\n",
       "I&#39;ve actually asked Bing&#39;s AI twice and received two different answers on this, but where does the information for RuntimeGraph come from? [Official documentation](https://learn.microsoft.com/en-us/dotnet/api/microsoft.extensions.dependencymodel.dependencycontext?view=dotnet-plat-ext-7.0) says &quot;ApplicationName.deps.json&quot; but AI also said ApplicationName.runtimeconfig.json. However, it can&#39;t strictly be this as I&#39;ve created an application that simply prints the RuntimeGraph to console and it differs depending on which platform I run it on. \r\n",
       "\r\n",
       "The application I&#39;ve created uses default csproj options for a dotnet 6.0 Exe. I am compiling it in WSL on an Oracle Linux 8.7 system as RuntimeGetter and launching it against RuntimeGetter.dll. I do not set the RuntimeIdentifier.\r\n",
       "\r\n",
       "The code is simple, it loads the Assembly using `LoadFromAssemblyPath` using arg[0] and then does:\r\n",
       "```\r\n",
       "            string retVal = &quot;&quot;;\r\n",
       "\r\n",
       "            foreach (var item in DependencyCtx.RuntimeGraph)\r\n",
       "            {\r\n",
       "                retVal += &quot;Runtime: &quot; + item.Runtime;\r\n",
       "                retVal += &quot; | Fallbacks: &quot;;\r\n",
       "                foreach (var item2 in item.Fallbacks)\r\n",
       "                {\r\n",
       "                    retVal += item2 + &quot; &quot;;\r\n",
       "                }\r\n",
       "            }\r\n",
       "\r\n",
       "            return retVal;\r\n",
       "```\r\n",
       "\r\n",
       "When run on Oracle Linux 8.7 I see the following:\r\n",
       "\r\n",
       "&gt;  Runtime: ol.8.7-x64 | Fallbacks: ol.8.7 ol.8.6-x64 rhel.8.7-x64 ol.8.6 rhel.8.7 ol.8.5-x64 rhel.8.6-x64 ol.8.5 rhel.8.6 ol.8.4-x64 rhel.8.5-x64 ol.8.4 rhel.8.5 ol.8.3-x64 rhel.8.4-x64 ol.8.3 rhel.8.4 ol.8.2-x64 rhel.8.3-x64 ol.8.2 rhel.8.3 ol.8.1-x64 rhel.8.2-x64 ol.8.1 rhel.8.2 ol.8.0-x64 rhel.8.1-x64 ol.8.0 rhel.8.1 ol.8-x64 rhel.8.0-x64 ol.8 rhel.8.0 ol-x64 rhel.8-x64 ol rhel.8 rhel-x64 rhel linux-x64 linux unix-x64 unix any base\r\n",
       "\r\n",
       "To me, this makes sense as the application was published from an OL8.7 system and is running on an OL8.7 system. I then copy it to an Amazon Linux 2 system and get the following:\r\n",
       "\r\n",
       "&gt; Runtime: alpine-x64 | Fallbacks: alpine linux-musl-x64 linux-musl linux-x64 linux unix-x64 unix any base Runtime: alpine.3.10-x64 | Fallbacks: alpine.3.10 alpine.3.9-x64 alpine.3.9 alpine.3.8-x64 alpine.3.8 alpine.3.7-x64 alpine.3.7 alpine.3.6-x64 alpine.3.6 alpine-x64 alpine linux-musl-x64 linux-musl linux-x64 linux unix-x64 unix any base Runtime: alpine.3.11-x64 | Fallbacks: alpine.3.11 alpine.3.10-x64 alpine.3.10 alpine.3.9-x64 alpine.3.9 alpine.3.8-x64 alpine.3.8 alpine.3.7-x64 alpine.3.7 alpine.3.6-x64 alpine.3.6 alpine-x64 alpine linux-musl-x64 linux-musl linux-x64 linux unix-x64 unix any base Runtime: alpine.3.12-x64 | Fallbacks: alpine.3.12 alpine.3.11-x64 alpine.3.11 alpine.3.10-x64 alpine.3.10 alpine.3.9-x64 alpine.3.9 alpine.3.8-x64 alpine.3.8 alpine.3.7-x64 alpine.3.7 alpine.3.6-x64 alpine.3.6 alpine-x64 alpine linux-musl-x64 linux-musl linux-x64 linux unix-x64 unix any base Runtime: alpine.3.13-x64 | Fallbacks: alpine.3.13 alpine.3.12-x64 alpine.3.12 alpine.3.11-x64 alpine.3.11 alpine.3.10-x64 alpine.3.10 alpine.3.9-x64 alpine.3.9 alpine.3.8-x64 alpine.3.8 alpine.3.7-x64 alpine.3.7 alpine.3.6-x64 alpine.3.6 alpine-x64 alpine linux-musl-x64 linux-musl linux-x64 linux unix-x64 unix any base Runtime: alpine.3.14-x64 | Fallbacks: alpine.3.14 alpine.3.13-x64 alpine.3.13 alpine.3.12-x64 alpine.3.12 alpine.3.11-x64 alpine.3.11 alpine.3.10-x64 alpine.3.10 alpine.3.9-x64 alpine.3.9 alpine.3.8-x64 alpine.3.8 alpine.3.7-x64 alpine.3.7 alpine.3.6-x64 alpine.3.6 alpine-x64 alpine linux-musl-x64 linux-musl linux-x64 linux unix-x64 unix any base Runtime: alpine.3.15-x64 | Fallbacks: alpine.3.15 alpine.3.14-x64 alpine.3.14 alpine.3.13-x64 alpine.3.13 alpine.3.12-x64 alpine.3.12 alpine.3.11-x64 alpine.3.11 alpine.3.10-x64 alpine.3.10 alpine.3.9-x64 alpine.3.9 alpine.3.8-x64 alpine.3.8 alpine.3.7-x64 alpine.3.7 alpine.3.6-x64 alpine.3.6 alpine-x64 alpine linux-musl-x64 linux-musl linux-x64 linux unix-x64 unix any base Runtime: alpine.3.16-x64 | Fallbacks: alpine.3.16 alpine.3.15-x64 alpine.3.15 alpine.3.14-x64 alpine.3.14 alpine.3.13-x64 alpine.3.13 alpine.3.12-x64 alpine.3.12 alpine.3.11-x64 alpine.3.11 alpine.3.10-x64 alpine.3.10 alpine.3.9-x64 alpine.3.9 alpine.3.8-x64 alpine.3.8 alpine.3.7-x64 alpine.3.7 alpine.3.6-x64 alpine.3.6 alpine-x64 alpine linux-musl-x64 linux-musl linux-x64 linux unix-x64 unix any base Runtime: alpine.3.17-x64 | Fallbacks: alpine.3.17 alpine.3.16-x64 alpine.3.16 alpine.3.15-x64 alpine.3.15 alpine.3.14-x64 alpine.3.14 alpine.3.13-x64 alpine.3.13 alpine.3.12-x64 alpine.3.12 alpine.3.11-x64 alpine.3.11 alpine.3.10-x64 alpine.3.10 alpine.3.9-x64 alpine.3.9 alpine.3.8-x64 alpine.3.8 alpine.3.7-x64 alpine.3.7 alpine.3.6-x64 alpine.3.6 alpine-x64 alpine linux-musl-x64 linux-musl linux-x64 linux unix-x64 unix any base Runtime: alpine.3.18-x64 | Fallbacks: alpine.3.18 alpine.3.17-x64 alpine.3.17 alpine.3.16-x64 alpine.3.16 alpine.3.15-x64 alpine.3.15 alpine.3.14-x64 alpine.3.14 alpine.3.13-x64 alpine.3.13 alpine.3.12-x64 alpine.3.12 alpine.3.11-x64 alpine.3.11 alpine.3.10-x64 alpine.3.10 alpine.3.9-x64 alpine.3.9 alpine.3.8-x64 alpine.3.8 alpine.3.7-x64 alpine.3.7 alpine.3.6-x64 alpine.3.6 alpine-x64 alpine linux-musl-x64 linux-musl linux-x64 linux unix-x64 unix any base Runtime: alpine.3.6-x64 | Fallbacks: alpine.3.6 alpine-x64 alpine linux-musl-x64 linux-musl linux-x64 linux unix-x64 unix any base Runtime: alpine.3.7-x64 | Fallbacks: alpine.3.7 alpine.3.6-x64 alpine.3.6 alpine-x64 alpine linux-musl-x64 linux-musl linux-x64 linux unix-x64 unix any base Runtime: alpine.3.8-x64 | Fallbacks: alpine.3.8 alpine.3.7-x64 alpine.3.7 alpine.3.6-x64 alpine.3.6 alpine-x64 alpine linux-musl-x64 linux-musl linux-x64 linux unix-x64 unix any base Runtime: alpine.3.9-x64 | Fallbacks: alpine.3.9 alpine.3.8-x64 alpine.3.8 alpine.3.7-x64 alpine.3.7 alpine.3.6-x64 alpine.3.6 alpine-x64 alpine linux-musl-x64 linux-musl linux-x64 linux unix-x64 unix any base Runtime: android-x64 | Fallbacks: android linux-x64 linux unix-x64 unix any base Runtime: android.21-x64 | Fallbacks: android.21 android-x64 android linux-x64 linux unix-x64 unix any base Runtime: android.22-x64 | Fallbacks: android.22 android.21-x64 android.21 android-x64 android linux-x64 linux unix-x64 unix any base Runtime: android.23-x64 | Fallbacks: android.23 android.22-x64 android.22 android.21-x64 android.21 android-x64 android linux-x64 linux unix-x64 unix any base Runtime: android.24-x64 | Fallbacks: android.24 android.23-x64 android.23 android.22-x64 android.22 android.21-x64 android.21 android-x64 android linux-x64 linux unix-x64 unix any base Runtime: android.25-x64 | Fallbacks: android.25 android.24-x64 android.24 android.23-x64 android.23 android.22-x64 android.22 android.21-x64 android.21 android-x64 android linux-x64 linux unix-x64 unix any base Runtime: android.26-x64 | Fallbacks: android.26 android.25-x64 android.25 android.24-x64 android.24 android.23-x64 android.23 android.22-x64 android.22 android.21-x64 android.21 android-x64 android linux-x64 linux unix-x64 unix any base Runtime: android.27-x64 | Fallbacks: android.27 android.26-x64 android.26 android.25-x64 android.25 android.24-x64 android.24 android.23-x64 android.23 android.22-x64 android.22 android.21-x64 android.21 android-x64 android linux-x64 linux unix-x64 unix any base Runtime: android.28-x64 | Fallbacks: android.28 android.27-x64 android.27 android.26-x64 android.26 android.25-x64 android.25 android.24-x64 android.24 android.23-x64 android.23 android.22-x64 android.22 android.21-x64 android.21 android-x64 android linux-x64 linux unix-x64 unix any base Runtime: android.29-x64 | Fallbacks: android.29 android.28-x64 android.28 android.27-x64 android.27 android.26-x64 android.26 android.25-x64 android.25 android.24-x64 android.24 android.23-x64 android.23 android.22-x64 android.22 android.21-x64 android.21 android-x64 android linux-x64 linux unix-x64 unix any base Runtime: android.30-x64 | Fallbacks: android.30 android.29-x64 android.29 android.28-x64 android.28 android.27-x64 android.27 android.26-x64 android.26 android.25-x64 android.25 android.24-x64 android.24 android.23-x64 android.23 android.22-x64 android.22 android.21-x64 android.21 android-x64 android linux-x64 linux unix-x64 unix any base Runtime: android.31-x64 | Fallbacks: android.31 android.30-x64 android.30 android.29-x64 android.29 android.28-x64 android.28 android.27-x64 android.27 android.26-x64 android.26 android.25-x64 android.25 android.24-x64 android.24 android.23-x64 android.23 android.22-x64 android.22 android.21-x64 android.21 android-x64 android linux-x64 linux unix-x64 unix any base Runtime: android.32-x64 | Fallbacks: android.32 android.31-x64 android.31 android.30-x64 android.30 android.29-x64 android.29 android.28-x64 android.28 android.27-x64 android.27 android.26-x64 android.26 android.25-x64 android.25 android.24-x64 android.24 android.23-x64 android.23 android.22-x64 android.22 android.21-x64 android.21 android-x64 android linux-x64 linux unix-x64 unix any base Runtime: arch-x64 | Fallbacks: arch linux-x64 linux unix-x64 unix any base Runtime: centos-x64 | Fallbacks: centos rhel-x64 rhel linux-x64 linux unix-x64 unix any base Runtime: centos.7-x64 | Fallbacks: centos.7 centos-x64 rhel.7-x64 centos rhel.7 rhel-x64 rhel linux-x64 linux unix-x64 unix any base Runtime: centos.8-x64 | Fallbacks: centos.8 centos-x64 rhel.8-x64 centos rhel.8 rhel-x64 rhel linux-x64 linux unix-x64 unix any base Runtime: centos.9-x64 | Fallbacks: centos.9 centos-x64 rhel.9-x64 centos rhel.9 rhel-x64 rhel linux-x64 linux unix-x64 unix any base {SNIP} (you get the idea)...\r\n",
       "\r\n",
       "On Rocky Linux 8.8, I also get a single entry stating `rocky.8-x64` (note: no minor build number, unlike OL) with fallbacks for Rocky.\r\n",
       "\r\n",
       "It seems to be about every known linux distribution from https://github.com/dotnet/runtime/blob/main/src/libraries/Microsoft.NETCore.Platforms/src/runtime.json.\r\n",
       "\r\n",
       "Which of these is the correct behavior?\r\n",
       "Does something else need to be done during build/publish time to change this?</pre></div></td></tr><tr><td>Area</td><td><div class=\"dni-plaintext\"><pre>AssemblyLoader coreclr</pre></div></td></tr><tr><td>Url</td><td><div class=\"dni-plaintext\"><pre>https://github.com/dotnet/runtime/issues/94305</pre></div></td></tr></tbody></table></div></details></td><td><table><thead><tr><th><i>index</i></th><th>value</th></tr></thead><tbody><tr><td>0</td><td><details class=\"dni-treeview\"><summary><span class=\"dni-code-hint\"><code>TextWithEmbedding { Text = Title: DependencyContext RuntimeGraph expected behavior.\\nArea: AssemblyLoader coreclr\\n\\nTo my knowledge this is not a defect but I am finding a discrepancy in the behavior of DependencyContext&#39;s [RuntimeGraph](https://learn.microsoft.com/en-us/dotnet/api/microsoft.extens...</code></span></summary><div><table><thead><tr></tr></thead><tbody><tr><td>Text</td><td><div class=\"dni-plaintext\"><pre>Title: DependencyContext RuntimeGraph expected behavior.\n",
       "Area: AssemblyLoader coreclr\n",
       "\n",
       "To my knowledge this is not a defect but I am finding a discrepancy in the behavior of DependencyContext&#39;s [RuntimeGraph](https://learn.microsoft.com/en-us/dotnet/api/microsoft.extensions.dependencymodel.dependencycontext.runtimegraph?view=dotnet-plat-ext-7.0) property.\r\n",
       "\r\n",
       "I&#39;ve actually asked Bing&#39;s AI twice and received two different answers on this, but where does the information for RuntimeGraph come from? [Official documentation](https://learn.microsoft.com/en-us/dotnet/api/microsoft.extensions.dependencymodel.dependencycontext?view=dotnet-plat-ext-7.0) says &quot;ApplicationName.deps.json&quot; but AI also said ApplicationName.runtimeconfig.json. However, it can&#39;t strictly be this as I&#39;ve created an application that simply prints the RuntimeGraph to console and it differs depending on which platform I run it on. \r\n",
       "\r\n",
       "The application I&#39;ve created uses default csproj options for a dotnet 6.0 Exe. I am compiling it in WSL on an Oracle Linux 8.7 system as RuntimeGetter and launching it against RuntimeGetter.dll. I do not set the RuntimeIdentifier.\r\n",
       "\r\n",
       "The code is simple, it loads the Assembly using `LoadFromAssemblyPath` using arg[0] and then does:\r\n",
       "```\r\n",
       "            string retVal = &quot;&quot;;\r\n",
       "\r\n",
       "            foreach (var item in DependencyCtx.RuntimeGraph)\r\n",
       "            {\r\n",
       "                retVal += &quot;Runtime: &quot; + item.Runtime;\r\n",
       "                retVal += &quot; | Fallbacks: &quot;;\r\n",
       "                foreach (var item2 in item.Fallbacks)\r\n",
       "                {\r\n",
       "                    retVal += item2 + &quot; &quot;;\r\n",
       "                }\r\n",
       "            }\r\n",
       "\r\n",
       "            return retVal;\r\n",
       "```\r\n",
       "\r\n",
       "When run on Oracle Linux 8.7 I see the following:\r\n",
       "\r\n",
       "&gt;  Runtime: ol.8.7-x64 | Fallbacks: ol.8.7 ol.8.6-x64 rhel.8.7-x64 ol.8.6 rhel.8.7 ol.8.5-x64 rhel.8.6-x64 ol.8.5 rhel.8.6 ol.8.4-x64 rhel.8.5-x64 ol.8.4 rhel.8.5 ol.8.3-x64 rhel.8.4-x64 ol.8.3 rhel.8.4 ol.8.2-x64 rhel.8.3-x64 ol.8.2 rhel.8.3 ol.8.1-x64 rhel.8.2-x64 ol.8.1 rhel.8.2 ol.8.0-x64 rhel.8.1-x64 ol.8.0 rhel.8.1 ol.8-x64 rhel.8.0-x64 ol.8 rhel.8.0 ol-x64 rhel.8-x64 ol rhel.8 rhel-x64 rhel linux-x64 linux unix-x64 unix any base\r\n",
       "\r\n",
       "To me, this makes sense as the application was published from an OL8.7 system and is running on an OL8.7 system. I then copy it to an Amazon Linux 2 system and get the following:\r\n",
       "\r\n",
       "&gt; Runtime: alpine-x64 | Fallbacks: alpine linux-musl-x64 linux-musl linux-x64 linux unix-x64 unix any base Runtime: alpine.3.10-x64 | Fallbacks: alpine.3.10 alpine.3.9-x64 alpine.3.9 alpine.3.8-x64 alpine.3.8 alpine.3.7-x64 alpine.3.7 alpine.3.6-x64 alpine.3.6 alpine-x64 alpine linux-musl-x64 linux-musl linux-x64 linux unix-x64 unix any base Runtime: alpine.3.11-x64 | Fallbacks: alpine.3.11 alpine.3.10-x64 alpine.3.10 alpine.3.9-x64 alpine.3.9 alpine.3.8-x64 alpine.3.8 alpine.3.7-x64 alpine.3.7 alpine.3.6-x64 alpine.3.6 alpine-x64 alpine linux-musl-x64 linux-musl linux-x64 linux unix-x64 unix any base Runtime: alpine.3.12-x64 | Fallbacks: alpine.3.12 alpine.3.11-x64 alpine.3.11 alpine.3.10-x64 alpine.3.10 alpine.3.9-x64 alpine.3.9 alpine.3.8-x64 alpine.3.8 alpine.3.7-x64 alpine.3.7 alpine.3.6-x64 alpine.3.6 alpine-x64 alpine linux-musl-x64 linux-musl linux-x64 linux unix-x64 unix any base Runtime: alpine.3.13-x64 | Fallbacks: alpine.3.13 alpine.3.12-x64 alpine.3.12 alpine.3.11-x64 alpine.3.11 alpine.3.10-x64 alpine.3.10 alpine.3.9-x64 alpine.3.9 alpine.3.8-x64 alpine.3.8 alpine.3.7-x64 alpine.3.7 alpine.3.6-x64 alpine.3.6 alpine-x64 alpine linux-musl-x64 linux-musl linux-x64 linux unix-x64 unix any base Runtime: alpine.3.14-x64 | Fallbacks: alpine.3.14 alpine.3.13-x64 alpine.3.13 alpine.3.12-x64 alpine.3.12 alpine.3.11-x64 alpine.3.11 alpine.3.10-x64 alpine.3.10 alpine.3.9-x64 alpine.3.9 alpine.3.8-x64 alpine.3.8 alpine.3.7-x64 alpine.3.7 alpine.3.6-x64 alpine.3.6 alpine-x64 alpine linux-musl-x64 linux-musl linux-x64 linux unix-x64 unix any base Runtime: alpine.3.15-x64 | Fallbacks: alpine.3.15 alpine.3.14-x64 alpine.3.14 alpine.3.13-x64 alpine.3.13 alpine.3.12-x64 alpine.3.12 alpine.3.11-x64 alpine.3.11 alpine.3.10-x64 alpine.3.10 alpine.3.9-x64 alpine.3.9 alpine.3.8-x64 alpine.3.8 alpine.3.7-x64 alpine.3.7 alpine.3.6-x64 alpine.3.6 alpine-x64 alpine linux-musl-x64 linux-musl linux-x64 linux unix-x64 unix any base Runtime: alpine.3.16-x64 | Fallbacks: alpine.3.16 alpine.3.15-x64 alpine.3.15 alpine.3.14-x64 alpine.3.14 alpine.3.13-x64 alpine.3.13 alpine.3.12-x64 alpine.3.12 alpine.3.11-x64 alpine.3.11 alpine.3.10-x64 alpine.3.10 alpine.3.9-x64 alpine.3.9 alpine.3.8-x64 alpine.3.8 alpine.3.7-x64 alpine.3.7 alpine.3.6-x64 alpine.3.6 alpine-x64 alpine linux-musl-x64 linux-musl linux-x64 linux unix-x64 unix any base Runtime: alpine.3.17-x64 | Fallbacks: alpine.3.17 alpine.3.16-x64 alpine.3.16 alpine.3.15-x64 alpine.3.15 alpine.3.14-x64 alpine.3.14 alpine.3.13-x64 alpine.3.13 alpine.3.12-x64 alpine.3.12 alpine.3.11-x64 alpine.3.11 alpine.3.10-x64 alpine.3.10 alpine.3.9-x64 alpine.3.9 alpine.3.8-x64 alpine.3.8 alpine.3.7-x64 alpine.3.7 alpine.3.6-x64 alpine.3.6 alpine-x64 alpine linux-musl-x64 linux-musl linux-x64 linux unix-x64 unix any base Runtime: alpine.3.18-x64 | Fallbacks: alpine.3.18 alpine.3.17-x64 alpine.3.17 alpine.3.16-x64 alpine.3.16 alpine.3.15-x64 alpine.3.15 alpine.3.14-x64 alpine.3.14 alpine.3.13-x64 alpine.3.13 alpine.3.12-x64 alpine.3.12 alpine.3.11-x64 alpine.3.11 alpine.3.10-x64 alpine.3.10 alpine.3.9-x64 alpine.3.9 alpine.3.8-x64 alpine.3.8 alpine.3.7-x64 alpine.3.7 alpine.3.6-x64 alpine.3.6 alpine-x64 alpine linux-musl-x64 linux-musl linux-x64 linux unix-x64 unix any base Runtime: alpine.3.6-x64 | Fallbacks: alpine.3.6 alpine-x64 alpine linux-musl-x64 linux-musl linux-x64 linux unix-x64 unix any base Runtime: alpine.3.7-x64 | Fallbacks: alpine.3.7 alpine.3.6-x64 alpine.3.6 alpine-x64 alpine linux-musl-x64 linux-musl linux-x64 linux unix-x64 unix any base Runtime: alpine.3.8-x64 | Fallbacks: alpine.3.8 alpine.3.7-x64 alpine.3.7 alpine.3.6-x64 alpine.3.6 alpine-x64 alpine linux-musl-x64 linux-musl linux-x64 linux unix-x64 unix any base Runtime: alpine.3.9-x64 | Fallbacks: alpine.3.9 alpine.3.8-x64 alpine.3.8 alpine.3.7-x64 alpine.3.7 alpine.3.6-x64 alpine.3.6 alpine-x64 alpine linux-musl-x64 linux-musl linux-x64 linux unix-x64 unix any base Runtime: android-x64 | Fallbacks: android linux-x64 linux unix-x64 unix any base Runtime: android.21-x64 | Fallbacks: android.21 android-x64 android linux-x64 linux unix-x64 unix any base Runtime: android.22-x64 | Fallbacks: android.22 android.21-x64 android.21 android-x64 android linux-x64 linux unix-x64 unix any base Runtime: android.23-x64 | Fallbacks: android.23 android.22-x64 android.22 android.21-x64 android.21 android-x64 android linux-x64 linux unix-x64 unix any base Runtime: android.24-x64 | Fallbacks: android.24 android.23-x64 android.23 android.22-x64 android.22 android.21-x64 android.21 android-x64 android linux-x64 linux unix-x64 unix any base Runtime: android.25-x64 | Fallbacks: android.25 android.24-x64 android.24 android.23-x64 android.23 android.22-x64 android.22 android.21-x64 android.21 android-x64 android linux-x64 linux unix-x64 unix any base Runtime: android.26-x64 | Fallbacks: android.26 android.25-x64 android.25 android.24-x64 android.24 android.23-x64 android.23 android.22-x64 android.22 android.21-x64 android.21 android-x64 android linux-x64 linux unix-x64 unix any base Runtime: android.27-x64 | Fallbacks: android.27 android.26-x64 android.26 android.25-x64 android.25 android.24-x64 android.24 android.23-x64 android.23 android.22-x64 android.22 android.21-x64 android.21 android-x64 android linux-x64 linux unix-x64 unix any base Runtime: android.28-x64 | Fallbacks: android.28 android.27-x64 android.27 android.26-x64 android.26 android.25-x64 android.25 android.24-x64 android.24 android.23-x64 android.23 android.22-x64 android.22 android.21-x64 android.21 android-x64 android linux-x64 linux unix-x64 unix any base Runtime: android.29-x64 | Fallbacks: android.29 android.28-x64 android.28 android.27-x64 android.27 android.26-x64 android.26 android.25-x64 android.25 android.24-x64 android.24 android.23-x64 android.23 android.22-x64 android.22 android.21-x64 android.21 android-x64 android linux-x64 linux unix-x64 unix any base Runtime: android.30-x64 | Fallbacks: android.30 android.29-x64 android.29 android.28-x64 android.28 android.27-x64 android.27 android.26-x</pre></div></td></tr><tr><td>Embedding</td><td><div class=\"dni-plaintext\"><pre>[ 0.019324131, 0.011482557, 0.0019214335, -0.021945072, 0.0001695643, 0.022143414, -0.040064987, -0.035078116, -0.025940238, -0.031847984, 0.024424342, 0.005093127, -0.00896787, 0.01989082, -0.014429346, 0.012141335, 0.018785777, 0.009775404, 0.01469144, -0.010908783 ... (1516 more) ]</pre></div></td></tr></tbody></table></div></details></td></tr><tr><td>1</td><td><details class=\"dni-treeview\"><summary><span class=\"dni-code-hint\"><code>TextWithEmbedding { Text = Title: DependencyContext RuntimeGraph expected behavior.\\nArea: AssemblyLoader coreclr\\n\\n linux unix-x64 unix any base Runtime: android.30-x64 | Fallbacks: android.30 android.29-x64 android.29 android.28-x64 android.28 android.27-x64 android.27 android.26-x64 android.26 a...</code></span></summary><div><table><thead><tr></tr></thead><tbody><tr><td>Text</td><td><div class=\"dni-plaintext\"><pre>Title: DependencyContext RuntimeGraph expected behavior.\n",
       "Area: AssemblyLoader coreclr\n",
       "\n",
       " linux unix-x64 unix any base Runtime: android.30-x64 | Fallbacks: android.30 android.29-x64 android.29 android.28-x64 android.28 android.27-x64 android.27 android.26-x64 android.26 android.25-x64 android.25 android.24-x64 android.24 android.23-x64 android.23 android.22-x64 android.22 android.21-x64 android.21 android-x64 android linux-x64 linux unix-x64 unix any base Runtime: android.31-x64 | Fallbacks: android.31 android.30-x64 android.30 android.29-x64 android.29 android.28-x64 android.28 android.27-x64 android.27 android.26-x64 android.26 android.25-x64 android.25 android.24-x64 android.24 android.23-x64 android.23 android.22-x64 android.22 android.21-x64 android.21 android-x64 android linux-x64 linux unix-x64 unix any base Runtime: android.32-x64 | Fallbacks: android.32 android.31-x64 android.31 android.30-x64 android.30 android.29-x64 android.29 android.28-x64 android.28 android.27-x64 android.27 android.26-x64 android.26 android.25-x64 android.25 android.24-x64 android.24 android.23-x64 android.23 android.22-x64 android.22 android.21-x64 android.21 android-x64 android linux-x64 linux unix-x64 unix any base Runtime: arch-x64 | Fallbacks: arch linux-x64 linux unix-x64 unix any base Runtime: centos-x64 | Fallbacks: centos rhel-x64 rhel linux-x64 linux unix-x64 unix any base Runtime: centos.7-x64 | Fallbacks: centos.7 centos-x64 rhel.7-x64 centos rhel.7 rhel-x64 rhel linux-x64 linux unix-x64 unix any base Runtime: centos.8-x64 | Fallbacks: centos.8 centos-x64 rhel.8-x64 centos rhel.8 rhel-x64 rhel linux-x64 linux unix-x64 unix any base Runtime: centos.9-x64 | Fallbacks: centos.9 centos-x64 rhel.9-x64 centos rhel.9 rhel-x64 rhel linux-x64 linux unix-x64 unix any base {SNIP} (you get the idea)...\r\n",
       "\r\n",
       "On Rocky Linux 8.8, I also get a single entry stating `rocky.8-x64` (note: no minor build number, unlike OL) with fallbacks for Rocky.\r\n",
       "\r\n",
       "It seems to be about every known linux distribution from https://github.com/dotnet/runtime/blob/main/src/libraries/Microsoft.NETCore.Platforms/src/runtime.json.\r\n",
       "\r\n",
       "Which of these is the correct behavior?\r\n",
       "Does something else need to be done during build/publish time to change this?</pre></div></td></tr><tr><td>Embedding</td><td><div class=\"dni-plaintext\"><pre>[ 0.014448724, -0.010964074, 0.007867405, -0.01898236, -0.013112343, 0.025534939, -0.04779359, -0.032216847, -0.030779878, -0.011991506, 0.043597642, -0.008169169, -0.008772696, 0.006308294, -0.01902547, 0.014032003, 0.01717178, -0.002942194, 0.010518613, -0.010123447 ... (1516 more) ]</pre></div></td></tr></tbody></table></div></details></td></tr></tbody></table></td></tr><tr><td><details class=\"dni-treeview\"><summary><span class=\"dni-code-hint\"><code>GitHubIssue { Title = No way to set the .NET entry assembly from unmanaged host? Also, documentation seems to be wrong/unclear., Text = ### Description\\r\\n\\r\\nI have a rather complex scenario where I have to launch a WPF (.NET 7) application from another .NET application (let&#39;s call that one the .NE...</code></span></summary><div><table><thead><tr></tr></thead><tbody><tr><td>Title</td><td><div class=\"dni-plaintext\"><pre>No way to set the .NET entry assembly from unmanaged host? Also, documentation seems to be wrong/unclear.</pre></div></td></tr><tr><td>Text</td><td><div class=\"dni-plaintext\"><pre>### Description\r\n",
       "\r\n",
       "I have a rather complex scenario where I have to launch a WPF (.NET 7) application from another .NET application (let&#39;s call that one the .NET host application), in the same process as the .NET host application, which in turn is hosted in an unmanaged application using hostfxr&#39;s `hdt_load_assembly_and_get_function_pointer`.\r\n",
       "\r\n",
       "In the  .NET host application, I load the WPF application assembly from bytes in memory, then invoke the `Assembly.EntryPoint` to launch it. It is here that the problem manifests itself. WPF depends on Assembly.GetEntryAssembly () returning the main WPF assembly for resource management.\r\n",
       "In my case however, Assembly.GetEntryAssembly () returns `null`, with no apparent way to set it to anything else, making the WPF app crash.\r\n",
       "\r\n",
       "The [documentation](https://learn.microsoft.com/en-us/dotnet/api/system.reflection.assembly.getentryassembly?view=net-7.0) for `Assembly.GetEntryAssembly` states it returns:\r\n",
       "\r\n",
       "`The assembly that is the process executable in the default application domain, or the first executable that was executed by AppDomain.ExecuteAssembly(String). Can return null when called from unmanaged code.`\r\n",
       "\r\n",
       "However, when I look at the runtime source code, all `AppDomain.ExecuteAssembly(String)` seems to do is call a private method that invokes the assembly entrypoint, just like I am doing:\r\n",
       "\r\n",
       "```c#\r\n",
       "private static int ExecuteAssembly(Assembly assembly, string?[]? args)\r\n",
       "{\r\n",
       "    MethodInfo? entry = assembly.EntryPoint;\r\n",
       "    if (entry == null)\r\n",
       "    {\r\n",
       "        throw new MissingMethodException(SR.Arg_EntryPointNotFoundException);\r\n",
       "    }\r\n",
       "\r\n",
       "    object? result = entry.Invoke(\r\n",
       "        obj: null,\r\n",
       "        invokeAttr: BindingFlags.DoNotWrapExceptions,\r\n",
       "        binder: null,\r\n",
       "        parameters: entry.GetParameters().Length &gt; 0 ? new object?[] { args } : null,\r\n",
       "        culture: null);\r\n",
       "\r\n",
       "    return result != null ? (int)result : 0;\r\n",
       "}\r\n",
       "``` \r\n",
       "\r\n",
       "Needless to say, this does not make `Assembly.GetEntryAssembly ()` return a different value.\r\n",
       "\r\n",
       "As far as I can tell, there&#39;s no way to change the behavior of `Assembly.GetEntryAssembly ()`, as all this function does is call `GetEntryAssemblyInternal`: [github](https://github.com/search?q=repo%3Adotnet%2Fruntime%20GetEntryAssemblyInternal&amp;type=code)\r\n",
       "\r\n",
       "So how do I make this work? (assuming I can&#39;t modify the WPF application as it is not mine).\r\n",
       "\r\n",
       "\r\n",
       "\r\n",
       "### Reproduction Steps\r\n",
       "\r\n",
       "Create an unmanaged .NET host, use that to load a .NET assembly that loads another .NET assembly that is the main assembly of a WPF application.\r\n",
       "Start the WPF application by invoking its `Assembly.EntryPoint`.\r\n",
       "\r\n",
       "The application crashes on exceptions caused by `Assembly.GetEntryAssembly ()` returning `null`.\r\n",
       "\r\n",
       "### Expected behavior\r\n",
       "\r\n",
       "I expect there should be a way for an unmanaged host (or even another .NET assembly) to set the value returned by `Assembly.GetEntryAssembly()` to a specific assembly so that it does not return `null`.\r\n",
       "\r\n",
       "### Actual behavior\r\n",
       "\r\n",
       "`Assembly.GetEntryAssembly()` always returns `null`\r\n",
       "\r\n",
       "### Regression?\r\n",
       "\r\n",
       "_No response_\r\n",
       "\r\n",
       "### Known Workarounds\r\n",
       "\r\n",
       "None as far as I can tell\r\n",
       "\r\n",
       "### Configuration\r\n",
       "\r\n",
       ".NET 7, Windows 11, x64. Not relevant, I suspect.\r\n",
       "\r\n",
       "### Other information\r\n",
       "\r\n",
       "_No response_</pre></div></td></tr><tr><td>Area</td><td><div class=\"dni-plaintext\"><pre>AssemblyLoader coreclr</pre></div></td></tr><tr><td>Url</td><td><div class=\"dni-plaintext\"><pre>https://github.com/dotnet/runtime/issues/94139</pre></div></td></tr></tbody></table></div></details></td><td><table><thead><tr><th><i>index</i></th><th>value</th></tr></thead><tbody><tr><td>0</td><td><details class=\"dni-treeview\"><summary><span class=\"dni-code-hint\"><code>TextWithEmbedding { Text = Title: No way to set the .NET entry assembly from unmanaged host? Also, documentation seems to be wrong/unclear.\\nArea: AssemblyLoader coreclr\\n\\n### Description\\r\\n\\r\\nI have a rather complex scenario where I have to launch a WPF (.NET 7) application from another .NET app...</code></span></summary><div><table><thead><tr></tr></thead><tbody><tr><td>Text</td><td><div class=\"dni-plaintext\"><pre>Title: No way to set the .NET entry assembly from unmanaged host? Also, documentation seems to be wrong/unclear.\n",
       "Area: AssemblyLoader coreclr\n",
       "\n",
       "### Description\r\n",
       "\r\n",
       "I have a rather complex scenario where I have to launch a WPF (.NET 7) application from another .NET application (let&#39;s call that one the .NET host application), in the same process as the .NET host application, which in turn is hosted in an unmanaged application using hostfxr&#39;s `hdt_load_assembly_and_get_function_pointer`.\r\n",
       "\r\n",
       "In the  .NET host application, I load the WPF application assembly from bytes in memory, then invoke the `Assembly.EntryPoint` to launch it. It is here that the problem manifests itself. WPF depends on Assembly.GetEntryAssembly () returning the main WPF assembly for resource management.\r\n",
       "In my case however, Assembly.GetEntryAssembly () returns `null`, with no apparent way to set it to anything else, making the WPF app crash.\r\n",
       "\r\n",
       "The [documentation](https://learn.microsoft.com/en-us/dotnet/api/system.reflection.assembly.getentryassembly?view=net-7.0) for `Assembly.GetEntryAssembly` states it returns:\r\n",
       "\r\n",
       "`The assembly that is the process executable in the default application domain, or the first executable that was executed by AppDomain.ExecuteAssembly(String). Can return null when called from unmanaged code.`\r\n",
       "\r\n",
       "However, when I look at the runtime source code, all `AppDomain.ExecuteAssembly(String)` seems to do is call a private method that invokes the assembly entrypoint, just like I am doing:\r\n",
       "\r\n",
       "```c#\r\n",
       "private static int ExecuteAssembly(Assembly assembly, string?[]? args)\r\n",
       "{\r\n",
       "    MethodInfo? entry = assembly.EntryPoint;\r\n",
       "    if (entry == null)\r\n",
       "    {\r\n",
       "        throw new MissingMethodException(SR.Arg_EntryPointNotFoundException);\r\n",
       "    }\r\n",
       "\r\n",
       "    object? result = entry.Invoke(\r\n",
       "        obj: null,\r\n",
       "        invokeAttr: BindingFlags.DoNotWrapExceptions,\r\n",
       "        binder: null,\r\n",
       "        parameters: entry.GetParameters().Length &gt; 0 ? new object?[] { args } : null,\r\n",
       "        culture: null);\r\n",
       "\r\n",
       "    return result != null ? (int)result : 0;\r\n",
       "}\r\n",
       "``` \r\n",
       "\r\n",
       "Needless to say, this does not make `Assembly.GetEntryAssembly ()` return a different value.\r\n",
       "\r\n",
       "As far as I can tell, there&#39;s no way to change the behavior of `Assembly.GetEntryAssembly ()`, as all this function does is call `GetEntryAssemblyInternal`: [github](https://github.com/search?q=repo%3Adotnet%2Fruntime%20GetEntryAssemblyInternal&amp;type=code)\r\n",
       "\r\n",
       "So how do I make this work? (assuming I can&#39;t modify the WPF application as it is not mine).\r\n",
       "\r\n",
       "\r\n",
       "\r\n",
       "### Reproduction Steps\r\n",
       "\r\n",
       "Create an unmanaged .NET host, use that to load a .NET assembly that loads another .NET assembly that is the main assembly of a WPF application.\r\n",
       "Start the WPF application by invoking its `Assembly.EntryPoint`.\r\n",
       "\r\n",
       "The application crashes on exceptions caused by `Assembly.GetEntryAssembly ()` returning `null`.\r\n",
       "\r\n",
       "### Expected behavior\r\n",
       "\r\n",
       "I expect there should be a way for an unmanaged host (or even another .NET assembly) to set the value returned by `Assembly.GetEntryAssembly()` to a specific assembly so that it does not return `null`.\r\n",
       "\r\n",
       "### Actual behavior\r\n",
       "\r\n",
       "`Assembly.GetEntryAssembly()` always returns `null`\r\n",
       "\r\n",
       "### Regression?\r\n",
       "\r\n",
       "_No response_\r\n",
       "\r\n",
       "### Known Workarounds\r\n",
       "\r\n",
       "None as far as I can tell\r\n",
       "\r\n",
       "### Configuration\r\n",
       "\r\n",
       ".NET 7, Windows 11, x64. Not relevant, I suspect.\r\n",
       "\r\n",
       "### Other information\r\n",
       "\r\n",
       "_No response_</pre></div></td></tr><tr><td>Embedding</td><td><div class=\"dni-plaintext\"><pre>[ -0.006688335, 0.022486106, 0.004288016, 0.0018721103, -0.026600938, 0.022652362, -0.015337103, -0.007820953, -0.04572036, 0.004790247, 0.027598472, 0.010529538, 0.0038100302, -0.0036541652, 0.0019933386, -0.0018253508, 0.011007523, -0.027252106, -0.0063454323, -0.01850982 ... (1516 more) ]</pre></div></td></tr></tbody></table></div></details></td></tr></tbody></table></td></tr><tr><td><details class=\"dni-treeview\"><summary><span class=\"dni-code-hint\"><code>GitHubIssue { Title = System.Text.Json 7.0.2 fails to load in a .net6 application., Text = ### Description\\r\\n\\r\\nWe are attempting to reference RestSharp 110.2 which references system.text.json 7.0.2.\\r\\nOur application has many integration scenarios (as a full wpf application, headless service, or...</code></span></summary><div><table><thead><tr></tr></thead><tbody><tr><td>Title</td><td><div class=\"dni-plaintext\"><pre>System.Text.Json 7.0.2 fails to load in a .net6 application.</pre></div></td></tr><tr><td>Text</td><td><div class=\"dni-plaintext\"><pre>### Description\r\n",
       "\r\n",
       "We are attempting to reference RestSharp 110.2 which references system.text.json 7.0.2.\r\n",
       "Our application has many integration scenarios (as a full wpf application, headless service, or as a desktop plugin) and targets net6.\r\n",
       "We do not currently use deps.json files as they caused our application to not find our own project dependencies during our migration to .net6.\r\n",
       "\r\n",
       "When starting our application we try to use a RestSharp class, this attempts to resolve system.text.json which fails with an error that the assembly cannot be loaded. A reason is not given and the inner exception is null.\r\n",
       "\r\n",
       "Using dotnet-trace I see the following:\r\n",
       "```\r\n",
       "HasStack=&quot;True&quot; ThreadID=&quot;19,208&quot; ProcessorNumber=&quot;0&quot; ClrInstanceID=&quot;6&quot; AssemblyName=&quot;System.Text.Json, Version=7.0.0.0, Culture=neutral, PublicKeyToken=cc7b13ffcd2ddd51&quot; Stage=&quot;ApplicationAssemblies&quot; AssemblyLoadContext=&quot;Default&quot; Result=&quot;MismatchedAssemblyName&quot; ResultAssemblyName=&quot;System.Text.Json, Version=6.0.0.0, Culture=neutral, PublicKeyToken=cc7b13ffcd2ddd51&quot; ResultAssemblyPath=&quot;C:\\Program Files\\dotnet\\shared\\Microsoft.NETCore.App\\6.0.23\\System.Text.Json.dll&quot; ErrorMessage=&quot;Requested version 7.0.0.0 is incompatible with found version 6.0.0.0&quot; ActivityID=&quot;/#15712/1/225/&quot; \r\n",
       "```\r\n",
       "\r\n",
       "I have verified in the module window in visual studio that no version of system.text.json is loaded at this time.\r\n",
       "\r\n",
       "In a small test project, we can recreate this issue by removing the deps.json file.\r\n",
       "\r\n",
       "\r\n",
       "\r\n",
       "\r\n",
       "\r\n",
       "\r\n",
       "\r\n",
       "### Reproduction Steps\r\n",
       "\r\n",
       "please see:\r\n",
       "https://github.com/pinzart90/SytemTextDemo/tree/main\r\n",
       "\r\n",
       "this test project sets `GenerateDependencyFile` to false at build time, setting it to true resolves the issue. But that causes other issues for our application and integration.\r\n",
       "\r\n",
       "We&#39;d like to understand if the behavior we are seeing is a bug or as designed and if there are any workarounds.\r\n",
       "\r\n",
       "### Expected behavior\r\n",
       "\r\n",
       "We expect that STJ 7.0 will be loaded in net6 since we reference it and no other earlier version of STJ is loaded.\r\n",
       "We expect that it will be loaded even if a `GenerateDependencyFile` is false at build time and we do not have deps.json files.\r\n",
       "\r\n",
       "### Actual behavior\r\n",
       "\r\n",
       "The assembly fails to load even when using an assembly resolver.\r\n",
       "\r\n",
       "### Regression?\r\n",
       "\r\n",
       "unknown\r\n",
       "\r\n",
       "### Known Workarounds\r\n",
       "\r\n",
       "Hoping you can provide some.\r\n",
       "\r\n",
       "### Configuration\r\n",
       "\r\n",
       "6.0.415\r\n",
       "windows 11 pro\r\n",
       "x64\r\n",
       "no\r\n",
       "na\r\n",
       "\r\n",
       "### Other information\r\n",
       "\r\n",
       "_No response_</pre></div></td></tr><tr><td>Area</td><td><div class=\"dni-plaintext\"><pre>AssemblyLoader coreclr</pre></div></td></tr><tr><td>Url</td><td><div class=\"dni-plaintext\"><pre>https://github.com/dotnet/runtime/issues/93780</pre></div></td></tr></tbody></table></div></details></td><td><table><thead><tr><th><i>index</i></th><th>value</th></tr></thead><tbody><tr><td>0</td><td><details class=\"dni-treeview\"><summary><span class=\"dni-code-hint\"><code>TextWithEmbedding { Text = Title: System.Text.Json 7.0.2 fails to load in a .net6 application.\\nArea: AssemblyLoader coreclr\\n\\n### Description\\r\\n\\r\\nWe are attempting to reference RestSharp 110.2 which references system.text.json 7.0.2.\\r\\nOur application has many integration scenarios (as a full ...</code></span></summary><div><table><thead><tr></tr></thead><tbody><tr><td>Text</td><td><div class=\"dni-plaintext\"><pre>Title: System.Text.Json 7.0.2 fails to load in a .net6 application.\n",
       "Area: AssemblyLoader coreclr\n",
       "\n",
       "### Description\r\n",
       "\r\n",
       "We are attempting to reference RestSharp 110.2 which references system.text.json 7.0.2.\r\n",
       "Our application has many integration scenarios (as a full wpf application, headless service, or as a desktop plugin) and targets net6.\r\n",
       "We do not currently use deps.json files as they caused our application to not find our own project dependencies during our migration to .net6.\r\n",
       "\r\n",
       "When starting our application we try to use a RestSharp class, this attempts to resolve system.text.json which fails with an error that the assembly cannot be loaded. A reason is not given and the inner exception is null.\r\n",
       "\r\n",
       "Using dotnet-trace I see the following:\r\n",
       "```\r\n",
       "HasStack=&quot;True&quot; ThreadID=&quot;19,208&quot; ProcessorNumber=&quot;0&quot; ClrInstanceID=&quot;6&quot; AssemblyName=&quot;System.Text.Json, Version=7.0.0.0, Culture=neutral, PublicKeyToken=cc7b13ffcd2ddd51&quot; Stage=&quot;ApplicationAssemblies&quot; AssemblyLoadContext=&quot;Default&quot; Result=&quot;MismatchedAssemblyName&quot; ResultAssemblyName=&quot;System.Text.Json, Version=6.0.0.0, Culture=neutral, PublicKeyToken=cc7b13ffcd2ddd51&quot; ResultAssemblyPath=&quot;C:\\Program Files\\dotnet\\shared\\Microsoft.NETCore.App\\6.0.23\\System.Text.Json.dll&quot; ErrorMessage=&quot;Requested version 7.0.0.0 is incompatible with found version 6.0.0.0&quot; ActivityID=&quot;/#15712/1/225/&quot; \r\n",
       "```\r\n",
       "\r\n",
       "I have verified in the module window in visual studio that no version of system.text.json is loaded at this time.\r\n",
       "\r\n",
       "In a small test project, we can recreate this issue by removing the deps.json file.\r\n",
       "\r\n",
       "\r\n",
       "\r\n",
       "\r\n",
       "\r\n",
       "\r\n",
       "\r\n",
       "### Reproduction Steps\r\n",
       "\r\n",
       "please see:\r\n",
       "https://github.com/pinzart90/SytemTextDemo/tree/main\r\n",
       "\r\n",
       "this test project sets `GenerateDependencyFile` to false at build time, setting it to true resolves the issue. But that causes other issues for our application and integration.\r\n",
       "\r\n",
       "We&#39;d like to understand if the behavior we are seeing is a bug or as designed and if there are any workarounds.\r\n",
       "\r\n",
       "### Expected behavior\r\n",
       "\r\n",
       "We expect that STJ 7.0 will be loaded in net6 since we reference it and no other earlier version of STJ is loaded.\r\n",
       "We expect that it will be loaded even if a `GenerateDependencyFile` is false at build time and we do not have deps.json files.\r\n",
       "\r\n",
       "### Actual behavior\r\n",
       "\r\n",
       "The assembly fails to load even when using an assembly resolver.\r\n",
       "\r\n",
       "### Regression?\r\n",
       "\r\n",
       "unknown\r\n",
       "\r\n",
       "### Known Workarounds\r\n",
       "\r\n",
       "Hoping you can provide some.\r\n",
       "\r\n",
       "### Configuration\r\n",
       "\r\n",
       "6.0.415\r\n",
       "windows 11 pro\r\n",
       "x64\r\n",
       "no\r\n",
       "na\r\n",
       "\r\n",
       "### Other information\r\n",
       "\r\n",
       "_No response_</pre></div></td></tr><tr><td>Embedding</td><td><div class=\"dni-plaintext\"><pre>[ -0.00927887, 0.018907337, -0.015265708, 0.02027659, 0.0013765356, 0.046671115, -0.021864338, -0.019985259, -0.018543173, -0.012417953, 0.014624781, -0.0073779398, 0.008332047, -0.013721657, 0.0011325466, 0.01654756, 0.01696999, -0.006893603, 0.027588978, -0.02980309 ... (1516 more) ]</pre></div></td></tr></tbody></table></div></details></td></tr></tbody></table></td></tr><tr><td><details class=\"dni-treeview\"><summary><span class=\"dni-code-hint\"><code>GitHubIssue { Title = [API Proposal]: Add constructor to AssemblyLoadContext that&#39;s accepting custom path, Text = ### Background and motivation\\r\\n\\r\\n# Current Situation\\r\\n\\r\\nIt’s such a common case to load a number of assemblies from a different location – in fact, this is the default case for u...</code></span></summary><div><table><thead><tr></tr></thead><tbody><tr><td>Title</td><td><div class=\"dni-plaintext\"><pre>[API Proposal]: Add constructor to AssemblyLoadContext that&#39;s accepting custom path</pre></div></td></tr><tr><td>Text</td><td><div class=\"dni-plaintext\"><pre>### Background and motivation\r\n",
       "\r\n",
       "# Current Situation\r\n",
       "\r\n",
       "It’s such a common case to load a number of assemblies from a different location – in fact, this is the default case for using [`AssemblyLoadContext`](https://learn.microsoft.com/en-us/dotnet/api/system.runtime.loader.assemblyloadcontext).\r\n",
       "\r\n",
       "Yet, for implementing this simple and regular use case, it&#39;s required to manually derive from [`AssemblyLoadContext`](https://learn.microsoft.com/en-us/dotnet/api/system.runtime.loader.assemblyloadcontext) and to create your own implementation that’s doing nothing else than just providing [`AssemblyDependencyResolver`](https://learn.microsoft.com/en-us/dotnet/api/system.runtime.loader.assemblydependencyresolver) with that path, making a mountain out of a molehill.\r\n",
       "\r\n",
       "See [Create a .NET Core application with plugins](https://learn.microsoft.com/en-us/dotnet/core/tutorials/creating-app-with-plugin-support#load-plugins) for reference.\r\n",
       "\r\n",
       "# Desired Situation\r\n",
       "\r\n",
       "I propose to add a constructor to [`AssemblyLoadContext`](https://learn.microsoft.com/en-us/dotnet/api/system.runtime.loader.assemblyloadcontext) that’s accepting a file system directory path, so we can just use this constructor instead of being required to create a blatantly dispensable new class for this standard use case.\r\n",
       "\r\n",
       "### API Proposal\r\n",
       "\r\n",
       "```csharp\r\n",
       "public AssemblyLoadContext(string filePath, string? name = null, bool isCollectible = false) {}\r\n",
       "```\r\n",
       "\r\n",
       "### API Usage\r\n",
       "\r\n",
       "```csharp\r\n",
       "new AssemblyLoadContext(@&quot;.\\plugIns&quot;).LoadFromAssemblyPath(@&quot;.\\plugIns\\PlugIn1.dll&quot;)\r\n",
       "```</pre></div></td></tr><tr><td>Area</td><td><div class=\"dni-plaintext\"><pre>AssemblyLoader coreclr</pre></div></td></tr><tr><td>Url</td><td><div class=\"dni-plaintext\"><pre>https://github.com/dotnet/runtime/issues/92074</pre></div></td></tr></tbody></table></div></details></td><td><table><thead><tr><th><i>index</i></th><th>value</th></tr></thead><tbody><tr><td>0</td><td><details class=\"dni-treeview\"><summary><span class=\"dni-code-hint\"><code>TextWithEmbedding { Text = Title: [API Proposal]: Add constructor to AssemblyLoadContext that&#39;s accepting custom path\\nArea: AssemblyLoader coreclr\\n\\n### Background and motivation\\r\\n\\r\\n# Current Situation\\r\\n\\r\\nIt’s such a common case to load a number of assemblies from a different location – in...</code></span></summary><div><table><thead><tr></tr></thead><tbody><tr><td>Text</td><td><div class=\"dni-plaintext\"><pre>Title: [API Proposal]: Add constructor to AssemblyLoadContext that&#39;s accepting custom path\n",
       "Area: AssemblyLoader coreclr\n",
       "\n",
       "### Background and motivation\r\n",
       "\r\n",
       "# Current Situation\r\n",
       "\r\n",
       "It’s such a common case to load a number of assemblies from a different location – in fact, this is the default case for using [`AssemblyLoadContext`](https://learn.microsoft.com/en-us/dotnet/api/system.runtime.loader.assemblyloadcontext).\r\n",
       "\r\n",
       "Yet, for implementing this simple and regular use case, it&#39;s required to manually derive from [`AssemblyLoadContext`](https://learn.microsoft.com/en-us/dotnet/api/system.runtime.loader.assemblyloadcontext) and to create your own implementation that’s doing nothing else than just providing [`AssemblyDependencyResolver`](https://learn.microsoft.com/en-us/dotnet/api/system.runtime.loader.assemblydependencyresolver) with that path, making a mountain out of a molehill.\r\n",
       "\r\n",
       "See [Create a .NET Core application with plugins](https://learn.microsoft.com/en-us/dotnet/core/tutorials/creating-app-with-plugin-support#load-plugins) for reference.\r\n",
       "\r\n",
       "# Desired Situation\r\n",
       "\r\n",
       "I propose to add a constructor to [`AssemblyLoadContext`](https://learn.microsoft.com/en-us/dotnet/api/system.runtime.loader.assemblyloadcontext) that’s accepting a file system directory path, so we can just use this constructor instead of being required to create a blatantly dispensable new class for this standard use case.\r\n",
       "\r\n",
       "### API Proposal\r\n",
       "\r\n",
       "```csharp\r\n",
       "public AssemblyLoadContext(string filePath, string? name = null, bool isCollectible = false) {}\r\n",
       "```\r\n",
       "\r\n",
       "### API Usage\r\n",
       "\r\n",
       "```csharp\r\n",
       "new AssemblyLoadContext(@&quot;.\\plugIns&quot;).LoadFromAssemblyPath(@&quot;.\\plugIns\\PlugIn1.dll&quot;)\r\n",
       "```</pre></div></td></tr><tr><td>Embedding</td><td><div class=\"dni-plaintext\"><pre>[ 0.030751444, 0.020277333, -0.0030771983, -0.0032569012, -0.0203321, 0.034420807, -0.030285928, -0.021564348, -0.0012801692, -0.013506812, 0.036885303, -0.0117405895, 0.010638412, 0.009193943, 0.00024431036, 0.005315783, 0.030477611, 0.0010653815, 0.01677227, 0.025028335 ... (1516 more) ]</pre></div></td></tr></tbody></table></div></details></td></tr></tbody></table></td></tr><tr><td><details class=\"dni-treeview\"><summary><span class=\"dni-code-hint\"><code>GitHubIssue { Title = Assembly Resolution finding a mismatched version corrupts state and makes loading good version impossible, Text = ### Description\\r\\n\\r\\nWhile trying to resolve an assembly for loading, if one of the stages finds a mismatched version, later resolution stages fail to load good v...</code></span></summary><div><table><thead><tr></tr></thead><tbody><tr><td>Title</td><td><div class=\"dni-plaintext\"><pre>Assembly Resolution finding a mismatched version corrupts state and makes loading good version impossible</pre></div></td></tr><tr><td>Text</td><td><div class=\"dni-plaintext\"><pre>### Description\r\n",
       "\r\n",
       "While trying to resolve an assembly for loading, if one of the stages finds a mismatched version, later resolution stages fail to load good version.\r\n",
       "\r\n",
       "### Reproduction Steps\r\n",
       "\r\n",
       "Put an old version of the required assembly in the application process .exe folder, then subscribe an assembly loader that will pick the right version from elsewhere.\r\n",
       "\r\n",
       "Alternatively, I suspect that attempting to call Assembly.Load(name) with the wrong version beside the .exe and then execute LoadFrom(pathToGoodVersion) will fail as well.\r\n",
       "\r\n",
       "### Expected behavior\r\n",
       "\r\n",
       "Good version should always succeed to load.\r\n",
       "\r\n",
       "Here are traces of what happens if the assembly is not found at stage:ApplicationAssemblies, stage:AppDomainAssemblyResolveEvent succeeds.\r\n",
       "\r\n",
       "&lt;HTML&gt;\r\n",
       "&lt;BODY&gt;\r\n",
       "&lt;!--StartFragment--&gt;&lt;TABLE&gt;&lt;TR&gt;&lt;TD&gt;Rest&lt;/TD&gt;&lt;/TR&gt;&lt;TR&gt;&lt;TD&gt;HasStack=&amp;quot;True&amp;quot; ThreadID=&amp;quot;55,320&amp;quot; ProcessorNumber=&amp;quot;0&amp;quot; ClrInstanceID=&amp;quot;10&amp;quot; AssemblyName=&amp;quot;FluentAssertions, Version=6.7.0.0, Culture=neutral, PublicKeyToken=33f2691a05b67b6a&amp;quot; Stage=&amp;quot;FindInLoadContext&amp;quot; AssemblyLoadContext=&amp;quot;Default&amp;quot; Result=&amp;quot;AssemblyNotFound&amp;quot; ResultAssemblyName=&amp;quot;&amp;quot; ResultAssemblyPath=&amp;quot;&amp;quot; ErrorMessage=&amp;quot;Could not locate assembly&amp;quot; ActivityID=&amp;quot;/#7520/1/206/&amp;quot; &lt;/TD&gt;&lt;/TR&gt;&lt;TR&gt;&lt;TD&gt;HasStack=&amp;quot;True&amp;quot; ThreadID=&amp;quot;55,320&amp;quot; ProcessorNumber=&amp;quot;0&amp;quot; ClrInstanceID=&amp;quot;10&amp;quot; AssemblyName=&amp;quot;FluentAssertions, Version=6.7.0.0, Culture=neutral, PublicKeyToken=33f2691a05b67b6a&amp;quot; Stage=&amp;quot;ApplicationAssemblies&amp;quot; AssemblyLoadContext=&amp;quot;Default&amp;quot; Result=&amp;quot;AssemblyNotFound&amp;quot; ResultAssemblyName=&amp;quot;&amp;quot; ResultAssemblyPath=&amp;quot;&amp;quot; ErrorMessage=&amp;quot;Could not locate assembly&amp;quot; ActivityID=&amp;quot;/#7520/1/206/&amp;quot; &lt;/TD&gt;&lt;/TR&gt;&lt;TR&gt;&lt;TD&gt;HasStack=&amp;quot;True&amp;quot; ThreadID=&amp;quot;55,320&amp;quot; ProcessorNumber=&amp;quot;0&amp;quot; ClrInstanceID=&amp;quot;10&amp;quot; AssemblyName=&amp;quot;FluentAssertions, Version=6.7.0.0, Culture=neutral, PublicKeyToken=33f2691a05b67b6a&amp;quot; Stage=&amp;quot;AssemblyLoadContextResolvingEvent&amp;quot; AssemblyLoadContext=&amp;quot;Default&amp;quot; Result=&amp;quot;AssemblyNotFound&amp;quot; ResultAssemblyName=&amp;quot;&amp;quot; ResultAssemblyPath=&amp;quot;&amp;quot; ErrorMessage=&amp;quot;Could not locate assembly&amp;quot; ActivityID=&amp;quot;/#7520/1/206/&amp;quot; &lt;/TD&gt;&lt;/TR&gt;&lt;TR&gt;&lt;TD&gt;HasStack=&amp;quot;True&amp;quot; ThreadID=&amp;quot;55,320&amp;quot; ProcessorNumber=&amp;quot;0&amp;quot; ClrInstanceID=&amp;quot;10&amp;quot; AssemblyName=&amp;quot;FluentAssertions, Version=6.7.0.0, Culture=neutral, PublicKeyToken=33f2691a05b67b6a&amp;quot; Stage=&amp;quot;AppDomainAssemblyResolveEvent&amp;quot; AssemblyLoadContext=&amp;quot;Default&amp;quot; Result=&amp;quot;Success&amp;quot; ResultAssemblyName=&amp;quot;FluentAssertions, Version=6.7.0.0, Culture=neutral, PublicKeyToken=33f2691a05b67b6a&amp;quot; ResultAssemblyPath=&amp;quot;D:\\src\\subs\\target\\test\\managedstore\\Internal.Exchange.Test.ManagedStore.QTests.Common\\bin\\Debug\\net6.0\\FluentAssertions.dll&amp;quot; ErrorMessage=&amp;quot;&amp;quot; ActivityID=&amp;quot;/#7520/1/206/&amp;quot; &lt;/TD&gt;&lt;/TR&gt;&lt;/TABLE&gt;\r\n",
       "&lt;!--EndFragment--&gt;\r\n",
       "&lt;/BODY&gt;\r\n",
       "&lt;/HTML&gt;\r\n",
       "\r\n",
       "### Actual behavior\r\n",
       "\r\n",
       "If the mismatched version is ever rejected, no good version can be loaded.\r\n",
       "\r\n",
       "Here are traces of what happens if the mismatched version is found at stage:ApplicationAssemblies, stage:AppDomainAssemblyResolveEvent succeeds.\r\n",
       "\r\n",
       "&lt;HTML&gt;\r\n",
       "&lt;BODY&gt;\r\n",
       "&lt;!--StartFragment--&gt;&lt;TABLE&gt;&lt;TR&gt;&lt;TD&gt;Rest&lt;/TD&gt;&lt;/TR&gt;&lt;TR&gt;&lt;TD&gt;HasStack=&amp;quot;True&amp;quot; ThreadID=&amp;quot;60,068&amp;quot; ProcessorNumber=&amp;quot;0&amp;quot; ClrInstanceID=&amp;quot;9&amp;quot; AssemblyName=&amp;quot;FluentAssertions, Version=6.7.0.0, Culture=neutral, PublicKeyToken=33f2691a05b67b6a&amp;quot; Stage=&amp;quot;FindInLoadContext&amp;quot; AssemblyLoadContext=&amp;quot;Default&amp;quot; Result=&amp;quot;AssemblyNotFound&amp;quot; ResultAssemblyName=&amp;quot;&amp;quot; ResultAssemblyPath=&amp;quot;&amp;quot; ErrorMessage=&amp;quot;Could not locate assembly&amp;quot; ActivityID=&amp;quot;/#57240/1/206/&amp;quot; &lt;/TD&gt;&lt;/TR&gt;&lt;TR&gt;&lt;TD&gt;HasStack=&amp;quot;True&amp;quot; ThreadID=&amp;quot;60,068&amp;quot; ProcessorNumber=&amp;quot;0&amp;quot; ClrInstanceID=&amp;quot;9&amp;quot; AssemblyName=&amp;quot;FluentAssertions, Version=6.7.0.0, Culture=neutral, PublicKeyToken=33f2691a05b67b6a&amp;quot; Stage=&amp;quot;ApplicationAssemblies&amp;quot; AssemblyLoadContext=&amp;quot;Default&amp;quot; Result=&amp;quot;MismatchedAssemblyName&amp;quot; ResultAssemblyName=&amp;quot;FluentAssertions, Version=5.6.0.0, Culture=neutral, PublicKeyToken=33f2691a05b67b6a&amp;quot; ResultAssemblyPath=&amp;quot;D:\\src\\subs\\target\\test\\tools\\UniTP\\bin\\Debug\\net6.0\\FluentAssertions.dll&amp;quot; ErrorMessage=&amp;quot;Requested version 6.7.0.0 is incompatible with found version 5.6.0.0&amp;quot; ActivityID=&amp;quot;/#57240/1/206/&amp;quot; &lt;/TD&gt;&lt;/TR&gt;&lt;TR&gt;&lt;TD&gt;HasStack=&amp;quot;True&amp;quot; ThreadID=&amp;quot;60,068&amp;quot; ProcessorNumber=&amp;quot;0&amp;quot; ClrInstanceID=&amp;quot;9&amp;quot; AssemblyName=&amp;quot;FluentAssertions, Version=6.7.0.0, Culture=neutral, PublicKeyToken=33f2691a05b67b6a&amp;quot; Stage=&amp;quot;AssemblyLoadContextResolvingEvent&amp;quot; AssemblyLoadContext=&amp;quot;Default&amp;quot; Result=&amp;quot;AssemblyNotFound&amp;quot; ResultAssemblyName=&amp;quot;&amp;quot; ResultAssemblyPath=&amp;quot;&amp;quot; ErrorMessage=&amp;quot;Could not locate assembly&amp;quot; ActivityID=&amp;quot;/#57240/1/206/&amp;quot; &lt;/TD&gt;&lt;/TR&gt;&lt;TR&gt;&lt;TD&gt;HasStack=&amp;quot;True&amp;quot; ThreadID=&amp;quot;60,068&amp;quot; ProcessorNumber=&amp;quot;0&amp;quot; ClrInstanceID=&amp;quot;9&amp;quot; AssemblyName=&amp;quot;FluentAssertions, Version=6.7.0.0, Culture=neutral, PublicKeyToken=33f2691a05b67b6a&amp;quot; Stage=&amp;quot;AppDomainAssemblyResolveEvent&amp;quot; AssemblyLoadContext=&amp;quot;Default&amp;quot; Result=&amp;quot;Exception&amp;quot; ResultAssemblyName=&amp;quot;&amp;quot; ResultAssemblyPath=&amp;quot;&amp;quot; ErrorMessage=&amp;quot;Could not load file or assembly &#39;FluentAssertions, Version=6.7.0.0, Culture=neutral, PublicKeyToken=33f2691a05b67b6a&#39;.&amp;quot; ActivityID=&amp;quot;/#57240/1/206/&amp;quot; &lt;/TD&gt;&lt;/TR&gt;&lt;/TABLE&gt;\r\n",
       "&lt;!--EndFragment--&gt;\r\n",
       "&lt;/BODY&gt;\r\n",
       "&lt;/HTML&gt;\r\n",
       "\r\n",
       "### Regression?\r\n",
       "\r\n",
       "Yes,\r\n",
       "This did not happen in net472, but happens in net6.0\r\n",
       "\r\n",
       "### Known Workarounds\r\n",
       "\r\n",
       "Avoid bad versions.\r\n",
       "\r\n",
       "### Configuration\r\n",
       "\r\n",
       "net6.0\r\n",
       "Windows\r\n",
       "x64\r\n",
       "\r\n",
       "\r\n",
       "### Other information\r\n",
       "\r\n",
       "_No response_</pre></div></td></tr><tr><td>Area</td><td><div class=\"dni-plaintext\"><pre>AssemblyLoader coreclr</pre></div></td></tr><tr><td>Url</td><td><div class=\"dni-plaintext\"><pre>https://github.com/dotnet/runtime/issues/91952</pre></div></td></tr></tbody></table></div></details></td><td><table><thead><tr><th><i>index</i></th><th>value</th></tr></thead><tbody><tr><td>0</td><td><details class=\"dni-treeview\"><summary><span class=\"dni-code-hint\"><code>TextWithEmbedding { Text = Title: Assembly Resolution finding a mismatched version corrupts state and makes loading good version impossible\\nArea: AssemblyLoader coreclr\\n\\n### Description\\r\\n\\r\\nWhile trying to resolve an assembly for loading, if one of the stages finds a mismatched version, later ...</code></span></summary><div><table><thead><tr></tr></thead><tbody><tr><td>Text</td><td><div class=\"dni-plaintext\"><pre>Title: Assembly Resolution finding a mismatched version corrupts state and makes loading good version impossible\n",
       "Area: AssemblyLoader coreclr\n",
       "\n",
       "### Description\r\n",
       "\r\n",
       "While trying to resolve an assembly for loading, if one of the stages finds a mismatched version, later resolution stages fail to load good version.\r\n",
       "\r\n",
       "### Reproduction Steps\r\n",
       "\r\n",
       "Put an old version of the required assembly in the application process .exe folder, then subscribe an assembly loader that will pick the right version from elsewhere.\r\n",
       "\r\n",
       "Alternatively, I suspect that attempting to call Assembly.Load(name) with the wrong version beside the .exe and then execute LoadFrom(pathToGoodVersion) will fail as well.\r\n",
       "\r\n",
       "### Expected behavior\r\n",
       "\r\n",
       "Good version should always succeed to load.\r\n",
       "\r\n",
       "Here are traces of what happens if the assembly is not found at stage:ApplicationAssemblies, stage:AppDomainAssemblyResolveEvent succeeds.\r\n",
       "\r\n",
       "&lt;HTML&gt;\r\n",
       "&lt;BODY&gt;\r\n",
       "&lt;!--StartFragment--&gt;&lt;TABLE&gt;&lt;TR&gt;&lt;TD&gt;Rest&lt;/TD&gt;&lt;/TR&gt;&lt;TR&gt;&lt;TD&gt;HasStack=&amp;quot;True&amp;quot; ThreadID=&amp;quot;55,320&amp;quot; ProcessorNumber=&amp;quot;0&amp;quot; ClrInstanceID=&amp;quot;10&amp;quot; AssemblyName=&amp;quot;FluentAssertions, Version=6.7.0.0, Culture=neutral, PublicKeyToken=33f2691a05b67b6a&amp;quot; Stage=&amp;quot;FindInLoadContext&amp;quot; AssemblyLoadContext=&amp;quot;Default&amp;quot; Result=&amp;quot;AssemblyNotFound&amp;quot; ResultAssemblyName=&amp;quot;&amp;quot; ResultAssemblyPath=&amp;quot;&amp;quot; ErrorMessage=&amp;quot;Could not locate assembly&amp;quot; ActivityID=&amp;quot;/#7520/1/206/&amp;quot; &lt;/TD&gt;&lt;/TR&gt;&lt;TR&gt;&lt;TD&gt;HasStack=&amp;quot;True&amp;quot; ThreadID=&amp;quot;55,320&amp;quot; ProcessorNumber=&amp;quot;0&amp;quot; ClrInstanceID=&amp;quot;10&amp;quot; AssemblyName=&amp;quot;FluentAssertions, Version=6.7.0.0, Culture=neutral, PublicKeyToken=33f2691a05b67b6a&amp;quot; Stage=&amp;quot;ApplicationAssemblies&amp;quot; AssemblyLoadContext=&amp;quot;Default&amp;quot; Result=&amp;quot;AssemblyNotFound&amp;quot; ResultAssemblyName=&amp;quot;&amp;quot; ResultAssemblyPath=&amp;quot;&amp;quot; ErrorMessage=&amp;quot;Could not locate assembly&amp;quot; ActivityID=&amp;quot;/#7520/1/206/&amp;quot; &lt;/TD&gt;&lt;/TR&gt;&lt;TR&gt;&lt;TD&gt;HasStack=&amp;quot;True&amp;quot; ThreadID=&amp;quot;55,320&amp;quot; ProcessorNumber=&amp;quot;0&amp;quot; ClrInstanceID=&amp;quot;10&amp;quot; AssemblyName=&amp;quot;FluentAssertions, Version=6.7.0.0, Culture=neutral, PublicKeyToken=33f2691a05b67b6a&amp;quot; Stage=&amp;quot;AssemblyLoadContextResolvingEvent&amp;quot; AssemblyLoadContext=&amp;quot;Default&amp;quot; Result=&amp;quot;AssemblyNotFound&amp;quot; ResultAssemblyName=&amp;quot;&amp;quot; ResultAssemblyPath=&amp;quot;&amp;quot; ErrorMessage=&amp;quot;Could not locate assembly&amp;quot; ActivityID=&amp;quot;/#7520/1/206/&amp;quot; &lt;/TD&gt;&lt;/TR&gt;&lt;TR&gt;&lt;TD&gt;HasStack=&amp;quot;True&amp;quot; ThreadID=&amp;quot;55,320&amp;quot; ProcessorNumber=&amp;quot;0&amp;quot; ClrInstanceID=&amp;quot;10&amp;quot; AssemblyName=&amp;quot;FluentAssertions, Version=6.7.0.0, Culture=neutral, PublicKeyToken=33f2691a05b67b6a&amp;quot; Stage=&amp;quot;AppDomainAssemblyResolveEvent&amp;quot; AssemblyLoadContext=&amp;quot;Default&amp;quot; Result=&amp;quot;Success&amp;quot; ResultAssemblyName=&amp;quot;FluentAssertions, Version=6.7.0.0, Culture=neutral, PublicKeyToken=33f2691a05b67b6a&amp;quot; ResultAssemblyPath=&amp;quot;D:\\src\\subs\\target\\test\\managedstore\\Internal.Exchange.Test.ManagedStore.QTests.Common\\bin\\Debug\\net6.0\\FluentAssertions.dll&amp;quot; ErrorMessage=&amp;quot;&amp;quot; ActivityID=&amp;quot;/#7520/1/206/&amp;quot; &lt;/TD&gt;&lt;/TR&gt;&lt;/TABLE&gt;\r\n",
       "&lt;!--EndFragment--&gt;\r\n",
       "&lt;/BODY&gt;\r\n",
       "&lt;/HTML&gt;\r\n",
       "\r\n",
       "### Actual behavior\r\n",
       "\r\n",
       "If the mismatched version is ever rejected, no good version can be loaded.\r\n",
       "\r\n",
       "Here are traces of what happens if the mismatched version is found at stage:ApplicationAssemblies, stage:AppDomainAssemblyResolveEvent succeeds.\r\n",
       "\r\n",
       "&lt;HTML&gt;\r\n",
       "&lt;BODY&gt;\r\n",
       "&lt;!--StartFragment--&gt;&lt;TABLE&gt;&lt;TR&gt;&lt;TD&gt;Rest&lt;/TD&gt;&lt;/TR&gt;&lt;TR&gt;&lt;TD&gt;HasStack=&amp;quot;True&amp;quot; ThreadID=&amp;quot;60,068&amp;quot; ProcessorNumber=&amp;quot;0&amp;quot; ClrInstanceID=&amp;quot;9&amp;quot; AssemblyName=&amp;quot;FluentAssertions, Version=6.7.0.0, Culture=neutral, PublicKeyToken=33f2691a05b67b6a&amp;quot; Stage=&amp;quot;FindInLoadContext&amp;quot; AssemblyLoadContext=&amp;quot;Default&amp;quot; Result=&amp;quot;AssemblyNotFound&amp;quot; ResultAssemblyName=&amp;quot;&amp;quot; ResultAssemblyPath=&amp;quot;&amp;quot; ErrorMessage=&amp;quot;Could not locate assembly&amp;quot; ActivityID=&amp;quot;/#57240/1/206/&amp;quot; &lt;/TD&gt;&lt;/TR&gt;&lt;TR&gt;&lt;TD&gt;HasStack=&amp;quot;True&amp;quot; ThreadID=&amp;quot;60,068&amp;quot; ProcessorNumber=&amp;quot;0&amp;quot; ClrInstanceID=&amp;quot;9&amp;quot; AssemblyName=&amp;quot;FluentAssertions, Version=6.7.0.0, Culture=neutral, PublicKeyToken=33f2691a05b67b6a&amp;quot; Stage=&amp;quot;ApplicationAssemblies&amp;quot; AssemblyLoadContext=&amp;quot;Default&amp;quot; Result=&amp;quot;MismatchedAssemblyName&amp;quot; ResultAssemblyName=&amp;quot;FluentAssertions, Version=5.6.0.0, Culture=neutral, PublicKeyToken=33f2691a05b67b6a&amp;quot; ResultAssemblyPath=&amp;quot;D:\\src\\subs\\target\\test\\tools\\UniTP\\bin\\Debug\\net6.0\\FluentAssertions.dll&amp;quot; ErrorMessage=&amp;quot;Requested version 6.7.0.0 is incompatible with found version 5.6.0.0&amp;quot; ActivityID=&amp;quot;/#57240/1/206/&amp;quot; &lt;/TD&gt;&lt;/TR&gt;&lt;TR&gt;&lt;TD&gt;HasStack=&amp;quot;True&amp;quot; ThreadID=&amp;quot;60,068&amp;quot; ProcessorNumber=&amp;quot;0&amp;quot; ClrInstanceID=&amp;quot;9&amp;quot; AssemblyName=&amp;quot;FluentAssertions, Version=6.7.0.0, Culture=neutral, PublicKeyToken=33f2691a05b67b6a&amp;quot; Stage=&amp;quot;AssemblyLoadContextResolvingEvent&amp;quot; AssemblyLoadContext=&amp;quot;Default&amp;quot; Result=&amp;quot;AssemblyNotFound&amp;quot; ResultAssemblyName=&amp;quot;&amp;quot; ResultAssemblyPath=&amp;quot;&amp;quot; ErrorMessage=&amp;quot;Could not locate assembly&amp;quot; ActivityID=&amp;quot;/#57240/1/206/&amp;quot; &lt;/TD&gt;&lt;/TR&gt;&lt;TR&gt;&lt;TD&gt;HasStack=&amp;quot;True&amp;quot; ThreadID=&amp;quot;60,068&amp;quot; ProcessorNumber=&amp;quot;0&amp;quot; ClrInstanceID=&amp;quot;9&amp;quot; AssemblyName=&amp;quot;FluentAssertions, Version=6.7.0.0, Culture=neutral, PublicKeyToken=33f2691a05b67b6a&amp;quot; Stage=&amp;quot;AppDomainAssemblyResolveEvent&amp;quot; AssemblyLoadContext=&amp;quot;Default&amp;quot; Result=&amp;quot;Exception&amp;quot; ResultAssemblyName=&amp;quot;&amp;quot; ResultAssemblyPath=&amp;quot;&amp;quot; ErrorMessage=&amp;quot;Could not load file or assembly &#39;FluentAssertions, Version=6.7.0.0, Culture=neutral, PublicKeyToken=33f2691a05b67b6a&#39;.&amp;quot; ActivityID=&amp;quot;/#57240/1/206/&amp;quot; &lt;/TD&gt;&lt;/TR&gt;&lt;/TABLE&gt;\r\n",
       "&lt;!--EndFragment--&gt;\r\n",
       "&lt;/BODY&gt;\r\n",
       "&lt;/HTML&gt;\r\n",
       "\r\n",
       "### Regression?\r\n",
       "\r\n",
       "Yes,\r\n",
       "This did not happen in net472, but happens in net6.0\r\n",
       "\r\n",
       "### Known Workarounds\r\n",
       "\r\n",
       "Avoid bad versions.\r\n",
       "\r\n",
       "### Configuration\r\n",
       "\r\n",
       "net6.0\r\n",
       "Windows\r\n",
       "x64\r\n",
       "\r\n",
       "\r\n",
       "### Other information\r\n",
       "\r\n",
       "_No response_</pre></div></td></tr><tr><td>Embedding</td><td><div class=\"dni-plaintext\"><pre>[ -0.006019099, 0.002385238, -0.010495782, -0.00064542814, -0.014777825, 0.024972469, -0.0423063, -0.012860822, -0.039955948, 0.00021483668, 0.02395888, -0.005093649, 0.014263687, 0.0122952685, -0.0051524076, 0.008145432, 0.02769006, 0.006059496, -0.00018385061, -0.027484404 ... (1516 more) ]</pre></div></td></tr></tbody></table></div></details></td></tr></tbody></table></td></tr></tbody></table><style>\r\n",
       ".dni-code-hint {\r\n",
       "    font-style: italic;\r\n",
       "    overflow: hidden;\r\n",
       "    white-space: nowrap;\r\n",
       "}\r\n",
       ".dni-treeview {\r\n",
       "    white-space: nowrap;\r\n",
       "}\r\n",
       ".dni-treeview td {\r\n",
       "    vertical-align: top;\r\n",
       "    text-align: start;\r\n",
       "}\r\n",
       "details.dni-treeview {\r\n",
       "    padding-left: 1em;\r\n",
       "}\r\n",
       "table td {\r\n",
       "    text-align: start;\r\n",
       "}\r\n",
       "table tr { \r\n",
       "    vertical-align: top; \r\n",
       "    margin: 0em 0px;\r\n",
       "}\r\n",
       "table tr td pre \r\n",
       "{ \r\n",
       "    vertical-align: top !important; \r\n",
       "    margin: 0em 0px !important;\r\n",
       "} \r\n",
       "table th {\r\n",
       "    text-align: start;\r\n",
       "}\r\n",
       "</style>"
      ]
     },
     "metadata": {},
     "output_type": "display_data"
    }
   ],
   "source": [
    "issuesWithChunksCollection.Take(5).DisplayTable();"
   ]
  },
  {
   "cell_type": "code",
   "execution_count": 79,
   "metadata": {
    "dotnet_interactive": {
     "language": "csharp"
    },
    "polyglot_notebook": {
     "kernelName": "csharp"
    },
    "vscode": {
     "languageId": "polyglot-notebook"
    }
   },
   "outputs": [],
   "source": [
    "await SaveIssuesWithChunksToFileAsync(issuesWithChunksCollection, \"areaIssuesWithEmbeddingsSubset.json\");"
   ]
  },
  {
   "cell_type": "markdown",
   "metadata": {},
   "source": [
    "## Embedding Search"
   ]
  },
  {
   "cell_type": "code",
   "execution_count": 80,
   "metadata": {
    "dotnet_interactive": {
     "language": "csharp"
    },
    "polyglot_notebook": {
     "kernelName": "csharp"
    },
    "vscode": {
     "languageId": "polyglot-notebook"
    }
   },
   "outputs": [
    {
     "data": {
      "text/html": [
       "<div><div></div><div></div><div><strong>Installed Packages</strong><ul><li><span>System.Numerics.Tensors, 8.0.0-rc.2.23479.6</span></li></ul></div></div>"
      ]
     },
     "metadata": {},
     "output_type": "display_data"
    }
   ],
   "source": [
    "#r \"nuget: System.Numerics.Tensors, 8.0.0-rc.2.23479.6\""
   ]
  },
  {
   "cell_type": "code",
   "execution_count": 81,
   "metadata": {
    "dotnet_interactive": {
     "language": "csharp"
    },
    "polyglot_notebook": {
     "kernelName": "csharp"
    },
    "vscode": {
     "languageId": "polyglot-notebook"
    }
   },
   "outputs": [],
   "source": [
    "using System.Numerics.Tensors;"
   ]
  },
  {
   "cell_type": "code",
   "execution_count": 82,
   "metadata": {
    "dotnet_interactive": {
     "language": "csharp"
    },
    "polyglot_notebook": {
     "kernelName": "csharp"
    },
    "vscode": {
     "languageId": "polyglot-notebook"
    }
   },
   "outputs": [],
   "source": [
    "public class SimilarityComparer : ISimilarityComparer<float[]>\n",
    "{\n",
    "    public float Score(float[] a, float[] b)\n",
    "    {\n",
    "        return TensorPrimitives.CosineSimilarity(a,b);\n",
    "    }\n",
    "}"
   ]
  },
  {
   "cell_type": "code",
   "execution_count": 84,
   "metadata": {
    "dotnet_interactive": {
     "language": "csharp"
    },
    "polyglot_notebook": {
     "kernelName": "csharp"
    },
    "vscode": {
     "languageId": "polyglot-notebook"
    }
   },
   "outputs": [],
   "source": [
    "public async Task<string[]> EmbeddingSearchAsync(string query, IEnumerable<IssueWithChunks> data,int resultLimit = 1)\n",
    "{\n",
    "    var embeddingResponse = await openAIClient.GetEmbeddingsAsync(new EmbeddingsOptions(embeddingDeployment,new [] {query}));\n",
    "    var embeddingVector = embeddingResponse.Value.Data[0].Embedding.ToArray();\n",
    "\n",
    "    var searchResults = \n",
    "        data\n",
    "        .SelectMany(d => d.Chunks)\n",
    "        .ScoreBySimilarityTo(embeddingVector,new SimilarityComparer(),c => c.Embedding)\n",
    "        .OrderByDescending(e => e.Score)\n",
    "        .Where(e => e.Score > 0.5)\n",
    "        .Take(resultLimit)\n",
    "        .Select(e => e.Value.Text)\n",
    "        .ToArray();\n",
    "    \n",
    "    return searchResults;\n",
    "}"
   ]
  },
  {
   "cell_type": "code",
   "execution_count": 85,
   "metadata": {
    "dotnet_interactive": {
     "language": "csharp"
    },
    "polyglot_notebook": {
     "kernelName": "csharp"
    },
    "vscode": {
     "languageId": "polyglot-notebook"
    }
   },
   "outputs": [
    {
     "data": {
      "text/html": [
       "<div class=\"dni-plaintext\"><pre>[ Title: [wasi] `System.Globalization.Tests` AOT build fails with `LLVM ERROR: out of memory` on Windows\n",
       "Area: Codegen AOT mono\n",
       "\n",
       "## Build Information\r\n",
       "Build: https://dev.azure.com/dnceng-public/cbb18261-c48f-4abb-8651-8cdcb5474649/_build/results?buildId=481587\r\n",
       "Build error leg or test failing: System.Globalization.Tests.WorkItemExecution\r\n",
       "Pull request: https://github.com/dotnet/runtime/pull/95146\r\n",
       "&lt;!-- Error message template  --&gt;\r\n",
       "## Error Message\r\n",
       "\r\n",
       "Fill the error message using [step by step known issues guidance](https://github.com/dotnet/arcade/blob/main/Documentation/Projects/Build%20Analysis/KnownIssues.md#how-to-fill-out-a-known-issue-error-section).\r\n",
       "\r\n",
       "&lt;!-- Use ErrorMessage for String.Contains matches. Use ErrorPattern for regex matches (single line/no backtracking). Set BuildRetry to `true` to retry builds with this error. Set ExcludeConsoleLog to `true` to skip helix logs analysis. --&gt;\r\n",
       "\r\n",
       "```json\r\n",
       "{\r\n",
       "  &quot;ErrorMessage&quot;: &quot;&quot;,\r\n",
       "  &quot;ErrorPattern&quot;: &quot;LLVM ERROR: out of memory.*C:.*ProxyProjectForAOTOnHelix.proj&quot;,\r\n",
       "  &quot;BuildRetry&quot;: false,\r\n",
       "  &quot;ExcludeConsoleLog&quot;: false\r\n",
       "}\r\n",
       "```\r\n",
       "\r\n",
       "From the console log:\r\n",
       "```\r\n",
       "error : Failed to compile C:\\helix\\work\\workitem\\e\\wasm_build\\obj\\wasm\\for-build\\aot-instances.dll.bc -&gt; C:\\helix\\work\\workitem\\e\\wasm_build\\obj\\wasm\\for-build\\aot-instances.dll.o [C:\\helix\\work\\workitem\\e\\publish\\ProxyProjectForAOTOnHelix.proj]\r\n",
       "error : C:\\helix\\work\\workitem\\e\\publish&gt;C:\\Windows\\System32\\chcp.com 65001 1&gt;nul  [C:\\helix\\work\\workitem\\e\\publish\\ProxyProjectForAOTOnHelix.proj]\r\n",
       "error : C:\\helix\\work\\workitem\\e\\publish&gt;setlocal [C:\\helix\\work\\workitem\\e\\publish\\ProxyProjectForAOTOnHelix.proj]\r\n",
       "error : C:\\helix\\work\\workitem\\e\\publish&gt;set errorlevel=dummy  [C:\\helix\\work\\workitem\\e\\publish\\ProxyProjectForAOTOnHelix.proj]\r\n",
       "error : C:\\helix\\work\\workitem\\e\\publish&gt;set errorlevel=  [C:\\helix\\work\\workitem\\e\\publish\\ProxyProjectForAOTOnHelix.proj]\r\n",
       "error : C:\\helix\\work\\workitem\\e\\publish&gt;C:\\helix\\work\\correlation\\build\\\\wasi-sdk\\\\bin\\clang.exe &quot;@C:\\helix\\work\\correlation\\build\\microsoft.netcore.app.runtime.wasi-wasm\\runtimes\\wasi-wasm\\native\\src\\wasi-default.rsp&quot;  &quot;@C:\\helix\\work\\workitem\\e\\wasm_build\\obj\\wasm\\for-build\\wasi-compile-bc.rsp&quot; -c -o &quot;C:\\Users\\ContainerAdministrator\\AppData\\Local\\Temp\\tmpmr5st5.tmp&quot; &quot;C:\\helix\\work\\workitem\\e\\wasm_build\\obj\\wasm\\for-build\\aot-instances.dll.bc&quot;  [C:\\helix\\work\\workitem\\e\\publish\\ProxyProjectForAOTOnHelix.proj]\r\n",
       "error : clang version 16.0.0 [C:\\helix\\work\\workitem\\e\\publish\\ProxyProjectForAOTOnHelix.proj]\r\n",
       "error : Target: wasm32-unknown-wasi [C:\\helix\\work\\workitem\\e\\publish\\ProxyProjectForAOTOnHelix.proj]\r\n",
       "error : Thread model: posix [C:\\helix\\work\\workitem\\e\\publish\\ProxyProjectForAOTOnHelix.proj]\r\n",
       "error : InstalledDir: C:/helix/work/correlation/build//wasi-sdk//bin [C:\\helix\\work\\workitem\\e\\publish\\ProxyProjectForAOTOnHelix.proj]\r\n",
       "error :  (in-process) [C:\\helix\\work\\workitem\\e\\publish\\ProxyProjectForAOTOnHelix.proj]\r\n",
       "error :  &quot;C:/helix/work/correlation/build/wasi-sdk/bin/clang.exe&quot; -cc1 -triple wasm32-unknown-wasi -emit-obj -disable-free -clear-ast-before-backend -disable-llvm-verifier -discard-value-names -main-file-name aot-instances.dll.bc -mrelocation-model static -mframe-pointer=none -ffp-contract=on -fno-rounding-math -mconstructor-aliases -target-cpu generic -fvisibility=hidden -mllvm -treat-scalable-fixed-error-as-warning -debug-info-kind=constructor -dwarf-version=4 -debugger-tuning=gdb -v -fcoverage-compilation-dir=C:/helix/work/workitem/e/publish -resource-dir C:/helix/work/correlation/build/wasi-sdk/lib/clang/16 -Oz -fdebug-compilation-dir=C:/helix/work/workitem/e/publish -ferror-limit 19 -fgnuc-version=4.2.1 -vectorize-slp -o &quot;C:\\\\Users\\\\ContainerAdministrator\\\\AppData\\\\Local\\\\Temp\\\\tmpmr5st5.tmp&quot; -x ir &quot;C:\\\\helix\\\\work\\\\workitem\\\\e\\\\wasm_build\\\\obj\\\\wasm\\\\for-build\\\\aot-instances.dll.bc&quot; [C:\\helix\\work\\workitem\\e\\publish\\ProxyProjectForAOTOnHelix.proj]\r\n",
       "error : clang -cc1 version 16.0.0 based upon LLVM 16.0.0 default target wasm32-wasi [C:\\helix\\work\\workitem\\e\\publish\\ProxyProjectForAOTOnHelix.proj]\r\n",
       "error : LLVM ERROR: out of memory [C:\\helix\\work\\workitem\\e\\publish\\ProxyProjectForAOTOnHelix.proj]\r\n",
       "error : Allocation failed [C:\\helix\\work\\workitem\\e\\publish\\ProxyProjectForAOTOnHelix.proj]\r\n",
       "error : PLEASE submit a bug report to https://github.com/llvm/llvm-project/issues/ and include the crash backtrace, preprocessed source, and associated run script. [C:\\helix\\work\\workitem\\e\\publish\\ProxyProjectForAOTOnHelix.proj]\r\n",
       "error : Stack dump: [C:\\helix\\work\\workitem\\e\\publish\\ProxyProjectForAOTOnHelix.proj]\r\n",
       "error : 0.\tProgram arguments: C:\\\\helix\\\\work\\\\correlation\\\\build\\\\\\\\wasi-sdk\\\\\\\\bin\\\\clang.exe @C:\\\\helix\\\\work\\\\correlation\\\\build\\\\microsoft.netcore.app.runtime.wasi-wasm\\\\runtimes\\\\wasi-wasm\\\\native\\\\src\\\\wasi-default.rsp @C:\\\\helix\\\\work\\\\workitem\\\\e\\\\wasm_build\\\\obj\\\\wasm\\\\for-build\\\\wasi-compile-bc.rsp -c -o C:\\\\Users\\\\ContainerAdministrator\\\\AppData\\\\Local\\\\Temp\\\\tmpmr5st5.tmp C:\\\\helix\\\\work\\\\workitem\\\\e\\\\wasm_build\\\\obj\\\\wasm\\\\for-build\\\\aot-instances.dll.bc [C:\\helix\\work\\workitem\\e\\publish\\ProxyProjectForAOTOnHelix.proj]\r\n",
       "error : 1.\tCode generation [C:\\helix\\work\\workitem\\e\\publish\\ProxyProjectForAOTOnHelix.proj]\r\n",
       "error : Exception Code: 0xC000001D [C:\\helix\\work\\workitem\\e\\publish\\ProxyProjectForAOTOnHelix.proj]\r\n",
       "error : 0x00A1FB73 &lt;unknown module&gt; [C:\\helix\\work\\workitem\\e\\publish\\ProxyProjectForAOTOnHelix.proj]\r\n",
       "error : 0x7133C902 &lt;unknown module&gt; [C:\\helix\\work\\workitem\\e\\publish\\ProxyProjectForAOTOnHelix.proj]\r\n",
       "error : 0x00A023A1 &lt;unknown module&gt; [C:\\helix\\work\\workitem\\e\\publish\\ProxyProjectForAOTOnHelix.proj]\r\n",
       "error : 0x00E7FD3C &lt;unknown module&gt; [C:\\helix\\work\\workitem\\e\\publish\\ProxyProjectForAOTOnHelix.proj]\r\n",
       "error : 0x00E7FFBC &lt;unknown module&gt; [C:\\helix\\work\\workitem\\e\\publish\\ProxyProjectForAOTOnHelix.proj]\r\n",
       "error : 0x00E80133 &lt;unknown module&gt; [C:\\helix\\work\\workitem\\e\\publish\\ProxyProjectForAOTOnHelix.proj]\r\n",
       "error : 0x008DE5CF &lt;unknown module&gt; [C:\\helix\\work\\workitem\\e\\publish\\ProxyProjectForAOTOnHelix.proj]\r\n",
       "error : clang: error: clang frontend command failed due to signal (use -v to see invocation) [C:\\helix\\work\\workitem\\e\\publish\\ProxyProjectForAOTOnHelix.proj]\r\n",
       "error : clang version 16.0.0 [C:\\helix\\work\\workitem\\e\\publish\\ProxyProjectForAOTOnHelix.proj]\r\n",
       "error : Target: wasm32-unknown-wasi [C:\\helix\\work\\workitem\\e\\publish\\ProxyProjectForAOTOnHelix.proj]\r\n",
       "error : Thread model: posix [C:\\helix\\work\\workitem\\e\\publish\\ProxyProjectForAOTOnHelix.proj]\r\n",
       "error : InstalledDir: C:/helix/work/correlation/build//wasi-sdk//bin [C:\\helix\\work\\workitem\\e\\publish\\ProxyProjectForAOTOnHelix.proj]\r\n",
       "error : clang: note: diagnostic msg: Error generating preprocessed source(s) - no preprocessable inputs. [took 93.46s] [C:\\helix\\work\\workitem\\e\\publish\\ProxyProjectForAOTOnHelix.proj]\r\n",
       "```\r\n",
       "&lt;!-- Known issue validation start --&gt;\r\n",
       " ### Known issue validation\r\n",
       "**Build: :mag_right:** https://dev.azure.com/dnceng-public/public/_build/results?buildId=481587\r\n",
       "**Error message validated:** `LLVM ERROR: out of memory.*C:.*ProxyProjectForAOTOnHelix.proj`\r\n",
       "**Result validation: :white_check_mark:** Known issue matched with the provided build.\r\n",
       "**Validation performed at:** 11/28/2023 11:22:33 PM UTC\r\n",
       "&lt;!-- Known issue validation end --&gt;\r\n",
       "&lt;!--Known issue error report start --&gt;\r\n",
       "### Report\r\n",
       "\r\n",
       "|Build|Definition|Test|Pull Request|\r\n",
       "|---|---|---|---|\r\n",
       "|[481587](https://dev.azure.com/dnceng-public/public/_build/results?buildId=481587)|dotnet/runtime|[System.Globalization.Tests.WorkItemExecution](https://dev.azure.com/dnceng-public/public/_build/results?buildId=481587&amp;view=ms.vss-test-web.build-test-results-tab&amp;runId=11065910&amp;resultId=100710)|dotnet/runtime#95146|\r\n",
       "#### Summary\r\n",
       "|24-Hour Hit Count|7-Day Hit Count|1-Month Count|\r\n",
       "|---|---|---|\r\n",
       "|0|0|1|\r\n",
       "&lt;!--Known issue error report end --&gt;, Title: [wasm] Some AOT configuration combinations to disallow\n",
       "Area: Codegen AOT mono\n",
       "\n",
       "Some other cases:\r\n",
       "- Debug+aot is not very usable either, aot doesn&#39;t support managed debugging.\r\n",
       "- it might be possible to use profiled aot without il linking.\r\n",
       "\r\n",
       "\r\n",
       "_Originally posted by @vargaz in https://github.com/dotnet/runtime/issues/94064#issuecomment-1781792993_\r\n",
       "            , Title: [browser] run dotnet in service worker\n",
       "Area: Build mono\n",
       "\n",
       "Do we want the same wasm memory for multiple tabs ? \r\n",
       "Do we care that they would share user&#39;s security tokens inside the dotnet memory ? \r\n",
       "Do we have vision how &quot;upgrade&quot; should work when one of the tabs receives new version of the app ? \r\n",
       "What 3rd party solutions already exist ?\r\n",
       " ]</pre></div><style>\r\n",
       ".dni-code-hint {\r\n",
       "    font-style: italic;\r\n",
       "    overflow: hidden;\r\n",
       "    white-space: nowrap;\r\n",
       "}\r\n",
       ".dni-treeview {\r\n",
       "    white-space: nowrap;\r\n",
       "}\r\n",
       ".dni-treeview td {\r\n",
       "    vertical-align: top;\r\n",
       "    text-align: start;\r\n",
       "}\r\n",
       "details.dni-treeview {\r\n",
       "    padding-left: 1em;\r\n",
       "}\r\n",
       "table td {\r\n",
       "    text-align: start;\r\n",
       "}\r\n",
       "table tr { \r\n",
       "    vertical-align: top; \r\n",
       "    margin: 0em 0px;\r\n",
       "}\r\n",
       "table tr td pre \r\n",
       "{ \r\n",
       "    vertical-align: top !important; \r\n",
       "    margin: 0em 0px !important;\r\n",
       "} \r\n",
       "table th {\r\n",
       "    text-align: start;\r\n",
       "}\r\n",
       "</style>"
      ]
     },
     "metadata": {},
     "output_type": "display_data"
    }
   ],
   "source": [
    "(await EmbeddingSearchAsync(\"What are the latest issues for AOT\", issuesWithChunksCollection, 3)).Display();"
   ]
  },
  {
   "cell_type": "markdown",
   "metadata": {},
   "source": [
    "## Store in DB"
   ]
  },
  {
   "cell_type": "markdown",
   "metadata": {},
   "source": [
    "### Start DB locally"
   ]
  },
  {
   "cell_type": "code",
   "execution_count": 86,
   "metadata": {
    "dotnet_interactive": {
     "language": "pwsh"
    },
    "polyglot_notebook": {
     "kernelName": "pwsh"
    },
    "vscode": {
     "languageId": "polyglot-notebook"
    }
   },
   "outputs": [
    {
     "name": "stdout",
     "output_type": "stream",
     "text": [
      "\u001b[31;1mdocker: error during connect: this error may indicate that the docker daemon is not running: Post \"http://%2F%2F.%2Fpipe%2Fdocker_engine/v1.24/containers/create\": open //./pipe/docker_engine: The system cannot find the file specified.\u001b[0m\n",
      "\u001b[31;1mSee 'docker run --help'.\u001b[0m\n"
     ]
    },
    {
     "ename": "Error",
     "evalue": "Command failed: SubmitCode: docker run -d -p 6333:6333 -p 6334:6334 -v \"$pwd/q ...",
     "output_type": "error",
     "traceback": [
      "Command failed: SubmitCode: docker run -d -p 6333:6333 -p 6334:6334 -v \"$pwd/q ..."
     ]
    }
   ],
   "source": [
    "docker run -d -p 6333:6333 -p 6334:6334 -v \"$pwd/qdrant_storage:/qdrant/storage:z\" qdrant/qdrant"
   ]
  },
  {
   "cell_type": "code",
   "execution_count": 40,
   "metadata": {
    "dotnet_interactive": {
     "language": "csharp"
    },
    "polyglot_notebook": {
     "kernelName": "csharp"
    },
    "vscode": {
     "languageId": "polyglot-notebook"
    }
   },
   "outputs": [],
   "source": [
    "using Qdrant.Client;\n",
    "using Qdrant.Client.Grpc;"
   ]
  },
  {
   "cell_type": "markdown",
   "metadata": {},
   "source": [
    "### Initialize Qdrant client"
   ]
  },
  {
   "cell_type": "code",
   "execution_count": 41,
   "metadata": {
    "dotnet_interactive": {
     "language": "csharp"
    },
    "polyglot_notebook": {
     "kernelName": "csharp"
    },
    "vscode": {
     "languageId": "polyglot-notebook"
    }
   },
   "outputs": [],
   "source": [
    "var qdrantClient = new QdrantClient(host: \"localhost\",port: 6334,https:false);"
   ]
  },
  {
   "cell_type": "markdown",
   "metadata": {},
   "source": [
    "### Create collection"
   ]
  },
  {
   "cell_type": "code",
   "execution_count": 42,
   "metadata": {
    "dotnet_interactive": {
     "language": "csharp"
    },
    "polyglot_notebook": {
     "kernelName": "csharp"
    },
    "vscode": {
     "languageId": "polyglot-notebook"
    }
   },
   "outputs": [],
   "source": [
    "var collectionName = \"gh_issues\";"
   ]
  },
  {
   "cell_type": "code",
   "execution_count": 43,
   "metadata": {
    "dotnet_interactive": {
     "language": "csharp"
    },
    "polyglot_notebook": {
     "kernelName": "csharp"
    },
    "vscode": {
     "languageId": "polyglot-notebook"
    }
   },
   "outputs": [],
   "source": [
    "var collections = await qdrantClient.ListCollectionsAsync();\n",
    "if(collections.Where(x => x.Contains(collectionName)).Count() > 0) \n",
    "    await qdrantClient.DeleteCollectionAsync(collectionName);"
   ]
  },
  {
   "cell_type": "code",
   "execution_count": 44,
   "metadata": {
    "dotnet_interactive": {
     "language": "csharp"
    },
    "polyglot_notebook": {
     "kernelName": "csharp"
    },
    "vscode": {
     "languageId": "polyglot-notebook"
    }
   },
   "outputs": [],
   "source": [
    "await qdrantClient.CreateCollectionAsync(collectionName, new VectorParams { Size=1536, Distance=Distance.Cosine})"
   ]
  },
  {
   "cell_type": "markdown",
   "metadata": {},
   "source": [
    "### Map issue embeddings to points"
   ]
  },
  {
   "cell_type": "code",
   "execution_count": 45,
   "metadata": {
    "dotnet_interactive": {
     "language": "csharp"
    },
    "polyglot_notebook": {
     "kernelName": "csharp"
    },
    "vscode": {
     "languageId": "polyglot-notebook"
    }
   },
   "outputs": [],
   "source": [
    "var vectors = \n",
    "    issuesWithChunksCollection\n",
    "        .Where(d => d.Chunks.Count > 0)\n",
    "        .SelectMany(d => \n",
    "            d.Chunks.Select(c => new {\n",
    "                Embedding=c.Embedding,\n",
    "                Text=$\"<issueTitle>{d.Issue.Title}</issueTitle>\\n<issueUrl>{d.Issue.Url}</issueUrl>\\n<issueArea>{d.Issue.Area}</issueArea>\\n<issueSnippet>{c.Text}</issueSnippet>\"\n",
    "                }))\n",
    "        .ToList();\n",
    "  "
   ]
  },
  {
   "cell_type": "code",
   "execution_count": 46,
   "metadata": {
    "dotnet_interactive": {
     "language": "csharp"
    },
    "polyglot_notebook": {
     "kernelName": "csharp"
    },
    "vscode": {
     "languageId": "polyglot-notebook"
    }
   },
   "outputs": [],
   "source": [
    "var points = vectors.Select(vector => \n",
    "{\n",
    "    var point = new PointStruct\n",
    "    {\n",
    "        Id = new PointId { Uuid = Guid.NewGuid().ToString() },\n",
    "        Vectors = vector.Embedding,\n",
    "        Payload = \n",
    "            {\n",
    "                [\"text\"] = vector.Text\n",
    "            }\n",
    "    };\n",
    "    return point;\n",
    "}).ToList();\n"
   ]
  },
  {
   "cell_type": "markdown",
   "metadata": {},
   "source": [
    "### Insert data into Qdrant collection"
   ]
  },
  {
   "cell_type": "code",
   "execution_count": 47,
   "metadata": {
    "dotnet_interactive": {
     "language": "csharp"
    },
    "polyglot_notebook": {
     "kernelName": "csharp"
    },
    "vscode": {
     "languageId": "polyglot-notebook"
    }
   },
   "outputs": [],
   "source": [
    "await qdrantClient.UpsertAsync(collectionName,points);"
   ]
  },
  {
   "cell_type": "markdown",
   "metadata": {},
   "source": [
    "## Get Count"
   ]
  },
  {
   "cell_type": "code",
   "execution_count": 48,
   "metadata": {
    "dotnet_interactive": {
     "language": "csharp"
    },
    "polyglot_notebook": {
     "kernelName": "csharp"
    },
    "vscode": {
     "languageId": "polyglot-notebook"
    }
   },
   "outputs": [
    {
     "data": {
      "text/html": [
       "<div class=\"dni-plaintext\"><pre>95</pre></div><style>\r\n",
       ".dni-code-hint {\r\n",
       "    font-style: italic;\r\n",
       "    overflow: hidden;\r\n",
       "    white-space: nowrap;\r\n",
       "}\r\n",
       ".dni-treeview {\r\n",
       "    white-space: nowrap;\r\n",
       "}\r\n",
       ".dni-treeview td {\r\n",
       "    vertical-align: top;\r\n",
       "    text-align: start;\r\n",
       "}\r\n",
       "details.dni-treeview {\r\n",
       "    padding-left: 1em;\r\n",
       "}\r\n",
       "table td {\r\n",
       "    text-align: start;\r\n",
       "}\r\n",
       "table tr { \r\n",
       "    vertical-align: top; \r\n",
       "    margin: 0em 0px;\r\n",
       "}\r\n",
       "table tr td pre \r\n",
       "{ \r\n",
       "    vertical-align: top !important; \r\n",
       "    margin: 0em 0px !important;\r\n",
       "} \r\n",
       "table th {\r\n",
       "    text-align: start;\r\n",
       "}\r\n",
       "</style>"
      ]
     },
     "metadata": {},
     "output_type": "display_data"
    }
   ],
   "source": [
    "await qdrantClient.CountAsync(collectionName)"
   ]
  },
  {
   "cell_type": "markdown",
   "metadata": {},
   "source": [
    "## Search with Qdrant"
   ]
  },
  {
   "cell_type": "code",
   "execution_count": 49,
   "metadata": {
    "dotnet_interactive": {
     "language": "csharp"
    },
    "polyglot_notebook": {
     "kernelName": "csharp"
    },
    "vscode": {
     "languageId": "polyglot-notebook"
    }
   },
   "outputs": [],
   "source": [
    "public async Task<string[]> SearchWithQdrantAsync(string query, string collectionName, int resultLimit = 1)\n",
    "{\n",
    "    var embeddingResponse = await openAIClient.GetEmbeddingsAsync(new EmbeddingsOptions(embeddingDeployment,new [] {query}));\n",
    "    var embeddingVector = embeddingResponse.Value.Data[0].Embedding.ToArray();\n",
    "\n",
    "    var results = await qdrantClient.SearchAsync(collectionName,embeddingVector, limit:(ulong)resultLimit);\n",
    "    return results.Select(r => r.Payload[\"text\"].StringValue).ToArray();\n",
    "}"
   ]
  },
  {
   "cell_type": "code",
   "execution_count": 50,
   "metadata": {
    "dotnet_interactive": {
     "language": "csharp"
    },
    "polyglot_notebook": {
     "kernelName": "csharp"
    },
    "vscode": {
     "languageId": "polyglot-notebook"
    }
   },
   "outputs": [
    {
     "data": {
      "text/html": [
       "<div class=\"dni-plaintext\"><pre>[ &lt;issueTitle&gt;[docs] Add Mono Library Mode and update Mono Profiled AOT&lt;/issueTitle&gt;\n",
       "&lt;issueUrl&gt;https://github.com/dotnet/runtime/pull/94578&lt;/issueUrl&gt;\n",
       "&lt;issueArea&gt;Build mono&lt;/issueArea&gt;\n",
       "&lt;issueSnippet&gt;Title: [docs] Add Mono Library Mode and update Mono Profiled AOT\n",
       "Area: Build mono\n",
       "\n",
       "This PR looks to add/update documentation on [Mono&#39;s Library Mode](https://github.com/dotnet/runtime/issues/79377) and [Mono&#39;s Profiled AOT](https://github.com/dotnet/runtime/issues/69512) workflows.&lt;/issueSnippet&gt;, &lt;issueTitle&gt;[browser][AOT] Space in path to published project on unix&lt;/issueTitle&gt;\n",
       "&lt;issueUrl&gt;https://github.com/dotnet/runtime/pull/94306&lt;/issueUrl&gt;\n",
       "&lt;issueArea&gt;Build mono&lt;/issueArea&gt;\n",
       "&lt;issueSnippet&gt;Title: [browser][AOT] Space in path to published project on unix\n",
       "Area: Build mono\n",
       "\n",
       "Theoretically, enclosing included directories in quotations should be enough to escape spaces in Unix.\r\n",
       "\r\n",
       "Reason: wbt use `artifacts/bin/dotnet-latest/packs/Microsoft.NET.Runtime.Emscripten.3.1.34.Sdk.linux-x64/9.0.0-alpha.1.23528.4/tools/bin/clang` that is `16.0.5`. Version `17.0.0` is already working fine on Unix, should not need any code edition, only unification of `wbt` -&gt; `wbt artifacts` for all the platforms.\r\n",
       "The issue reported clang `15.0.0` https://github.com/dotnet/runtime/issues/92335&lt;/issueSnippet&gt;, &lt;issueTitle&gt;[wasm] WBT `SatelliteAssembliesTests.CheckThatSatelliteAssembliesAreNotAOTed` failing&lt;/issueTitle&gt;\n",
       "&lt;issueUrl&gt;https://github.com/dotnet/runtime/issues/90458&lt;/issueUrl&gt;\n",
       "&lt;issueArea&gt;Build mono&lt;/issueArea&gt;\n",
       "&lt;issueSnippet&gt;Title: [wasm] WBT `SatelliteAssembliesTests.CheckThatSatelliteAssembliesAreNotAOTed` failing\n",
       "Area: Build mono\n",
       "\n",
       "Test failing with [rolling build](https://dev.azure.com/dnceng-public/public/_build/results?buildId=371479&amp;view=results):\r\n",
       "\r\n",
       "```\r\n",
       "  [4/5] System.Private.CoreLib.dll.bc -&gt; System.Private.CoreLib.dll.o \r\n",
       "\r\n",
       "WasmApp.Native.targets(379,5): error : Failed to compile /root/helix/work/workitem/e/wbt/ddpnbu30_we1/obj/Release/net8.0/browser-wasm/wasm/for-publish/aot-instances.dll.bc -&gt; /root/helix/work/workitem/e/wbt/ddpnbu30_we1/obj/Release/net8.0/browser-wasm/wasm/for-publish/aot-instances.dll.o \r\n",
       "WasmApp.Native.targets(379,5): error : emcc: warning: linker setting ignored during compilation: &#39;EXPORT_ES6&#39; [-Wunused-command-line-argument] \r\n",
       "WasmApp.Native.targets(379,5): error : Killed\r\n",
       "```\r\n",
       "\r\n",
       "`WasmApp.Native.targets(379,5): error : emcc: error: &#39;/root/helix/work/workitem/e/dotnet-latest/packs/Microsoft.NET.Runtime.Emscripten.3.1.34.Sdk.linux-x64/8.0.0-rc.1.23411.1/tools/bin/clang++ -target wasm32-unknown-emscripten -fvisibility=default -mllvm -combiner-global-alias-analysis=false -mllvm -wasm-enable-sjlj -mllvm -disable-lsr -DEMSCRIPTEN --sysroot=/root/helix/work/workitem/e/dotnet-latest/packs/Microsoft.NET.Runtime.Emscripten.3.1.34.Cache.linux-x64/8.0.0-rc.1.23411.1/tools/emscripten/cache/sysroot -Xclang -iwithsysroot/include/fakesdl -Xclang -iwithsysroot/include/compat -msimd128 -O0 -g3 -fwasm-exceptions -c /root/helix/work/workitem/e/wbt/ddpnbu30_we1/obj/Release/net8.0/browser-wasm/wasm/for-publish/aot-instances.dll.bc -o /tmp/tmpeo8pzM.tmp&#39; failed (returned 137) [took 128.818s] `\r\n",
       "\r\n",
       "[Changes since last passing rolling build](https://github.com/dotnet/runtime/compare/64a67710163...55828b9aa91).\r\n",
       "\r\n",
       "This includes commits from @pavelsavara @ivanpovazan @vargaz @radekdoulik \r\n",
       "&lt;!-- Error message template  --&gt;\r\n",
       "### Known Issue Error Message\r\n",
       "\r\n",
       "Fill the error message using [step by step known issues guidance](https://github.com/dotnet/arcade/blob/main/Documentation/Projects/Build%20Analysis/KnownIssues.md#how-to-fill-out-a-known-issue-error-section).\r\n",
       "\r\n",
       "&lt;!-- Use ErrorMessage for String.Contains matches. Use ErrorPattern for regex matches (single line/no backtracking). Set BuildRetry to `true` to retry builds with this error. Set ExcludeConsoleLog to `true` to skip helix logs analysis. --&gt;\r\n",
       "\r\n",
       "```json\r\n",
       "{\r\n",
       "  &quot;ErrorMessage&quot;: &quot;error : Failed to compile &quot;,\r\n",
       "  &quot;ErrorPattern&quot;: &quot;&quot;,\r\n",
       "  &quot;BuildRetry&quot;: false,\r\n",
       "  &quot;ExcludeConsoleLog&quot;: false\r\n",
       "}\r\n",
       "```\r\n",
       "\r\n",
       "\r\n",
       "&lt;!--Known issue error report start --&gt;\r\n",
       "### Report\r\n",
       "\r\n",
       "|Build|Definition|Test|Pull Request|\r\n",
       "|---|---|---|---|\r\n",
       "|[2242043](https://dev.azure.com/dnceng/internal/_build/results?buildId=2242043)|dotnet-runtime|[wasmaot.x64.micro.net8.0.Partition27.WorkItemExecution](https://dev.azure.com/dnceng//internal/_build/results?buildId=2242043&amp;view=ms.vss-test-web.build-test-results-tab&amp;runId=51894143&amp;resultId=100058)||\r\n",
       "|[371479](https://dev.azure.com/dnceng-public/public/_build/results?buildId=371479)|dotnet/runtime|[Workloads-Wasm.Build.Tests.SatelliteAssembliesTests.WorkItemExecution](https://dev.azure.com/dnceng-public/public/_build/results?buildId=371479&amp;view=ms.vss-test-web.build-test-results-tab&amp;runId=7882660&amp;resultId=100143)||\r\n",
       "#### Summary\r\n",
       "|24-Hour Hit Count|7-Day Hit Count|1-Month Count|\r\n",
       "|---|---|---|\r\n",
       "|0|2|2|\r\n",
       "&lt;!--Known issue error report end --&gt;\r\n",
       "&lt;!-- Known issue validation start --&gt;\r\n",
       " ### Known issue validation\r\n",
       "**Build: :mag_right:** https://dev.azure.com/dnceng-public/public/_build/results?buildId=371479\r\n",
       "**Error message validated:** `error : Failed to compile `\r\n",
       "**Result validation: :white_check_mark:** Known issue matched with the provided build.\r\n",
       "**Validation performed at:** 8/12/2023 3:57:22 PM UTC\r\n",
       "&lt;!-- Known issue validation end --&gt;&lt;/issueSnippet&gt; ]</pre></div><style>\r\n",
       ".dni-code-hint {\r\n",
       "    font-style: italic;\r\n",
       "    overflow: hidden;\r\n",
       "    white-space: nowrap;\r\n",
       "}\r\n",
       ".dni-treeview {\r\n",
       "    white-space: nowrap;\r\n",
       "}\r\n",
       ".dni-treeview td {\r\n",
       "    vertical-align: top;\r\n",
       "    text-align: start;\r\n",
       "}\r\n",
       "details.dni-treeview {\r\n",
       "    padding-left: 1em;\r\n",
       "}\r\n",
       "table td {\r\n",
       "    text-align: start;\r\n",
       "}\r\n",
       "table tr { \r\n",
       "    vertical-align: top; \r\n",
       "    margin: 0em 0px;\r\n",
       "}\r\n",
       "table tr td pre \r\n",
       "{ \r\n",
       "    vertical-align: top !important; \r\n",
       "    margin: 0em 0px !important;\r\n",
       "} \r\n",
       "table th {\r\n",
       "    text-align: start;\r\n",
       "}\r\n",
       "</style>"
      ]
     },
     "metadata": {},
     "output_type": "display_data"
    }
   ],
   "source": [
    "(await SearchWithQdrantAsync(\"What are the latest issues for AOT\", collectionName, 3)).Display();"
   ]
  }
 ],
 "metadata": {
  "kernelInfo": {
   "defaultKernelName": null,
   "items": [
    {
     "aliases": [
      "c#",
      "cs"
     ],
     "languageName": "C#",
     "name": "csharp"
    },
    {
     "aliases": [
      "f#",
      "fs"
     ],
     "languageName": "F#",
     "name": "fsharp"
    },
    {
     "languageName": "HTML",
     "name": "html"
    },
    {
     "languageName": "HTTP",
     "name": "http"
    },
    {
     "aliases": [
      "js"
     ],
     "languageName": "JavaScript",
     "name": "javascript"
    },
    {
     "languageName": "KQL",
     "name": "kql"
    },
    {
     "languageName": "Mermaid",
     "name": "mermaid"
    },
    {
     "aliases": [
      "powershell"
     ],
     "languageName": "PowerShell",
     "name": "pwsh"
    },
    {
     "languageName": "SQL",
     "name": "sql"
    },
    {
     "name": "value"
    }
   ]
  },
  "kernelspec": {
   "display_name": "Python 3",
   "language": "python",
   "name": "python3"
  },
  "language_info": {
   "codemirror_mode": {
    "name": "ipython",
    "version": 3
   },
   "file_extension": ".py",
   "mimetype": "text/x-python",
   "name": "python",
   "nbconvert_exporter": "python",
   "pygments_lexer": "ipython3",
   "version": "3.10.8"
  },
  "polyglot_notebook": {
   "kernelInfo": {
    "defaultKernelName": "csharp",
    "items": [
     {
      "aliases": [
       "c#",
       "cs"
      ],
      "languageName": "C#",
      "name": "csharp"
     },
     {
      "aliases": [
       "f#",
       "fs"
      ],
      "languageName": "F#",
      "name": "fsharp"
     },
     {
      "aliases": [],
      "languageName": "HTML",
      "name": "html"
     },
     {
      "aliases": [],
      "languageName": "HTTP",
      "name": "http"
     },
     {
      "aliases": [
       "js"
      ],
      "languageName": "JavaScript",
      "name": "javascript"
     },
     {
      "aliases": [],
      "languageName": "KQL",
      "name": "kql"
     },
     {
      "aliases": [],
      "languageName": "Mermaid",
      "name": "mermaid"
     },
     {
      "aliases": [
       "powershell"
      ],
      "languageName": "PowerShell",
      "name": "pwsh"
     },
     {
      "aliases": [],
      "languageName": "SQL",
      "name": "sql"
     },
     {
      "aliases": [],
      "name": "value"
     }
    ]
   }
  }
 },
 "nbformat": 4,
 "nbformat_minor": 5
}
