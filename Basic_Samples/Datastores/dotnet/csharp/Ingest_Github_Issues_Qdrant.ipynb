{
 "cells": [
  {
   "cell_type": "markdown",
   "metadata": {},
   "source": [
    "# Ingest GitHub Issues into Qdrant\n",
    "\n",
    "This sample shows how to get started loading and querying dotnet/runtime repo GitHub issue embeddings using Azure OpenAI and the Qdrant SDK"
   ]
  },
  {
   "cell_type": "markdown",
   "metadata": {},
   "source": [
    "## Install packages"
   ]
  },
  {
   "cell_type": "code",
   "execution_count": null,
   "metadata": {
    "dotnet_interactive": {
     "language": "csharp"
    },
    "polyglot_notebook": {
     "kernelName": "csharp"
    }
   },
   "outputs": [],
   "source": [
    "#r \"nuget: Azure.AI.OpenAI, 1.0.0-beta.9\"\n",
    "#r \"nuget: Qdrant.Client, 1.6.0-alpha.1\""
   ]
  },
  {
   "cell_type": "code",
   "execution_count": null,
   "metadata": {
    "dotnet_interactive": {
     "language": "csharp"
    },
    "polyglot_notebook": {
     "kernelName": "csharp"
    }
   },
   "outputs": [],
   "source": [
    "#r \"nuget: Octokit, 9.0.0\"\n",
    "#r \"nuget: Octokit.Reactive, 9.0.0\""
   ]
  },
  {
   "cell_type": "code",
   "execution_count": null,
   "metadata": {
    "dotnet_interactive": {
     "language": "csharp"
    },
    "polyglot_notebook": {
     "kernelName": "csharp"
    }
   },
   "outputs": [],
   "source": [
    "#r \"nuget:Microsoft.DotNet.Interactive.AIUtilities, 1.0.0-beta.23557.4\""
   ]
  },
  {
   "cell_type": "markdown",
   "metadata": {},
   "source": [
    "## Add using statements"
   ]
  },
  {
   "cell_type": "code",
   "execution_count": null,
   "metadata": {
    "dotnet_interactive": {
     "language": "csharp"
    },
    "polyglot_notebook": {
     "kernelName": "csharp"
    }
   },
   "outputs": [],
   "source": [
    "using Azure;\n",
    "using Azure.AI.OpenAI;\n",
    "using Microsoft.DotNet.Interactive;\n",
    "using Microsoft.DotNet.Interactive.AIUtilities;\n",
    "using Octokit;"
   ]
  },
  {
   "cell_type": "markdown",
   "metadata": {},
   "source": [
    "## Configure Azure OpenAI credentials"
   ]
  },
  {
   "cell_type": "code",
   "execution_count": 26,
   "metadata": {
    "dotnet_interactive": {
     "language": "csharp"
    },
    "polyglot_notebook": {
     "kernelName": "csharp"
    }
   },
   "outputs": [],
   "source": [
    "var azureOpenAIKey = await Kernel.GetPasswordAsync(\"Provide your OPEN_AI_KEY\");\n",
    "var azureOpenAIEndpoint = await Kernel.GetInputAsync(\"Provide the OPEN_AI_ENDPOINT\");\n",
    "var embeddingDeployment = await Kernel.GetInputAsync(\"Provide embedding name\");"
   ]
  },
  {
   "cell_type": "markdown",
   "metadata": {},
   "source": [
    "## Configure GitHub credentials \n",
    "\n",
    "You will need access token with rights to query and update issues."
   ]
  },
  {
   "cell_type": "code",
   "execution_count": null,
   "metadata": {
    "dotnet_interactive": {
     "language": "csharp"
    },
    "polyglot_notebook": {
     "kernelName": "csharp"
    }
   },
   "outputs": [],
   "source": [
    "var githubKey = await Kernel.GetPasswordAsync(\"Provide your Github api key\");\n",
    "var repoName = await Kernel.GetInputAsync(\"Provide repo\");\n",
    "var org = await Kernel.GetInputAsync(\"Provide org\");"
   ]
  },
  {
   "cell_type": "markdown",
   "metadata": {},
   "source": [
    "## Configure OpenAI client"
   ]
  },
  {
   "cell_type": "code",
   "execution_count": 27,
   "metadata": {
    "dotnet_interactive": {
     "language": "csharp"
    },
    "polyglot_notebook": {
     "kernelName": "csharp"
    }
   },
   "outputs": [],
   "source": [
    "OpenAIClient openAIClient = new (new System.Uri(azureOpenAIEndpoint), new AzureKeyCredential(azureOpenAIKey.GetClearTextPassword()));"
   ]
  },
  {
   "cell_type": "markdown",
   "metadata": {},
   "source": [
    "## Configure GitHub client"
   ]
  },
  {
   "cell_type": "code",
   "execution_count": null,
   "metadata": {
    "dotnet_interactive": {
     "language": "csharp"
    },
    "polyglot_notebook": {
     "kernelName": "csharp"
    }
   },
   "outputs": [],
   "source": [
    "var options = new ApiOptions();\n",
    "var gitHubClient = new GitHubClient(new ProductHeaderValue(\"notebook\"));\n",
    "\n",
    "if (!string.IsNullOrEmpty(githubKey.GetClearTextPassword())) {\n",
    "    Console.WriteLine(\"Using GitHub API token\");\n",
    "    var tokenAuth = new Credentials(githubKey.GetClearTextPassword());\n",
    "    gitHubClient.Credentials = tokenAuth;\n",
    "} else {\n",
    "    Console.WriteLine(\"Using anonymous GitHub API\");\n",
    "}"
   ]
  },
  {
   "cell_type": "markdown",
   "metadata": {},
   "source": [
    "## Download data from GitHub"
   ]
  },
  {
   "cell_type": "markdown",
   "metadata": {},
   "source": [
    "### Get labels from the repository"
   ]
  },
  {
   "cell_type": "code",
   "execution_count": null,
   "metadata": {},
   "outputs": [],
   "source": [
    "var allLabels = await gitHubClient.Issue.Labels.GetAllForRepository(org, repoName);"
   ]
  },
  {
   "cell_type": "code",
   "execution_count": null,
   "metadata": {},
   "outputs": [],
   "source": [
    "var areaLabels = allLabels.Where(label => label.Name.StartsWith(\"area-\", StringComparison.OrdinalIgnoreCase)).ToList();"
   ]
  },
  {
   "cell_type": "markdown",
   "metadata": {},
   "source": [
    "### Get all issues from the repository"
   ]
  },
  {
   "cell_type": "code",
   "execution_count": null,
   "metadata": {},
   "outputs": [],
   "source": [
    "var allIssues = new List<Issue>();"
   ]
  },
  {
   "cell_type": "code",
   "execution_count": null,
   "metadata": {
    "dotnet_interactive": {
     "language": "csharp"
    },
    "polyglot_notebook": {
     "kernelName": "csharp"
    }
   },
   "outputs": [],
   "source": [
    "foreach(var label in areaLabels)\n",
    "{\n",
    "    var request = new RepositoryIssueRequest\n",
    "    {\n",
    "        Filter = IssueFilter.All\n",
    "    };\n",
    "    \n",
    "    request.Labels.Add(label.Name);\n",
    "\n",
    "    var apiOptions = new ApiOptions\n",
    "    {\n",
    "        PageSize = 50,\n",
    "        PageCount = 1\n",
    "    };\n",
    "\n",
    "    var issues = await gitHubClient.Issue.GetAllForRepository(org, repoName, request, apiOptions);\n",
    "    \n",
    "    allIssues.AddRange(issues);\n",
    "}"
   ]
  },
  {
   "cell_type": "code",
   "execution_count": null,
   "metadata": {},
   "outputs": [],
   "source": [
    "allIssues.Count()"
   ]
  },
  {
   "cell_type": "code",
   "execution_count": null,
   "metadata": {
    "dotnet_interactive": {
     "language": "csharp"
    },
    "polyglot_notebook": {
     "kernelName": "csharp"
    }
   },
   "outputs": [],
   "source": [
    "public record GitHubIssue(string Title, string Text, string Area, string Url);"
   ]
  },
  {
   "cell_type": "code",
   "execution_count": null,
   "metadata": {
    "dotnet_interactive": {
     "language": "csharp"
    },
    "polyglot_notebook": {
     "kernelName": "csharp"
    }
   },
   "outputs": [],
   "source": [
    "var dataCollection = \n",
    "    allIssues\n",
    "        .DistinctBy(issue => issue.Id)\n",
    "        .Select(issue => \n",
    "            new GitHubIssue(\n",
    "                issue.Title,\n",
    "                issue.Body,\n",
    "                issue.Labels?.Where(l => \n",
    "                    l.Name.StartsWith(\"area-\",StringComparison.OrdinalIgnoreCase))\n",
    "                        .FirstOrDefault()?\n",
    "                        .Name?\n",
    "                        .Replace(\"area-\",string.Empty)?\n",
    "                        .Replace(\"-\",\" \"),\n",
    "                issue.HtmlUrl));"
   ]
  },
  {
   "cell_type": "markdown",
   "metadata": {},
   "source": [
    "## Helper functions to save and load to disk"
   ]
  },
  {
   "cell_type": "code",
   "execution_count": null,
   "metadata": {
    "dotnet_interactive": {
     "language": "csharp"
    },
    "polyglot_notebook": {
     "kernelName": "csharp"
    }
   },
   "outputs": [],
   "source": [
    "using System.IO;\n",
    "using System.Text.Json;\n",
    "using System.Text.Json.Serialization;\n",
    "\n",
    "public async Task SaveIssuesToFileAsync(IEnumerable<GitHubIssue> data, string fileName)\n",
    "{ \n",
    "    var filePath = Path.Combine(\"..\",\"..\",\"..\",\"Data\",fileName);\n",
    "    var issuesJson = JsonSerializer.Serialize(data,new JsonSerializerOptions(JsonSerializerOptions.Default){WriteIndented=true});\n",
    "    await File.WriteAllTextAsync(filePath, issuesJson);\n",
    "}\n",
    "\n",
    "public async Task<GitHubIssue[]> LoadIssuesFromFileAsync(string fileName)\n",
    "{\n",
    "    var filePath = Path.Combine(\"..\",\"..\",\"..\",\"Data\",fileName);\n",
    "    var text = await File.ReadAllTextAsync(filePath);\n",
    "    return JsonSerializer.Deserialize<GitHubIssue[]>(text);\n",
    "}"
   ]
  },
  {
   "cell_type": "code",
   "execution_count": null,
   "metadata": {
    "dotnet_interactive": {
     "language": "csharp"
    },
    "polyglot_notebook": {
     "kernelName": "csharp"
    }
   },
   "outputs": [],
   "source": [
    "await SaveIssuesToFileAsync(dataCollection, \"issues.json\");"
   ]
  },
  {
   "cell_type": "markdown",
   "metadata": {},
   "source": [
    "## Chunk issues"
   ]
  },
  {
   "cell_type": "code",
   "execution_count": null,
   "metadata": {
    "dotnet_interactive": {
     "language": "csharp"
    },
    "polyglot_notebook": {
     "kernelName": "csharp"
    }
   },
   "outputs": [],
   "source": [
    "var dataCollection = await LoadIssuesFromFileAsync(\"issues.json\");"
   ]
  },
  {
   "cell_type": "code",
   "execution_count": null,
   "metadata": {},
   "outputs": [],
   "source": [
    "dataCollection.Count()"
   ]
  },
  {
   "cell_type": "markdown",
   "metadata": {},
   "source": [
    "### Initialize collection of issues with chunks"
   ]
  },
  {
   "cell_type": "code",
   "execution_count": null,
   "metadata": {},
   "outputs": [],
   "source": [
    "public record TextWithEmbedding(string Text, float[] Embedding);\n",
    "public record IssueWithChunks(GitHubIssue Issue,List<TextWithEmbedding> Chunks);"
   ]
  },
  {
   "cell_type": "code",
   "execution_count": null,
   "metadata": {},
   "outputs": [],
   "source": [
    "var issuesWithChunksCollection = \n",
    "    dataCollection\n",
    "        .Select(issue => new IssueWithChunks(issue, new ()))\n",
    "        .ToArray();"
   ]
  },
  {
   "cell_type": "markdown",
   "metadata": {},
   "source": [
    "### Get embedding deployment name"
   ]
  },
  {
   "cell_type": "code",
   "execution_count": null,
   "metadata": {},
   "outputs": [],
   "source": [
    "var embeddingDeployment = await Kernel.GetInputAsync(\"Provide embedding deploymnet name\");"
   ]
  },
  {
   "cell_type": "markdown",
   "metadata": {},
   "source": [
    "### Helper functions to save and load chunks to disk"
   ]
  },
  {
   "cell_type": "code",
   "execution_count": 1,
   "metadata": {},
   "outputs": [
    {
     "ename": "SyntaxError",
     "evalue": "invalid syntax (4041573465.py, line 1)",
     "output_type": "error",
     "traceback": [
      "\u001b[0;36m  Cell \u001b[0;32mIn[1], line 1\u001b[0;36m\u001b[0m\n\u001b[0;31m    using System.IO;\u001b[0m\n\u001b[0m          ^\u001b[0m\n\u001b[0;31mSyntaxError\u001b[0m\u001b[0;31m:\u001b[0m invalid syntax\n"
     ]
    }
   ],
   "source": [
    "using System.IO;\n",
    "using System.Text.Json;\n",
    "using System.Text.Json.Serialization;\n",
    "\n",
    "public async Task SaveIssuesWithChunksToFileAsync(IEnumerable<IssueWithChunks> data, string fileName)\n",
    "{ \n",
    "    var filePath = Path.Combine(\"..\",\"..\",\"..\",\"Data\",fileName);\n",
    "    var issuesJson = JsonSerializer.Serialize(data,new JsonSerializerOptions(JsonSerializerOptions.Default){WriteIndented=true});\n",
    "    await File.WriteAllTextAsync(filePath, issuesJson);\n",
    "}\n",
    "\n",
    "public async Task<IssueWithChunks[]> LoadIssuesWithChunksFromFileAsync(string fileName)\n",
    "{\n",
    "    var filePath = Path.Combine(\"..\",\"..\",\"..\",\"Data\",fileName);\n",
    "    var text = await File.ReadAllTextAsync(filePath);\n",
    "    return JsonSerializer.Deserialize<IssueWithChunks[]>(text);\n",
    "}"
   ]
  },
  {
   "cell_type": "markdown",
   "metadata": {},
   "source": [
    "### Chunk data and generate embeddings"
   ]
  },
  {
   "cell_type": "code",
   "execution_count": null,
   "metadata": {
    "dotnet_interactive": {
     "language": "csharp"
    },
    "polyglot_notebook": {
     "kernelName": "csharp"
    }
   },
   "outputs": [],
   "source": [
    "var tokenizer = await Tokenizer.CreateAsync(TokenizerModel.ada2);\n",
    "\n",
    "var counter = 0;\n",
    "\n",
    "foreach(var item in issuesWithChunksCollection.Take(100))\n",
    "{\n",
    "    var fullText = item.Issue.Text;\n",
    "    if(string.IsNullOrWhiteSpace(fullText))\n",
    "        continue;\n",
    "\n",
    "    var chunks = \n",
    "        tokenizer\n",
    "            .ChunkByTokenCountWithOverlap(fullText, 3000, 50)\n",
    "            .Select(t => \n",
    "$\"\"\"\n",
    "Title: {item.Issue.Title}\n",
    "Area: {item.Issue.Area}\n",
    "\n",
    "{t}\n",
    "\"\"\")\n",
    "            .Chunk(16)\n",
    "            .ToArray();\n",
    "\n",
    "    foreach(var chunk in chunks)\n",
    "    {\n",
    "        \n",
    "        var embeddingResponse = await openAIClient.GetEmbeddingsAsync(new EmbeddingsOptions(embeddingDeployment,chunk));\n",
    "        item.Chunks.AddRange(\n",
    "            embeddingResponse.Value.Data.Select(d => \n",
    "                new TextWithEmbedding(chunk[d.Index],d.Embedding.ToArray())));\n",
    "    }\n",
    "\n",
    "    if(counter % 50 == 0)\n",
    "        await SaveIssuesWithChunksToFileAsync(issuesWithChunksCollection, \"areaIssuesWithEmbeddingsSubset.json\");\n",
    "    counter++;\n",
    "}\n",
    "\n",
    "await SaveIssuesWithChunksToFileAsync(issuesWithChunksCollection, \"areaIssuesWithEmbeddingsSubset.json\");"
   ]
  },
  {
   "cell_type": "code",
   "execution_count": null,
   "metadata": {
    "dotnet_interactive": {
     "language": "csharp"
    },
    "polyglot_notebook": {
     "kernelName": "csharp"
    }
   },
   "outputs": [],
   "source": [
    "dataCollection.Take(5).DisplayTable();"
   ]
  },
  {
   "cell_type": "code",
   "execution_count": null,
   "metadata": {
    "dotnet_interactive": {
     "language": "csharp"
    },
    "polyglot_notebook": {
     "kernelName": "csharp"
    }
   },
   "outputs": [],
   "source": [
    "await SaveDataToFileAsync(dataCollection, \"issueWithEmbeddings.json\");"
   ]
  },
  {
   "cell_type": "markdown",
   "metadata": {},
   "source": [
    "## Naive Search"
   ]
  },
  {
   "cell_type": "code",
   "execution_count": null,
   "metadata": {
    "dotnet_interactive": {
     "language": "csharp"
    },
    "polyglot_notebook": {
     "kernelName": "csharp"
    }
   },
   "outputs": [],
   "source": [
    "var dataCollection = await LoadDataFromFileAsync(\"issueWithEmbeddings.json\");"
   ]
  },
  {
   "cell_type": "code",
   "execution_count": null,
   "metadata": {
    "dotnet_interactive": {
     "language": "csharp"
    },
    "polyglot_notebook": {
     "kernelName": "csharp"
    }
   },
   "outputs": [],
   "source": [
    "public string[] NaiveSearch(string query, IEnumerable<IssueWithChunks> data,int resultLimit = 1)\n",
    "{\n",
    "    return data.Where(d => d.Issue.Text?.Contains(query)==true).Select(d => d.Issue.Text).Take(resultLimit).ToArray();\n",
    "}"
   ]
  },
  {
   "cell_type": "code",
   "execution_count": null,
   "metadata": {
    "dotnet_interactive": {
     "language": "csharp"
    },
    "polyglot_notebook": {
     "kernelName": "csharp"
    }
   },
   "outputs": [],
   "source": [
    "NaiveSearch(\"What are the latest issues for AOT\",dataCollection).Display();"
   ]
  },
  {
   "cell_type": "markdown",
   "metadata": {},
   "source": [
    "## Embedding Search"
   ]
  },
  {
   "cell_type": "code",
   "execution_count": null,
   "metadata": {
    "dotnet_interactive": {
     "language": "csharp"
    },
    "polyglot_notebook": {
     "kernelName": "csharp"
    }
   },
   "outputs": [],
   "source": [
    "#r \"nuget: System.Numerics.Tensors, 8.0.0-rc.2.23479.6\""
   ]
  },
  {
   "cell_type": "code",
   "execution_count": null,
   "metadata": {
    "dotnet_interactive": {
     "language": "csharp"
    },
    "polyglot_notebook": {
     "kernelName": "csharp"
    }
   },
   "outputs": [],
   "source": [
    "using System.Numerics.Tensors;"
   ]
  },
  {
   "cell_type": "code",
   "execution_count": null,
   "metadata": {
    "dotnet_interactive": {
     "language": "csharp"
    },
    "polyglot_notebook": {
     "kernelName": "csharp"
    }
   },
   "outputs": [],
   "source": [
    "public class SimilarityComparer : ISimilarityComparer<float[]>\n",
    "{\n",
    "    public float Score(float[] a, float[] b)\n",
    "    {\n",
    "        return TensorPrimitives.CosineSimilarity(a,b);\n",
    "    }\n",
    "}"
   ]
  },
  {
   "cell_type": "code",
   "execution_count": null,
   "metadata": {
    "dotnet_interactive": {
     "language": "csharp"
    },
    "polyglot_notebook": {
     "kernelName": "csharp"
    }
   },
   "outputs": [],
   "source": [
    "public async Task<string[]> EmbeddingSearchAsync(string query, IEnumerable<IssueWithChunks> data,int resultLimit = 1)\n",
    "{\n",
    "    var embeddingResponse = await openAIClient.GetEmbeddingsAsync(new EmbeddingsOptions(embeddingDeployment,new [] {query}));\n",
    "    var embeddingVector = embeddingResponse.Value.Data[0].Embedding.ToArray();\n",
    "\n",
    "    var searchResults = \n",
    "        data\n",
    "        .SelectMany(d => d.Chunks)\n",
    "        .ScoreBySimilarityTo(embeddingVector,new SimilarityComparer(),c => c.Embedding)\n",
    "        .OrderByDescending(e => e.Value)\n",
    "        .Where(e => e.Value > 0.5)\n",
    "        .Take(resultLimit)\n",
    "        .Select(e => e.Key.Text)\n",
    "        .ToArray();\n",
    "    \n",
    "    return searchResults;\n",
    "}"
   ]
  },
  {
   "cell_type": "code",
   "execution_count": null,
   "metadata": {
    "dotnet_interactive": {
     "language": "csharp"
    },
    "polyglot_notebook": {
     "kernelName": "csharp"
    }
   },
   "outputs": [],
   "source": [
    "(await EmbeddingSearchAsync(\"What are the latest issues for AOT\", dataCollection, 3)).Display();"
   ]
  },
  {
   "cell_type": "markdown",
   "metadata": {},
   "source": [
    "## Store in DB"
   ]
  },
  {
   "cell_type": "markdown",
   "metadata": {},
   "source": [
    "### Start DB locally"
   ]
  },
  {
   "cell_type": "code",
   "execution_count": null,
   "metadata": {
    "dotnet_interactive": {
     "language": "pwsh"
    },
    "polyglot_notebook": {
     "kernelName": "pwsh"
    }
   },
   "outputs": [],
   "source": [
    "docker run -d -p 6333:6333 -p 6334:6334 -v \"$pwd/qdrant_storage:/qdrant/storage:z\" qdrant/qdrant"
   ]
  },
  {
   "cell_type": "code",
   "execution_count": null,
   "metadata": {
    "dotnet_interactive": {
     "language": "csharp"
    },
    "polyglot_notebook": {
     "kernelName": "csharp"
    }
   },
   "outputs": [],
   "source": [
    "using Qdrant.Client;\n",
    "using Qdrant.Client.Grpc;"
   ]
  },
  {
   "cell_type": "markdown",
   "metadata": {},
   "source": [
    "### Initialize Qdrant client"
   ]
  },
  {
   "cell_type": "code",
   "execution_count": null,
   "metadata": {
    "dotnet_interactive": {
     "language": "csharp"
    },
    "polyglot_notebook": {
     "kernelName": "csharp"
    }
   },
   "outputs": [],
   "source": [
    "var qdrantClient = new QdrantClient(host: \"localhost\",port: 6334,https:false);"
   ]
  },
  {
   "cell_type": "markdown",
   "metadata": {},
   "source": [
    "### Create collection"
   ]
  },
  {
   "cell_type": "code",
   "execution_count": null,
   "metadata": {
    "dotnet_interactive": {
     "language": "csharp"
    },
    "polyglot_notebook": {
     "kernelName": "csharp"
    }
   },
   "outputs": [],
   "source": [
    "var collectionName = \"gh_issues\";"
   ]
  },
  {
   "cell_type": "code",
   "execution_count": 30,
   "metadata": {
    "dotnet_interactive": {
     "language": "csharp"
    },
    "polyglot_notebook": {
     "kernelName": "csharp"
    }
   },
   "outputs": [],
   "source": [
    "var collections = await qdrantClient.ListCollectionsAsync();\n",
    "if(collections.Where(x => x.Contains(collectionName)).Count() > 0) \n",
    "    await qdrantClient.DeleteCollectionAsync(collectionName);"
   ]
  },
  {
   "cell_type": "code",
   "execution_count": 31,
   "metadata": {
    "dotnet_interactive": {
     "language": "csharp"
    },
    "polyglot_notebook": {
     "kernelName": "csharp"
    }
   },
   "outputs": [],
   "source": [
    "await qdrantClient.CreateCollectionAsync(collectionName, new VectorParams { Size=1536, Distance=Distance.Cosine})"
   ]
  },
  {
   "cell_type": "markdown",
   "metadata": {},
   "source": [
    "### Map issue embeddings to points"
   ]
  },
  {
   "cell_type": "code",
   "execution_count": 32,
   "metadata": {
    "dotnet_interactive": {
     "language": "csharp"
    },
    "polyglot_notebook": {
     "kernelName": "csharp"
    }
   },
   "outputs": [],
   "source": [
    "var vectors = \n",
    "    issuesWithChunksCollection\n",
    "        .Where(d => d.Chunks.Count > 0)\n",
    "        .SelectMany(d => \n",
    "            d.Chunks.Select(c => new {\n",
    "                Embedding=c.Embedding,\n",
    "                Text=$\"<issueTitle>{d.Issue.Title}</issueTitle>\\n<issueUrl>{d.Issue.Url}</issueUrl>\\n<issueArea>{d.Issue.Area}</issueArea>\\n<issueSnippet>{c.Text}</issueSnippet>\"\n",
    "                }))\n",
    "        .ToList();\n",
    "  "
   ]
  },
  {
   "cell_type": "code",
   "execution_count": 33,
   "metadata": {
    "dotnet_interactive": {
     "language": "csharp"
    },
    "polyglot_notebook": {
     "kernelName": "csharp"
    }
   },
   "outputs": [],
   "source": [
    "var points = vectors.Select(vector => \n",
    "{\n",
    "    var point = new PointStruct\n",
    "    {\n",
    "        Id = new PointId { Uuid = Guid.NewGuid().ToString() },\n",
    "        Vectors = vector.Embedding,\n",
    "        Payload = \n",
    "            {\n",
    "                [\"text\"] = vector.Text\n",
    "            }\n",
    "    };\n",
    "    return point;\n",
    "}).ToList();\n"
   ]
  },
  {
   "cell_type": "markdown",
   "metadata": {},
   "source": [
    "### Insert data into Qdrant collection"
   ]
  },
  {
   "cell_type": "code",
   "execution_count": 34,
   "metadata": {
    "dotnet_interactive": {
     "language": "csharp"
    },
    "polyglot_notebook": {
     "kernelName": "csharp"
    }
   },
   "outputs": [],
   "source": [
    "await qdrantClient.UpsertAsync(collectionName,points);"
   ]
  },
  {
   "cell_type": "markdown",
   "metadata": {},
   "source": [
    "## Get Count"
   ]
  },
  {
   "cell_type": "code",
   "execution_count": 35,
   "metadata": {
    "dotnet_interactive": {
     "language": "csharp"
    },
    "polyglot_notebook": {
     "kernelName": "csharp"
    }
   },
   "outputs": [
    {
     "data": {
      "text/html": [
       "<div class=\"dni-plaintext\"><pre>962</pre></div><style>\r\n",
       ".dni-code-hint {\r\n",
       "    font-style: italic;\r\n",
       "    overflow: hidden;\r\n",
       "    white-space: nowrap;\r\n",
       "}\r\n",
       ".dni-treeview {\r\n",
       "    white-space: nowrap;\r\n",
       "}\r\n",
       ".dni-treeview td {\r\n",
       "    vertical-align: top;\r\n",
       "    text-align: start;\r\n",
       "}\r\n",
       "details.dni-treeview {\r\n",
       "    padding-left: 1em;\r\n",
       "}\r\n",
       "table td {\r\n",
       "    text-align: start;\r\n",
       "}\r\n",
       "table tr { \r\n",
       "    vertical-align: top; \r\n",
       "    margin: 0em 0px;\r\n",
       "}\r\n",
       "table tr td pre \r\n",
       "{ \r\n",
       "    vertical-align: top !important; \r\n",
       "    margin: 0em 0px !important;\r\n",
       "} \r\n",
       "table th {\r\n",
       "    text-align: start;\r\n",
       "}\r\n",
       "</style>"
      ]
     },
     "metadata": {},
     "output_type": "display_data"
    }
   ],
   "source": [
    "await qdrantClient.CountAsync(collectionName)"
   ]
  },
  {
   "cell_type": "markdown",
   "metadata": {},
   "source": [
    "## Search with Qdrant"
   ]
  },
  {
   "cell_type": "code",
   "execution_count": 36,
   "metadata": {
    "dotnet_interactive": {
     "language": "csharp"
    },
    "polyglot_notebook": {
     "kernelName": "csharp"
    }
   },
   "outputs": [],
   "source": [
    "public async Task<string[]> SearchWithQdrantAsync(string query, string collectionName, int resultLimit = 1)\n",
    "{\n",
    "    var embeddingResponse = await openAIClient.GetEmbeddingsAsync(new EmbeddingsOptions(embeddingDeployment,new [] {query}));\n",
    "    var embeddingVector = embeddingResponse.Value.Data[0].Embedding.ToArray();\n",
    "\n",
    "    var results = await qdrantClient.SearchAsync(collectionName,embeddingVector, limit:(ulong)resultLimit);\n",
    "    return results.Select(r => r.Payload[\"text\"].StringValue).ToArray();\n",
    "}"
   ]
  },
  {
   "cell_type": "code",
   "execution_count": 37,
   "metadata": {
    "dotnet_interactive": {
     "language": "csharp"
    },
    "polyglot_notebook": {
     "kernelName": "csharp"
    }
   },
   "outputs": [
    {
     "data": {
      "text/html": [
       "<div class=\"dni-plaintext\"><pre>[ &lt;issueTitle&gt;Should we AOT the XunitLogChecker tool?&lt;/issueTitle&gt;\n",
       "&lt;issueUrl&gt;https://github.com/dotnet/runtime/issues/94270&lt;/issueUrl&gt;\n",
       "&lt;issueSnippet&gt;Issue Title: Should we AOT the XunitLogChecker tool?\n",
       "Issue Url: https://github.com/dotnet/runtime/issues/94270 \n",
       "Chunk: \n",
       "The XunitLogChecker targets the tool runtime today (an LKG runtime).\r\n",
       "\r\n",
       "We don&#39;t deploy this runtime during libraries testing, nor do we really want to take a dependency on deploying that runtime to the test machines.  We&#39;ll instead let the tool roll-forward and run on the test runtime.\r\n",
       "\r\n",
       "This will work - except for the case that there is such a bad bug that the tool crashes too.\r\n",
       "\r\n",
       "One thing @agocke suggested was that try native-AOT for the tool to make it work without a runtime dependency.  This would potentially make the tool less subject to runtime breaks.&lt;/issueSnippet&gt;, &lt;issueTitle&gt;Improving Arm64 Performance in .NET 9.0&lt;/issueTitle&gt;\n",
       "&lt;issueUrl&gt;https://github.com/dotnet/runtime/issues/94464&lt;/issueUrl&gt;\n",
       "&lt;issueSnippet&gt;Issue Title: Improving Arm64 Performance in .NET 9.0\n",
       "Issue Url: https://github.com/dotnet/runtime/issues/94464 \n",
       "Chunk: \n",
       "## Overview\r\n",
       "\r\n",
       "As we did in the past for [.NET 5](https://github.com/dotnet/runtime/issues/35853), [.NET 7](https://github.com/dotnet/runtime/issues/64820) and [.NET 8](https://github.com/dotnet/runtime/issues/77010), we would like to continue improving Arm64 in .NET 9 as well. Here are the top-level themes we plan to address. Some of the issues are from the past releases that we did not get time to work upon. while others are about adding instructions of newer arm versions or exposing the Arm functionality to the .NET API level.\r\n",
       "\r\n",
       "### New instructions\r\n",
       "\r\n",
       "- [ ] https://github.com/dotnet/runtime/issues/93095\r\n",
       "- [ ] https://github.com/dotnet/runtime/issues/84510\r\n",
       "- [ ] Explore new instructions added in Armv8.3 ~ Armv9 and see if we can use them in JIT\r\n",
       "- [ ] Start using Post increment addressing mode in JIT wherever applicable.\r\n",
       "\r\n",
       "### Performance improvements\r\n",
       "- [ ] https://github.com/dotnet/runtime/issues/68028\r\n",
       "- [ ] https://github.com/dotnet/runtime/issues/10444\r\n",
       "- [ ] https://github.com/dotnet/runtime/issues/84328\r\n",
       "- [ ] Consume LoadVector/StoreVector in .NET libraries\r\n",
       "- [ ] #76047\r\n",
       "\r\n",
       "\r\n",
       "### Stretch goals\r\n",
       "- [ ] Consume SVE2 APIs in .NET libraries\r\n",
       "- [ ] https://github.com/dotnet/runtime/issues/77916\r\n",
       "- [ ] Experiment how much TP impact we will see if enabled pointer authentication for coreclr. Depending on that, decide if it should be enabled for JIT.&lt;/issueSnippet&gt;, &lt;issueTitle&gt;[wasm] Some AOT configuration combinations to disallow&lt;/issueTitle&gt;\n",
       "&lt;issueUrl&gt;https://github.com/dotnet/runtime/issues/94103&lt;/issueUrl&gt;\n",
       "&lt;issueSnippet&gt;Issue Title: [wasm] Some AOT configuration combinations to disallow\n",
       "Issue Url: https://github.com/dotnet/runtime/issues/94103 \n",
       "Chunk: \n",
       "Some other cases:\r\n",
       "- Debug+aot is not very usable either, aot doesn&#39;t support managed debugging.\r\n",
       "- it might be possible to use profiled aot without il linking.\r\n",
       "\r\n",
       "\r\n",
       "_Originally posted by @vargaz in https://github.com/dotnet/runtime/issues/94064#issuecomment-1781792993_\r\n",
       "            &lt;/issueSnippet&gt; ]</pre></div><style>\r\n",
       ".dni-code-hint {\r\n",
       "    font-style: italic;\r\n",
       "    overflow: hidden;\r\n",
       "    white-space: nowrap;\r\n",
       "}\r\n",
       ".dni-treeview {\r\n",
       "    white-space: nowrap;\r\n",
       "}\r\n",
       ".dni-treeview td {\r\n",
       "    vertical-align: top;\r\n",
       "    text-align: start;\r\n",
       "}\r\n",
       "details.dni-treeview {\r\n",
       "    padding-left: 1em;\r\n",
       "}\r\n",
       "table td {\r\n",
       "    text-align: start;\r\n",
       "}\r\n",
       "table tr { \r\n",
       "    vertical-align: top; \r\n",
       "    margin: 0em 0px;\r\n",
       "}\r\n",
       "table tr td pre \r\n",
       "{ \r\n",
       "    vertical-align: top !important; \r\n",
       "    margin: 0em 0px !important;\r\n",
       "} \r\n",
       "table th {\r\n",
       "    text-align: start;\r\n",
       "}\r\n",
       "</style>"
      ]
     },
     "metadata": {},
     "output_type": "display_data"
    }
   ],
   "source": [
    "(await SearchWithQdrantAsync(\"What are the latest issues for AOT\", collectionName, 3)).Display();"
   ]
  }
 ],
 "metadata": {
  "kernelInfo": {
   "defaultKernelName": null,
   "items": [
    {
     "aliases": [
      "c#",
      "cs"
     ],
     "languageName": "C#",
     "name": "csharp"
    },
    {
     "aliases": [
      "f#",
      "fs"
     ],
     "languageName": "F#",
     "name": "fsharp"
    },
    {
     "languageName": "HTML",
     "name": "html"
    },
    {
     "languageName": "HTTP",
     "name": "http"
    },
    {
     "aliases": [
      "js"
     ],
     "languageName": "JavaScript",
     "name": "javascript"
    },
    {
     "languageName": "KQL",
     "name": "kql"
    },
    {
     "languageName": "Mermaid",
     "name": "mermaid"
    },
    {
     "aliases": [
      "powershell"
     ],
     "languageName": "PowerShell",
     "name": "pwsh"
    },
    {
     "languageName": "SQL",
     "name": "sql"
    },
    {
     "name": "value"
    }
   ]
  },
  "kernelspec": {
   "display_name": "Python 3",
   "language": "python",
   "name": "python3"
  },
  "language_info": {
   "codemirror_mode": {
    "name": "ipython",
    "version": 3
   },
   "file_extension": ".py",
   "mimetype": "text/x-python",
   "name": "python",
   "nbconvert_exporter": "python",
   "pygments_lexer": "ipython3",
   "version": "3.10.8"
  },
  "polyglot_notebook": {
   "kernelInfo": {
    "defaultKernelName": "csharp",
    "items": [
     {
      "aliases": [
       "c#",
       "cs"
      ],
      "languageName": "C#",
      "name": "csharp"
     },
     {
      "aliases": [
       "f#",
       "fs"
      ],
      "languageName": "F#",
      "name": "fsharp"
     },
     {
      "aliases": [],
      "languageName": "HTML",
      "name": "html"
     },
     {
      "aliases": [],
      "languageName": "HTTP",
      "name": "http"
     },
     {
      "aliases": [
       "js"
      ],
      "languageName": "JavaScript",
      "name": "javascript"
     },
     {
      "aliases": [],
      "languageName": "KQL",
      "name": "kql"
     },
     {
      "aliases": [],
      "languageName": "Mermaid",
      "name": "mermaid"
     },
     {
      "aliases": [
       "powershell"
      ],
      "languageName": "PowerShell",
      "name": "pwsh"
     },
     {
      "aliases": [],
      "languageName": "SQL",
      "name": "sql"
     },
     {
      "aliases": [],
      "name": "value"
     }
    ]
   }
  }
 },
 "nbformat": 4,
 "nbformat_minor": 5
}
