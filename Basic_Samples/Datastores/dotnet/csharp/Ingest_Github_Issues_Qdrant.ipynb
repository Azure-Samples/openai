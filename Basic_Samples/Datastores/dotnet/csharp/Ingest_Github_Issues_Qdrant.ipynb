{
 "cells": [
  {
   "cell_type": "markdown",
   "metadata": {},
   "source": [
    "# Ingest GitHub Issues into Qdrant"
   ]
  },
  {
   "cell_type": "code",
   "execution_count": 1,
   "metadata": {
    "dotnet_interactive": {
     "language": "csharp"
    },
    "polyglot_notebook": {
     "kernelName": "csharp"
    },
    "vscode": {
     "languageId": "polyglot-notebook"
    }
   },
   "outputs": [
    {
     "data": {
      "text/html": [
       "<div><div></div><div></div><div><strong>Installed Packages</strong><ul><li><span>Azure.AI.OpenAI, 1.0.0-beta.9</span></li><li><span>Qdrant.Client, 1.6.0-alpha.1</span></li></ul></div></div>"
      ]
     },
     "metadata": {},
     "output_type": "display_data"
    }
   ],
   "source": [
    "#r \"nuget: Azure.AI.OpenAI, 1.0.0-beta.9\"\n",
    "#r \"nuget: Qdrant.Client, 1.6.0-alpha.1\""
   ]
  },
  {
   "cell_type": "code",
   "execution_count": 2,
   "metadata": {
    "dotnet_interactive": {
     "language": "csharp"
    },
    "polyglot_notebook": {
     "kernelName": "csharp"
    },
    "vscode": {
     "languageId": "polyglot-notebook"
    }
   },
   "outputs": [
    {
     "data": {
      "text/html": [
       "<div><div></div><div></div><div><strong>Installed Packages</strong><ul><li><span>Octokit, 9.0.0</span></li><li><span>Octokit.Reactive, 9.0.0</span></li></ul></div></div>"
      ]
     },
     "metadata": {},
     "output_type": "display_data"
    }
   ],
   "source": [
    "#r \"nuget: Octokit, 9.0.0\"\n",
    "#r \"nuget: Octokit.Reactive, 9.0.0\""
   ]
  },
  {
   "cell_type": "code",
   "execution_count": 3,
   "metadata": {
    "dotnet_interactive": {
     "language": "csharp"
    },
    "polyglot_notebook": {
     "kernelName": "csharp"
    },
    "vscode": {
     "languageId": "polyglot-notebook"
    }
   },
   "outputs": [
    {
     "data": {
      "text/html": [
       "<div><div></div><div></div><div><strong>Installed Packages</strong><ul><li><span>Microsoft.DotNet.Interactive.AIUtilities, 1.0.0-beta.23557.4</span></li></ul></div></div>"
      ]
     },
     "metadata": {},
     "output_type": "display_data"
    },
    {
     "data": {
      "text/plain": [
       "Loading extension script from `/home/codespace/.nuget/packages/microsoft.dotnet.interactive.aiutilities/1.0.0-beta.23557.4/interactive-extensions/dotnet/extension.dib`"
      ]
     },
     "metadata": {},
     "output_type": "display_data"
    }
   ],
   "source": [
    "#r \"nuget:Microsoft.DotNet.Interactive.AIUtilities, 1.0.0-beta.23557.4\""
   ]
  },
  {
   "cell_type": "code",
   "execution_count": 4,
   "metadata": {
    "dotnet_interactive": {
     "language": "csharp"
    },
    "polyglot_notebook": {
     "kernelName": "csharp"
    },
    "vscode": {
     "languageId": "polyglot-notebook"
    }
   },
   "outputs": [],
   "source": [
    "using Azure;\n",
    "using Azure.AI.OpenAI;\n",
    "using Microsoft.DotNet.Interactive;\n",
    "using Microsoft.DotNet.Interactive.AIUtilities;\n",
    "using Octokit;"
   ]
  },
  {
   "cell_type": "code",
   "execution_count": 5,
   "metadata": {
    "dotnet_interactive": {
     "language": "csharp"
    },
    "polyglot_notebook": {
     "kernelName": "csharp"
    },
    "vscode": {
     "languageId": "polyglot-notebook"
    }
   },
   "outputs": [],
   "source": [
    "var azureOpenAIKey = await Kernel.GetPasswordAsync(\"Provide your OPEN_AI_KEY\");\n",
    "var azureOpenAIEndpoint = await Kernel.GetInputAsync(\"Provide the OPEN_AI_ENDPOINT\");\n",
    "var embeddingDeployment = await Kernel.GetInputAsync(\"Provide embedding name\");"
   ]
  },
  {
   "cell_type": "markdown",
   "metadata": {},
   "source": [
    "## Access to GitHub\n",
    "You will need access token with rights to query and update issues."
   ]
  },
  {
   "cell_type": "code",
   "execution_count": null,
   "metadata": {
    "dotnet_interactive": {
     "language": "csharp"
    },
    "polyglot_notebook": {
     "kernelName": "csharp"
    },
    "vscode": {
     "languageId": "polyglot-notebook"
    }
   },
   "outputs": [],
   "source": [
    "var githubKey = await Kernel.GetPasswordAsync(\"Provide your Github api key\");\n",
    "var repoName = await Kernel.GetInputAsync(\"Provide repo\");\n",
    "var org = await Kernel.GetInputAsync(\"Provide org\");"
   ]
  },
  {
   "cell_type": "code",
   "execution_count": 6,
   "metadata": {
    "dotnet_interactive": {
     "language": "csharp"
    },
    "polyglot_notebook": {
     "kernelName": "csharp"
    },
    "vscode": {
     "languageId": "polyglot-notebook"
    }
   },
   "outputs": [],
   "source": [
    "OpenAIClient openAIClient = new (new System.Uri(azureOpenAIEndpoint), new AzureKeyCredential(azureOpenAIKey.GetClearTextPassword()));"
   ]
  },
  {
   "cell_type": "code",
   "execution_count": null,
   "metadata": {
    "dotnet_interactive": {
     "language": "csharp"
    },
    "polyglot_notebook": {
     "kernelName": "csharp"
    },
    "vscode": {
     "languageId": "polyglot-notebook"
    }
   },
   "outputs": [],
   "source": [
    "var options = new ApiOptions();\n",
    "var gitHubClient = new GitHubClient(new ProductHeaderValue(\"notebook\"));\n",
    "\n",
    "if (!string.IsNullOrEmpty(githubKey.GetClearTextPassword())) {\n",
    "    Console.WriteLine(\"Using GitHub API token\");\n",
    "    var tokenAuth = new Credentials(githubKey.GetClearTextPassword());\n",
    "    gitHubClient.Credentials = tokenAuth;\n",
    "} else {\n",
    "    Console.WriteLine(\"Using anonymous GitHub API\");\n",
    "}"
   ]
  },
  {
   "cell_type": "markdown",
   "metadata": {},
   "source": [
    "The code below is using the Octokit library, which is a .NET client for interacting with the GitHub API.\n",
    "\n",
    "The first part of the code is creating a new instance of `RepositoryIssueRequest` named `last6Months`. This object is used to specify the parameters for a request to fetch issues from a GitHub repository. In this case, the `Filter` property is set to `IssueFilter.All`, which means that the request will return all issues regardless of their state (open, closed, etc.). The `Since` property is set to a date that is six months prior to the current date (`DateTimeOffset.UtcNow.Subtract(TimeSpan.FromDays(30*6))`). This means that the request will return only the issues that have been updated in the last six months.\n",
    "\n",
    "The second part of the code is making an asynchronous request to fetch all issues for a specific repository. The `GetAllForRepository` method of the `Issue` class in the `gitHubClient` object is used to make this request. The `org` and `repoName` variables are used to specify the organization and the name of the repository from which to fetch the issues. The method returns a list of all issues in the specified repository. The `await` keyword is used to wait for the method to complete execution before moving on to the next line of code. This is necessary because the method is asynchronous, meaning it runs in the background and may not complete immediately."
   ]
  },
  {
   "cell_type": "code",
   "execution_count": null,
   "metadata": {
    "dotnet_interactive": {
     "language": "csharp"
    },
    "polyglot_notebook": {
     "kernelName": "csharp"
    },
    "vscode": {
     "languageId": "polyglot-notebook"
    }
   },
   "outputs": [],
   "source": [
    "var last6Months = new RepositoryIssueRequest\n",
    "{\n",
    "    Filter = IssueFilter.All,\n",
    "    Since = DateTimeOffset.UtcNow.Subtract(TimeSpan.FromDays(30*6))\n",
    "};\n",
    "var allIssues = await gitHubClient.Issue.GetAllForRepository(org, repoName);"
   ]
  },
  {
   "cell_type": "code",
   "execution_count": 7,
   "metadata": {
    "dotnet_interactive": {
     "language": "csharp"
    },
    "polyglot_notebook": {
     "kernelName": "csharp"
    },
    "vscode": {
     "languageId": "polyglot-notebook"
    }
   },
   "outputs": [],
   "source": [
    "public record GitHubIssue(string Title, string Text, string Url);\n",
    "public record TextWithEmbedding(string Text, float[] Embedding);\n",
    "public class IssueWithChunks\n",
    "{\n",
    "    public GitHubIssue Issue {get;set;}\n",
    "    public List<TextWithEmbedding> Chunks {get;set;}\n",
    "}"
   ]
  },
  {
   "cell_type": "code",
   "execution_count": null,
   "metadata": {
    "dotnet_interactive": {
     "language": "csharp"
    },
    "polyglot_notebook": {
     "kernelName": "csharp"
    },
    "vscode": {
     "languageId": "polyglot-notebook"
    }
   },
   "outputs": [],
   "source": [
    "var dataCollection = \n",
    "    allIssues\n",
    "        .Select(issue => new IssueWithChunks{\n",
    "            Issue=new GitHubIssue(issue.Title,issue.Body,issue.HtmlUrl), \n",
    "            Chunks= new ()\n",
    "        })\n",
    "        .ToArray();"
   ]
  },
  {
   "cell_type": "markdown",
   "metadata": {},
   "source": [
    "## Helper functions to save and load to disk"
   ]
  },
  {
   "cell_type": "code",
   "execution_count": 8,
   "metadata": {
    "dotnet_interactive": {
     "language": "csharp"
    },
    "polyglot_notebook": {
     "kernelName": "csharp"
    },
    "vscode": {
     "languageId": "polyglot-notebook"
    }
   },
   "outputs": [],
   "source": [
    "using System.IO;\n",
    "using System.Text.Json;\n",
    "using System.Text.Json.Serialization;\n",
    "\n",
    "public async Task SaveDataToFileAsync(IEnumerable<IssueWithChunks> data, string fileName)\n",
    "{ \n",
    "    var filePath = Path.Combine(\"..\",\"..\",\"..\",\"Data\",fileName);\n",
    "    var issuesJson = JsonSerializer.Serialize(data,new JsonSerializerOptions(JsonSerializerOptions.Default){WriteIndented=true});\n",
    "    await File.WriteAllTextAsync(filePath, issuesJson);\n",
    "}\n",
    "\n",
    "public async Task<IssueWithChunks[]> LoadDataFromFileAsync(string fileName)\n",
    "{\n",
    "    var filePath = Path.Combine(\"..\",\"..\",\"..\",\"Data\",fileName);\n",
    "    var text = await File.ReadAllTextAsync(filePath);\n",
    "    return JsonSerializer.Deserialize<IssueWithChunks[]>(text);\n",
    "}"
   ]
  },
  {
   "cell_type": "code",
   "execution_count": 8,
   "metadata": {
    "dotnet_interactive": {
     "language": "csharp"
    },
    "polyglot_notebook": {
     "kernelName": "csharp"
    },
    "vscode": {
     "languageId": "polyglot-notebook"
    }
   },
   "outputs": [
    {
     "ename": "Error",
     "evalue": "(1,22): error CS0103: The name 'dataCollection' does not exist in the current context",
     "output_type": "error",
     "traceback": [
      "(1,22): error CS0103: The name 'dataCollection' does not exist in the current context"
     ]
    }
   ],
   "source": [
    "await SaveDataToFileAsync(dataCollection, \"issues.json\");"
   ]
  },
  {
   "cell_type": "markdown",
   "metadata": {},
   "source": [
    "## Chunk issues"
   ]
  },
  {
   "cell_type": "code",
   "execution_count": 12,
   "metadata": {
    "dotnet_interactive": {
     "language": "csharp"
    },
    "polyglot_notebook": {
     "kernelName": "csharp"
    },
    "vscode": {
     "languageId": "polyglot-notebook"
    }
   },
   "outputs": [],
   "source": [
    "var dataCollection = await LoadDataFromFileAsync(\"issues.json\");"
   ]
  },
  {
   "cell_type": "code",
   "execution_count": 13,
   "metadata": {
    "dotnet_interactive": {
     "language": "csharp"
    },
    "polyglot_notebook": {
     "kernelName": "csharp"
    },
    "vscode": {
     "languageId": "polyglot-notebook"
    }
   },
   "outputs": [],
   "source": [
    "var tokenizer = await Tokenizer.CreateAsync(TokenizerModel.ada2);\n",
    "\n",
    "foreach(var item in dataCollection)\n",
    "{\n",
    "    var fullText = item.Issue.Text;\n",
    "    if(string.IsNullOrWhiteSpace(fullText))\n",
    "        continue;\n",
    "\n",
    "    var chunks = \n",
    "        tokenizer\n",
    "            .ChunkByTokenCountWithOverlap(fullText, 3000, 50)\n",
    "            .Select(t => \n",
    "$\"\"\"\n",
    "Issue Title: {item.Issue.Title}\n",
    "Issue Url: {item.Issue.Url} \n",
    "Chunk: \n",
    "{t}\n",
    "\"\"\")\n",
    "            .Chunk(16)\n",
    "            .ToArray();\n",
    "\n",
    "    foreach(var chunk in chunks)\n",
    "    {\n",
    "        \n",
    "        var embeddingResponse = await openAIClient.GetEmbeddingsAsync(new EmbeddingsOptions(embeddingDeployment,chunk));\n",
    "        item.Chunks.AddRange(\n",
    "            embeddingResponse.Value.Data.Select(d => \n",
    "                new TextWithEmbedding(chunk[d.Index],d.Embedding.ToArray())));\n",
    "    }\n",
    "}"
   ]
  },
  {
   "cell_type": "code",
   "execution_count": 2,
   "metadata": {
    "dotnet_interactive": {
     "language": "csharp"
    },
    "polyglot_notebook": {
     "kernelName": "csharp"
    },
    "vscode": {
     "languageId": "polyglot-notebook"
    }
   },
   "outputs": [
    {
     "ename": "Error",
     "evalue": "(1,7): error CS0103: The name 'SaveDataToFileAsync' does not exist in the current context\n(1,27): error CS0103: The name 'dataCollection' does not exist in the current context",
     "output_type": "error",
     "traceback": [
      "(1,7): error CS0103: The name 'SaveDataToFileAsync' does not exist in the current context\n",
      "(1,27): error CS0103: The name 'dataCollection' does not exist in the current context"
     ]
    }
   ],
   "source": [
    "await SaveDataToFileAsync(dataCollection, \"issueWithEmbeddings.json\");"
   ]
  },
  {
   "cell_type": "code",
   "execution_count": null,
   "metadata": {
    "dotnet_interactive": {
     "language": "csharp"
    },
    "polyglot_notebook": {
     "kernelName": "csharp"
    },
    "vscode": {
     "languageId": "polyglot-notebook"
    }
   },
   "outputs": [],
   "source": [
    "dataCollection.Take(5).DisplayTable();"
   ]
  },
  {
   "cell_type": "code",
   "execution_count": null,
   "metadata": {
    "dotnet_interactive": {
     "language": "csharp"
    },
    "polyglot_notebook": {
     "kernelName": "csharp"
    },
    "vscode": {
     "languageId": "polyglot-notebook"
    }
   },
   "outputs": [],
   "source": [
    "await SaveDataToFileAsync(dataCollection, \"issueWithEmbeddings.json\");"
   ]
  },
  {
   "cell_type": "markdown",
   "metadata": {},
   "source": [
    "## Naive Search"
   ]
  },
  {
   "cell_type": "code",
   "execution_count": 15,
   "metadata": {
    "dotnet_interactive": {
     "language": "csharp"
    },
    "polyglot_notebook": {
     "kernelName": "csharp"
    },
    "vscode": {
     "languageId": "polyglot-notebook"
    }
   },
   "outputs": [],
   "source": [
    "var dataCollection = await LoadDataFromFileAsync(\"issueWithEmbeddings.json\");"
   ]
  },
  {
   "cell_type": "code",
   "execution_count": 16,
   "metadata": {
    "dotnet_interactive": {
     "language": "csharp"
    },
    "polyglot_notebook": {
     "kernelName": "csharp"
    },
    "vscode": {
     "languageId": "polyglot-notebook"
    }
   },
   "outputs": [],
   "source": [
    "public string[] NaiveSearch(string query, IEnumerable<IssueWithChunks> data,int resultLimit = 1)\n",
    "{\n",
    "    return data.Where(d => d.Issue.Text?.Contains(query)==true).Select(d => d.Issue.Text).Take(resultLimit).ToArray();\n",
    "}"
   ]
  },
  {
   "cell_type": "code",
   "execution_count": 17,
   "metadata": {
    "dotnet_interactive": {
     "language": "csharp"
    },
    "polyglot_notebook": {
     "kernelName": "csharp"
    },
    "vscode": {
     "languageId": "polyglot-notebook"
    }
   },
   "outputs": [
    {
     "data": {
      "text/html": [
       "<div class=\"dni-plaintext\"><pre>[  ]</pre></div><style>\r\n",
       ".dni-code-hint {\r\n",
       "    font-style: italic;\r\n",
       "    overflow: hidden;\r\n",
       "    white-space: nowrap;\r\n",
       "}\r\n",
       ".dni-treeview {\r\n",
       "    white-space: nowrap;\r\n",
       "}\r\n",
       ".dni-treeview td {\r\n",
       "    vertical-align: top;\r\n",
       "    text-align: start;\r\n",
       "}\r\n",
       "details.dni-treeview {\r\n",
       "    padding-left: 1em;\r\n",
       "}\r\n",
       "table td {\r\n",
       "    text-align: start;\r\n",
       "}\r\n",
       "table tr { \r\n",
       "    vertical-align: top; \r\n",
       "    margin: 0em 0px;\r\n",
       "}\r\n",
       "table tr td pre \r\n",
       "{ \r\n",
       "    vertical-align: top !important; \r\n",
       "    margin: 0em 0px !important;\r\n",
       "} \r\n",
       "table th {\r\n",
       "    text-align: start;\r\n",
       "}\r\n",
       "</style>"
      ]
     },
     "metadata": {},
     "output_type": "display_data"
    }
   ],
   "source": [
    "NaiveSearch(\"What are the latest issues for AOT\",dataCollection).Display();"
   ]
  },
  {
   "cell_type": "markdown",
   "metadata": {},
   "source": [
    "## Embedding Search"
   ]
  },
  {
   "cell_type": "code",
   "execution_count": 18,
   "metadata": {
    "dotnet_interactive": {
     "language": "csharp"
    },
    "polyglot_notebook": {
     "kernelName": "csharp"
    },
    "vscode": {
     "languageId": "polyglot-notebook"
    }
   },
   "outputs": [
    {
     "ename": "Error",
     "evalue": "(3,35): error CS0103: The name 'openAIClient' does not exist in the current context\n(3,89): error CS0103: The name 'embeddingDeployment' does not exist in the current context",
     "output_type": "error",
     "traceback": [
      "(3,35): error CS0103: The name 'openAIClient' does not exist in the current context\n",
      "(3,89): error CS0103: The name 'embeddingDeployment' does not exist in the current context"
     ]
    }
   ],
   "source": [
    "public async Task<string[]> EmbeddingSearchAsync(string query, IEnumerable<IssueWithChunks> data,int resultLimit = 1)\n",
    "{\n",
    "    var embeddingResponse = await openAIClient.GetEmbeddingsAsync(new EmbeddingsOptions(embeddingDeployment,new [] {query}));\n",
    "    var embeddingVector = embeddingResponse.Value.Data[0].Embedding.ToArray();\n",
    "\n",
    "    var searchResults = \n",
    "        data\n",
    "        .SelectMany(d => d.Chunks)\n",
    "        .ScoreBySimilarityTo(embeddingVector,new CosineSimilarityComparer<float[]>(f => f),c => c.Embedding)\n",
    "        .OrderByDescending(e => e.Value)\n",
    "        .Where(e => e.Value > 0.5)\n",
    "        .Take(resultLimit)\n",
    "        .Select(e => e.Key.Text)\n",
    "        .ToArray();\n",
    "    \n",
    "    return searchResults;\n",
    "}"
   ]
  },
  {
   "cell_type": "code",
   "execution_count": null,
   "metadata": {
    "dotnet_interactive": {
     "language": "csharp"
    },
    "polyglot_notebook": {
     "kernelName": "csharp"
    },
    "vscode": {
     "languageId": "polyglot-notebook"
    }
   },
   "outputs": [],
   "source": [
    "(await EmbeddingSearchAsync(\"What are the latest issues for AOT\", dataCollection, 3)).Display();"
   ]
  },
  {
   "cell_type": "markdown",
   "metadata": {},
   "source": [
    "## Store in DB"
   ]
  },
  {
   "cell_type": "code",
   "execution_count": 20,
   "metadata": {
    "dotnet_interactive": {
     "language": "pwsh"
    },
    "polyglot_notebook": {
     "kernelName": "pwsh"
    },
    "vscode": {
     "languageId": "polyglot-notebook"
    }
   },
   "outputs": [
    {
     "name": "stdout",
     "output_type": "stream",
     "text": [
      "9d4850aa632fa14361253b64160a6f43b7767794f37b9f6afdf3e61f275961aa\n"
     ]
    }
   ],
   "source": [
    "docker run -d -p 6333:6333 -p 6334:6334 -v \"$pwd/qdrant_storage:/qdrant/storage:z\" qdrant/qdrant"
   ]
  },
  {
   "cell_type": "code",
   "execution_count": 21,
   "metadata": {
    "dotnet_interactive": {
     "language": "csharp"
    },
    "polyglot_notebook": {
     "kernelName": "csharp"
    },
    "vscode": {
     "languageId": "polyglot-notebook"
    }
   },
   "outputs": [],
   "source": [
    "using Qdrant.Client;\n",
    "using Qdrant.Client.Grpc;"
   ]
  },
  {
   "cell_type": "code",
   "execution_count": 22,
   "metadata": {
    "dotnet_interactive": {
     "language": "csharp"
    },
    "polyglot_notebook": {
     "kernelName": "csharp"
    },
    "vscode": {
     "languageId": "polyglot-notebook"
    }
   },
   "outputs": [],
   "source": [
    "var client = new QdrantClient(host: \"localhost\",port: 6334,https:false);"
   ]
  },
  {
   "cell_type": "code",
   "execution_count": 30,
   "metadata": {
    "dotnet_interactive": {
     "language": "csharp"
    },
    "polyglot_notebook": {
     "kernelName": "csharp"
    },
    "vscode": {
     "languageId": "polyglot-notebook"
    }
   },
   "outputs": [],
   "source": [
    "var collectionName = \"gh_issues\";"
   ]
  },
  {
   "cell_type": "code",
   "execution_count": 26,
   "metadata": {
    "dotnet_interactive": {
     "language": "csharp"
    },
    "polyglot_notebook": {
     "kernelName": "csharp"
    },
    "vscode": {
     "languageId": "polyglot-notebook"
    }
   },
   "outputs": [],
   "source": [
    "await client.CreateCollectionAsync(collectionName, new VectorParams { Size=1536, Distance=Distance.Cosine})"
   ]
  },
  {
   "cell_type": "code",
   "execution_count": 25,
   "metadata": {
    "dotnet_interactive": {
     "language": "csharp"
    },
    "polyglot_notebook": {
     "kernelName": "csharp"
    },
    "vscode": {
     "languageId": "polyglot-notebook"
    }
   },
   "outputs": [],
   "source": [
    "var vectors = \n",
    "    dataCollection\n",
    "        .Where(d => d.Chunks.Count > 0)\n",
    "        .SelectMany(d => d.Chunks)\n",
    "        .ToList();\n",
    "  "
   ]
  },
  {
   "cell_type": "code",
   "execution_count": 32,
   "metadata": {
    "dotnet_interactive": {
     "language": "csharp"
    },
    "polyglot_notebook": {
     "kernelName": "csharp"
    },
    "vscode": {
     "languageId": "polyglot-notebook"
    }
   },
   "outputs": [],
   "source": [
    "var points = vectors.Select(vector => \n",
    "{\n",
    "    var point = new PointStruct\n",
    "    {\n",
    "        Id = new PointId { Uuid = Guid.NewGuid().ToString() },\n",
    "        Vectors = vector.Embedding,\n",
    "        Payload = \n",
    "            {\n",
    "                [\"text\"] = vector.Text\n",
    "            }\n",
    "    };\n",
    "    return point;\n",
    "}).ToList();\n"
   ]
  },
  {
   "cell_type": "code",
   "execution_count": 33,
   "metadata": {
    "dotnet_interactive": {
     "language": "csharp"
    },
    "polyglot_notebook": {
     "kernelName": "csharp"
    },
    "vscode": {
     "languageId": "polyglot-notebook"
    }
   },
   "outputs": [],
   "source": [
    "await client.UpsertAsync(collectionName,points);"
   ]
  },
  {
   "cell_type": "markdown",
   "metadata": {},
   "source": [
    "## Get Count"
   ]
  },
  {
   "cell_type": "code",
   "execution_count": 35,
   "metadata": {
    "dotnet_interactive": {
     "language": "csharp"
    },
    "polyglot_notebook": {
     "kernelName": "csharp"
    },
    "vscode": {
     "languageId": "polyglot-notebook"
    }
   },
   "outputs": [
    {
     "data": {
      "text/html": [
       "<div class=\"dni-plaintext\"><pre>5</pre></div><style>\r\n",
       ".dni-code-hint {\r\n",
       "    font-style: italic;\r\n",
       "    overflow: hidden;\r\n",
       "    white-space: nowrap;\r\n",
       "}\r\n",
       ".dni-treeview {\r\n",
       "    white-space: nowrap;\r\n",
       "}\r\n",
       ".dni-treeview td {\r\n",
       "    vertical-align: top;\r\n",
       "    text-align: start;\r\n",
       "}\r\n",
       "details.dni-treeview {\r\n",
       "    padding-left: 1em;\r\n",
       "}\r\n",
       "table td {\r\n",
       "    text-align: start;\r\n",
       "}\r\n",
       "table tr { \r\n",
       "    vertical-align: top; \r\n",
       "    margin: 0em 0px;\r\n",
       "}\r\n",
       "table tr td pre \r\n",
       "{ \r\n",
       "    vertical-align: top !important; \r\n",
       "    margin: 0em 0px !important;\r\n",
       "} \r\n",
       "table th {\r\n",
       "    text-align: start;\r\n",
       "}\r\n",
       "</style>"
      ]
     },
     "metadata": {},
     "output_type": "display_data"
    }
   ],
   "source": [
    "await client.CountAsync(collectionName)"
   ]
  },
  {
   "cell_type": "markdown",
   "metadata": {},
   "source": [
    "## Search with Qdrant"
   ]
  },
  {
   "cell_type": "code",
   "execution_count": 47,
   "metadata": {
    "dotnet_interactive": {
     "language": "csharp"
    },
    "polyglot_notebook": {
     "kernelName": "csharp"
    },
    "vscode": {
     "languageId": "polyglot-notebook"
    }
   },
   "outputs": [],
   "source": [
    "public async Task<string[]> SearchWithQdrantAsync(string query, string collectionName, int resultLimit = 1)\n",
    "{\n",
    "    var embeddingResponse = await openAIClient.GetEmbeddingsAsync(new EmbeddingsOptions(embeddingDeployment,new [] {query}));\n",
    "    var embeddingVector = embeddingResponse.Value.Data[0].Embedding.ToArray();\n",
    "\n",
    "    var results = await client.SearchAsync(collectionName,embeddingVector, limit:(ulong)resultLimit);\n",
    "    return results.Select(r => r.Payload[\"text\"].StringValue).ToArray();\n",
    "}"
   ]
  },
  {
   "cell_type": "code",
   "execution_count": 48,
   "metadata": {
    "dotnet_interactive": {
     "language": "csharp"
    },
    "polyglot_notebook": {
     "kernelName": "csharp"
    },
    "vscode": {
     "languageId": "polyglot-notebook"
    }
   },
   "outputs": [
    {
     "data": {
      "text/html": [
       "<div class=\"dni-plaintext\"><pre>[ Issue Title: ConfigurationBinder emits AOT warnings even when using Source Generator when passing result into a method\n",
       "Issue Url: https://github.com/dotnet/runtime/issues/94544 \n",
       "Chunk: \n",
       "### Description\r\n",
       "\r\n",
       "When passing the result of the ConfigurationBinder `.Get&lt;T&gt;()` directly into a method, I&#39;m still getting AOT/trim warnings.\r\n",
       "\r\n",
       "### Reproduction Steps\r\n",
       "\r\n",
       "Build the following app:\r\n",
       "\r\n",
       "```xml\r\n",
       "&lt;Project Sdk=&quot;Microsoft.NET.Sdk&quot;&gt;\r\n",
       "\r\n",
       "  &lt;PropertyGroup&gt;\r\n",
       "    &lt;OutputType&gt;Exe&lt;/OutputType&gt;\r\n",
       "    &lt;TargetFramework&gt;net8.0&lt;/TargetFramework&gt;\r\n",
       "    &lt;ImplicitUsings&gt;enable&lt;/ImplicitUsings&gt;\r\n",
       "    &lt;Nullable&gt;enable&lt;/Nullable&gt;\r\n",
       "    &lt;EnableConfigurationBindingGenerator&gt;true&lt;/EnableConfigurationBindingGenerator&gt;\r\n",
       "    &lt;EmitCompilerGeneratedFiles&gt;true&lt;/EmitCompilerGeneratedFiles&gt;\r\n",
       "    &lt;PublishAot&gt;true&lt;/PublishAot&gt;\r\n",
       "  &lt;/PropertyGroup&gt;\r\n",
       "\r\n",
       "  &lt;ItemGroup&gt;\r\n",
       "    &lt;PackageReference Include=&quot;Microsoft.Extensions.Configuration.Binder&quot; Version=&quot;9.0.0-alpha.1.23558.3&quot; /&gt; \r\n",
       "    &lt;PackageReference Include=&quot;Microsoft.Extensions.Configuration&quot; Version=&quot;9.0.0-alpha.1.23558.3&quot; /&gt;\r\n",
       "  &lt;/ItemGroup&gt;\r\n",
       "\r\n",
       "&lt;/Project&gt;\r\n",
       "```\r\n",
       "\r\n",
       "```C#\r\n",
       "using Microsoft.Extensions.Configuration;\r\n",
       "\r\n",
       "IConfigurationSection c = new ConfigurationBuilder().Build().GetSection(&quot;Options&quot;);\r\n",
       "#if WORKS\r\n",
       "var o = c.Get&lt;MyOptions&gt;();\r\n",
       "Some.Method(o);\r\n",
       "#else\r\n",
       "Some.Method(c.Get&lt;MyOptions&gt;());\r\n",
       "#endif\r\n",
       "\r\n",
       "internal static class Some\r\n",
       "{\r\n",
       "    public static void Method(MyOptions? options) { }\r\n",
       "}\r\n",
       "\r\n",
       "public class MyOptions\r\n",
       "{\r\n",
       "    public int MaxRetries { get; set; }\r\n",
       "}\r\n",
       "```\r\n",
       "\r\n",
       "### Expected behavior\r\n",
       "\r\n",
       "I shouldn&#39;t get AOT/trim warnings because I&#39;m using the Source Generator.\r\n",
       "\r\n",
       "### Actual behavior\r\n",
       "\r\n",
       "```\r\n",
       "1&gt;C:\\Users\\eerhardt\\source\\repos\\ConsoleApp101\\ConsoleApp101\\Program.cs(4,13,4,31): warning IL3050: Using member &#39;Microsoft.Extensions.Configuration.ConfigurationBinder.Get&lt;T&gt;(IConfiguration)&#39; which has &#39;RequiresDynamicCodeAttribute&#39; can break functionality when AOT compiling. Binding strongly typed objects to configuration values requires generating dynamic code at runtime, for example instantiating generic types.\r\n",
       "1&gt;C:\\Users\\eerhardt\\source\\repos\\ConsoleApp101\\ConsoleApp101\\Program.cs(4,13,4,31): warning IL2026: Using member &#39;Microsoft.Extensions.Configuration.ConfigurationBinder.Get&lt;T&gt;(IConfiguration)&#39; which has &#39;RequiresUnreferencedCodeAttribute&#39; can break functionality when trimming application code. In case the type is non-primitive, the trimmer cannot statically analyze the object&#39;s type so its members may be trimmed.\r\n",
       "```\r\n",
       "\r\n",
       "### Regression?\r\n",
       "\r\n",
       "_No response_\r\n",
       "\r\n",
       "### Known Workarounds\r\n",
       "\r\n",
       "Capture the object into a variable on a separate line, and pass that into the method:\r\n",
       "\r\n",
       "```C#\r\n",
       "var o = c.Get&lt;MyOptions&gt;();\r\n",
       "Some.Method(o);\r\n",
       "```\r\n",
       "\r\n",
       "### Configuration\r\n",
       "\r\n",
       "_No response_\r\n",
       "\r\n",
       "### Other information\r\n",
       "\r\n",
       "_No response_, Issue Title: Ensure that a native code version only ever gets one entry point that doesn&#39;t change\n",
       "Issue Url: https://github.com/dotnet/runtime/pull/94542 \n",
       "Chunk: \n",
       "- Fixed `MethodDesc::SetNativeCodeInterlocked` to use the passed-in expected entry point instead of the current entry point. It seems this is how it used to work before https://github.com/dotnet/runtime/pull/57707.\r\n",
       "- It&#39;s possible for a method to get jitted multiple times on the same thread due to reentry through class construction. Once a native code version is updated with an entry point, it can run and there are times when it&#39;s necessary to look up the native code version corresponding to the currently running code, such as when installing patchpoints. That would be impossible if the entry point is changed meanwhile to a different entry point.\r\n",
       "\r\n",
       "Fixes https://github.com/dotnet/runtime/issues/93849, Issue Title: Reflection fails when working with struct implementing interface that implements inherited static abstract members\n",
       "Issue Url: https://github.com/dotnet/runtime/issues/94543 \n",
       "Chunk: \n",
       "### Description\n",
       "\n",
       "Some reflection API calls cause program to fail when:\r\n",
       "- struct _A_ impements interface _B_\r\n",
       "- interface _B_ inherits interface _C_ and provides implementation of static abstract members of interface _C_\r\n",
       "- types of `typeof(A).Assembly` are inspected\r\n",
       "\r\n",
       "For more concrete example see reproduction steps section\r\n",
       "\n",
       "\n",
       "### Reproduction Steps\n",
       "\n",
       "Create regular console project (`dotnet new console`) with single `Program.cs`:\r\n",
       "\r\n",
       "```\r\n",
       "using System.Reflection;\r\n",
       "\r\n",
       "Console.WriteLine(&quot;Before Assembly.GetEntryAssembly()!.DefinedTypes&quot;);\r\n",
       "\r\n",
       "// Fails here\r\n",
       "_ = Assembly.GetEntryAssembly()!.DefinedTypes;\r\n",
       "\r\n",
       "Console.WriteLine(&quot;After Assembly.GetEntryAssembly()!.DefinedTypes&quot;);\r\n",
       "\r\n",
       "struct Problem : IProblem&lt;Problem&gt;\r\n",
       "{\r\n",
       "}\r\n",
       "\r\n",
       "interface IProblem&lt;TSelf&gt; : IParsable&lt;TSelf&gt; where TSelf : IParsable&lt;TSelf&gt;\r\n",
       "{\r\n",
       "    static TSelf IParsable&lt;TSelf&gt;.Parse(string s, IFormatProvider? provider)\r\n",
       "        =&gt; throw new NotImplementedException();\r\n",
       "\r\n",
       "    static bool IParsable&lt;TSelf&gt;.TryParse(string? s, IFormatProvider? provider, out TSelf result)\r\n",
       "        =&gt; throw new NotImplementedException();\r\n",
       "}\r\n",
       "```\n",
       "\n",
       "### Expected behavior\n",
       "\n",
       "The program runs without any errors and exits with code 0\n",
       "\n",
       "### Actual behavior\n",
       "\n",
       "The program outputs\r\n",
       "```\r\n",
       "Before Assembly.GetEntryAssembly()!.DefinedTypes\r\n",
       "Stack overflow.\r\n",
       "   at System.Reflection.RuntimeModule.GetTypes(System.Reflection.RuntimeModule)\r\n",
       "   at Program.&lt;Main&gt;$(System.String[])\r\n",
       "```\r\n",
       "\r\n",
       "and exits with code (-1,073,741,571)\n",
       "\n",
       "### Regression?\n",
       "\n",
       "[Generic math](https://learn.microsoft.com/en-us/dotnet/csharp/whats-new/csharp-11#generic-math-support) introduced in net7, so the problem only applies to this major version. I have not checked versions other than the one listed in the Configuration section.\n",
       "\n",
       "### Known Workarounds\n",
       "\n",
       "- Use class instead of struct\r\n",
       "- Implement static abstract members directly in the struct, not in the interface\n",
       "\n",
       "### Configuration\n",
       "\n",
       "- net runtime 7.0.13, net sdk 7.0.403\r\n",
       "- Windows 10 Pro 10.0.19045\r\n",
       "- x64\r\n",
       "- Do you know whether it is specific to that configuration? - No\r\n",
       "- If you&#39;re using Blazor, which web browser(s) do you see this issue in? - I don&#39;t use Blazor\n",
       "\n",
       "### Other information\n",
       "\n",
       "Access to `typeof(Problem).Assembly` also causes the program to fail. This case differs from `Assembly.GetEntryAssembly()!.DefinedTypes`:\r\n",
       "- The program fails before first `Console.WriteLine()` is executed\r\n",
       "- The program output is shorter: `Fatal error.`\r\n",
       "\r\n",
       "There may be other reflection API calls that cause program to fail ]</pre></div><style>\r\n",
       ".dni-code-hint {\r\n",
       "    font-style: italic;\r\n",
       "    overflow: hidden;\r\n",
       "    white-space: nowrap;\r\n",
       "}\r\n",
       ".dni-treeview {\r\n",
       "    white-space: nowrap;\r\n",
       "}\r\n",
       ".dni-treeview td {\r\n",
       "    vertical-align: top;\r\n",
       "    text-align: start;\r\n",
       "}\r\n",
       "details.dni-treeview {\r\n",
       "    padding-left: 1em;\r\n",
       "}\r\n",
       "table td {\r\n",
       "    text-align: start;\r\n",
       "}\r\n",
       "table tr { \r\n",
       "    vertical-align: top; \r\n",
       "    margin: 0em 0px;\r\n",
       "}\r\n",
       "table tr td pre \r\n",
       "{ \r\n",
       "    vertical-align: top !important; \r\n",
       "    margin: 0em 0px !important;\r\n",
       "} \r\n",
       "table th {\r\n",
       "    text-align: start;\r\n",
       "}\r\n",
       "</style>"
      ]
     },
     "metadata": {},
     "output_type": "display_data"
    }
   ],
   "source": [
    "(await SearchWithQdrantAsync(\"What are the latest issues for AOT\", collectionName, 3)).Display();"
   ]
  }
 ],
 "metadata": {
  "kernelInfo": {
   "defaultKernelName": null,
   "items": [
    {
     "aliases": [
      "c#",
      "cs"
     ],
     "languageName": "C#",
     "name": "csharp"
    },
    {
     "aliases": [
      "f#",
      "fs"
     ],
     "languageName": "F#",
     "name": "fsharp"
    },
    {
     "languageName": "HTML",
     "name": "html"
    },
    {
     "languageName": "HTTP",
     "name": "http"
    },
    {
     "aliases": [
      "js"
     ],
     "languageName": "JavaScript",
     "name": "javascript"
    },
    {
     "languageName": "KQL",
     "name": "kql"
    },
    {
     "languageName": "Mermaid",
     "name": "mermaid"
    },
    {
     "aliases": [
      "powershell"
     ],
     "languageName": "PowerShell",
     "name": "pwsh"
    },
    {
     "languageName": "SQL",
     "name": "sql"
    },
    {
     "name": "value"
    }
   ]
  },
  "kernelspec": {
   "display_name": ".NET (C#)",
   "language": "C#",
   "name": ".net-csharp"
  },
  "language_info": {
   "name": "csharp"
  },
  "polyglot_notebook": {
   "kernelInfo": {
    "defaultKernelName": "csharp",
    "items": [
     {
      "aliases": [
       "c#",
       "cs"
      ],
      "languageName": "C#",
      "name": "csharp"
     },
     {
      "aliases": [
       "f#",
       "fs"
      ],
      "languageName": "F#",
      "name": "fsharp"
     },
     {
      "aliases": [],
      "languageName": "HTML",
      "name": "html"
     },
     {
      "aliases": [],
      "languageName": "HTTP",
      "name": "http"
     },
     {
      "aliases": [
       "js"
      ],
      "languageName": "JavaScript",
      "name": "javascript"
     },
     {
      "aliases": [],
      "languageName": "KQL",
      "name": "kql"
     },
     {
      "aliases": [],
      "languageName": "Mermaid",
      "name": "mermaid"
     },
     {
      "aliases": [
       "powershell"
      ],
      "languageName": "PowerShell",
      "name": "pwsh"
     },
     {
      "aliases": [],
      "languageName": "SQL",
      "name": "sql"
     },
     {
      "aliases": [],
      "name": "value"
     }
    ]
   }
  }
 },
 "nbformat": 4,
 "nbformat_minor": 5
}
