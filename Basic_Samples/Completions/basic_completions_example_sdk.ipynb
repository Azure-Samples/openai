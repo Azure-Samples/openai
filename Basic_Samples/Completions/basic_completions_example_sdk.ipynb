{
 "cells": [
  {
   "cell_type": "markdown",
   "id": "011db2ec",
   "metadata": {},
   "source": [
    "<h1 align =\"center\"> Python SDK Samples</h1>\n",
    "<hr>\n",
    "\n",
    "# Create a Completion\n",
    "\n",
    "Given a prompt, the model will return one or more predicted completions, and can also return the probabilities of alternative tokens at each position."
   ]
  },
  {
   "cell_type": "code",
   "execution_count": 1,
   "id": "9d9a71de",
   "metadata": {},
   "outputs": [
    {
     "name": "stdout",
     "output_type": "stream",
     "text": [
      "Requirement already satisfied: openai in c:\\users\\henna\\documents\\github\\openai\\venv312\\lib\\site-packages (1.13.3)\n",
      "Requirement already satisfied: python-dotenv in c:\\users\\henna\\documents\\github\\openai\\venv312\\lib\\site-packages (1.0.1)\n",
      "Requirement already satisfied: anyio<5,>=3.5.0 in c:\\users\\henna\\documents\\github\\openai\\venv312\\lib\\site-packages (from openai) (4.3.0)\n",
      "Requirement already satisfied: distro<2,>=1.7.0 in c:\\users\\henna\\documents\\github\\openai\\venv312\\lib\\site-packages (from openai) (1.9.0)\n",
      "Requirement already satisfied: httpx<1,>=0.23.0 in c:\\users\\henna\\documents\\github\\openai\\venv312\\lib\\site-packages (from openai) (0.27.0)\n",
      "Requirement already satisfied: pydantic<3,>=1.9.0 in c:\\users\\henna\\documents\\github\\openai\\venv312\\lib\\site-packages (from openai) (2.6.3)\n",
      "Requirement already satisfied: sniffio in c:\\users\\henna\\documents\\github\\openai\\venv312\\lib\\site-packages (from openai) (1.3.1)\n",
      "Requirement already satisfied: tqdm>4 in c:\\users\\henna\\documents\\github\\openai\\venv312\\lib\\site-packages (from openai) (4.66.2)\n",
      "Requirement already satisfied: typing-extensions<5,>=4.7 in c:\\users\\henna\\documents\\github\\openai\\venv312\\lib\\site-packages (from openai) (4.10.0)\n",
      "Requirement already satisfied: idna>=2.8 in c:\\users\\henna\\documents\\github\\openai\\venv312\\lib\\site-packages (from anyio<5,>=3.5.0->openai) (3.6)\n",
      "Requirement already satisfied: certifi in c:\\users\\henna\\documents\\github\\openai\\venv312\\lib\\site-packages (from httpx<1,>=0.23.0->openai) (2024.2.2)\n",
      "Requirement already satisfied: httpcore==1.* in c:\\users\\henna\\documents\\github\\openai\\venv312\\lib\\site-packages (from httpx<1,>=0.23.0->openai) (1.0.4)\n",
      "Requirement already satisfied: h11<0.15,>=0.13 in c:\\users\\henna\\documents\\github\\openai\\venv312\\lib\\site-packages (from httpcore==1.*->httpx<1,>=0.23.0->openai) (0.14.0)\n",
      "Requirement already satisfied: annotated-types>=0.4.0 in c:\\users\\henna\\documents\\github\\openai\\venv312\\lib\\site-packages (from pydantic<3,>=1.9.0->openai) (0.6.0)\n",
      "Requirement already satisfied: pydantic-core==2.16.3 in c:\\users\\henna\\documents\\github\\openai\\venv312\\lib\\site-packages (from pydantic<3,>=1.9.0->openai) (2.16.3)\n",
      "Requirement already satisfied: colorama in c:\\users\\henna\\documents\\github\\openai\\venv312\\lib\\site-packages (from tqdm>4->openai) (0.4.6)\n",
      "Note: you may need to restart the kernel to use updated packages.\n"
     ]
    },
    {
     "name": "stderr",
     "output_type": "stream",
     "text": [
      "\n",
      "[notice] A new release of pip is available: 23.2.1 -> 24.0\n",
      "[notice] To update, run: python.exe -m pip install --upgrade pip\n"
     ]
    }
   ],
   "source": [
    "%pip install --upgrade openai python-dotenv"
   ]
  },
  {
   "cell_type": "code",
   "execution_count": 2,
   "id": "a92744f4",
   "metadata": {},
   "outputs": [
    {
     "data": {
      "text/plain": [
       "True"
      ]
     },
     "execution_count": 2,
     "metadata": {},
     "output_type": "execute_result"
    }
   ],
   "source": [
    "import json\n",
    "from openai import AzureOpenAI\n",
    "import os\n",
    "import dotenv\n",
    "dotenv.load_dotenv()\n"
   ]
  },
  {
   "cell_type": "markdown",
   "id": "e1966c51",
   "metadata": {},
   "source": [
    "### Setup Parameters\n",
    "\n",
    "\n",
    "Here we will load the configurations from _config.json_ file to setup deployment name, openai api base, openai api key and openai api version."
   ]
  },
  {
   "cell_type": "code",
   "execution_count": 3,
   "id": "19ae1e36",
   "metadata": {},
   "outputs": [],
   "source": [
    "# Setting up the deployment name\n",
    "deployment_name = os.environ['COMPLETIONS_MODEL']\n",
    "\n",
    "# The API key for your Azure OpenAI resource.\n",
    "api_key = os.environ[\"AZURE_OPENAI_API_KEY\"]\n",
    "\n",
    "# The base URL for your Azure OpenAI resource. e.g. \"https://<your resource name>.openai.azure.com\"\n",
    "azure_endpoint = os.environ['AZURE_OPENAI_ENDPOINT']\n",
    "\n",
    "# Currently OPENAI API have the following versions available: 2022-12-01\n",
    "api_version = os.environ['OPENAI_API_VERSION']\n",
    "\n",
    "client = AzureOpenAI(\n",
    "  api_key = api_key,  \n",
    "  azure_endpoint = azure_endpoint,\n",
    "  api_version = api_version\n",
    ")"
   ]
  },
  {
   "cell_type": "code",
   "execution_count": 4,
   "id": "b15862a1",
   "metadata": {},
   "outputs": [
    {
     "name": "stdout",
     "output_type": "stream",
     "text": [
      "!\"\n",
      "\n",
      "# def outer_func(original_string):\n",
      "#     def inner_func(string):\n",
      "#         nonlocal original\n"
     ]
    }
   ],
   "source": [
    "# Give your prompt here\n",
    "prompt = \"Hello world\"\n",
    "\n",
    " # Create a completion for the provided prompt and parameters\n",
    "try:\n",
    "    completion = client.completions.create( \n",
    "                    model=deployment_name,\n",
    "                    prompt=prompt,\n",
    "                    max_tokens=20,\n",
    "                    )\n",
    "\n",
    "    # Print the completion\n",
    "    print(completion.choices[0].text.strip(\" \\n\"))\n",
    "    \n",
    "    # Here indicating if the response is filtered\n",
    "    if completion.choices[0].finish_reason == \"content_filter\":\n",
    "        print(\"The generated content is filtered.\")\n",
    "\n",
    "except openai.AuthenticationError as e:\n",
    "    # Handle Authentication error here, e.g. invalid API key\n",
    "    print(f\"OpenAI API returned an Authentication Error: {e}\")\n",
    "\n",
    "except openai.APIConnectionError as e:\n",
    "    # Handle connection error here\n",
    "    print(f\"Failed to connect to OpenAI API: {e}\")\n",
    "\n",
    "except openai.BadRequestError as e:\n",
    "    # Handle connection error here\n",
    "    print(f\"Invalid Request Error: {e}\")\n",
    "\n",
    "except openai.RateLimitError as e:\n",
    "    # Handle rate limit error\n",
    "    print(f\"OpenAI API request exceeded rate limit: {e}\")\n",
    "\n",
    "except openai.InternalServerError as e:\n",
    "    # Handle Service Unavailable error\n",
    "    print(f\"Service Unavailable: {e}\")\n",
    "\n",
    "except openai.APITimeoutError as e:\n",
    "    # Handle request timeout\n",
    "    print(f\"Request timed out: {e}\")\n",
    "\n",
    "except openai.APIError as e:\n",
    "    # Handle API error here, e.g. retry or log\n",
    "    print(f\"OpenAI API returned an API Error: {e}\")"
   ]
  },
  {
   "cell_type": "code",
   "execution_count": null,
   "id": "b9be87b2",
   "metadata": {},
   "outputs": [],
   "source": []
  }
 ],
 "metadata": {
  "kernelspec": {
   "display_name": "Python 3 (ipykernel)",
   "language": "python",
   "name": "python3"
  },
  "language_info": {
   "codemirror_mode": {
    "name": "ipython",
    "version": 3
   },
   "file_extension": ".py",
   "mimetype": "text/x-python",
   "name": "python",
   "nbconvert_exporter": "python",
   "pygments_lexer": "ipython3",
   "version": "3.12.1"
  }
 },
 "nbformat": 4,
 "nbformat_minor": 5
}
