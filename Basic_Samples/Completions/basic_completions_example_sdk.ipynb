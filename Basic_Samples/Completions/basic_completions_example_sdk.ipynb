{
 "cells": [
  {
   "cell_type": "markdown",
   "id": "011db2ec",
   "metadata": {},
   "source": [
    "<h1 align =\"center\"> Python SDK Samples</h1>\n",
    "<hr>\n",
    "\n",
    "# Create a Completion\n",
    "\n",
    "Given a prompt, the model will return one or more predicted completions, and can also return the probabilities of alternative tokens at each position."
   ]
  },
  {
   "cell_type": "code",
   "execution_count": 1,
   "id": "a92744f4",
   "metadata": {},
   "outputs": [
    {
     "data": {
      "text/plain": [
       "True"
      ]
     },
     "execution_count": 1,
     "metadata": {},
     "output_type": "execute_result"
    }
   ],
   "source": [
    "import openai\n",
    "import os\n",
    "import dotenv\n",
    "\n",
    "dotenv.load_dotenv()"
   ]
  },
  {
   "cell_type": "markdown",
   "id": "e1966c51",
   "metadata": {},
   "source": [
    "### Setup Parameters\n",
    "\n",
    "\n",
    "Here we will load the configurations from _config.json_ file to setup deployment name, openai api base, openai api key and openai api version."
   ]
  },
  {
   "cell_type": "code",
   "execution_count": 2,
   "id": "19ae1e36",
   "metadata": {},
   "outputs": [],
   "source": [
    "# Setting up the client\n",
    "client = openai.AzureOpenAI(\n",
    "    api_key=os.environ['AZURE_OPENAI_API_KEY'],\n",
    "    api_version=os.environ['OPENAI_API_VERSION'],\n",
    "    azure_endpoint=os.environ['AZURE_OPENAI_ENDPOINT']\n",
    ")\n",
    "\n",
    "# Setting up the deployment name\n",
    "deployment_name = os.environ['COMPLETIONS_MODEL']"
   ]
  },
  {
   "cell_type": "code",
   "execution_count": 3,
   "id": "b15862a1",
   "metadata": {},
   "outputs": [
    {
     "name": "stdout",
     "output_type": "stream",
     "text": [
      "Hello! Welcome to the world!\n"
     ]
    }
   ],
   "source": [
    "# Give your prompt here\n",
    "prompt = \"Hello world\"\n",
    "\n",
    "try:\n",
    "    # Create a completion for the provided prompt and parameters\n",
    "    # To know more about the parameters, checkout this documentation: https://learn.microsoft.com/en-us/azure/cognitive-services/openai/reference\n",
    "    completion = client.completions.create(\n",
    "                    prompt=prompt,\n",
    "                    temperature=0,\n",
    "                    max_tokens=30,\n",
    "                    model=deployment_name)\n",
    "\n",
    "    # print the completion\n",
    "    print(completion.choices[0].text.strip(\" \\n\"))\n",
    "    \n",
    "    # Here indicating if the response is filtered\n",
    "    if completion.choices[0].finish_reason == \"content_filter\":\n",
    "        print(\"The generated content is filtered.\")\n",
    "\n",
    "except openai.APITimeoutError as e:\n",
    "    # Handle request timeout\n",
    "    print(f\"Request timed out: {e}\")\n",
    "\n",
    "except openai.AuthenticationError as e:\n",
    "    # Handle Authentication error here, e.g. invalid API key\n",
    "    print(f\"OpenAI API returned an Authentication Error: {e}\")\n",
    "\n",
    "except openai.APIConnectionError as e:\n",
    "    # Handle connection error here\n",
    "    print(f\"Failed to connect to OpenAI API: {e}\")\n",
    "\n",
    "except openai.BadRequestError as e:\n",
    "    # Handle connection error here\n",
    "    print(f\"Invalid Request Error: {e}\")\n",
    "\n",
    "except openai.RateLimitError as e:\n",
    "    # Handle rate limit error\n",
    "    print(f\"OpenAI API request exceeded rate limit: {e}\")\n",
    "\n",
    "except openai.InternalServerError as e:\n",
    "    # Handle Service Unavailable error\n",
    "    print(f\"Service Unavailable: {e}\")\n",
    "\n",
    "except openai.APIError as e:\n",
    "    # Handle API error here, e.g. retry or log\n",
    "    print(f\"OpenAI API returned an API Error: {e}\")\n"
   ]
  }
 ],
 "metadata": {
  "kernelspec": {
   "display_name": "Python 3 (ipykernel)",
   "language": "python",
   "name": "python3"
  },
  "language_info": {
   "codemirror_mode": {
    "name": "ipython",
    "version": 3
   },
   "file_extension": ".py",
   "mimetype": "text/x-python",
   "name": "python",
   "nbconvert_exporter": "python",
   "pygments_lexer": "ipython3",
   "version": "3.11.5"
  }
 },
 "nbformat": 4,
 "nbformat_minor": 5
}
