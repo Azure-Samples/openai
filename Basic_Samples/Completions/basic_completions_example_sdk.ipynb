{
 "cells": [
  {
   "cell_type": "markdown",
   "id": "011db2ec",
   "metadata": {},
   "source": [
    "<h1 align =\"center\"> Python SDK Samples</h1>\n",
    "<hr>\n",
    "\n",
    "# Create a Completion\n",
    "\n",
    "Given a prompt, the model will return one or more predicted completions, and can also return the probabilities of alternative tokens at each position."
   ]
  },
  {
   "cell_type": "code",
   "execution_count": null,
   "id": "9d9a71de",
   "metadata": {},
   "outputs": [],
   "source": [
    "%pip install --upgrade openai python-dotenv"
   ]
  },
  {
   "cell_type": "code",
   "execution_count": 11,
   "id": "a92744f4",
   "metadata": {},
   "outputs": [
    {
     "data": {
      "text/plain": [
       "True"
      ]
     },
     "execution_count": 11,
     "metadata": {},
     "output_type": "execute_result"
    }
   ],
   "source": [
    "import json\n",
    "from openai import AzureOpenAI\n",
    "import os\n",
    "import dotenv\n",
    "dotenv.load_dotenv()\n"
   ]
  },
  {
   "cell_type": "markdown",
   "id": "e1966c51",
   "metadata": {},
   "source": [
    "### Setup Parameters\n",
    "\n",
    "\n",
    "Here we will read the environment variables from dotenv file to setup deployment name, openai api base, openai api key and openai api version."
   ]
  },
  {
   "cell_type": "code",
   "execution_count": 12,
   "id": "19ae1e36",
   "metadata": {},
   "outputs": [],
   "source": [
    "# Setting up the deployment name\n",
    "deployment_name = os.environ['COMPLETIONS_MODEL']\n",
    "\n",
    "# The API key for your Azure OpenAI resource.\n",
    "api_key = os.environ[\"AZURE_OPENAI_API_KEY\"]\n",
    "\n",
    "# The base URL for your Azure OpenAI resource. e.g. \"https://<your resource name>.openai.azure.com\"\n",
    "azure_endpoint = os.environ['AZURE_OPENAI_ENDPOINT']\n",
    "\n",
    "# Currently OPENAI API have the following versions available: 2022-12-01\n",
    "api_version = os.environ['OPENAI_API_VERSION']\n",
    "\n",
    "client = AzureOpenAI(\n",
    "  api_key=api_key,  \n",
    "  azure_endpoint=azure_endpoint,\n",
    "  api_version=api_version\n",
    ")"
   ]
  },
  {
   "cell_type": "code",
   "execution_count": null,
   "id": "b15862a1",
   "metadata": {},
   "outputs": [],
   "source": [
    "# Give your prompt here\n",
    "prompt = \"Hello world\"\n",
    "\n",
    " # Create a completion for the provided prompt and parameters\n",
    "try:\n",
    "    completion = client.completions.create( \n",
    "                    model=deployment_name,\n",
    "                    prompt=prompt,\n",
    "                    max_tokens=20,\n",
    "                    )\n",
    "\n",
    "    # Print the completion\n",
    "    print(completion.choices[0].text.strip(\" \\n\"))\n",
    "    \n",
    "    # Here indicating if the response is filtered\n",
    "    if completion.choices[0].finish_reason == \"content_filter\":\n",
    "        print(\"The generated content is filtered.\")\n",
    "\n",
    "except openai.AuthenticationError as e:\n",
    "    # Handle Authentication error here, e.g. invalid API key\n",
    "    print(f\"OpenAI API returned an Authentication Error: {e}\")\n",
    "\n",
    "except openai.APIConnectionError as e:\n",
    "    # Handle connection error here\n",
    "    print(f\"Failed to connect to OpenAI API: {e}\")\n",
    "\n",
    "except openai.BadRequestError as e:\n",
    "    # Handle connection error here\n",
    "    print(f\"Invalid Request Error: {e}\")\n",
    "\n",
    "except openai.RateLimitError as e:\n",
    "    # Handle rate limit error\n",
    "    print(f\"OpenAI API request exceeded rate limit: {e}\")\n",
    "\n",
    "except openai.InternalServerError as e:\n",
    "    # Handle Service Unavailable error\n",
    "    print(f\"Service Unavailable: {e}\")\n",
    "\n",
    "except openai.APITimeoutError as e:\n",
    "    # Handle request timeout\n",
    "    print(f\"Request timed out: {e}\")\n",
    "\n",
    "except openai.APIError as e:\n",
    "    # Handle API error here, e.g. retry or log\n",
    "    print(f\"OpenAI API returned an API Error: {e}\")"
   ]
  }
 ],
 "metadata": {
  "kernelspec": {
   "display_name": "Python 3 (ipykernel)",
   "language": "python",
   "name": "python3"
  },
  "language_info": {
   "codemirror_mode": {
    "name": "ipython",
    "version": 3
   },
   "file_extension": ".py",
   "mimetype": "text/x-python",
   "name": "python",
   "nbconvert_exporter": "python",
   "pygments_lexer": "ipython3",
   "version": "3.12.1"
  }
 },
 "nbformat": 4,
 "nbformat_minor": 5
}
