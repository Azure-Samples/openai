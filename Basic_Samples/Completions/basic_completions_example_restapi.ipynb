{
 "cells": [
  {
   "cell_type": "markdown",
   "id": "759f9ec0",
   "metadata": {},
   "source": [
    "<h1 align =\"center\"> REST API Reference Samples</h1>\n",
    "<hr>\n",
    "   \n",
    "# Create a Completion\n",
    "   \n",
    "Given a prompt, the model will return one or more predicted completions, and can also return the probabilities of alternative tokens at each position."
   ]
  },
  {
   "cell_type": "code",
   "execution_count": 13,
   "id": "f4b3d21a",
   "metadata": {},
   "outputs": [
    {
     "data": {
      "text/plain": [
       "True"
      ]
     },
     "execution_count": 13,
     "metadata": {},
     "output_type": "execute_result"
    }
   ],
   "source": [
    "import os\n",
    "import requests\n",
    "import dotenv\n",
    "\n",
    "dotenv.load_dotenv()\n"
   ]
  },
  {
   "cell_type": "markdown",
   "id": "5b2d4a0f",
   "metadata": {},
   "source": [
    "### Setup Parameters\n",
    "\n",
    "\n",
    "Here we will load the configurations from an .env file to setup deployment_name, openai_api_base, openai_api_key and openai_api_version."
   ]
  },
  {
   "cell_type": "code",
   "execution_count": 14,
   "id": "fd85fb30",
   "metadata": {},
   "outputs": [],
   "source": [
    "# Setting up the deployment name\n",
    "deployment_name = os.environ['COMPLETIONS_MODEL']\n",
    "\n",
    "# The base URL for your Azure OpenAI resource. e.g. \"https://<your resource name>.openai.azure.com\"\n",
    "openai_api_base = os.environ['AZURE_OPENAI_ENDPOINT']\n",
    "\n",
    "# The API key for your Azure OpenAI resource.\n",
    "openai_api_key = os.environ['AZURE_OPENAI_API_KEY']\n",
    "\n",
    "# Currently OPENAI API have the following versions available: https://learn.microsoft.com/azure/ai-services/openai/reference\n",
    "openai_api_version = os.environ['OPENAI_API_VERSION']"
   ]
  },
  {
   "cell_type": "code",
   "execution_count": 19,
   "id": "aef62557",
   "metadata": {},
   "outputs": [
    {
     "name": "stdout",
     "output_type": "stream",
     "text": [
      "\n",
      "\n",
      "Hello! Welcome to the world!\n"
     ]
    }
   ],
   "source": [
    "# Request URL\n",
    "api_url = f\"{openai_api_base}openai/deployments/{deployment_name}/completions?api-version={openai_api_version}\"\n",
    "\n",
    "# Example prompt for request payload\n",
    "prompt = \"Hello world\"\n",
    "\n",
    "# Json payload\n",
    "# To know more about the parameters, checkout this documentation: https://learn.microsoft.com/en-us/azure/cognitive-services/openai/reference\n",
    "json_data = {\n",
    "  \"prompt\": prompt,\n",
    "  \"temperature\": 0,\n",
    "  \"max_tokens\": 30\n",
    "}\n",
    "\n",
    "# Including the api-key in HTTP headers\n",
    "headers =  {\"api-key\": openai_api_key}\n",
    "\n",
    "try: \n",
    "  # Request for creating a completion for the provided prompt and parameters\n",
    "  response = requests.post(api_url, json=json_data, headers=headers)\n",
    "\n",
    "  completion = response.json()\n",
    "    \n",
    "  # print the completion\n",
    "  print(completion['choices'][0]['text'])\n",
    "    \n",
    "  # Here indicating if the response is filtered\n",
    "  if completion['choices'][0]['finish_reason'] == \"content_filter\":\n",
    "    print(\"The generated content is filtered.\")\n",
    "\n",
    "except:\n",
    "    print(\"An exception has occurred. \\n\")\n"
   ]
  },
  {
   "cell_type": "code",
   "execution_count": null,
   "id": "b6165c63",
   "metadata": {},
   "outputs": [],
   "source": []
  }
 ],
 "metadata": {
  "kernelspec": {
   "display_name": "Python 3 (ipykernel)",
   "language": "python",
   "name": "python3"
  },
  "language_info": {
   "codemirror_mode": {
    "name": "ipython",
    "version": 3
   },
   "file_extension": ".py",
   "mimetype": "text/x-python",
   "name": "python",
   "nbconvert_exporter": "python",
   "pygments_lexer": "ipython3",
   "version": "3.11.5"
  }
 },
 "nbformat": 4,
 "nbformat_minor": 5
}
