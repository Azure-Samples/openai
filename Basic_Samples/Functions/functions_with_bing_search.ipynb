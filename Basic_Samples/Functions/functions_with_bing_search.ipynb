{
 "cells": [
  {
   "cell_type": "markdown",
   "metadata": {},
   "source": [
    "# Function calling with Bing Search\n",
    "\n",
    "In this notebook, we'll show how you can use the [Bing Search APIs](https://www.microsoft.com/bing/apis/llm) and [function calling](https://learn.microsoft.com/azure/ai-services/openai/how-to/function-calling?tabs=python) to ground Azure OpenAI models on data from the web. This is a great way to give the model access to up to date data from the web.\n",
    "\n",
    "You'll need to create a [Bing Search resouce](https://learn.microsoft.com/en-us/bing/search-apis/bing-web-search/create-bing-search-service-resource) before you begin."
   ]
  },
  {
   "cell_type": "code",
   "execution_count": 1,
   "metadata": {},
   "outputs": [],
   "source": [
    "import requests\n",
    "import json  \n",
    "import openai  \n",
    "\n",
    "# Load config values\n",
    "with open(r'config.json') as config_file:\n",
    "    config_details = json.load(config_file)\n",
    "    \n",
    "\n",
    "\n",
    "# Configure OpenAI environment variables\n",
    "openai.api_key = config_details['OPENAI_API_KEY']\n",
    "openai.api_base = config_details['OPENAI_API_BASE']\n",
    "openai.api_type = \"azure\"  \n",
    "openai.api_version = config_details['OPENAI_API_VERSION']\n",
    "\n",
    "deployment_name = config_details['DEPLOYMENT_NAME'] # You need to use the 0613 version or newer of gpt-35-turbo or gpt-4 to work with functions\n",
    "\n",
    "bing_search_subscription_key = config_details['BING_SEARCH_SUBSCRIPTION_KEY']\n",
    "bing_search_url = \"https://api.bing.microsoft.com/v7.0/search\""
   ]
  },
  {
   "cell_type": "markdown",
   "metadata": {},
   "source": [
    "## 1.0 Define a function to call the Bing Search APIs\n",
    "\n",
    " To learn more about using the Bing Search APIs with Azure OpenAI, see [Bing Search APIs, with your LLM](https://learn.microsoft.com/bing/search-apis/bing-web-search/use-display-requirements-llm)."
   ]
  },
  {
   "cell_type": "code",
   "execution_count": 4,
   "metadata": {},
   "outputs": [],
   "source": [
    "def search(query):\n",
    "    headers = {\"Ocp-Apim-Subscription-Key\": bing_search_subscription_key}\n",
    "    params = {\"q\": query, \"textDecorations\": False }\n",
    "    response = requests.get(bing_search_url, headers=headers, params=params)\n",
    "    response.raise_for_status()\n",
    "    search_results = response.json()\n",
    "\n",
    "    output = []\n",
    "\n",
    "    for result in search_results['webPages']['value']:\n",
    "        output.append({\n",
    "            'title': result['name'],\n",
    "            'link': result['url'],\n",
    "            'snippet': result['snippet']\n",
    "        })\n",
    "\n",
    "    return json.dumps(output)\n"
   ]
  },
  {
   "cell_type": "code",
   "execution_count": 5,
   "metadata": {},
   "outputs": [
    {
     "data": {
      "text/plain": [
       "'[{\"title\": \"2032 Summer Olympics - Wikipedia\", \"link\": \"https://en.wikipedia.org/wiki/2032_Summer_Olympics\", \"snippet\": \"The 2032 Summer Olympics, officially known as the Games of the XXXV Olympiad and also known as Brisbane 2032 ( Yagara: Meanjin 2032 ), [1] is an upcoming international multi-sport event scheduled to take place between 23 July to 8 August 2032, in Brisbane, Queensland, Australia. [2]\"}, {\"title\": \"Venues of the 2032 Summer Olympics and Paralympics\", \"link\": \"https://en.wikipedia.org/wiki/Venues_of_the_2032_Summer_Olympics_and_Paralympics\", \"snippet\": \"Stadium Australia North Queensland Stadium Barlow Park Toowoomba Sports Ground class=notpageimage| 2032 Olympic and Paralympic venues outside South East Queensland Sporting venues The Gabba Brisbane Convention & Exhibition Centre South Bank Piazza Anna Meares Velodrome Sleeman BMX SuperCross Track Brisbane Aquatics Centre Barrambin / Victoria Park\"}, {\"title\": \"The Next Olympics Location: Every Host City Through 2032 | Time\", \"link\": \"https://time.com/5063566/next-olympics-location/\", \"snippet\": \"Mountain events will take place at two locations about 50 and 100 miles outside of Beijing, with natural snowfall topping out at one of them at only five centimeters on average. 2024 Summer...\"}, {\"title\": \"Here\\'s where the 2024, 2026 2028, 2032 Olympic Games will be - The Scotsman\", \"link\": \"https://www.scotsman.com/sport/other-sport/next-olympics-olympic-games-hosts-britain-london-who-latest-news-3321075\", \"snippet\": \"Looking ahead to 2032, Brisbane in Queensland, Australia, has been announced as the winning host location for the 2032 Olympic Games \\\\u2013 which will mark the 34th Olympic Games since records...\"}, {\"title\": \"Where is the next Olympics? Explaining where the Summer and Winter ...\", \"link\": \"https://www.cbssports.com/olympics/news/where-is-the-next-olympics-explaining-where-the-summer-and-winter-games-will-be-held-through-2032/\", \"snippet\": \"The opening and closing ceremonies will take place in SoFi Stadium, home of the Los Angeles Rams and Los Angeles Chargers and site of Super Bowl LVI. The Los Angeles Coliseum will once again hold...\"}, {\"title\": \"Brisbane 2032 Olympic venues announced | Austadiums\", \"link\": \"https://www.austadiums.com/news/921/brisbane-2032-olympic-games-venues-revealed\", \"snippet\": \"The Brisbane 2032 Masterplan includes 32 venues within South-East Queensland for the 28 Olympic sports, located in three primary zones. Not only will Brisbane\\\\u2019s Olympics expand to the entire south-east Queensland, football will also be played in North Queensland as well as Sydney and Melbourne.\"}, {\"title\": \"Brisbane 2032 Summer Olympics - Summer Olympic Games in Australia\", \"link\": \"https://olympics.com/en/olympic-games/brisbane-2032\", \"snippet\": \"Brisbane 2032 23 July - 8 August 3185 days Australia Official website Brisbane 2032 Annual Report 2022-23 Brisbane 2032 | Olympic Games Countdown Begins: Brisbane Celebrates Nine-Year Mark to 2032 Summer Olympics Brisbane 2032 | Olympic Games 01:01 Brisbane 2032 Olympics Marks Nine-Year Milestone with Grand Celebrations\"}, {\"title\": \"2032 Games: Brisbane confirmed as Olympic and Paralympic host\", \"link\": \"https://www.bbc.co.uk/sport/olympics/57912026\", \"snippet\": \"Brisbane will host the 2032 Olympic and Paralympic Games after being approved by the International Olympic Committee. The Australian city was named the preferred bidder before being proposed by...\"}, {\"title\": \"2032 Olympics: Brisbane proposed as host by International Olympic ... - BBC\", \"link\": \"https://www.bbc.com/sport/olympics/57432349\", \"snippet\": \"Australian city Brisbane has moved a step closer to being named the host for the 2032 Olympic Games. ... The delayed 2020 Olympics will be held in Tokyo, Japan in the summer, with Paris in France ...\"}, {\"title\": \"Brisbane 2032 - Olympics.com\", \"link\": \"https://olympics.com/ioc/brisbane-2032\", \"snippet\": \"Olympic Games Brisbane 2032. Find out all about the athletes, sports, schedules, venues, mascot and much more. Learn more. New approach to future host elections. The revolutionary new approach to electing hosts for Olympic Games and youth Olympic Games results in significant cost savings for potential hosts, as well as more sustainable projects ...\"}]'"
      ]
     },
     "execution_count": 5,
     "metadata": {},
     "output_type": "execute_result"
    }
   ],
   "source": [
    "search(\"where will the 2032 olymbics be held?\")"
   ]
  },
  {
   "cell_type": "markdown",
   "metadata": {},
   "source": [
    "## 2.0 Test function calling"
   ]
  },
  {
   "cell_type": "code",
   "execution_count": 2,
   "metadata": {},
   "outputs": [
    {
     "name": "stdout",
     "output_type": "stream",
     "text": [
      "{\n",
      "  \"role\": \"assistant\",\n",
      "  \"function_call\": {\n",
      "    \"name\": \"search_bing\",\n",
      "    \"arguments\": \"{\\n  \\\"query\\\": \\\"height of mount rainier\\\"\\n}\"\n",
      "  }\n",
      "}\n"
     ]
    }
   ],
   "source": [
    "system_message = \"\"\"You are an assistant designed to help people answer questions.\n",
    "\n",
    "You have access to query the web using Bing Search. You should call bing search whenever a question requires up to date information or could benefit from web data.\n",
    "\"\"\"\n",
    "\n",
    "messages = [{\"role\": \"system\", \"content\": system_message},\n",
    "            {\"role\": \"user\", \"content\": \"How tall is mount rainier?\"}]\n",
    "\n",
    "                \n",
    "functions = [  \n",
    "    {\n",
    "        \"name\": \"search_bing\",\n",
    "        \"description\": \"Searches bing to get up to date information from the web\",\n",
    "        \"parameters\": {\n",
    "            \"type\": \"object\",\n",
    "            \"properties\": {\n",
    "                \"query\": {\n",
    "                    \"type\": \"string\",\n",
    "                    \"description\": \"The search query\",\n",
    "                }\n",
    "            },\n",
    "            \"required\": [\"query\"],\n",
    "        },\n",
    "    }\n",
    "]\n",
    "\n",
    "response = openai.ChatCompletion.create(\n",
    "    deployment_id=deployment_name, # You need to use the 0613 version or newer of gpt-35-turbo or gpt-4 to work with functions\n",
    "    messages=messages,\n",
    "    functions=functions,\n",
    "    function_call=\"auto\", \n",
    ")\n",
    "\n",
    "print(response['choices'][0]['message'])"
   ]
  },
  {
   "cell_type": "markdown",
   "metadata": {},
   "source": [
    "## 3.0 Get things running end to end"
   ]
  },
  {
   "cell_type": "code",
   "execution_count": 9,
   "metadata": {},
   "outputs": [],
   "source": [
    "def run_multiturn_conversation(messages, functions, available_functions, deployment_name):\n",
    "    # Step 1: send the conversation and available functions to GPT\n",
    "\n",
    "    response = openai.ChatCompletion.create(\n",
    "        deployment_id=deployment_name,\n",
    "        messages=messages,\n",
    "        functions=functions,\n",
    "        function_call=\"auto\", \n",
    "        temperature=0\n",
    "    )\n",
    "\n",
    "    # Step 2: check if GPT wanted to call a function\n",
    "    while response[\"choices\"][0][\"finish_reason\"] == 'function_call':\n",
    "        response_message = response[\"choices\"][0][\"message\"]\n",
    "        print(\"Recommended Function call:\")\n",
    "        print(response_message.get(\"function_call\"))\n",
    "        print()\n",
    "        \n",
    "        # Step 3: call the function\n",
    "        # Note: the JSON response may not always be valid; be sure to handle errors\n",
    "        \n",
    "        function_name = response_message[\"function_call\"][\"name\"]\n",
    "        \n",
    "        # verify function exists\n",
    "        if function_name not in available_functions:\n",
    "            return \"Function \" + function_name + \" does not exist\"\n",
    "        function_to_call = available_functions[function_name]  \n",
    "        \n",
    "        function_args = json.loads(response_message[\"function_call\"][\"arguments\"])\n",
    "        function_response = function_to_call(**function_args)\n",
    "        \n",
    "        print(\"Output of function call:\")\n",
    "        print(function_response)\n",
    "        print()\n",
    "        \n",
    "        # Step 4: send the info on the function call and function response to GPT\n",
    "        \n",
    "        # adding assistant response to messages\n",
    "        messages.append(\n",
    "            {\n",
    "                \"role\": response_message[\"role\"],\n",
    "                \"function_call\": {\n",
    "                    \"name\": response_message[\"function_call\"][\"name\"],\n",
    "                    \"arguments\": response_message[\"function_call\"][\"arguments\"],\n",
    "                },\n",
    "                \"content\": None\n",
    "            }\n",
    "        )\n",
    "\n",
    "        # adding function response to messages\n",
    "        messages.append(\n",
    "            {\n",
    "                \"role\": \"function\",\n",
    "                \"name\": function_name,\n",
    "                \"content\": function_response,\n",
    "            }\n",
    "        )  # extend conversation with function response\n",
    "\n",
    "        print(\"Messages in next request:\")\n",
    "        for message in messages:\n",
    "            print(message)\n",
    "        print()\n",
    "\n",
    "        response = openai.ChatCompletion.create(\n",
    "            messages=messages,\n",
    "            deployment_id=deployment_name,\n",
    "            function_call=\"auto\",\n",
    "            functions=functions,\n",
    "            temperature=0\n",
    "        )  # get a new response from GPT where it can see the function response\n",
    "\n",
    "    return response"
   ]
  },
  {
   "cell_type": "code",
   "execution_count": 10,
   "metadata": {},
   "outputs": [
    {
     "name": "stdout",
     "output_type": "stream",
     "text": [
      "Recommended Function call:\n",
      "{\n",
      "  \"name\": \"search_bing\",\n",
      "  \"arguments\": \"{\\n  \\\"query\\\": \\\"height of Mount Rainier\\\"\\n}\"\n",
      "}\n",
      "\n",
      "Output of function call:\n",
      "[{\"title\": \"Mount Rainier - Wikipedia\", \"link\": \"https://en.wikipedia.org/wiki/Mount_Rainier\", \"snippet\": \"Coordinates: 46\\u00b051\\u203210\\u2033N 121\\u00b045\\u203238\\u2033W Mount Rainier seen from the International Space Station Mount Rainier ( / re\\u026a\\u02c8n\\u026a\\u0259r / ray-NEER ), also known as Tahoma, is a large active stratovolcano in the Cascade Range of the Pacific Northwest in the United States.\"}, {\"title\": \"Geology and History Summary for Mount Rainier - USGS.gov\", \"link\": \"https://www.usgs.gov/volcanoes/mount-rainier/geology-and-history-summary-mount-rainier\", \"snippet\": \"Public domain.) Mount Rainier is an active volcano of the Cascade Range in Washington State, 50-70 km (30-44 mi) southeast of the Seattle\\u2013Tacoma metropolitan area. Volcanism occurs at Mount Rainier and other Cascades arc volcanoes because of the subduction of the Juan de Fuca Plate off the western coast of North America.\"}, {\"title\": \"Mount Rainier | U.S. Geological Survey - USGS.gov\", \"link\": \"https://www.usgs.gov/volcanoes/mount-rainier\", \"snippet\": \"Mount Rainier, the highest peak in the Cascade Range at 4,392m (14,410 ft), forms a dramatic backdrop to the Puget Sound region. Summary During an eruption 5,600 years ago the once-higher edifice of Mount Rainier collapsed to form a large crater open to the northeast much like that at Mount St. Helens after 1980.\"}, {\"title\": \"Mount Rainier | National Park, History, Eruptions, & Map\", \"link\": \"https://www.britannica.com/place/Mount-Rainier\", \"snippet\": \"Mount Rainier, highest mountain (14,410 feet [4,392 meters]) in the state of Washington, U.S., and in the Cascade Range. It lies about 40 miles (64 km) southeast of the city of Tacoma, within Mount Rainier National Park. A dormant volcano, it last erupted about 150 years ago.\"}, {\"title\": \"Mount Rainier National Park - Wikipedia\", \"link\": \"https://en.wikipedia.org/wiki/Mount_Rainier_National_Park\", \"snippet\": \"The highest point in the Cascade Range, Mount Rainier is surrounded by valleys, waterfalls, subalpine meadows, and 91,000 acres (142.2 sq mi; 368.3 km 2) of old-growth forest. [4] More than 25 glaciers descend the flanks of the volcano, which is often shrouded in clouds that dump enormous amounts of rain and snow.\"}, {\"title\": \"Mount Rainier National Park (U.S. National Park Service)\", \"link\": \"https://www.nps.gov/mora/index.htm\", \"snippet\": \"Ascending to 14,410 feet above sea level, Mount Rainier stands as an icon in the Washington landscape. An active volcano, Mount Rainier is the most glaciated peak in the contiguous U.S.A., spawning five major rivers. Subalpine wildflower meadows ring the icy volcano while ancient forest cloaks Mount Rainier\\u2019s lower slopes.\"}, {\"title\": \"Mount Rainier Geology | U.S. Geological Survey - USGS.gov\", \"link\": \"https://www.usgs.gov/geology-and-ecology-of-national-parks/mount-rainier-geology\", \"snippet\": \"Mt. Rainier is an active volcano, rising to over 14,000 feet southeast of Seattle. Return to Rainier main page Sources/Usage: Public Domain. A distant view of Mount Rainier volcano over Puyallup Valley, near Orting, Washington.\"}, {\"title\": \"Mount Rainier is a special place - U.S. National Park Service\", \"link\": \"https://www.nps.gov/mora/learn/management/what-s-special.htm\", \"snippet\": \"At a height of 14,410 feet, Mount Rainier is the highest volcanic peak in the contiguous United States. It has the largest alpine glacial system outside of Alaska and the world's largest volcanic glacier cave system (in the summit crater).\"}, {\"title\": \"Frequently Asked Questions - Mount Rainier National Park (U.S. National ...\", \"link\": \"https://www.nps.gov/mora/faqs.htm\", \"snippet\": \"Mount Rainier National Park encompasses 236,380.89 acres or 369.34 square miles within the legislative park boundary, with an additional 140 acres lying outside the boundary. Of that amount, 228,480 acres (97% of the park) has been designated by Congress as Wilderness. The park is also a National Historic Landmark District.\"}]\n",
      "\n",
      "Messages in next request:\n",
      "{'role': 'system', 'content': 'You are an assistant designed to help people answer questions.\\n\\nYou have access to query the web using Bing Search. You should call bing search whenever a question requires up to date information or could benefit from web data.\\n'}\n",
      "{'role': 'user', 'content': 'How tall is mount rainier?'}\n",
      "{'role': 'assistant', 'function_call': {'name': 'search_bing', 'arguments': '{\\n  \"query\": \"height of Mount Rainier\"\\n}'}, 'content': None}\n",
      "{'role': 'function', 'name': 'search_bing', 'content': '[{\"title\": \"Mount Rainier - Wikipedia\", \"link\": \"https://en.wikipedia.org/wiki/Mount_Rainier\", \"snippet\": \"Coordinates: 46\\\\u00b051\\\\u203210\\\\u2033N 121\\\\u00b045\\\\u203238\\\\u2033W Mount Rainier seen from the International Space Station Mount Rainier ( / re\\\\u026a\\\\u02c8n\\\\u026a\\\\u0259r / ray-NEER ), also known as Tahoma, is a large active stratovolcano in the Cascade Range of the Pacific Northwest in the United States.\"}, {\"title\": \"Geology and History Summary for Mount Rainier - USGS.gov\", \"link\": \"https://www.usgs.gov/volcanoes/mount-rainier/geology-and-history-summary-mount-rainier\", \"snippet\": \"Public domain.) Mount Rainier is an active volcano of the Cascade Range in Washington State, 50-70 km (30-44 mi) southeast of the Seattle\\\\u2013Tacoma metropolitan area. Volcanism occurs at Mount Rainier and other Cascades arc volcanoes because of the subduction of the Juan de Fuca Plate off the western coast of North America.\"}, {\"title\": \"Mount Rainier | U.S. Geological Survey - USGS.gov\", \"link\": \"https://www.usgs.gov/volcanoes/mount-rainier\", \"snippet\": \"Mount Rainier, the highest peak in the Cascade Range at 4,392m (14,410 ft), forms a dramatic backdrop to the Puget Sound region. Summary During an eruption 5,600 years ago the once-higher edifice of Mount Rainier collapsed to form a large crater open to the northeast much like that at Mount St. Helens after 1980.\"}, {\"title\": \"Mount Rainier | National Park, History, Eruptions, & Map\", \"link\": \"https://www.britannica.com/place/Mount-Rainier\", \"snippet\": \"Mount Rainier, highest mountain (14,410 feet [4,392 meters]) in the state of Washington, U.S., and in the Cascade Range. It lies about 40 miles (64 km) southeast of the city of Tacoma, within Mount Rainier National Park. A dormant volcano, it last erupted about 150 years ago.\"}, {\"title\": \"Mount Rainier National Park - Wikipedia\", \"link\": \"https://en.wikipedia.org/wiki/Mount_Rainier_National_Park\", \"snippet\": \"The highest point in the Cascade Range, Mount Rainier is surrounded by valleys, waterfalls, subalpine meadows, and 91,000 acres (142.2 sq mi; 368.3 km 2) of old-growth forest. [4] More than 25 glaciers descend the flanks of the volcano, which is often shrouded in clouds that dump enormous amounts of rain and snow.\"}, {\"title\": \"Mount Rainier National Park (U.S. National Park Service)\", \"link\": \"https://www.nps.gov/mora/index.htm\", \"snippet\": \"Ascending to 14,410 feet above sea level, Mount Rainier stands as an icon in the Washington landscape. An active volcano, Mount Rainier is the most glaciated peak in the contiguous U.S.A., spawning five major rivers. Subalpine wildflower meadows ring the icy volcano while ancient forest cloaks Mount Rainier\\\\u2019s lower slopes.\"}, {\"title\": \"Mount Rainier Geology | U.S. Geological Survey - USGS.gov\", \"link\": \"https://www.usgs.gov/geology-and-ecology-of-national-parks/mount-rainier-geology\", \"snippet\": \"Mt. Rainier is an active volcano, rising to over 14,000 feet southeast of Seattle. Return to Rainier main page Sources/Usage: Public Domain. A distant view of Mount Rainier volcano over Puyallup Valley, near Orting, Washington.\"}, {\"title\": \"Mount Rainier is a special place - U.S. National Park Service\", \"link\": \"https://www.nps.gov/mora/learn/management/what-s-special.htm\", \"snippet\": \"At a height of 14,410 feet, Mount Rainier is the highest volcanic peak in the contiguous United States. It has the largest alpine glacial system outside of Alaska and the world\\'s largest volcanic glacier cave system (in the summit crater).\"}, {\"title\": \"Frequently Asked Questions - Mount Rainier National Park (U.S. National ...\", \"link\": \"https://www.nps.gov/mora/faqs.htm\", \"snippet\": \"Mount Rainier National Park encompasses 236,380.89 acres or 369.34 square miles within the legislative park boundary, with an additional 140 acres lying outside the boundary. Of that amount, 228,480 acres (97% of the park) has been designated by Congress as Wilderness. The park is also a National Historic Landmark District.\"}]'}\n",
      "\n",
      "Final response:\n",
      "Mount Rainier, also known as Tahoma, is the highest peak in the Cascade Range and is located in Washington State, United States. It stands at a height of 14,410 feet (4,392 meters) above sea level. Mount Rainier is an active stratovolcano and is surrounded by valleys, waterfalls, subalpine meadows, and old-growth forests. It is also the most glaciated peak in the contiguous United States, with more than 25 glaciers descending its flanks.\n"
     ]
    }
   ],
   "source": [
    "system_message = \"\"\"You are an assistant designed to help people answer questions.\n",
    "\n",
    "You have access to query the web using Bing Search. You should call bing search whenever a question requires up to date information or could benefit from web data.\n",
    "\"\"\"\n",
    "\n",
    "messages = [{\"role\": \"system\", \"content\": system_message},\n",
    "            {\"role\": \"user\", \"content\": \"How tall is mount rainier?\"}]\n",
    "\n",
    "\n",
    "available_functions = {'search_bing': search}\n",
    "\n",
    "result = run_multiturn_conversation(messages, functions, available_functions, deployment_name)\n",
    "\n",
    "print(\"Final response:\")\n",
    "print(result['choices'][0]['message']['content'])"
   ]
  },
  {
   "cell_type": "markdown",
   "metadata": {},
   "source": [
    "## Next steps\n",
    "\n",
    "The example above shows a simple pattern for how you can use function calling to ground Azure OpenAI models on data from the web. Here are some ideas for how you could extend this example:\n",
    "\n",
    "- Teach the model to cite its sources using prompt engineering\n",
    "- Define a second function to click into the top search result and extract relevant details from the page. To limit the length of text from the website, you could consider using a separate prompt to summarize the text relevant to the user's query before adding it to the conversation history\n",
    "- Integrate your own data sources using additional functions"
   ]
  }
 ],
 "metadata": {
  "kernelspec": {
   "display_name": "Python 3",
   "language": "python",
   "name": "python3"
  },
  "language_info": {
   "codemirror_mode": {
    "name": "ipython",
    "version": 3
   },
   "file_extension": ".py",
   "mimetype": "text/x-python",
   "name": "python",
   "nbconvert_exporter": "python",
   "pygments_lexer": "ipython3",
   "version": "3.10.11"
  },
  "orig_nbformat": 4
 },
 "nbformat": 4,
 "nbformat_minor": 2
}
