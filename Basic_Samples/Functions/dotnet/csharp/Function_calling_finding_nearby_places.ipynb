{
 "cells": [
  {
   "cell_type": "markdown",
   "metadata": {},
   "source": [
    "# Function calling for nearby places: Leveraging the Bing Maps Local Search api\n",
    "\n",
    "This notebook is centered around the integration of the Bing Maps Local Search api to enhance location-based searches. Please note that while we focus on the Bing Maps Local Search api in this instance, there are numerous other APIs you could explore and apply in a similar fashion.\n",
    "\n",
    "We'll explore the application of three main components:\n",
    "\n",
    "- Bing Maps Local Search api: This API provides real-time data about nearby places. It factors in various data points such as ratings, types of venues, costs, and more from the locations around you.\n",
    "\n",
    "- Function calling: A single command such as \\\"I'm hungry\\\" or \\\"I want to visit a museum\\\" activates the function which invokes the Bing Maps Local Search api to identify suitable venues.\n",
    "\n",
    "This notebook introduces two primary use cases:\n",
    "\n",
    "- API integration with function calling: Understand how to integrate and call Bing Maps Local Search api effectively to source real-time data of various places using function calling.\n",
    "\n",
    "Please note that while this system is highly versatile, its effectiveness may vary based on user preferences and available place data. For the purposes of this notebook, the customer data is fake and the location is hardcoded. \""
   ]
  },
  {
   "cell_type": "markdown",
   "metadata": {},
   "source": [
    "## Setup\n",
    "\n",
    "Bing Maps Local Search api\n",
    "\n",
    "To use the Bing Maps Local Search api, you'll need:\n",
    "\n",
    "- Microsoft Account: If you don't already have one, you will need to create a Microsoft account.\n",
    "\n",
    "- Bing Maps Local Search api API Key: The API key is a unique identifier that is used to authenticate requests associated with your project. You can get your API key from the [Bing Maps Dev Center](https://www.bingmapsportal.com/Application). \n"
   ]
  },
  {
   "cell_type": "markdown",
   "metadata": {},
   "source": [
    "## Installation\n",
    "Install the Azure Open AI SDK using the below command."
   ]
  },
  {
   "cell_type": "code",
   "execution_count": 1,
   "metadata": {
    "dotnet_interactive": {
     "language": "csharp"
    },
    "polyglot_notebook": {
     "kernelName": "csharp"
    },
    "vscode": {
     "languageId": "polyglot-notebook"
    }
   },
   "outputs": [
    {
     "data": {
      "text/html": [
       "<div><div></div><div></div><div><strong>Installed Packages</strong><ul><li><span>Azure.AI.OpenAI, 1.0.0-beta.12</span></li></ul></div></div>"
      ]
     },
     "metadata": {},
     "output_type": "display_data"
    }
   ],
   "source": [
    "#r \"nuget: Azure.AI.OpenAI, 1.0.0-beta.14\""
   ]
  },
  {
   "cell_type": "code",
   "execution_count": 2,
   "metadata": {
    "dotnet_interactive": {
     "language": "csharp"
    },
    "polyglot_notebook": {
     "kernelName": "csharp"
    },
    "vscode": {
     "languageId": "polyglot-notebook"
    }
   },
   "outputs": [
    {
     "data": {
      "text/html": [
       "<div><div></div><div></div><div><strong>Installed Packages</strong><ul><li><span>Microsoft.DotNet.Interactive.AIUtilities, 1.0.0-beta.24129.1</span></li></ul></div></div>"
      ]
     },
     "metadata": {},
     "output_type": "display_data"
    },
    {
     "data": {
      "text/plain": [
       "Loading extension script from `C:\\Users\\dicolomb\\.nuget\\packages\\microsoft.dotnet.interactive.aiutilities\\1.0.0-beta.24054.2\\interactive-extensions\\dotnet\\extension.dib`"
      ]
     },
     "metadata": {},
     "output_type": "display_data"
    }
   ],
   "source": [
    "#r \"nuget:Microsoft.DotNet.Interactive.AIUtilities, 1.0.0-beta.24129.1\"\n",
    "\n",
    "using Microsoft.DotNet.Interactive;\n",
    "using Microsoft.DotNet.Interactive.AIUtilities;"
   ]
  },
  {
   "cell_type": "markdown",
   "metadata": {},
   "source": [
    "## Run this cell, it will prompt you for the apiKey, endPoint, gtpDeployment, and bingMap"
   ]
  },
  {
   "cell_type": "code",
   "execution_count": 4,
   "metadata": {
    "dotnet_interactive": {
     "language": "csharp"
    },
    "polyglot_notebook": {
     "kernelName": "csharp"
    },
    "vscode": {
     "languageId": "polyglot-notebook"
    }
   },
   "outputs": [],
   "source": [
    "var azureOpenAIKey = await Kernel.GetPasswordAsync(\"Provide your OPEN_AI_KEY\");\n",
    "\n",
    "// Your endpoint should look like the following https://YOUR_OPEN_AI_RESOURCE_NAME.openai.azure.com/\n",
    "var azureOpenAIEndpoint = await Kernel.GetInputAsync(\"Provide the OPEN_AI_ENDPOINT\");\n",
    "\n",
    "// Enter the deployment name you chose when you deployed the model.\n",
    "var gptDeployment = await Kernel.GetInputAsync(\"Provide GPT  deployment name\");\n",
    "\n",
    "var bingMapsKey = await Kernel.GetPasswordAsync(\"Provide your BING_MAPS_KEY\");"
   ]
  },
  {
   "cell_type": "markdown",
   "metadata": {},
   "source": [
    "### Import namesapaces and create an instance of `OpenAiClient` using the `azureOpenAIEndpoint` and the `azureOpenAIKey`"
   ]
  },
  {
   "cell_type": "code",
   "execution_count": 5,
   "metadata": {
    "dotnet_interactive": {
     "language": "csharp"
    },
    "polyglot_notebook": {
     "kernelName": "csharp"
    },
    "vscode": {
     "languageId": "polyglot-notebook"
    }
   },
   "outputs": [],
   "source": [
    "using Azure;\n",
    "using Azure.AI.OpenAI;"
   ]
  },
  {
   "cell_type": "code",
   "execution_count": 6,
   "metadata": {
    "dotnet_interactive": {
     "language": "csharp"
    },
    "polyglot_notebook": {
     "kernelName": "csharp"
    },
    "vscode": {
     "languageId": "polyglot-notebook"
    }
   },
   "outputs": [],
   "source": [
    "OpenAIClient client = new (new Uri(azureOpenAIEndpoint), new AzureKeyCredential(azureOpenAIKey.GetClearTextPassword()));"
   ]
  },
  {
   "cell_type": "code",
   "execution_count": 7,
   "metadata": {
    "dotnet_interactive": {
     "language": "csharp"
    },
    "polyglot_notebook": {
     "kernelName": "csharp"
    },
    "vscode": {
     "languageId": "polyglot-notebook"
    }
   },
   "outputs": [],
   "source": [
    "public enum PlaceType{\n",
    "    Bars,\n",
    "    BarsGrillsAndPubs,\n",
    "    BelgianRestaurants,\n",
    "    BreweriesAndBrewPubs,\n",
    "    BritishRestaurants,\n",
    "    BuffetRestaurants,\n",
    "    CafeRestaurants,\n",
    "    CaribbeanRestaurants,\n",
    "    ChineseRestaurants,\n",
    "    CocktailLounges,\n",
    "    CoffeeAndTea,\n",
    "    Delicatessens,\n",
    "    DeliveryService,\n",
    "    Diners,\n",
    "    DiscountStores,\n",
    "    Donuts,\n",
    "    FastFood,\n",
    "    FrenchRestaurants,\n",
    "    FrozenYogurt,\n",
    "    GermanRestaurants,\n",
    "    GreekRestaurants,\n",
    "    Grocers,\n",
    "    Grocery,\n",
    "    HawaiianRestaurants,\n",
    "    HungarianRestaurants,\n",
    "    IceCreamAndFrozenDesserts,\n",
    "    IndianRestaurants,\n",
    "    ItalianRestaurants,\n",
    "    JapaneseRestaurants,\n",
    "    Juices,\n",
    "    KoreanRestaurants,\n",
    "    LiquorStores,\n",
    "    MexicanRestaurants,\n",
    "    MiddleEasternRestaurants,\n",
    "    Pizza,\n",
    "    PolishRestaurants,\n",
    "    PortugueseRestaurants,\n",
    "    Pretzels,\n",
    "    Restaurants,\n",
    "    RussianAndUkrainianRestaurants,\n",
    "    Sandwiches,\n",
    "    SeafoodRestaurants,\n",
    "    SpanishRestaurants,\n",
    "    SportsBars,\n",
    "    SteakHouseRestaurants,\n",
    "    Supermarkets,\n",
    "    SushiRestaurants,\n",
    "    TakeAway,\n",
    "    Taverns,\n",
    "    ThaiRestaurants,\n",
    "    TurkishRestaurants,\n",
    "    VegetarianAndVeganRestaurants,\n",
    "    VietnameseRestaurants,\n",
    "    AmusementParks,\n",
    "    Attractions,\n",
    "    Carnivals,\n",
    "    Casinos,\n",
    "    LandmarksAndHistoricalSites,\n",
    "    MiniatureGolfCourses,\n",
    "    MovieTheaters,\n",
    "    Museums,\n",
    "    Parks,\n",
    "    SightseeingTours,\n",
    "    TouristInformation,\n",
    "    Zoos,\n",
    "    AntiqueStores,\n",
    "    Bookstores,\n",
    "    CDAndRecordStores,\n",
    "    ChildrensClothingStores,\n",
    "    CigarAndTobaccoShops,\n",
    "    ComicBookStores,\n",
    "    DepartmentStores,\n",
    "    FleaMarketsAndBazaars,\n",
    "    FurnitureStores,\n",
    "    HomeImprovementStores,\n",
    "    JewelryAndWatchesStores,\n",
    "    KitchenwareStores,\n",
    "    MallsAndShoppingCenters,\n",
    "    MensClothingStores,\n",
    "    MusicStores,\n",
    "    OutletStores,\n",
    "    PetShops,\n",
    "    PetSupplyStores,\n",
    "    SchoolAndOfficeSupplyStores,\n",
    "    ShoeStores,\n",
    "    SportingGoodsStores,\n",
    "    ToyAndGameStores,\n",
    "    VitaminAndSupplementStores,\n",
    "    WomensClothingStores,\n",
    "    BanksAndCreditUnions,\n",
    "    Hospitals,\n",
    "    HotelsAndMotels,\n",
    "    Parking\n",
    "}"
   ]
  },
  {
   "cell_type": "markdown",
   "metadata": {},
   "source": [
    "This ustility functions helps translating a `GptFunction` to the `ChatCompletionsFunctionToolDefinition` type"
   ]
  },
  {
   "cell_type": "code",
   "execution_count": 23,
   "metadata": {
    "dotnet_interactive": {
     "language": "csharp"
    },
    "polyglot_notebook": {
     "kernelName": "csharp"
    },
    "vscode": {
     "languageId": "polyglot-notebook"
    }
   },
   "outputs": [],
   "source": [
    "using System.Text.Json;\n",
    "\n",
    "public ChatCompletionsFunctionToolDefinition CreateToolDefinition(GptFunction function)\n",
    "{\n",
    "    var functionDefinition = new ChatCompletionsFunctionToolDefinition{\n",
    "        Name = function.Name,\n",
    "    };\n",
    "    var json = JsonDocument.Parse(function.JsonSignature.ToString()).RootElement;\n",
    "    functionDefinition.Parameters = BinaryData.FromString(json.GetProperty(\"parameters\").ToString());\n",
    "    return functionDefinition;\n",
    "}"
   ]
  },
  {
   "cell_type": "markdown",
   "metadata": {},
   "source": [
    "## Create a `GptFunction`\n",
    "\n",
    "A `GptFunction` is an object  that can be used to create a `ChatCompletionOption` and later execute the logic in the `delegate` passed in the constructor.\n",
    "\n",
    "Let's create ones that will take as input a location and a placeType. They will be used to search a matching location using the [Bing Map Local Search Api](https://learn.microsoft.com/bingmaps/rest-services/locations/local-search)."
   ]
  },
  {
   "cell_type": "code",
   "execution_count": 24,
   "metadata": {
    "dotnet_interactive": {
     "language": "csharp"
    },
    "polyglot_notebook": {
     "kernelName": "csharp"
    },
    "vscode": {
     "languageId": "polyglot-notebook"
    }
   },
   "outputs": [],
   "source": [
    "using System.Web;\n",
    "var findFunction = GptFunction.Create(\"find\",async (string currentLocation, PlaceType placeType) =>{\n",
    "    var apiKey = bingMapsKey.GetClearTextPassword();\n",
    "    var httpClient = new System.Net.Http.HttpClient();\n",
    "    var url = new Uri($\"https://dev.virtualearth.net/REST/v1/LocalSearch/?query={HttpUtility.UrlEncode(currentLocation)}&type={placeType}&key={apiKey}\");\n",
    " \n",
    "    var response = await httpClient.GetAsync(url);\n",
    "    return await response.Content.ReadAsStringAsync();   \n",
    "},enumsAsString: true);\n"
   ]
  },
  {
   "cell_type": "markdown",
   "metadata": {},
   "source": [
    "### Create ProvideReccomendations\n",
    "This function will use the `GptFunction` and `ChatGPT` to answer a user question by calling the function with parameters generated by the LLM.\n"
   ]
  },
  {
   "cell_type": "code",
   "execution_count": 27,
   "metadata": {
    "dotnet_interactive": {
     "language": "csharp"
    },
    "polyglot_notebook": {
     "kernelName": "csharp"
    },
    "vscode": {
     "languageId": "polyglot-notebook"
    }
   },
   "outputs": [],
   "source": [
    "public async Task<string> ProvideReccomendations(string userQuestion){\n",
    "    var response = await client.GetChatCompletionsAsync(new ChatCompletionsOptions{\n",
    "        Messages={\n",
    "                    new ChatRequestSystemMessage(\"You are a sophisticated AI assistant, a specialist in user intent detection and interpretation. Your task is to perceive and respond to the user's needs, even when they're expressed in an indirect or direct manner. You excel in recognizing subtle cues: for example, if a user states they are 'hungry', you should assume they are seeking nearby dining options such as a restaurant or a cafe. If they indicate feeling 'tired', 'weary', or mention a long journey, interpret this as a request for accommodation options like hotels or guest houses. However, remember to navigate the fine line of interpretation and assumption: if a user's intent is unclear or can be interpreted in multiple ways, do not hesitate to politely ask for additional clarification. Use only values from the nums in the functions.\"),\n",
    "                    new ChatRequestUserMessage(userQuestion)\n",
    "        },\n",
    "        Tools = { CreateToolDefinition(findFunction) },\n",
    "        DeploymentName = gptDeployment,\n",
    "    });\n",
    "\n",
    "    var toolCall =  response.Value.Choices[0].Message.ToolCalls.Cast<ChatCompletionsFunctionToolCall>().First(tc => tc.Name == findFunction.Name);\n",
    "\n",
    "    toolCall.Arguments.Display();\n",
    "    \n",
    "    var results = await  ((Task<string>) findFunction.Execute(toolCall.Arguments));\n",
    "    return results;\n",
    "}"
   ]
  },
  {
   "cell_type": "code",
   "execution_count": 29,
   "metadata": {
    "dotnet_interactive": {
     "language": "csharp"
    },
    "polyglot_notebook": {
     "kernelName": "csharp"
    },
    "vscode": {
     "languageId": "polyglot-notebook"
    }
   },
   "outputs": [
    {
     "data": {
      "text/plain": [
       "{\n",
       "  \"currentLocation\": \"Capitol Hill\",\n",
       "  \"placeType\": \"Bars\"\n",
       "}"
      ]
     },
     "metadata": {},
     "output_type": "display_data"
    }
   ],
   "source": [
    "var response = await ProvideReccomendations(\"I am hungry in Seattle, actually Capitol Hill. At the moment I would appreaciate something local and cheap. Maybe a pub? Don't know what is the best to go for. I am open to any idea, What do you suggest?\");\n",
    "\n"
   ]
  },
  {
   "cell_type": "code",
   "execution_count": null,
   "metadata": {
    "dotnet_interactive": {
     "language": "csharp"
    },
    "polyglot_notebook": {
     "kernelName": "csharp"
    },
    "vscode": {
     "languageId": "polyglot-notebook"
    }
   },
   "outputs": [],
   "source": [
    "response.Display();"
   ]
  }
 ],
 "metadata": {
  "language_info": {
   "name": "csharp"
  },
  "orig_nbformat": 4
 },
 "nbformat": 4,
 "nbformat_minor": 2
}
