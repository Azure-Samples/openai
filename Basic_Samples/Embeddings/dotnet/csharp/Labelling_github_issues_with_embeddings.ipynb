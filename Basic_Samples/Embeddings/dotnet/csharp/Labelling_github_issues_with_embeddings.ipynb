{
 "cells": [
  {
   "cell_type": "markdown",
   "metadata": {},
   "source": [
    "# Autmatically labelling Github issues"
   ]
  },
  {
   "cell_type": "code",
   "execution_count": 1,
   "id": "629f69e0",
   "metadata": {
    "dotnet_interactive": {
     "language": "csharp"
    },
    "polyglot_notebook": {
     "kernelName": "csharp"
    },
    "vscode": {
     "languageId": "polyglot-notebook"
    }
   },
   "outputs": [
    {
     "data": {
      "text/html": [
       "<div><div></div><div></div><div><strong>Installed Packages</strong><ul><li><span>Azure.AI.OpenAI, 1.0.0-beta.14</span></li></ul></div></div>"
      ]
     },
     "metadata": {},
     "output_type": "display_data"
    }
   ],
   "source": [
    "#r \"nuget: Azure.AI.OpenAI, 1.0.0-beta.14\""
   ]
  },
  {
   "cell_type": "code",
   "execution_count": 2,
   "id": "86d513fa",
   "metadata": {
    "dotnet_interactive": {
     "language": "csharp"
    },
    "polyglot_notebook": {
     "kernelName": "csharp"
    },
    "vscode": {
     "languageId": "polyglot-notebook"
    }
   },
   "outputs": [
    {
     "data": {
      "text/html": [
       "<div><div></div><div></div><div><strong>Installed Packages</strong><ul><li><span>Octokit, 9.0.0</span></li><li><span>Octokit.Reactive, 9.0.0</span></li></ul></div></div>"
      ]
     },
     "metadata": {},
     "output_type": "display_data"
    }
   ],
   "source": [
    "#r \"nuget: Octokit, 9.0.0\"\n",
    "#r \"nuget: Octokit.Reactive, 9.0.0\""
   ]
  },
  {
   "cell_type": "code",
   "execution_count": null,
   "id": "3b74a5d3",
   "metadata": {
    "dotnet_interactive": {
     "language": "csharp"
    },
    "polyglot_notebook": {
     "kernelName": "csharp"
    },
    "vscode": {
     "languageId": "polyglot-notebook"
    }
   },
   "outputs": [],
   "source": [
    "#r \"nuget:Microsoft.DotNet.Interactive.AIUtilities, 1.0.0-beta.24129.1\""
   ]
  },
  {
   "cell_type": "code",
   "execution_count": 4,
   "id": "edbc60ca",
   "metadata": {
    "dotnet_interactive": {
     "language": "csharp"
    },
    "polyglot_notebook": {
     "kernelName": "csharp"
    },
    "vscode": {
     "languageId": "polyglot-notebook"
    }
   },
   "outputs": [],
   "source": [
    "using Azure;\n",
    "using Azure.AI.OpenAI;\n",
    "using Microsoft.DotNet.Interactive;\n",
    "using Microsoft.DotNet.Interactive.AIUtilities;\n",
    "using Octokit;"
   ]
  },
  {
   "cell_type": "code",
   "execution_count": 6,
   "id": "e242062e",
   "metadata": {
    "dotnet_interactive": {
     "language": "csharp"
    },
    "polyglot_notebook": {
     "kernelName": "csharp"
    },
    "vscode": {
     "languageId": "polyglot-notebook"
    }
   },
   "outputs": [],
   "source": [
    "var azureOpenAIKey = await Kernel.GetPasswordAsync(\"Provide your OPEN_AI_KEY\");\n",
    "var azureOpenAIEndpoint = await Kernel.GetInputAsync(\"Provide the OPEN_AI_ENDPOINT\");\n",
    "var chatDeployment = await Kernel.GetInputAsync(\"Provide chat deployment name\");\n",
    "var embeddingDeployment = await Kernel.GetInputAsync(\"Provide chat embedding name\");"
   ]
  },
  {
   "cell_type": "markdown",
   "id": "38c6f019",
   "metadata": {},
   "source": [
    "## Access to GitHub\n",
    "You will need access token with rights to query and update issues."
   ]
  },
  {
   "cell_type": "code",
   "execution_count": 8,
   "id": "fcae2031",
   "metadata": {
    "dotnet_interactive": {
     "language": "csharp"
    },
    "polyglot_notebook": {
     "kernelName": "csharp"
    },
    "vscode": {
     "languageId": "polyglot-notebook"
    }
   },
   "outputs": [],
   "source": [
    "var githubKey = await Kernel.GetPasswordAsync(\"Provide your Github api key\");\n",
    "var repoName = await Kernel.GetInputAsync(\"Provide repo\");\n",
    "var org = await Kernel.GetInputAsync(\"Provide org\");"
   ]
  },
  {
   "cell_type": "code",
   "execution_count": 9,
   "id": "aa10389b",
   "metadata": {
    "dotnet_interactive": {
     "language": "csharp"
    },
    "polyglot_notebook": {
     "kernelName": "csharp"
    },
    "vscode": {
     "languageId": "polyglot-notebook"
    }
   },
   "outputs": [],
   "source": [
    "OpenAIClient openAIClient = new (new Uri(azureOpenAIEndpoint), new AzureKeyCredential(azureOpenAIKey.GetClearTextPassword()));"
   ]
  },
  {
   "cell_type": "code",
   "execution_count": 10,
   "id": "6e4fa345",
   "metadata": {
    "dotnet_interactive": {
     "language": "csharp"
    },
    "polyglot_notebook": {
     "kernelName": "csharp"
    },
    "vscode": {
     "languageId": "polyglot-notebook"
    }
   },
   "outputs": [
    {
     "name": "stdout",
     "output_type": "stream",
     "text": [
      "Using GitHub API token\r\n"
     ]
    }
   ],
   "source": [
    "var options = new ApiOptions();\n",
    "var gitHubClient = new GitHubClient(new ProductHeaderValue(\"notebook\"));\n",
    "\n",
    "if (!string.IsNullOrEmpty(githubKey.GetClearTextPassword())) {\n",
    "    Console.WriteLine(\"Using GitHub API token\");\n",
    "    var tokenAuth = new Credentials(githubKey.GetClearTextPassword());\n",
    "    gitHubClient.Credentials = tokenAuth;\n",
    "} else {\n",
    "    Console.WriteLine(\"Using anonymous GitHub API\");\n",
    "}"
   ]
  },
  {
   "cell_type": "code",
   "execution_count": 11,
   "id": "57b24137",
   "metadata": {
    "dotnet_interactive": {
     "language": "csharp"
    },
    "polyglot_notebook": {
     "kernelName": "csharp"
    },
    "vscode": {
     "languageId": "polyglot-notebook"
    }
   },
   "outputs": [],
   "source": [
    "var allLabels = await gitHubClient.Issue.Labels.GetAllForRepository(org, repoName);"
   ]
  },
  {
   "cell_type": "code",
   "execution_count": 12,
   "id": "f88741c4",
   "metadata": {
    "dotnet_interactive": {
     "language": "csharp"
    },
    "polyglot_notebook": {
     "kernelName": "csharp"
    },
    "vscode": {
     "languageId": "polyglot-notebook"
    }
   },
   "outputs": [
    {
     "data": {
      "text/csv": [
       "Id,Url,Name,NodeId,Color,Description,Default\r\n",
       "4773058988,https://api.github.com/repos/dotnet/interactive/labels/Area-Accessibility,Area-Accessibility,LA_kwDODgj8L88AAAABHH8ZrA,5319e7,\"Relating to UI accessibility issues\",False\r\n",
       "5511620623,https://api.github.com/repos/dotnet/interactive/labels/Area-API,Area-API,LA_kwDODgj8L88AAAABSISoDw,5319e7,,False\r\n",
       "4803279709,https://api.github.com/repos/dotnet/interactive/labels/Area-Auth,Area-Auth,LA_kwDODgj8L88AAAABHkw7XQ,5319e7,,False\r\n",
       "2094097123,https://api.github.com/repos/dotnet/interactive/labels/Area-Automation,Area-Automation,MDU6TGFiZWwyMDk0MDk3MTIz,5319e7,\"Relating to non-interactive execution of notebooks and scripts\",False\r\n",
       "4084666155,https://api.github.com/repos/dotnet/interactive/labels/Area-Azure%20Data%20Studio,\"Area-Azure Data Studio\",LA_kwDODgj8L87zdw8r,5319e7,,False\r\n",
       "1907988999,https://api.github.com/repos/dotnet/interactive/labels/Area-Build%20&%20Infrastructure,\"Area-Build & Infrastructure\",MDU6TGFiZWwxOTA3OTg4OTk5,5319e7,\"Relating to this repo's build and infrastructure\",False\r\n",
       "2065909664,https://api.github.com/repos/dotnet/interactive/labels/Area-C%23,Area-C#,MDU6TGFiZWwyMDY1OTA5NjY0,5319e7,\"Specific to C#\",False\r\n",
       "2110504572,https://api.github.com/repos/dotnet/interactive/labels/Area-Docker,Area-Docker,MDU6TGFiZWwyMTEwNTA0NTcy,5319e7,\"Specific to docker\",False\r\n",
       "1801690166,https://api.github.com/repos/dotnet/interactive/labels/Area-Documentation,Area-Documentation,MDU6TGFiZWwxODAxNjkwMTY2,5319e7,\"Improvements or additions to documentation\",False\r\n",
       "1835518355,https://api.github.com/repos/dotnet/interactive/labels/Area-F%23,Area-F#,MDU6TGFiZWwxODM1NTE4MzU1,5319e7,\"Specific to F#\",False\r\n",
       "2272303722,https://api.github.com/repos/dotnet/interactive/labels/Area-Formatting,Area-Formatting,MDU6TGFiZWwyMjcyMzAzNzIy,5319e7,\"Data and object formatting as HTML and plaintext\",False\r\n",
       "4436670966,https://api.github.com/repos/dotnet/interactive/labels/Area-Getting%20Started,\"Area-Getting Started\",LA_kwDODgj8L88AAAABCHI59g,5319E7,,False\r\n",
       "6047789224,https://api.github.com/repos/dotnet/interactive/labels/Area-HTTP,Area-HTTP,LA_kwDODgj8L88AAAABaHnwqA,5319E7,,False\r\n",
       "1836998938,https://api.github.com/repos/dotnet/interactive/labels/Area-Installation,Area-Installation,MDU6TGFiZWwxODM2OTk4OTM4,5319e7,,False\r\n",
       "2094233835,https://api.github.com/repos/dotnet/interactive/labels/Area-JavaScript%20HTML%20CSS,\"Area-JavaScript HTML CSS\",MDU6TGFiZWwyMDk0MjMzODM1,5319e7,,False\r\n",
       "2071777991,https://api.github.com/repos/dotnet/interactive/labels/Area-Jupyter%20Kernel,\"Area-Jupyter Kernel\",MDU6TGFiZWwyMDcxNzc3OTkx,5319e7,,False\r\n",
       "4750560388,https://api.github.com/repos/dotnet/interactive/labels/Area-Jupyter%20sub-kernels,\"Area-Jupyter sub-kernels\",LA_kwDODgj8L88AAAABGyfMhA,5319E7,,False\r\n",
       "1985413182,https://api.github.com/repos/dotnet/interactive/labels/Area-Language%20Services,\"Area-Language Services\",MDU6TGFiZWwxOTg1NDEzMTgy,5319e7,\"IntelliSense, LSP, and related\",False\r\n",
       "4688323202,https://api.github.com/repos/dotnet/interactive/labels/Area-Localization%20and%20Globalization,\"Area-Localization and Globalization\",LA_kwDODgj8L88AAAABF3Iigg,5319e7,,False\r\n",
       "2518739187,https://api.github.com/repos/dotnet/interactive/labels/Area-Messaging%20/%20scheduling%20/%20comms,\"Area-Messaging / scheduling / comms\",MDU6TGFiZWwyNTE4NzM5MTg3,5319e7,,False\r\n",
       "1846084055,https://api.github.com/repos/dotnet/interactive/labels/Area-Packages%20and%20Extensions,\"Area-Packages and Extensions\",MDU6TGFiZWwxODQ2MDg0MDU1,5319e7,\"Related to acquiring and using packages and extensions\",False\r\n",
       "2065914942,https://api.github.com/repos/dotnet/interactive/labels/Area-Performance,Area-Performance,MDU6TGFiZWwyMDY1OTE0OTQy,5319e7,,False\r\n",
       "2065901022,https://api.github.com/repos/dotnet/interactive/labels/Area-Polyglot%20Notebooks%20Extension,\"Area-Polyglot Notebooks Extension\",MDU6TGFiZWwyMDY1OTAxMDIy,5319e7,,False\r\n",
       "1833661824,https://api.github.com/repos/dotnet/interactive/labels/Area-PowerShell,Area-PowerShell,MDU6TGFiZWwxODMzNjYxODI0,5319e7,\"Specific to PowerShell\",False\r\n",
       "3765846877,https://api.github.com/repos/dotnet/interactive/labels/Area-Python,Area-Python,LA_kwDODgj8L87gdkNd,5319e7,,False\r\n",
       "2501899697,https://api.github.com/repos/dotnet/interactive/labels/Area-SQL%20/%20data%20querying,\"Area-SQL / data querying\",MDU6TGFiZWwyNTAxODk5Njk3,5319e7,,False\r\n",
       "4343469841,https://api.github.com/repos/dotnet/interactive/labels/Area-Telemetry,Area-Telemetry,LA_kwDODgj8L88AAAABAuQXEQ,5319e7,,False\r\n",
       "3274648445,https://api.github.com/repos/dotnet/interactive/labels/Area-Variable%20sharing,\"Area-Variable sharing\",MDU6TGFiZWwzMjc0NjQ4NDQ1,5319e7,,False\r\n",
       "2094231153,https://api.github.com/repos/dotnet/interactive/labels/Area-Visualization,Area-Visualization,MDU6TGFiZWwyMDk0MjMxMTUz,5319e7,\"Plotting, data & object visualization as charts etc\",False\r\n",
       "3562542055,https://api.github.com/repos/dotnet/interactive/labels/Area-VisualStudio,Area-VisualStudio,LA_kwDODgj8L87UWBPn,5319e7,\"Relating to VisualStudio extension\",False\r\n",
       "2920990954,https://api.github.com/repos/dotnet/interactive/labels/Area-VS%20Code%20Jupyter%20Extension%20Interop,\"Area-VS Code Jupyter Extension Interop\",MDU6TGFiZWwyOTIwOTkwOTU0,512bd4,,False\r\n",
       "3719975054,https://api.github.com/repos/dotnet/interactive/labels/Area-WebAssembly,Area-WebAssembly,LA_kwDODgj8L87dulCO,5319e7,,False\r\n",
       "5262266415,https://api.github.com/repos/dotnet/interactive/labels/Blocked,Blocked,LA_kwDODgj8L88AAAABOafQLw,D0F74B,\"This issue is blocked from making progress due to another issue.\",False\r\n",
       "5262268856,https://api.github.com/repos/dotnet/interactive/labels/Blocking-partner,Blocking-partner,LA_kwDODgj8L88AAAABOafZuA,0e8a16,\"A partner is blocked from implementing an important bug or feature by this issue.\",False\r\n",
       "4309295930,https://api.github.com/repos/dotnet/interactive/labels/breaking%20change,\"breaking change\",LA_kwDODgj8L88AAAABANqjOg,B60205,\"A pr that introduces a breaking change for users\",False\r\n",
       "1801690165,https://api.github.com/repos/dotnet/interactive/labels/bug,bug,MDU6TGFiZWwxODAxNjkwMTY1,d73a4a,\"Something isn't working\",True\r\n",
       "2867940241,https://api.github.com/repos/dotnet/interactive/labels/dependencies,dependencies,MDU6TGFiZWwyODY3OTQwMjQx,0366d6,\"Pull requests that update a dependency file\",False\r\n",
       "1801690167,https://api.github.com/repos/dotnet/interactive/labels/duplicate,duplicate,MDU6TGFiZWwxODAxNjkwMTY3,cfd3d7,\"This issue or pull request already exists\",True\r\n",
       "1801690168,https://api.github.com/repos/dotnet/interactive/labels/enhancement,enhancement,MDU6TGFiZWwxODAxNjkwMTY4,a2eeef,\"New feature or request\",True\r\n",
       "2333653187,https://api.github.com/repos/dotnet/interactive/labels/External,External,MDU6TGFiZWwyMzMzNjUzMTg3,cccccc,,False\r\n",
       "1801690169,https://api.github.com/repos/dotnet/interactive/labels/good%20first%20issue,\"good first issue\",MDU6TGFiZWwxODAxNjkwMTY5,7057ff,\"Good for newcomers\",True\r\n",
       "1801690170,https://api.github.com/repos/dotnet/interactive/labels/help%20wanted,\"help wanted\",MDU6TGFiZWwxODAxNjkwMTcw,008672,\"Extra attention is needed\",True\r\n",
       "2330924108,https://api.github.com/repos/dotnet/interactive/labels/Impact-High,Impact-High,MDU6TGFiZWwyMzMwOTI0MTA4,fff000,,False\r\n",
       "2330922590,https://api.github.com/repos/dotnet/interactive/labels/Impact-Low,Impact-Low,MDU6TGFiZWwyMzMwOTIyNTkw,fffccc,,False\r\n",
       "2330921681,https://api.github.com/repos/dotnet/interactive/labels/Impact-Medium,Impact-Medium,MDU6TGFiZWwyMzMwOTIxNjgx,fff999,,False\r\n",
       "4961627710,https://api.github.com/repos/dotnet/interactive/labels/javascript,javascript,LA_kwDODgj8L88AAAABJ7xuPg,168700,\"Pull requests that update Javascript code\",False\r\n",
       "4410290125,https://api.github.com/repos/dotnet/interactive/labels/maintainability,maintainability,LA_kwDODgj8L88AAAABBt-vzQ,02661E,,False\r\n",
       "3603262558,https://api.github.com/repos/dotnet/interactive/labels/Needs%20documentation,\"Needs documentation\",LA_kwDODgj8L87WxWxe,ed477e,,False\r\n",
       "2223506343,https://api.github.com/repos/dotnet/interactive/labels/Needs%20more%20discussion,\"Needs more discussion\",MDU6TGFiZWwyMjIzNTA2MzQz,ed477e,,False\r\n",
       "4504435081,https://api.github.com/repos/dotnet/interactive/labels/Needs%20verification,\"Needs verification\",LA_kwDODgj8L88AAAABDHw5iQ,18D0BA,,False\r\n",
       "2046420142,https://api.github.com/repos/dotnet/interactive/labels/Plan,Plan,MDU6TGFiZWwyMDQ2NDIwMTQy,04BF8A,\"The plan below captures our plans for .NET Interactive\",False\r\n",
       "4436673476,https://api.github.com/repos/dotnet/interactive/labels/Polish,Polish,LA_kwDODgj8L88AAAABCHJDxA,668CDE,,False\r\n",
       "1801690172,https://api.github.com/repos/dotnet/interactive/labels/question,question,MDU6TGFiZWwxODAxNjkwMTcy,d876e3,\"Further information is requested\",True\r\n",
       "4195136169,https://api.github.com/repos/dotnet/interactive/labels/regression,regression,LA_kwDODgj8L876DLKp,8C3649,,False\r\n",
       "3464654993,https://api.github.com/repos/dotnet/interactive/labels/Resolution%20-%20By%20design,\"Resolution - By design\",LA_kwDODgj8L87OgnCR,ffffff,,False\r\n",
       "1801690173,https://api.github.com/repos/dotnet/interactive/labels/Resolution%20-%20Wont%20fix,\"Resolution - Wont fix\",MDU6TGFiZWwxODAxNjkwMTcz,ffffff,\"This will not be worked on\",False\r\n",
       "2048723470,https://api.github.com/repos/dotnet/interactive/labels/up%20for%20grabs,\"up for grabs\",MDU6TGFiZWwyMDQ4NzIzNDcw,1bc42d,,False\r\n",
       "2892885671,https://api.github.com/repos/dotnet/interactive/labels/Urgency-High,Urgency-High,MDU6TGFiZWwyODkyODg1Njcx,fff000,,False\r\n",
       "2892887529,https://api.github.com/repos/dotnet/interactive/labels/Urgency-Low,Urgency-Low,MDU6TGFiZWwyODkyODg3NTI5,fffccc,,False\r\n",
       "2892888399,https://api.github.com/repos/dotnet/interactive/labels/Urgency-Medium,Urgency-Medium,MDU6TGFiZWwyODkyODg4Mzk5,fff999,,False\r\n",
       "2071087636,https://api.github.com/repos/dotnet/interactive/labels/waiting-on-feedback,waiting-on-feedback,MDU6TGFiZWwyMDcxMDg3NjM2,fef2c0,,False\r\n"
      ],
      "text/html": [
       "<table><thead><tr><td><span>Id</span></td><td><span>Url</span></td><td><span>Name</span></td><td><span>NodeId</span></td><td><span>Color</span></td><td><span>Description</span></td><td><span>Default</span></td></tr></thead><tbody><tr><td><div class=\"dni-plaintext\"><pre>4773058988</pre></div></td><td>https://api.github.com/repos/dotnet/interactive/labels/Area-Accessibility</td><td>Area-Accessibility</td><td>LA_kwDODgj8L88AAAABHH8ZrA</td><td>5319e7</td><td>Relating to UI accessibility issues</td><td><div class=\"dni-plaintext\"><pre>False</pre></div></td></tr><tr><td><div class=\"dni-plaintext\"><pre>5511620623</pre></div></td><td>https://api.github.com/repos/dotnet/interactive/labels/Area-API</td><td>Area-API</td><td>LA_kwDODgj8L88AAAABSISoDw</td><td>5319e7</td><td></td><td><div class=\"dni-plaintext\"><pre>False</pre></div></td></tr><tr><td><div class=\"dni-plaintext\"><pre>4803279709</pre></div></td><td>https://api.github.com/repos/dotnet/interactive/labels/Area-Auth</td><td>Area-Auth</td><td>LA_kwDODgj8L88AAAABHkw7XQ</td><td>5319e7</td><td></td><td><div class=\"dni-plaintext\"><pre>False</pre></div></td></tr><tr><td><div class=\"dni-plaintext\"><pre>2094097123</pre></div></td><td>https://api.github.com/repos/dotnet/interactive/labels/Area-Automation</td><td>Area-Automation</td><td>MDU6TGFiZWwyMDk0MDk3MTIz</td><td>5319e7</td><td>Relating to non-interactive execution of notebooks and scripts</td><td><div class=\"dni-plaintext\"><pre>False</pre></div></td></tr><tr><td><div class=\"dni-plaintext\"><pre>4084666155</pre></div></td><td>https://api.github.com/repos/dotnet/interactive/labels/Area-Azure%20Data%20Studio</td><td>Area-Azure Data Studio</td><td>LA_kwDODgj8L87zdw8r</td><td>5319e7</td><td></td><td><div class=\"dni-plaintext\"><pre>False</pre></div></td></tr><tr><td><div class=\"dni-plaintext\"><pre>1907988999</pre></div></td><td>https://api.github.com/repos/dotnet/interactive/labels/Area-Build%20&amp;%20Infrastructure</td><td>Area-Build &amp; Infrastructure</td><td>MDU6TGFiZWwxOTA3OTg4OTk5</td><td>5319e7</td><td>Relating to this repo&#39;s build and infrastructure</td><td><div class=\"dni-plaintext\"><pre>False</pre></div></td></tr><tr><td><div class=\"dni-plaintext\"><pre>2065909664</pre></div></td><td>https://api.github.com/repos/dotnet/interactive/labels/Area-C%23</td><td>Area-C#</td><td>MDU6TGFiZWwyMDY1OTA5NjY0</td><td>5319e7</td><td>Specific to C#</td><td><div class=\"dni-plaintext\"><pre>False</pre></div></td></tr><tr><td><div class=\"dni-plaintext\"><pre>2110504572</pre></div></td><td>https://api.github.com/repos/dotnet/interactive/labels/Area-Docker</td><td>Area-Docker</td><td>MDU6TGFiZWwyMTEwNTA0NTcy</td><td>5319e7</td><td>Specific to docker</td><td><div class=\"dni-plaintext\"><pre>False</pre></div></td></tr><tr><td><div class=\"dni-plaintext\"><pre>1801690166</pre></div></td><td>https://api.github.com/repos/dotnet/interactive/labels/Area-Documentation</td><td>Area-Documentation</td><td>MDU6TGFiZWwxODAxNjkwMTY2</td><td>5319e7</td><td>Improvements or additions to documentation</td><td><div class=\"dni-plaintext\"><pre>False</pre></div></td></tr><tr><td><div class=\"dni-plaintext\"><pre>1835518355</pre></div></td><td>https://api.github.com/repos/dotnet/interactive/labels/Area-F%23</td><td>Area-F#</td><td>MDU6TGFiZWwxODM1NTE4MzU1</td><td>5319e7</td><td>Specific to F#</td><td><div class=\"dni-plaintext\"><pre>False</pre></div></td></tr><tr><td><div class=\"dni-plaintext\"><pre>2272303722</pre></div></td><td>https://api.github.com/repos/dotnet/interactive/labels/Area-Formatting</td><td>Area-Formatting</td><td>MDU6TGFiZWwyMjcyMzAzNzIy</td><td>5319e7</td><td>Data and object formatting as HTML and plaintext</td><td><div class=\"dni-plaintext\"><pre>False</pre></div></td></tr><tr><td><div class=\"dni-plaintext\"><pre>4436670966</pre></div></td><td>https://api.github.com/repos/dotnet/interactive/labels/Area-Getting%20Started</td><td>Area-Getting Started</td><td>LA_kwDODgj8L88AAAABCHI59g</td><td>5319E7</td><td></td><td><div class=\"dni-plaintext\"><pre>False</pre></div></td></tr><tr><td><div class=\"dni-plaintext\"><pre>6047789224</pre></div></td><td>https://api.github.com/repos/dotnet/interactive/labels/Area-HTTP</td><td>Area-HTTP</td><td>LA_kwDODgj8L88AAAABaHnwqA</td><td>5319E7</td><td></td><td><div class=\"dni-plaintext\"><pre>False</pre></div></td></tr><tr><td><div class=\"dni-plaintext\"><pre>1836998938</pre></div></td><td>https://api.github.com/repos/dotnet/interactive/labels/Area-Installation</td><td>Area-Installation</td><td>MDU6TGFiZWwxODM2OTk4OTM4</td><td>5319e7</td><td></td><td><div class=\"dni-plaintext\"><pre>False</pre></div></td></tr><tr><td><div class=\"dni-plaintext\"><pre>2094233835</pre></div></td><td>https://api.github.com/repos/dotnet/interactive/labels/Area-JavaScript%20HTML%20CSS</td><td>Area-JavaScript HTML CSS</td><td>MDU6TGFiZWwyMDk0MjMzODM1</td><td>5319e7</td><td></td><td><div class=\"dni-plaintext\"><pre>False</pre></div></td></tr><tr><td><div class=\"dni-plaintext\"><pre>2071777991</pre></div></td><td>https://api.github.com/repos/dotnet/interactive/labels/Area-Jupyter%20Kernel</td><td>Area-Jupyter Kernel</td><td>MDU6TGFiZWwyMDcxNzc3OTkx</td><td>5319e7</td><td></td><td><div class=\"dni-plaintext\"><pre>False</pre></div></td></tr><tr><td><div class=\"dni-plaintext\"><pre>4750560388</pre></div></td><td>https://api.github.com/repos/dotnet/interactive/labels/Area-Jupyter%20sub-kernels</td><td>Area-Jupyter sub-kernels</td><td>LA_kwDODgj8L88AAAABGyfMhA</td><td>5319E7</td><td></td><td><div class=\"dni-plaintext\"><pre>False</pre></div></td></tr><tr><td><div class=\"dni-plaintext\"><pre>1985413182</pre></div></td><td>https://api.github.com/repos/dotnet/interactive/labels/Area-Language%20Services</td><td>Area-Language Services</td><td>MDU6TGFiZWwxOTg1NDEzMTgy</td><td>5319e7</td><td>IntelliSense, LSP, and related</td><td><div class=\"dni-plaintext\"><pre>False</pre></div></td></tr><tr><td><div class=\"dni-plaintext\"><pre>4688323202</pre></div></td><td>https://api.github.com/repos/dotnet/interactive/labels/Area-Localization%20and%20Globalization</td><td>Area-Localization and Globalization</td><td>LA_kwDODgj8L88AAAABF3Iigg</td><td>5319e7</td><td></td><td><div class=\"dni-plaintext\"><pre>False</pre></div></td></tr><tr><td><div class=\"dni-plaintext\"><pre>2518739187</pre></div></td><td>https://api.github.com/repos/dotnet/interactive/labels/Area-Messaging%20/%20scheduling%20/%20comms</td><td>Area-Messaging / scheduling / comms</td><td>MDU6TGFiZWwyNTE4NzM5MTg3</td><td>5319e7</td><td></td><td><div class=\"dni-plaintext\"><pre>False</pre></div></td></tr><tr><td colspan=\"7\"><i>(41 more)</i></td></tr></tbody></table><style>\r\n",
       ".dni-code-hint {\r\n",
       "    font-style: italic;\r\n",
       "    overflow: hidden;\r\n",
       "    white-space: nowrap;\r\n",
       "}\r\n",
       ".dni-treeview {\r\n",
       "    white-space: nowrap;\r\n",
       "}\r\n",
       ".dni-treeview td {\r\n",
       "    vertical-align: top;\r\n",
       "    text-align: start;\r\n",
       "}\r\n",
       "details.dni-treeview {\r\n",
       "    padding-left: 1em;\r\n",
       "}\r\n",
       "table td {\r\n",
       "    text-align: start;\r\n",
       "}\r\n",
       "table tr { \r\n",
       "    vertical-align: top; \r\n",
       "    margin: 0em 0px;\r\n",
       "}\r\n",
       "table tr td pre \r\n",
       "{ \r\n",
       "    vertical-align: top !important; \r\n",
       "    margin: 0em 0px !important;\r\n",
       "} \r\n",
       "table th {\r\n",
       "    text-align: start;\r\n",
       "}\r\n",
       "</style>"
      ]
     },
     "metadata": {},
     "output_type": "display_data"
    }
   ],
   "source": [
    "allLabels.DisplayTable();"
   ]
  },
  {
   "cell_type": "markdown",
   "id": "47a40611",
   "metadata": {},
   "source": [
    "The code below is using the Octokit library, which is a .NET client for interacting with the GitHub API.\n",
    "\n",
    "The first part of the code is creating a new instance of `RepositoryIssueRequest` named `last6Months`. This object is used to specify the parameters for a request to fetch issues from a GitHub repository. In this case, the `Filter` property is set to `IssueFilter.All`, which means that the request will return all issues regardless of their state (open, closed, etc.). The `Since` property is set to a date that is six months prior to the current date (`DateTimeOffset.UtcNow.Subtract(TimeSpan.FromDays(30*6))`). This means that the request will return only the issues that have been updated in the last six months.\n",
    "\n",
    "The second part of the code is making an asynchronous request to fetch all issues for a specific repository. The `GetAllForRepository` method of the `Issue` class in the `gitHubClient` object is used to make this request. The `org` and `repoName` variables are used to specify the organization and the name of the repository from which to fetch the issues. The method returns a list of all issues in the specified repository. The `await` keyword is used to wait for the method to complete execution before moving on to the next line of code. This is necessary because the method is asynchronous, meaning it runs in the background and may not complete immediately."
   ]
  },
  {
   "cell_type": "code",
   "execution_count": 13,
   "id": "256b260d",
   "metadata": {
    "dotnet_interactive": {
     "language": "csharp"
    },
    "polyglot_notebook": {
     "kernelName": "csharp"
    },
    "vscode": {
     "languageId": "polyglot-notebook"
    }
   },
   "outputs": [],
   "source": [
    "var last6Months = new RepositoryIssueRequest\n",
    "{\n",
    "    Filter = IssueFilter.All,\n",
    "    Since = DateTimeOffset.UtcNow.Subtract(TimeSpan.FromDays(30*6))\n",
    "};\n",
    "var allIssues = await gitHubClient.Issue.GetAllForRepository(org, repoName);"
   ]
  },
  {
   "cell_type": "code",
   "execution_count": 14,
   "id": "65907b68",
   "metadata": {
    "dotnet_interactive": {
     "language": "csharp"
    },
    "polyglot_notebook": {
     "kernelName": "csharp"
    },
    "vscode": {
     "languageId": "polyglot-notebook"
    }
   },
   "outputs": [],
   "source": [
    "if(allIssues.Count(i => i.Labels.Count == 0) == 0){\n",
    "    \"No issues without labels, no need to proceed!\".Display();\n",
    "}"
   ]
  },
  {
   "cell_type": "code",
   "execution_count": 15,
   "id": "d579e1bc",
   "metadata": {
    "dotnet_interactive": {
     "language": "csharp"
    },
    "polyglot_notebook": {
     "kernelName": "csharp"
    },
    "vscode": {
     "languageId": "polyglot-notebook"
    }
   },
   "outputs": [],
   "source": [
    "public record IssueWithEmbedding(Issue Issue, float[] Embedding);"
   ]
  },
  {
   "cell_type": "markdown",
   "id": "57e569b9",
   "metadata": {},
   "source": [
    "With a `foreach` loop that iterates over chunks of issues. The `Chunk(16)` method is used to divide the `allIssues` collection into smaller collections (or chunks) of 16 issues each. This is done to manage memory usage when processing large collections.\n",
    "\n",
    "Inside the loop, for each chunk of issues, the code first concatenates the title and body of each issue and truncates the resulting string to a maximum of 8191 tokens using the `tokenizer.TruncateByTokenCount(s,8191)` method. The resulting strings are then converted to an array.\n",
    "\n",
    "Next, the code makes an asynchronous request to an AI service (likely OpenAI) to generate embeddings for the text of each issue in the chunk. The `GetEmbeddingsAsync` method of the `openAIClient` object is used to make this request. The method takes an instance of `EmbeddingsOptions` as a parameter, which specifies the deployment of the embedding model and the text to be embedded.\n",
    "\n",
    "The response from the AI service is then processed to extract the embeddings. The `Value.Data` property of the response contains the embeddings, which are converted to arrays and stored in the `embeddings` variable.\n",
    "\n",
    "Finally, the code creates a new instance of `IssueWithEmbedding` for each issue in the chunk, associating each issue with its corresponding embedding. These instances are added to the `issuesWithEmbeddings` collection for further processing."
   ]
  },
  {
   "cell_type": "code",
   "execution_count": 16,
   "id": "ce114f96",
   "metadata": {
    "dotnet_interactive": {
     "language": "csharp"
    },
    "polyglot_notebook": {
     "kernelName": "csharp"
    },
    "vscode": {
     "languageId": "polyglot-notebook"
    }
   },
   "outputs": [
    {
     "ename": "Error",
     "evalue": "Azure.RequestFailedException: Requests to the Embeddings_Create Operation under Azure OpenAI API version 2023-09-01-preview have exceeded call rate limit of your current OpenAI S0 pricing tier. Please go here: https://aka.ms/oai/quotaincrease if you would like to further increase the default rate limit.\r\nStatus: 429 (Too Many Requests)\r\nErrorCode: 429\r\n\r\nContent:\r\n{\"error\":{\"code\":\"429\",\"message\": \"Requests to the Embeddings_Create Operation under Azure OpenAI API version 2023-09-01-preview have exceeded call rate limit of your current OpenAI S0 pricing tier. Please go here: https://aka.ms/oai/quotaincrease if you would like to further increase the default rate limit.\"}}\r\n\r\nHeaders:\r\nx-rate-limit-reset-tokens: REDACTED\r\nx-ms-client-request-id: 6286698b-1edb-47b5-a2f9-fdf0a1e53ed7\r\napim-request-id: REDACTED\r\nStrict-Transport-Security: REDACTED\r\nX-Content-Type-Options: REDACTED\r\npolicy-id: REDACTED\r\nx-ms-region: REDACTED\r\nx-ratelimit-remaining-requests: REDACTED\r\nDate: Wed, 06 Dec 2023 12:49:31 GMT\r\nContent-Length: 312\r\nContent-Type: application/json\r\n\r\n   at Azure.Core.HttpPipelineExtensions.ProcessMessageAsync(HttpPipeline pipeline, HttpMessage message, RequestContext requestContext, CancellationToken cancellationToken)\r\n   at Azure.AI.OpenAI.OpenAIClient.GetEmbeddingsAsync(EmbeddingsOptions embeddingsOptions, CancellationToken cancellationToken)\r\n   at Submission#14.<<Initialize>>d__0.MoveNext()\r\n--- End of stack trace from previous location ---\r\n   at Microsoft.CodeAnalysis.Scripting.ScriptExecutionState.RunSubmissionsAsync[TResult](ImmutableArray`1 precedingExecutors, Func`2 currentExecutor, StrongBox`1 exceptionHolderOpt, Func`2 catchExceptionOpt, CancellationToken cancellationToken)",
     "output_type": "error",
     "traceback": [
      "Azure.RequestFailedException: Requests to the Embeddings_Create Operation under Azure OpenAI API version 2023-09-01-preview have exceeded call rate limit of your current OpenAI S0 pricing tier. Please go here: https://aka.ms/oai/quotaincrease if you would like to further increase the default rate limit.\r\n",
      "Status: 429 (Too Many Requests)\r\n",
      "ErrorCode: 429\r\n",
      "\r\n",
      "Content:\r\n",
      "{\"error\":{\"code\":\"429\",\"message\": \"Requests to the Embeddings_Create Operation under Azure OpenAI API version 2023-09-01-preview have exceeded call rate limit of your current OpenAI S0 pricing tier. Please go here: https://aka.ms/oai/quotaincrease if you would like to further increase the default rate limit.\"}}\r\n",
      "\r\n",
      "Headers:\r\n",
      "x-rate-limit-reset-tokens: REDACTED\r\n",
      "x-ms-client-request-id: 6286698b-1edb-47b5-a2f9-fdf0a1e53ed7\r\n",
      "apim-request-id: REDACTED\r\n",
      "Strict-Transport-Security: REDACTED\r\n",
      "X-Content-Type-Options: REDACTED\r\n",
      "policy-id: REDACTED\r\n",
      "x-ms-region: REDACTED\r\n",
      "x-ratelimit-remaining-requests: REDACTED\r\n",
      "Date: Wed, 06 Dec 2023 12:49:31 GMT\r\n",
      "Content-Length: 312\r\n",
      "Content-Type: application/json\r\n",
      "\r\n",
      "   at Azure.Core.HttpPipelineExtensions.ProcessMessageAsync(HttpPipeline pipeline, HttpMessage message, RequestContext requestContext, CancellationToken cancellationToken)\r\n",
      "   at Azure.AI.OpenAI.OpenAIClient.GetEmbeddingsAsync(EmbeddingsOptions embeddingsOptions, CancellationToken cancellationToken)\r\n",
      "   at Submission#14.<<Initialize>>d__0.MoveNext()\r\n",
      "--- End of stack trace from previous location ---\r\n",
      "   at Microsoft.CodeAnalysis.Scripting.ScriptExecutionState.RunSubmissionsAsync[TResult](ImmutableArray`1 precedingExecutors, Func`2 currentExecutor, StrongBox`1 exceptionHolderOpt, Func`2 catchExceptionOpt, CancellationToken cancellationToken)"
     ]
    }
   ],
   "source": [
    "var issuesWithEmbeddings = new List<IssueWithEmbedding>();\n",
    "\n",
    "var tokenizer = await Tokenizer.CreateAsync(TokenizerModel.ada2);\n",
    "\n",
    "foreach(var chunk in allIssues.Chunk(16)){\n",
    "    var text = chunk.Select(i => i.Title + \"\\n\" + i.Body).Select(s => tokenizer.TruncateByTokenCount(s,8191)).ToArray();\n",
    "    var response = await openAIClient.GetEmbeddingsAsync(new EmbeddingsOptions(embeddingDeployment, text));\n",
    "\n",
    "    var embeddings = response.Value.Data.Select(e => e.Embedding.ToArray()).ToArray();\n",
    "    for(var i = 0; i < chunk.Length; i++){\n",
    "        issuesWithEmbeddings.Add(new IssueWithEmbedding(chunk[i], embeddings[i]));\n",
    "    }\n",
    "}"
   ]
  },
  {
   "cell_type": "markdown",
   "id": "656b1685",
   "metadata": {},
   "source": [
    "The following cell is filtering the `issuesWithEmbeddings` collection into two separate lists based on the number of labels each issue has.\n",
    "\n",
    "The first line of the code is creating a new list named `noLabels`. This list is populated with the issues from the `issuesWithEmbeddings` collection that have no labels. This is determined by the lambda expression `i => i.Issue.Labels.Count == 0` in the `Where` method, which checks if the `Labels` property of the `Issue` object has a `Count` of 0.\n",
    "\n",
    "The second line of the code is creating another list named `labelled`. This list is populated with the issues from the `issuesWithEmbeddings` collection that have one or more labels. This is determined by the lambda expression `i => i.Issue.Labels.Count > 0` in the `Where` method, which checks if the `Labels` property of the `Issue` object has a `Count` greater than 0.\n",
    "\n",
    "In both cases, the `ToList` method is used to convert the filtered enumerable collections to lists."
   ]
  },
  {
   "cell_type": "code",
   "execution_count": 17,
   "id": "06377001",
   "metadata": {
    "dotnet_interactive": {
     "language": "csharp"
    },
    "polyglot_notebook": {
     "kernelName": "csharp"
    },
    "vscode": {
     "languageId": "polyglot-notebook"
    }
   },
   "outputs": [],
   "source": [
    "var noLabels = issuesWithEmbeddings.Where(i => i.Issue.Labels.Count == 0).ToList();\n",
    "var labelled = issuesWithEmbeddings.Where(i => i.Issue.Labels.Count > 0).ToList();"
   ]
  },
  {
   "cell_type": "code",
   "execution_count": 18,
   "id": "fcfdfba9",
   "metadata": {
    "dotnet_interactive": {
     "language": "csharp"
    },
    "polyglot_notebook": {
     "kernelName": "csharp"
    },
    "vscode": {
     "languageId": "polyglot-notebook"
    }
   },
   "outputs": [],
   "source": [
    "public class LabelWithEmbeddings{\n",
    "    public Label Label {get;set;}\n",
    "    public float[] Embedding {get;set;}\n",
    "    public List<IssueWithEmbedding> Issues {get;init ;} = new();\n",
    "}"
   ]
  },
  {
   "cell_type": "code",
   "execution_count": 19,
   "id": "f7a060f6",
   "metadata": {
    "dotnet_interactive": {
     "language": "csharp"
    },
    "polyglot_notebook": {
     "kernelName": "csharp"
    },
    "vscode": {
     "languageId": "polyglot-notebook"
    }
   },
   "outputs": [],
   "source": [
    "var labelsWithEmbeddings = new List<LabelWithEmbeddings>();"
   ]
  },
  {
   "cell_type": "code",
   "execution_count": 20,
   "id": "67b35d34",
   "metadata": {
    "dotnet_interactive": {
     "language": "csharp"
    },
    "polyglot_notebook": {
     "kernelName": "csharp"
    },
    "vscode": {
     "languageId": "polyglot-notebook"
    }
   },
   "outputs": [],
   "source": [
    "foreach(var label in allLabels.Where(e => e.Name.Contains(\"Area-\"))){\n",
    "    var issues = labelled.Where(i => i.Issue.Labels.Any(l => l.Name == label.Name)).ToList();\n",
    "    if(issues.Count > 0){\n",
    "        var labelWithEmbeddings = new LabelWithEmbeddings{\n",
    "            Label = label,\n",
    "            Issues = issues\n",
    "        };\n",
    "       labelsWithEmbeddings.Add(labelWithEmbeddings);\n",
    "    }\n",
    "}"
   ]
  },
  {
   "cell_type": "code",
   "execution_count": 21,
   "id": "4a47ff71",
   "metadata": {
    "dotnet_interactive": {
     "language": "csharp"
    },
    "polyglot_notebook": {
     "kernelName": "csharp"
    },
    "vscode": {
     "languageId": "polyglot-notebook"
    }
   },
   "outputs": [],
   "source": [
    "foreach(var label in labelsWithEmbeddings){\n",
    "    label.Embedding = label.Issues.Select(i => i.Embedding).Centroid();\n",
    "}"
   ]
  },
  {
   "cell_type": "code",
   "execution_count": 22,
   "id": "adafb518",
   "metadata": {
    "dotnet_interactive": {
     "language": "csharp"
    },
    "polyglot_notebook": {
     "kernelName": "csharp"
    },
    "vscode": {
     "languageId": "polyglot-notebook"
    }
   },
   "outputs": [],
   "source": [
    "var suggestions = new Dictionary<IssueWithEmbedding, LabelWithEmbeddings[]>();\n",
    "foreach(var issue in noLabels){\n",
    "    var suggestedLabels = labelsWithEmbeddings.ScoreBySimilarityTo(issue.Embedding, new CosineSimilarityComparer<float[]>(f => f), l => l.Embedding)\n",
    "    .OrderByDescending( s => s.Score)\n",
    "    .Where(s => s.Score > 0.85)\n",
    "    .Take(5)\n",
    "    .ToArray();\n",
    "    suggestions.Add(issue, suggestedLabels.Select(s => s.Value).ToArray());\n",
    "}"
   ]
  },
  {
   "cell_type": "markdown",
   "metadata": {},
   "source": [
    "Then we suggest labels for GitHub issues based on their embeddings. \n",
    "\n",
    "The code starts by creating a new dictionary named `suggestions`. The keys in this dictionary are instances of `IssueWithEmbedding` and the values are arrays of `LabelWithEmbeddings`.\n",
    "\n",
    "Next, the code enters a `foreach` loop that iterates over each issue in the `noLabels` list. For each issue, the code calculates the similarity between the issue's embedding and the embeddings of all labels using the `ScoreBySimilarityTo` method. This method likely calculates the cosine similarity, a measure of similarity between two non-zero vectors, between the issue's embedding and each label's embedding. The `CosineSimilarityComparer<float[]>(f => f)` is used to specify how to calculate the cosine similarity.\n",
    "\n",
    "The resulting scores are then ordered in descending order, filtered to include only scores greater than 0.85, and the top 5 scores are selected. This means that the code is suggesting the top 5 labels that have a similarity score greater than 0.85 with the issue's embedding.\n",
    "\n",
    "Finally, the issue and its suggested labels are added to the `suggestions` dictionary. The `Select(s => s.Key).ToArray()` part of the code is used to extract the labels (which are the keys in the score dictionary) and convert them to an array."
   ]
  },
  {
   "cell_type": "code",
   "execution_count": 23,
   "metadata": {
    "dotnet_interactive": {
     "language": "csharp"
    },
    "polyglot_notebook": {
     "kernelName": "csharp"
    },
    "vscode": {
     "languageId": "polyglot-notebook"
    }
   },
   "outputs": [
    {
     "data": {
      "text/csv": [
       "Issue,SuggestedLabels\r\n",
       "\"Issues with input prompt docs\",System.String[]\r\n",
       "\".net interactive stuck loading nuget packagees\",System.String[]\r\n",
       "\"Wont run under .NET 8\",System.String[]\r\n",
       "\"Issues once .net 8 is installed.\",System.String[]\r\n",
       "\"Outputs from dotnet-repl are not displayed in by VS Code extension\",System.String[]\r\n",
       "\"Printing values from R Type Provider prints garbled output\",System.String[]\r\n",
       "\"Polyglot Notebook: [DevExE2E][Regression] The kernelName and language show as csharp in the created Untitled-1.ipynb contents.\",System.String[]\r\n",
       "\"Polyglot Notebook: [DevExE2E][Regression][intermittent]When running the cells one by one, test can't be stopped and always hang in running status.\",System.String[]\r\n",
       "\"Polyglot Notebook: [DevExE2E][Regression] After stopping the cell, no variable is shown in POLYGLOT NOTEBOOK: VARIABLES page. \",System.String[]\r\n",
       "\"Failed to connect to python kernel on mac\",System.String[]\r\n",
       "\"Don't use markdown preview to show .net version alert\",System.String[]\r\n",
       "\"Command 'Polyglot Notebook: Create new blank notebook' resulted in an error\",System.String[]\r\n",
       "\"[pre-release] Polygot notebook for PowerShell adds bad characters in output cell\",System.String[]\r\n",
       "\"find a better name for the text/plain+summary MIME type\",System.String[]\r\n",
       "\"Python implementation for Polyglot kernel APIs\",System.String[]\r\n"
      ],
      "text/html": [
       "<table><thead><tr><td><span>Issue</span></td><td><span>SuggestedLabels</span></td></tr></thead><tbody><tr><td>Issues with input prompt docs</td><td><div class=\"dni-plaintext\"><pre>[ Area-F#, Area-PowerShell, Area-Packages and Extensions, Area-Documentation, Area-Polyglot Notebooks Extension ]</pre></div></td></tr><tr><td>.net interactive stuck loading nuget packagees</td><td><div class=\"dni-plaintext\"><pre>[ Area-Packages and Extensions, Area-Installation, Area-F#, Area-Documentation, Area-PowerShell ]</pre></div></td></tr><tr><td>Wont run under .NET 8</td><td><div class=\"dni-plaintext\"><pre>[ Area-Installation, Area-Packages and Extensions, Area-Documentation, Area-PowerShell, Area-F# ]</pre></div></td></tr><tr><td>Issues once .net 8 is installed.</td><td><div class=\"dni-plaintext\"><pre>[ Area-Installation, Area-Packages and Extensions, Area-F#, Area-PowerShell, Area-Documentation ]</pre></div></td></tr><tr><td>Outputs from dotnet-repl are not displayed in by VS Code extension</td><td><div class=\"dni-plaintext\"><pre>[ Area-Polyglot Notebooks Extension, Area-F#, Area-Jupyter Kernel, Area-Documentation, Area-PowerShell ]</pre></div></td></tr><tr><td>Printing values from R Type Provider prints garbled output</td><td><div class=\"dni-plaintext\"><pre>[ Area-Formatting, Area-F# ]</pre></div></td></tr><tr><td>Polyglot Notebook: [DevExE2E][Regression] The kernelName and language show as csharp in the created Untitled-1.ipynb contents.</td><td><div class=\"dni-plaintext\"><pre>[ Area-Polyglot Notebooks Extension, Area-F#, Area-JavaScript HTML CSS, Area-Jupyter Kernel, Area-Installation ]</pre></div></td></tr><tr><td>Polyglot Notebook: [DevExE2E][Regression][intermittent]When running the cells one by one, test can&#39;t be stopped and always hang in running status.</td><td><div class=\"dni-plaintext\"><pre>[ Area-Polyglot Notebooks Extension, Area-Installation, Area-JavaScript HTML CSS, Area-PowerShell, Area-Packages and Extensions ]</pre></div></td></tr><tr><td>Polyglot Notebook: [DevExE2E][Regression] After stopping the cell, no variable is shown in POLYGLOT NOTEBOOK: VARIABLES page. </td><td><div class=\"dni-plaintext\"><pre>[ Area-Polyglot Notebooks Extension, Area-JavaScript HTML CSS, Area-Installation, Area-PowerShell, Area-Jupyter Kernel ]</pre></div></td></tr><tr><td>Failed to connect to python kernel on mac</td><td><div class=\"dni-plaintext\"><pre>[ Area-Python, Area-Jupyter Kernel, Area-Installation, Area-PowerShell, Area-Packages and Extensions ]</pre></div></td></tr><tr><td>Don&#39;t use markdown preview to show .net version alert</td><td><div class=\"dni-plaintext\"><pre>[ Area-Polyglot Notebooks Extension, Area-Installation, Area-Language Services, Area-Documentation, Area-JavaScript HTML CSS ]</pre></div></td></tr><tr><td>Command &#39;Polyglot Notebook: Create new blank notebook&#39; resulted in an error</td><td><div class=\"dni-plaintext\"><pre>[ Area-Installation, Area-PowerShell, Area-Packages and Extensions, Area-Documentation, Area-Polyglot Notebooks Extension ]</pre></div></td></tr><tr><td>[pre-release] Polygot notebook for PowerShell adds bad characters in output cell</td><td><div class=\"dni-plaintext\"><pre>[ Area-Polyglot Notebooks Extension, Area-Installation, Area-PowerShell, Area-F#, Area-Formatting ]</pre></div></td></tr><tr><td>find a better name for the text/plain+summary MIME type</td><td></td></tr><tr><td>Python implementation for Polyglot kernel APIs</td><td></td></tr></tbody></table><style>\r\n",
       ".dni-code-hint {\r\n",
       "    font-style: italic;\r\n",
       "    overflow: hidden;\r\n",
       "    white-space: nowrap;\r\n",
       "}\r\n",
       ".dni-treeview {\r\n",
       "    white-space: nowrap;\r\n",
       "}\r\n",
       ".dni-treeview td {\r\n",
       "    vertical-align: top;\r\n",
       "    text-align: start;\r\n",
       "}\r\n",
       "details.dni-treeview {\r\n",
       "    padding-left: 1em;\r\n",
       "}\r\n",
       "table td {\r\n",
       "    text-align: start;\r\n",
       "}\r\n",
       "table tr { \r\n",
       "    vertical-align: top; \r\n",
       "    margin: 0em 0px;\r\n",
       "}\r\n",
       "table tr td pre \r\n",
       "{ \r\n",
       "    vertical-align: top !important; \r\n",
       "    margin: 0em 0px !important;\r\n",
       "} \r\n",
       "table th {\r\n",
       "    text-align: start;\r\n",
       "}\r\n",
       "</style>"
      ]
     },
     "metadata": {},
     "output_type": "display_data"
    }
   ],
   "source": [
    "suggestions.Select(e => new {\n",
    "    Issue = e.Key.Issue.Title,\n",
    "    SuggestedLabels = e.Value.Select(l => l.Label.Name).ToArray()\n",
    "\n",
    "}).DisplayTable();"
   ]
  }
 ],
 "metadata": {
  "kernelInfo": {
   "defaultKernelName": null,
   "items": [
    {
     "aliases": [
      "c#",
      "cs"
     ],
     "languageName": "C#",
     "name": "csharp"
    },
    {
     "aliases": [
      "f#",
      "fs"
     ],
     "languageName": "F#",
     "name": "fsharp"
    },
    {
     "aliases": [
      "powershell"
     ],
     "languageName": "PowerShell",
     "name": "pwsh"
    },
    {
     "aliases": [
      "js"
     ],
     "languageName": "JavaScript",
     "name": "javascript"
    },
    {
     "languageName": "HTML",
     "name": "html"
    },
    {
     "languageName": "SQL",
     "name": "sql"
    },
    {
     "languageName": "KQL",
     "name": "kql"
    },
    {
     "languageName": "Mermaid",
     "name": "mermaid"
    },
    {
     "languageName": "HTTP",
     "name": "http"
    },
    {
     "name": "value"
    }
   ]
  },
  "language_info": {
   "name": "csharp"
  },
  "polyglot_notebook": {
   "kernelInfo": {
    "defaultKernelName": "csharp",
    "items": [
     {
      "aliases": [
       "c#",
       "cs"
      ],
      "languageName": "C#",
      "name": "csharp"
     },
     {
      "aliases": [
       "f#",
       "fs"
      ],
      "languageName": "F#",
      "name": "fsharp"
     },
     {
      "aliases": [],
      "languageName": "HTML",
      "name": "html"
     },
     {
      "aliases": [],
      "languageName": "HTTP",
      "name": "http"
     },
     {
      "aliases": [
       "js"
      ],
      "languageName": "JavaScript",
      "name": "javascript"
     },
     {
      "aliases": [],
      "languageName": "KQL",
      "name": "kql"
     },
     {
      "aliases": [],
      "languageName": "Mermaid",
      "name": "mermaid"
     },
     {
      "aliases": [
       "powershell"
      ],
      "languageName": "PowerShell",
      "name": "pwsh"
     },
     {
      "aliases": [],
      "languageName": "SQL",
      "name": "sql"
     },
     {
      "aliases": [],
      "name": "value"
     }
    ]
   }
  }
 },
 "nbformat": 4,
 "nbformat_minor": 5
}
