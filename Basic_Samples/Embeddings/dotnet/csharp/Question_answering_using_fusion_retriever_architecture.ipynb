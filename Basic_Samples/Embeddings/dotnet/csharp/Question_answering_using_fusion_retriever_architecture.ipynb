{
 "cells": [
  {
   "cell_type": "markdown",
   "metadata": {},
   "source": [
    "# Question answering using fusion retriever architecture\n",
    "This notebook builds ontop of [Question answering using embeddings-based search](Question_answering_using_embeddings.ipynb) adding two more concepts\n",
    "- query rewrite\n",
    "- re-ranking\n",
    "\n",
    "This changes will impact the `Search` function (the Retrival part of RAG). \n",
    "\n",
    "This architecture is called fusion retriever."
   ]
  },
  {
   "cell_type": "markdown",
   "metadata": {},
   "source": [
    "## Installation\n",
    "Install the Azure Open AI SDK using the below command."
   ]
  },
  {
   "cell_type": "code",
   "execution_count": 1,
   "metadata": {
    "dotnet_interactive": {
     "language": "csharp"
    },
    "polyglot_notebook": {
     "kernelName": "csharp"
    },
    "vscode": {
     "languageId": "polyglot-notebook"
    }
   },
   "outputs": [
    {
     "data": {
      "text/html": [
       "<div><div></div><div></div><div><strong>Installed Packages</strong><ul><li><span>Azure.AI.OpenAI, 1.0.0-beta.14</span></li></ul></div></div>"
      ]
     },
     "metadata": {},
     "output_type": "display_data"
    }
   ],
   "source": [
    "#r \"nuget: Azure.AI.OpenAI, 1.0.0-beta.14\""
   ]
  },
  {
   "cell_type": "code",
   "execution_count": null,
   "metadata": {
    "dotnet_interactive": {
     "language": "csharp"
    },
    "polyglot_notebook": {
     "kernelName": "csharp"
    },
    "vscode": {
     "languageId": "polyglot-notebook"
    }
   },
   "outputs": [],
   "source": [
    "#r \"nuget:Microsoft.DotNet.Interactive.AIUtilities, 1.0.0-beta.24129.1\"\n",
    "\n",
    "using Microsoft.DotNet.Interactive;\n",
    "using Microsoft.DotNet.Interactive.AIUtilities;"
   ]
  },
  {
   "cell_type": "markdown",
   "metadata": {},
   "source": [
    "## Run this cell, it will prompt you for the apiKey, endPoint, embeddingDeployment, and chatDeployment"
   ]
  },
  {
   "cell_type": "code",
   "execution_count": 6,
   "metadata": {
    "dotnet_interactive": {
     "language": "csharp"
    },
    "polyglot_notebook": {
     "kernelName": "csharp"
    },
    "vscode": {
     "languageId": "polyglot-notebook"
    }
   },
   "outputs": [],
   "source": [
    "var azureOpenAIKey = await Kernel.GetPasswordAsync(\"Provide your OPEN_AI_KEY\");\n",
    "\n",
    "// Your endpoint should look like the following https://YOUR_OPEN_AI_RESOURCE_NAME.openai.azure.com/\n",
    "var azureOpenAIEndpoint = await Kernel.GetInputAsync(\"Provide the OPEN_AI_ENDPOINT\");\n",
    "\n",
    "// Enter the deployment name you chose when you deployed the model.\n",
    "var embeddingDeployment = await Kernel.GetInputAsync(\"Provide embedding deployment name\");\n",
    "var chatDeployment = await Kernel.GetInputAsync(\"Provide chat deployment name\");"
   ]
  },
  {
   "cell_type": "markdown",
   "metadata": {},
   "source": [
    "### Import namesapaces and create an instance of `OpenAiClient` using the `azureOpenAIEndpoint` and the `azureOpenAIKey`"
   ]
  },
  {
   "cell_type": "code",
   "execution_count": 7,
   "metadata": {
    "dotnet_interactive": {
     "language": "csharp"
    },
    "polyglot_notebook": {
     "kernelName": "csharp"
    },
    "vscode": {
     "languageId": "polyglot-notebook"
    }
   },
   "outputs": [],
   "source": [
    "using Azure;\n",
    "using Azure.AI.OpenAI;"
   ]
  },
  {
   "cell_type": "code",
   "execution_count": 8,
   "metadata": {
    "dotnet_interactive": {
     "language": "csharp"
    },
    "polyglot_notebook": {
     "kernelName": "csharp"
    },
    "vscode": {
     "languageId": "polyglot-notebook"
    }
   },
   "outputs": [],
   "source": [
    "OpenAIClient client = new (new Uri(azureOpenAIEndpoint), new AzureKeyCredential(azureOpenAIKey.GetClearTextPassword()));"
   ]
  },
  {
   "cell_type": "markdown",
   "metadata": {},
   "source": [
    "## 1. Prepare search data\n",
    "To save you the time & expense, we've prepared a pre-embedded dataset of a few hundred Wikipedia articles about the 2022 Winter Olympics.\n",
    "To see how we constructed this dataset, or to modify it yourself, see [Embedding Wikipedia articles for search](Embedding_Wikipedia_articles_for_search.ipynb)"
   ]
  },
  {
   "cell_type": "code",
   "execution_count": 9,
   "metadata": {
    "dotnet_interactive": {
     "language": "csharp"
    },
    "polyglot_notebook": {
     "kernelName": "csharp"
    },
    "vscode": {
     "languageId": "polyglot-notebook"
    }
   },
   "outputs": [],
   "source": [
    "public record PageBlockWithEmbeddings(string PageTitle, string Block, float[] Embedding);"
   ]
  },
  {
   "cell_type": "code",
   "execution_count": 10,
   "metadata": {
    "dotnet_interactive": {
     "language": "csharp"
    },
    "polyglot_notebook": {
     "kernelName": "csharp"
    },
    "vscode": {
     "languageId": "polyglot-notebook"
    }
   },
   "outputs": [],
   "source": [
    "using System.Text.Json;\n",
    "using System.Text.Json.Serialization;\n",
    "using System.IO;\n",
    "\n",
    "var filePath = Path.Combine(\"..\",\"..\",\"..\",\"Data\",\"wikipedia_embeddings.json\");\n",
    "\n",
    "var olympicsData = JsonSerializer.Deserialize<PageBlockWithEmbeddings[]>(File.ReadAllText(filePath));"
   ]
  },
  {
   "cell_type": "code",
   "execution_count": 11,
   "metadata": {
    "dotnet_interactive": {
     "language": "csharp"
    },
    "polyglot_notebook": {
     "kernelName": "csharp"
    },
    "vscode": {
     "languageId": "polyglot-notebook"
    }
   },
   "outputs": [
    {
     "data": {
      "text/csv": [
       "PageTitle,Block,Embedding\r\n",
       "\"2022 Winter Olympics\",\"The 2022 Winter Olympics, officially called the XXIV Olympic Winter Games () and commonly known as Beijing 2022 (2022), was an international winter multi-sport event held from 4 to 20 February 2022 in Beijing, China, and surrounding areas with competition in selected events beginning 2 February 2022.{{cite web|title=SuperSport|url=https://supersport.com/news/cd6663a2-8236-44d8-a8b9-4fa192190da7/%7B%7B%20url()-%3Ecurrent()%20%7D%7D|access-date=25 February 2022|website=supersport.com|language=ZA|archive-date=25 February 2022|archive-url=https://web.archive.org/web/20220225173447/https://supersport.com/news/cd6663a2-8236-44d8-a8b9-4fa192190da7/%7B%7B%20url()-%3Ecurrent()%20%7D%7D|url-status=live}} It was the 24th edition of the Winter Olympic Games.\",System.Single[]\r\n",
       "\"2022 Winter Olympics\",\"Beijing was selected as host city on 31 July 2015 at the 128th IOC Session in Kuala Lumpur, Malaysia, marking its second time hosting the Olympics, and the last of three consecutive Olympics hosted in East Asia following the 2018 Winter Olympics in Pyeongchang County, South Korea, and the 2020 Summer Olympics in Tokyo, Japan. Having previously hosted the 2008 Summer Olympics, Beijing became the first city to have hosted both the Summer and Winter Olympics. The venues for the Games were concentrated around Beijing, its suburb Yanqing District, and Zhangjiakou, with some events (including the ceremonies and curling) repurposing venues originally built for Beijing 2008 (such as Beijing National Stadium and the Beijing National Aquatics Centre).\",System.Single[]\r\n",
       "\"2022 Winter Olympics\",\"The Games featured a record 109 events across 15 disciplines, with big air freestyle skiing and women's monobob making their Olympic debuts as medal events, as well as several new mixed competitions. A total of 2,871 athletes representing 91 teams competed in the Games, with Haiti and Saudi Arabia making their Winter Olympic debut.\",System.Single[]\r\n",
       "\"2022 Winter Olympics\",\"Beijing's hosting of the Games was subject to various concerns and controversies including those related to human rights violations in China, such as the Uyghur genocide, which led to calls for a boycott of the games.{{Cite news|last=Reyes|first=Yacob|date=8 December 2021|title=Beijing Olympics: These countries have announced diplomatic boycotts|work=[[Axios (website)|Axios]]|url=https://www.axios.com/diplomatic-boycott-beijing-olympics-list-countries-73e1240f-b925-40bf-ae67-648e774971c8.html|access-date=5 February 2022|archive-date=4 February 2022|archive-url=https://web.archive.org/web/20220204210817/https://www.axios.com/diplomatic-boycott-beijing-olympics-list-countries-73e1240f-b925-40bf-ae67-648e774971c8.html|url-status=live}}{{Cite news|last1=Allen-Ebrahimian|first1=Bethany|last2=Baker|first2=Kendall|date=1 February 2022|title=The IOC stays silent on human rights in China|work=[[Axios (website)|Axios]]|url=https://www.axios.com/winter-olympics-beijing-ioc-silence-human-rights-31ec1273-d894-4a67-993b-4b4156d42d44.html|access-date=5 February 2022|archive-date=5 February 2022|archive-url=https://web.archive.org/web/20220205020342/https://www.axios.com/winter-olympics-beijing-ioc-silence-human-rights-31ec1273-d894-4a67-993b-4b4156d42d44.html|url-status=live}} Like the Summer Olympics held six months earlier in Tokyo, the COVID-19 pandemic resulted in the implementation of health and safety protocols, and, for the second Games in a row, the Games being closed to the public (with selected events open to invited guests at a reduced capacity).\",System.Single[]\r\n"
      ],
      "text/html": [
       "<table><thead><tr><td><span>PageTitle</span></td><td><span>Block</span></td><td><span>Embedding</span></td></tr></thead><tbody><tr><td>2022 Winter Olympics</td><td>The 2022 Winter Olympics, officially called the XXIV Olympic Winter Games () and commonly known as Beijing 2022 (2022), was an international winter multi-sport event held from 4 to 20 February 2022 in Beijing, China, and surrounding areas with competition in selected events beginning 2 February 2022.{{cite web|title=SuperSport|url=https://supersport.com/news/cd6663a2-8236-44d8-a8b9-4fa192190da7/%7B%7B%20url()-%3Ecurrent()%20%7D%7D|access-date=25 February 2022|website=supersport.com|language=ZA|archive-date=25 February 2022|archive-url=https://web.archive.org/web/20220225173447/https://supersport.com/news/cd6663a2-8236-44d8-a8b9-4fa192190da7/%7B%7B%20url()-%3Ecurrent()%20%7D%7D|url-status=live}} It was the 24th edition of the Winter Olympic Games.</td><td><div class=\"dni-plaintext\"><pre>[ -0.007000031, -0.025182178, -0.010695381, -0.005645496, -0.026770474, 0.010612124, -0.01401287, -0.00023596284, -0.0060201543, -0.022453895, 0.03729934, 0.0129561415, -0.030408185, -0.023824442, -0.014550841, -0.027718328, 0.016702726, -0.0068463245, 0.0015754872, -0.015831726 ... (1516 more) ]</pre></div></td></tr><tr><td>2022 Winter Olympics</td><td>Beijing was selected as host city on 31 July 2015 at the 128th IOC Session in Kuala Lumpur, Malaysia, marking its second time hosting the Olympics, and the last of three consecutive Olympics hosted in East Asia following the 2018 Winter Olympics in Pyeongchang County, South Korea, and the 2020 Summer Olympics in Tokyo, Japan. Having previously hosted the 2008 Summer Olympics, Beijing became the first city to have hosted both the Summer and Winter Olympics. The venues for the Games were concentrated around Beijing, its suburb Yanqing District, and Zhangjiakou, with some events (including the ceremonies and curling) repurposing venues originally built for Beijing 2008 (such as Beijing National Stadium and the Beijing National Aquatics Centre).</td><td><div class=\"dni-plaintext\"><pre>[ 0.008893254, -0.012699212, -0.007250349, -0.0007829965, -0.020767841, 0.024421562, -0.03750137, -0.0052427067, -0.0037869278, -0.019334264, 0.016835019, 0.010022355, -0.0055186385, -0.0069966186, -0.02300067, -0.008538032, 0.014373833, -0.011024591, -0.0111577995, 0.0054932656 ... (1516 more) ]</pre></div></td></tr><tr><td>2022 Winter Olympics</td><td>The Games featured a record 109 events across 15 disciplines, with big air freestyle skiing and women&#39;s monobob making their Olympic debuts as medal events, as well as several new mixed competitions. A total of 2,871 athletes representing 91 teams competed in the Games, with Haiti and Saudi Arabia making their Winter Olympic debut.</td><td><div class=\"dni-plaintext\"><pre>[ -0.009414442, 0.0101670865, -0.0019868554, -0.023944318, -0.0073287217, 0.01984942, -0.017017433, 0.0011855755, -0.00017719848, -0.03722404, 0.017514944, 0.006266727, -0.013177667, -0.025602689, -0.0065027256, -0.001007779, 0.029697588, -0.017132243, -0.01583106, -0.0075710993 ... (1516 more) ]</pre></div></td></tr><tr><td>2022 Winter Olympics</td><td>Beijing&#39;s hosting of the Games was subject to various concerns and controversies including those related to human rights violations in China, such as the Uyghur genocide, which led to calls for a boycott of the games.{{Cite news|last=Reyes|first=Yacob|date=8 December 2021|title=Beijing Olympics: These countries have announced diplomatic boycotts|work=[[Axios (website)|Axios]]|url=https://www.axios.com/diplomatic-boycott-beijing-olympics-list-countries-73e1240f-b925-40bf-ae67-648e774971c8.html|access-date=5 February 2022|archive-date=4 February 2022|archive-url=https://web.archive.org/web/20220204210817/https://www.axios.com/diplomatic-boycott-beijing-olympics-list-countries-73e1240f-b925-40bf-ae67-648e774971c8.html|url-status=live}}{{Cite news|last1=Allen-Ebrahimian|first1=Bethany|last2=Baker|first2=Kendall|date=1 February 2022|title=The IOC stays silent on human rights in China|work=[[Axios (website)|Axios]]|url=https://www.axios.com/winter-olympics-beijing-ioc-silence-human-rights-31ec1273-d894-4a67-993b-4b4156d42d44.html|access-date=5 February 2022|archive-date=5 February 2022|archive-url=https://web.archive.org/web/20220205020342/https://www.axios.com/winter-olympics-beijing-ioc-silence-human-rights-31ec1273-d894-4a67-993b-4b4156d42d44.html|url-status=live}} Like the Summer Olympics held six months earlier in Tokyo, the COVID-19 pandemic resulted in the implementation of health and safety protocols, and, for the second Games in a row, the Games being closed to the public (with selected events open to invited guests at a reduced capacity).</td><td><div class=\"dni-plaintext\"><pre>[ 0.0005398922, -0.037917137, 0.008794742, -0.0010528916, -0.01572492, -0.006063091, -0.02190536, -0.005261198, -0.014212407, -0.021031754, 0.020875288, 0.009987801, -0.016402943, -0.004302839, -0.018997686, 0.0067476337, 0.031136906, 0.0013633806, 0.00018142414, -0.012680336 ... (1516 more) ]</pre></div></td></tr></tbody></table><style>\r\n",
       ".dni-code-hint {\r\n",
       "    font-style: italic;\r\n",
       "    overflow: hidden;\r\n",
       "    white-space: nowrap;\r\n",
       "}\r\n",
       ".dni-treeview {\r\n",
       "    white-space: nowrap;\r\n",
       "}\r\n",
       ".dni-treeview td {\r\n",
       "    vertical-align: top;\r\n",
       "    text-align: start;\r\n",
       "}\r\n",
       "details.dni-treeview {\r\n",
       "    padding-left: 1em;\r\n",
       "}\r\n",
       "table td {\r\n",
       "    text-align: start;\r\n",
       "}\r\n",
       "table tr { \r\n",
       "    vertical-align: top; \r\n",
       "    margin: 0em 0px;\r\n",
       "}\r\n",
       "table tr td pre \r\n",
       "{ \r\n",
       "    vertical-align: top !important; \r\n",
       "    margin: 0em 0px !important;\r\n",
       "} \r\n",
       "table th {\r\n",
       "    text-align: start;\r\n",
       "}\r\n",
       "</style>"
      ]
     },
     "metadata": {},
     "output_type": "display_data"
    }
   ],
   "source": [
    "olympicsData.Take(4).DisplayTable();"
   ]
  },
  {
   "cell_type": "markdown",
   "metadata": {},
   "source": [
    "## 2. Query generation\n",
    "\n",
    "The `GenerateQueries` function is asynchronous and takes two parameters: `originalQuery` which is a string representing the original search query, and `numQueries` which is an integer representing the number of search queries to generate.\n",
    "\n",
    "Inside the function, several operations are performed:\n",
    "\n",
    "1. It creates a prompt string using the `originalQuery` and `numQueries` parameters. This prompt is formatted to instruct an AI assistant to generate `numQueries` search queries related to the `originalQuery`.\n",
    "\n",
    "2. It creates a new instance of the `ChatCompletionsOptions` class, setting various properties to configure the chat completion request. The `Messages` property is set to a list containing two `ChatMessage` objects: one with the role of `System` and a content of \"You answer questions about the 2022 Winter Olympics.\", and one with the role of `User` and a content of the previously created prompt. The `Temperature` property is set to 0, the `MaxTokens` property is set to 3500, and the `DeploymentName` property is set to `chatDeployment`.\n",
    "\n",
    "3. It calls the `GetChatCompletionsAsync` method of the `client` object, passing in the `options` object. This method sends a chat completion request to the OpenAI API and returns a response. The `await` keyword is used to asynchronously wait for the method to complete.\n",
    "\n",
    "4. It retrieves the content of the first choice from the response and splits it into an array of strings using `Environment.NewLine` as the separator. This array represents the generated search queries.\n",
    "\n",
    "Finally, it returns the array of generated search queries.\n",
    "\n"
   ]
  },
  {
   "cell_type": "code",
   "execution_count": 12,
   "metadata": {
    "dotnet_interactive": {
     "language": "csharp"
    },
    "polyglot_notebook": {
     "kernelName": "csharp"
    },
    "vscode": {
     "languageId": "polyglot-notebook"
    }
   },
   "outputs": [],
   "source": [
    "public async Task<string[]> GenerateQueries(string originalQuery, int numQueries)\n",
    "{\n",
    "    var prompt = $\"\"\"\n",
    "    You are a helpful assistant that generates multiple search queries based on a\n",
    "    single input query. Generate {numQueries} search queries, one on each line,\n",
    "    related to the following input query:\n",
    "    Query: {originalQuery}\n",
    "    Queries:\n",
    "    \n",
    "    \"\"\";\n",
    "    var options= new ChatCompletionsOptions{\n",
    "        Messages =\n",
    "            {\n",
    "                new ChatRequestSystemMessage(@\"You answer questions about the 2022 Winter Olympics.\"),\n",
    "                new ChatRequestUserMessage(prompt)\n",
    "            },\n",
    "        Temperature = 0f,\n",
    "        MaxTokens = 3500,\n",
    "        DeploymentName = chatDeployment\n",
    "    };\n",
    "\n",
    "    var response = await client.GetChatCompletionsAsync(options);\n",
    "\n",
    "    var answer = response.Value.Choices.FirstOrDefault()?.Message?.Content;  \n",
    "\n",
    "    return answer.Split(Environment.NewLine, StringSplitOptions.RemoveEmptyEntries);\n",
    "}"
   ]
  },
  {
   "cell_type": "code",
   "execution_count": 13,
   "metadata": {
    "dotnet_interactive": {
     "language": "csharp"
    },
    "polyglot_notebook": {
     "kernelName": "csharp"
    },
    "vscode": {
     "languageId": "polyglot-notebook"
    }
   },
   "outputs": [
    {
     "data": {
      "text/html": [
       "<div class=\"dni-plaintext\"><pre>[ 1. Winter Olympics 2022 gold medal count\n",
       "2. Breakdown of gold medals won at the 2022 Winter Olympics\n",
       "3. Total number of gold medals awarded at the 2022 Winter Olympics\n",
       "4. Gold medal tally for each country at the 2022 Winter Olympics\n",
       "5. Who won the most gold medals at the 2022 Winter Olympics?\n",
       "6. Historical comparison of gold medal counts at past Winter Olympics ]</pre></div><style>\r\n",
       ".dni-code-hint {\r\n",
       "    font-style: italic;\r\n",
       "    overflow: hidden;\r\n",
       "    white-space: nowrap;\r\n",
       "}\r\n",
       ".dni-treeview {\r\n",
       "    white-space: nowrap;\r\n",
       "}\r\n",
       ".dni-treeview td {\r\n",
       "    vertical-align: top;\r\n",
       "    text-align: start;\r\n",
       "}\r\n",
       "details.dni-treeview {\r\n",
       "    padding-left: 1em;\r\n",
       "}\r\n",
       "table td {\r\n",
       "    text-align: start;\r\n",
       "}\r\n",
       "table tr { \r\n",
       "    vertical-align: top; \r\n",
       "    margin: 0em 0px;\r\n",
       "}\r\n",
       "table tr td pre \r\n",
       "{ \r\n",
       "    vertical-align: top !important; \r\n",
       "    margin: 0em 0px !important;\r\n",
       "} \r\n",
       "table th {\r\n",
       "    text-align: start;\r\n",
       "}\r\n",
       "</style>"
      ]
     },
     "metadata": {},
     "output_type": "display_data"
    }
   ],
   "source": [
    "await GenerateQueries(\"How many gold medals in total?\", 6)"
   ]
  },
  {
   "cell_type": "markdown",
   "metadata": {},
   "source": [
    " ## 3. Search\n",
    "    \n",
    " \n",
    " Now we'll define a search function that:\n",
    " - Takes a user query and a dataframe with text & embedding columns\n",
    " - Calculates the text embedding of the query using ADA model\n",
    " - Generates additional queries usign GPT model\n",
    " - Calculates text embeddings for the  new queries\n",
    " - Uses distance between each of the new generatedquery embedding and text embeddings to rank the texts\n",
    " - Re-ranks the retrived documents using the original query embeddings\n",
    " - Returns a list with:\n",
    "    - The top N texts, ranked by relevance\n",
    "    - Their corresponding relevance scores"
   ]
  },
  {
   "cell_type": "markdown",
   "metadata": {},
   "source": [
    "The `SearchAsync` function is used to perform a search given a query and a collection of knowledge. It takes three parameters: `query` which is a string representing the search query, `knowledge` which is a collection of `PageBlockWithEmbeddings` objects representing the knowledge base, and `resultCount` which is an optional parameter that defaults to 5 and represents the number of search results to return.\n",
    "\n",
    "This is what happens in the function:\n",
    "\n",
    "1. It retrieves the embedding for the query using the `GetEmbeddingsAsync` method of the `client` object and stores it in `queryEmbedding`.\n",
    "\n",
    "2. It generates alternative queries using the `GenerateQueries` method and stores them in `generatedQueries`.\n",
    "\n",
    "3. It retrieves the embeddings for the generated queries using the `GetEmbeddingsAsync` method of the `client` object and stores them in `generatedQueriesEmbeddings`.\n",
    "\n",
    "4. It initializes an empty list of `RankedText` objects, named `retrievedFacts`.\n",
    "\n",
    "5. It enters a loop that iterates over the `generatedQueriesEmbeddings`. For each embedding, it scores the knowledge base by similarity to the embedding, filters out items with a score less than 0.8, takes the top 10 items, and adds them to the `retrievedFacts` list.\n",
    "\n",
    "6. It scores the `retrievedFacts` by similarity to the `queryEmbedding`, filters out items with a score less than 0.8, takes the top `resultCount` items, and transforms them into `SearchResult` objects. This part is usually referred to as re-ranking.\n",
    "\n",
    "Finally, it returns the resulting collection of `SearchResult` objects."
   ]
  },
  {
   "cell_type": "code",
   "execution_count": 14,
   "metadata": {
    "dotnet_interactive": {
     "language": "csharp"
    },
    "polyglot_notebook": {
     "kernelName": "csharp"
    },
    "vscode": {
     "languageId": "polyglot-notebook"
    }
   },
   "outputs": [],
   "source": [
    "public record SearchResult(string Text, float Score);\n",
    "public record RankedText(string Text, float[] Embedding, float Score);\n",
    "public async Task<IEnumerable<SearchResult>> SearchAsync(string query, IEnumerable<PageBlockWithEmbeddings> knowledge, int resultCount = 5){\n",
    "    var response = await client.GetEmbeddingsAsync(new EmbeddingsOptions(embeddingDeployment, new [] {query}));\n",
    "    var queryEmbedding = response.Value.Data[0].Embedding.ToArray();\n",
    "\n",
    "    var generatedQueries = await GenerateQueries(query, 10);\n",
    "\n",
    "    var generatedQueriesEmbeddings = await client.GetEmbeddingsAsync(new EmbeddingsOptions(embeddingDeployment, generatedQueries));\n",
    "\n",
    "    var retirevedFacts = new List<RankedText>();\n",
    "\n",
    "    for (int i = 0; i < generatedQueriesEmbeddings.Value.Data.Count; i++)\n",
    "    {\n",
    "        var generatedQueryEmbedding = generatedQueriesEmbeddings.Value.Data[i].Embedding.ToArray();\n",
    "        var docs = knowledge\n",
    "            .Where(k => !k.Block.StartsWith(\"Category:\"))\n",
    "            .ScoreBySimilarityTo(generatedQueryEmbedding, new CosineSimilarityComparer<float[]>(t => t),e => e.Embedding.ToArray())\n",
    "            .OrderByDescending(s => s.Score)\n",
    "            .Where(s => s.Score > 0.8)\n",
    "            .Take(20)\n",
    "            .Select(r => new  RankedText(r.Value.Block, r.Value.Embedding, r.Score));\n",
    "\n",
    "        retirevedFacts.AddRange(docs);\n",
    "    }\n",
    "    var result = retirevedFacts\n",
    "        .DistinctBy(r => r.Text)\n",
    "        .ScoreBySimilarityTo(queryEmbedding, new CosineSimilarityComparer<float[]>(t => t),e => e.Embedding.ToArray())\n",
    "        .OrderByDescending(s => s.Score)\n",
    "        .Where(s => s.Score > 0.8)\n",
    "        .Take(resultCount)\n",
    "        .Select(r => new  SearchResult(r.Value.Text, r.Score));\n",
    "\n",
    "        return result;  \n",
    "}"
   ]
  },
  {
   "cell_type": "code",
   "execution_count": 15,
   "metadata": {
    "dotnet_interactive": {
     "language": "csharp"
    },
    "polyglot_notebook": {
     "kernelName": "csharp"
    },
    "vscode": {
     "languageId": "polyglot-notebook"
    }
   },
   "outputs": [
    {
     "data": {
      "text/csv": [
       "Text,Score\r\n",
       "\"Biathletes Johannes Thingnes Bø, Quentin Fillon Maillet, and Marte Olsbu Røiseland, and cross-country skier Alexander Bolshunov won the most total medals at the games with five each.{{cite web |title=Beijing 2022 |url=https://www.teamgb.com/competitions/beijing-2022/6dWdXrzU85Vn1jF6ZC9Onl |publisher=[[British Olympic Association]] |access-date=26 February 2022 |archive-date=18 March 2022 |archive-url=https://web.archive.org/web/20220318145104/https://www.teamgb.com/competitions/beijing-2022/6dWdXrzU85Vn1jF6ZC9Onl |url-status=live }} Bø also earned the most gold medals with four.{{cite news |author=[[Agence France-Presse]] |title=Norwegian Biathlete Boe Gets Fourth Beijing Olympics Gold Medal |url=https://www.barrons.com/news/norwegian-biathlete-boe-gets-fourth-beijing-olympics-gold-medal-01645189808 |access-date=27 March 2022 |work=[[Barron's (newspaper)|Barron's]] |date=18 February 2022 |archive-date=22 February 2023 |archive-url=https://web.archive.org/web/20230222200651/https://www.barrons.com/news/norwegian-biathlete-boe-gets-fourth-beijing-olympics-gold-medal-01645189808 |url-status=live }} Snowboarder Zoi Sadowski-Synnott of New Zealand won the first Winter Olympic gold medal for that nation.{{cite news |first1=Bryan Armen |last1=Graham |title=Zoi Sadowski-Synnott Wins New Zealand's First Ever Winter Olympic Gold |url=https://www.theguardian.com/sport/2022/feb/05/zoi-sadowski-synnott-new-zealand-first-winter-olympic-gold-snowboard-beijing-2022-tess-coady |access-date=12 July 2022 |work=[[The Guardian]] |date=5 February 2022 |archive-date=26 February 2022 |archive-url=https://web.archive.org/web/20220226175310/https://www.theguardian.com/sport/2022/feb/05/zoi-sadowski-synnott-new-zealand-first-winter-olympic-gold-snowboard-beijing-2022-tess-coady |url-status=live }} Germany achieved a podium sweep in the men's two-man bobsleigh competition with Francesco Friedrich and Thorsten Margis\twinning gold, Johannes Lochner and Florian Bauer earning silver, and Christoph Hafer and Matthias Sommer attaining bronze.{{cite news |last1=Levinsohn |first1=Dan |title=Germany Sweeps Two-Man Bobsled Podium with Friedrich, Lochner, Hafer |url=https://www.nbcolympics.com/news/recap-two-man-final-heats |access-date=19 February 2022 |agency=[[NBC Sports]] |date=15 February 2022 |archive-date=19 March 2023 |archive-url=https://web.archive.org/web/20230319113128/https://www.nbcolympics.com/news/recap-two-man-final-heats |url-status=live }}\",0.83861834\r\n",
       "\"thumb|Medals of 2022 Winter Olympics\n",
       "\n",
       "Norway finished at the top of the medal table for the second successive Winter Olympics, winning a total of 37 medals, of which 16 were gold, setting a new record for the largest number of gold medals won at a single Winter Olympics. Germany finished second with 12 golds and 27 medals overall, and the host nation China finished third with nine gold medals, marking their most successful performance in Winter Olympics history. The team representing the ROC ended up with the second largest number of medals won at the Games, with 32, but finished ninth on the medal table, as only six gold medals were won by the delegation. Traditional Winter powerhouse Canada; despite having won 26 medals, only four of them were gold, resulting in a finish outside the top ten in the medal table for the first time since 1988 (34 years).{{cite news|first=Spencer|last=Donna|url=https://www.cbc.ca/sports/olympics/winter/beijing-2022-team-canada-wrap-1.6358707|title=Canada caps COVID Olympic Winter Games in Beijing with 26 medals, including 4 gold|agency=[[Canadian Press]]|date=20 February 2022|website=www.cbc.ca/|publisher=[[CBC Sports]]|access-date=22 February 2022|archive-date=19 March 2023|archive-url=https://web.archive.org/web/20230319113124/https://www.cbc.ca/sports/olympics/winter/beijing-2022-team-canada-wrap-1.6358707|url-status=live}}{{cite news|date=20 February 2022|title=Canada finish outside medals top 10 for first time in 34 years|url=https://en.as.com/en/2022/02/20/olympic_games/1645368256_325990.html|work=[[Diario AS]]|location=Madrid, Spain|access-date=22 February 2022|archive-date=19 March 2023|archive-url=https://web.archive.org/web/20230319113119/https://en.as.com/en/2022/02/20/olympic_games/1645368256_325990.html|url-status=live}}\",0.8366928\r\n",
       "\"Norway finished at the top of the medal table for the second successive Winter Olympics, winning a total of 37 medals, of which 16 were gold, setting a new record for the largest number of gold medals won at a single Winter Olympics. The host nation China finished third with nine gold medals and also eleventh place by total medals won, marking its most successful performance in Winter Olympics history.{{cite news|last=Church|first=Ben|date=20 February 2022|title=Norway tops Beijing 2022 medal table after record-breaking performance|url=https://www.cnn.com/2022/02/20/sport/norway-beijing-2022-medal-table-spt-intl/index.html|work=[[CNN]]|location=Atlanta, Georgia, U.S.|access-date=22 February 2022|archive-date=21 February 2022|archive-url=https://web.archive.org/web/20220221232935/https://www.cnn.com/2022/02/20/sport/norway-beijing-2022-medal-table-spt-intl/index.html|url-status=live}}\",0.833906\r\n",
       "\"Overall 29 nations received at least one medal, and 23 of them won at least one gold medal. Athletes from Norway won the most medals overall, with 37, and the most gold medals, with 16. The latter record was the highest gold medal tally at a single Winter Games.{{cite news |last1=Stuhlbarg |first1=Nate |title=Norway Retains Title with most Medals at 2022 Winter Olympics |url=https://www.nbcolympics.com/news/norway-retains-title-most-medals-2022-winter-olympics |access-date=27 March 2022 |agency=[[NBC Sports]] |date=20 February 2022 |archive-date=20 February 2022 |archive-url=https://web.archive.org/web/20220220195122/https://www.nbcolympics.com/news/norway-retains-title-most-medals-2022-winter-olympics |url-status=live }} Host nation China won nine gold medals surpassing its gold medal tally of five during the 2010 winter edition.{{cite web |title=China, Japan Set New Medal Marks in Winter Olympics |url=https://ocasia.org/news/2816-china-japan-set-new-medal-marks-in-winter-olympics.html |publisher=[[Olympic Council of Asia]] |access-date=12 July 2022 |archive-date=17 February 2023 |archive-url=https://web.archive.org/web/20230217005811/https://ocasia.org/news/2816-china-japan-set-new-medal-marks-in-winter-olympics.html |url-status=live }} Athletes from that nation also won 15 medals overall, which eclipsed its record of 11 at both the 2006 and 2010 winter editions.{{cite news |last1=Stuhlbarg |first1=Nate |title=Norway Retains Title with Most Medals at 2022 Winter Olympics |url=https://www.nbcolympics.com/news/norway-retains-title-most-medals-2022-winter-olympics |access-date=27 March 2022 |agency=[[NBC Sports]] |date=20 February 2022 |archive-date=20 February 2022 |archive-url=https://web.archive.org/web/20220220195122/https://www.nbcolympics.com/news/norway-retains-title-most-medals-2022-winter-olympics |url-status=live }}\",0.8283325\r\n",
       "\"The COVID-19 pandemic resulted in changes in qualifying for curling and women's ice hockey due to the cancellation of tournaments in 2020. The World Curling Federation proposed that qualification for curling be based on placement in the 2021 world championships and a dedicated qualification tournament to complete the field (in place of points earned across the 2020 and 2021 world championships). The IIHF based its qualification for the women's tournament upon existing IIHF World Rankings, without holding the 2020 Women's World Championship.{{cite news|date=9 April 2020|title=Curling wants 2021 world championships to determine qualifying for Beijing Olympics|first1=Devin |last1=Heroux|url=https://www.cbc.ca/sports/olympics/winter/curling/world-curling-olympic-qualification-1.5527737|url-status=live|archive-url=https://web.archive.org/web/20200814034727/https://www.cbc.ca/sports/olympics/winter/curling/world-curling-olympic-qualification-1.5527737|archive-date=14 August 2020|access-date=4 May 2020|website=CBC Sports}}{{cite web|date=24 April 2020|title=U.S., Canada in same 2022 Olympic hockey group|url=https://nhl.nbcsports.com/2020/04/24/u-s-canada-men-women-in-same-groups-for-2022-olympics/|url-status=live|archive-url=https://web.archive.org/web/20201022130745/https://nhl.nbcsports.com/2020/04/24/u-s-canada-men-women-in-same-groups-for-2022-olympics/|archive-date=22 October 2020|access-date=4 May 2020|website=NBC Sports|language=en-US}} The Asian Winter Games was also not held before this Olympics, potentially affecting the qualifications for some athletes.\",0.82311326\r\n"
      ],
      "text/html": [
       "<table><thead><tr><td><span>Text</span></td><td><span>Score</span></td></tr></thead><tbody><tr><td>Biathletes Johannes Thingnes B&#248;, Quentin Fillon Maillet, and Marte Olsbu R&#248;iseland, and cross-country skier Alexander Bolshunov won the most total medals at the games with five each.{{cite web |title=Beijing 2022 |url=https://www.teamgb.com/competitions/beijing-2022/6dWdXrzU85Vn1jF6ZC9Onl |publisher=[[British Olympic Association]] |access-date=26 February 2022 |archive-date=18 March 2022 |archive-url=https://web.archive.org/web/20220318145104/https://www.teamgb.com/competitions/beijing-2022/6dWdXrzU85Vn1jF6ZC9Onl |url-status=live }} B&#248; also earned the most gold medals with four.{{cite news |author=[[Agence France-Presse]] |title=Norwegian Biathlete Boe Gets Fourth Beijing Olympics Gold Medal |url=https://www.barrons.com/news/norwegian-biathlete-boe-gets-fourth-beijing-olympics-gold-medal-01645189808 |access-date=27 March 2022 |work=[[Barron&#39;s (newspaper)|Barron&#39;s]] |date=18 February 2022 |archive-date=22 February 2023 |archive-url=https://web.archive.org/web/20230222200651/https://www.barrons.com/news/norwegian-biathlete-boe-gets-fourth-beijing-olympics-gold-medal-01645189808 |url-status=live }} Snowboarder Zoi Sadowski-Synnott of New Zealand won the first Winter Olympic gold medal for that nation.{{cite news |first1=Bryan Armen |last1=Graham |title=Zoi Sadowski-Synnott Wins New Zealand&#39;s First Ever Winter Olympic Gold |url=https://www.theguardian.com/sport/2022/feb/05/zoi-sadowski-synnott-new-zealand-first-winter-olympic-gold-snowboard-beijing-2022-tess-coady |access-date=12 July 2022 |work=[[The Guardian]] |date=5 February 2022 |archive-date=26 February 2022 |archive-url=https://web.archive.org/web/20220226175310/https://www.theguardian.com/sport/2022/feb/05/zoi-sadowski-synnott-new-zealand-first-winter-olympic-gold-snowboard-beijing-2022-tess-coady |url-status=live }} Germany achieved a podium sweep in the men&#39;s two-man bobsleigh competition with Francesco Friedrich and Thorsten Margis\twinning gold, Johannes Lochner and Florian Bauer earning silver, and Christoph Hafer and Matthias Sommer attaining bronze.{{cite news |last1=Levinsohn |first1=Dan |title=Germany Sweeps Two-Man Bobsled Podium with Friedrich, Lochner, Hafer |url=https://www.nbcolympics.com/news/recap-two-man-final-heats |access-date=19 February 2022 |agency=[[NBC Sports]] |date=15 February 2022 |archive-date=19 March 2023 |archive-url=https://web.archive.org/web/20230319113128/https://www.nbcolympics.com/news/recap-two-man-final-heats |url-status=live }}</td><td><div class=\"dni-plaintext\"><pre>0.83861834</pre></div></td></tr><tr><td>thumb|Medals of 2022 Winter Olympics\n",
       "\n",
       "Norway finished at the top of the medal table for the second successive Winter Olympics, winning a total of 37 medals, of which 16 were gold, setting a new record for the largest number of gold medals won at a single Winter Olympics. Germany finished second with 12 golds and 27 medals overall, and the host nation China finished third with nine gold medals, marking their most successful performance in Winter Olympics history. The team representing the ROC ended up with the second largest number of medals won at the Games, with 32, but finished ninth on the medal table, as only six gold medals were won by the delegation. Traditional Winter powerhouse Canada; despite having won 26 medals, only four of them were gold, resulting in a finish outside the top ten in the medal table for the first time since 1988 (34 years).{{cite news|first=Spencer|last=Donna|url=https://www.cbc.ca/sports/olympics/winter/beijing-2022-team-canada-wrap-1.6358707|title=Canada caps COVID Olympic Winter Games in Beijing with 26 medals, including 4 gold|agency=[[Canadian Press]]|date=20 February 2022|website=www.cbc.ca/|publisher=[[CBC Sports]]|access-date=22 February 2022|archive-date=19 March 2023|archive-url=https://web.archive.org/web/20230319113124/https://www.cbc.ca/sports/olympics/winter/beijing-2022-team-canada-wrap-1.6358707|url-status=live}}{{cite news|date=20 February 2022|title=Canada finish outside medals top 10 for first time in 34 years|url=https://en.as.com/en/2022/02/20/olympic_games/1645368256_325990.html|work=[[Diario AS]]|location=Madrid, Spain|access-date=22 February 2022|archive-date=19 March 2023|archive-url=https://web.archive.org/web/20230319113119/https://en.as.com/en/2022/02/20/olympic_games/1645368256_325990.html|url-status=live}}</td><td><div class=\"dni-plaintext\"><pre>0.8366928</pre></div></td></tr><tr><td>Norway finished at the top of the medal table for the second successive Winter Olympics, winning a total of 37 medals, of which 16 were gold, setting a new record for the largest number of gold medals won at a single Winter Olympics. The host nation China finished third with nine gold medals and also eleventh place by total medals won, marking its most successful performance in Winter Olympics history.{{cite news|last=Church|first=Ben|date=20 February 2022|title=Norway tops Beijing 2022 medal table after record-breaking performance|url=https://www.cnn.com/2022/02/20/sport/norway-beijing-2022-medal-table-spt-intl/index.html|work=[[CNN]]|location=Atlanta, Georgia, U.S.|access-date=22 February 2022|archive-date=21 February 2022|archive-url=https://web.archive.org/web/20220221232935/https://www.cnn.com/2022/02/20/sport/norway-beijing-2022-medal-table-spt-intl/index.html|url-status=live}}</td><td><div class=\"dni-plaintext\"><pre>0.833906</pre></div></td></tr><tr><td>Overall 29 nations received at least one medal, and 23 of them won at least one gold medal. Athletes from Norway won the most medals overall, with 37, and the most gold medals, with 16. The latter record was the highest gold medal tally at a single Winter Games.{{cite news |last1=Stuhlbarg |first1=Nate |title=Norway Retains Title with most Medals at 2022 Winter Olympics |url=https://www.nbcolympics.com/news/norway-retains-title-most-medals-2022-winter-olympics |access-date=27 March 2022 |agency=[[NBC Sports]] |date=20 February 2022 |archive-date=20 February 2022 |archive-url=https://web.archive.org/web/20220220195122/https://www.nbcolympics.com/news/norway-retains-title-most-medals-2022-winter-olympics |url-status=live }} Host nation China won nine gold medals surpassing its gold medal tally of five during the 2010 winter edition.{{cite web |title=China, Japan Set New Medal Marks in Winter Olympics |url=https://ocasia.org/news/2816-china-japan-set-new-medal-marks-in-winter-olympics.html |publisher=[[Olympic Council of Asia]] |access-date=12 July 2022 |archive-date=17 February 2023 |archive-url=https://web.archive.org/web/20230217005811/https://ocasia.org/news/2816-china-japan-set-new-medal-marks-in-winter-olympics.html |url-status=live }} Athletes from that nation also won 15 medals overall, which eclipsed its record of 11 at both the 2006 and 2010 winter editions.{{cite news |last1=Stuhlbarg |first1=Nate |title=Norway Retains Title with Most Medals at 2022 Winter Olympics |url=https://www.nbcolympics.com/news/norway-retains-title-most-medals-2022-winter-olympics |access-date=27 March 2022 |agency=[[NBC Sports]] |date=20 February 2022 |archive-date=20 February 2022 |archive-url=https://web.archive.org/web/20220220195122/https://www.nbcolympics.com/news/norway-retains-title-most-medals-2022-winter-olympics |url-status=live }}</td><td><div class=\"dni-plaintext\"><pre>0.8283325</pre></div></td></tr><tr><td>The COVID-19 pandemic resulted in changes in qualifying for curling and women&#39;s ice hockey due to the cancellation of tournaments in 2020. The World Curling Federation proposed that qualification for curling be based on placement in the 2021 world championships and a dedicated qualification tournament to complete the field (in place of points earned across the 2020 and 2021 world championships). The IIHF based its qualification for the women&#39;s tournament upon existing IIHF World Rankings, without holding the 2020 Women&#39;s World Championship.{{cite news|date=9 April 2020|title=Curling wants 2021 world championships to determine qualifying for Beijing Olympics|first1=Devin |last1=Heroux|url=https://www.cbc.ca/sports/olympics/winter/curling/world-curling-olympic-qualification-1.5527737|url-status=live|archive-url=https://web.archive.org/web/20200814034727/https://www.cbc.ca/sports/olympics/winter/curling/world-curling-olympic-qualification-1.5527737|archive-date=14 August 2020|access-date=4 May 2020|website=CBC Sports}}{{cite web|date=24 April 2020|title=U.S., Canada in same 2022 Olympic hockey group|url=https://nhl.nbcsports.com/2020/04/24/u-s-canada-men-women-in-same-groups-for-2022-olympics/|url-status=live|archive-url=https://web.archive.org/web/20201022130745/https://nhl.nbcsports.com/2020/04/24/u-s-canada-men-women-in-same-groups-for-2022-olympics/|archive-date=22 October 2020|access-date=4 May 2020|website=NBC Sports|language=en-US}} The Asian Winter Games was also not held before this Olympics, potentially affecting the qualifications for some athletes.</td><td><div class=\"dni-plaintext\"><pre>0.82311326</pre></div></td></tr></tbody></table><style>\r\n",
       ".dni-code-hint {\r\n",
       "    font-style: italic;\r\n",
       "    overflow: hidden;\r\n",
       "    white-space: nowrap;\r\n",
       "}\r\n",
       ".dni-treeview {\r\n",
       "    white-space: nowrap;\r\n",
       "}\r\n",
       ".dni-treeview td {\r\n",
       "    vertical-align: top;\r\n",
       "    text-align: start;\r\n",
       "}\r\n",
       "details.dni-treeview {\r\n",
       "    padding-left: 1em;\r\n",
       "}\r\n",
       "table td {\r\n",
       "    text-align: start;\r\n",
       "}\r\n",
       "table tr { \r\n",
       "    vertical-align: top; \r\n",
       "    margin: 0em 0px;\r\n",
       "}\r\n",
       "table tr td pre \r\n",
       "{ \r\n",
       "    vertical-align: top !important; \r\n",
       "    margin: 0em 0px !important;\r\n",
       "} \r\n",
       "table th {\r\n",
       "    text-align: start;\r\n",
       "}\r\n",
       "</style>"
      ]
     },
     "metadata": {},
     "output_type": "display_data"
    }
   ],
   "source": [
    "var search = await SearchAsync(\"curling gold medal\", olympicsData);\n",
    "\n",
    "search.DisplayTable();"
   ]
  },
  {
   "cell_type": "markdown",
   "metadata": {},
   "source": [
    "## 3.Ask\n",
    "With the search function above, we can now automatically retrieve relevant knowledge and insert it into messages to GPT.\n",
    "\n",
    "Below, we define a function `AskAsync` that:\n",
    "\n",
    " - Takes a user query\n",
    " - Searches for text relevant to the query\n",
    " - Stuffs that text into a message for GPT\n",
    " - Sends the message to GPT\n",
    " - Returns GPT's answer"
   ]
  },
  {
   "cell_type": "markdown",
   "metadata": {},
   "source": [
    "The `AskAsync` method starts by calling the `SearchAsync` method with the user's question and a dataset about the 2022 Winter Olympics (`olympicsData`). The `SearchAsync` method searches the dataset for relevant information and returns a list of search results.\n",
    "\n",
    "Next, the method constructs a string `articles` that contains all the search results. Each search result is formatted as a section of a Wikipedia article. The search results are joined together with newline characters in between.\n",
    "\n",
    "The method then constructs a `userQuestion` string that instructs the AI to use the articles to answer the question. If the answer cannot be found in the articles, the AI is instructed to respond with \"I could not find an answer.\"\n",
    "\n",
    "The `userQuestion` string is then used to create an instance of `ChatCompletionsOptions`. This object is used to specify the parameters for a chat completion request to the OpenAI API. The `Messages` property of the object is set to a list that contains a system message and a user message. The system message instructs the AI that it answers questions about the 2022 Winter Olympics. The user message is the `userQuestion` string. The `Temperature` property is set to 0, which means that the AI will generate more deterministic responses. The `MaxTokens` property is set to 3500, which limits the length of the AI's response. The `DeploymentName` property is set to `chatDeployment`, which likely specifies the deployment of the chat model.\n",
    "\n",
    "The method then makes an asynchronous request to the OpenAI API to get chat completions. The `GetChatCompletionsAsync` method of the `client` object is used to make this request. The method takes the `ChatCompletionsOptions` instance as a parameter.\n",
    "\n",
    "Finally, the method processes the response from the OpenAI API to extract the AI's answer. The `Value.Choices.FirstOrDefault()?.Message?.Content` expression is used to get the content of the first choice in the response. The method then returns this answer."
   ]
  },
  {
   "cell_type": "code",
   "execution_count": 16,
   "metadata": {
    "dotnet_interactive": {
     "language": "csharp"
    },
    "polyglot_notebook": {
     "kernelName": "csharp"
    },
    "vscode": {
     "languageId": "polyglot-notebook"
    }
   },
   "outputs": [],
   "source": [
    "var tokenizer = await Tokenizer.CreateAsync(TokenizerModel.gpt35);\n",
    "\n",
    "public async Task<string> AskAsync(string question){\n",
    "\n",
    "    var searchResults = await SearchAsync(question, olympicsData);\n",
    "\n",
    "    var articles = string.Join(\"\\n\", searchResults.Select(s => $\"\"\"\n",
    "    Wikipedia article section:\n",
    "    {s.Text}\n",
    "\n",
    "    \"\"\"));\n",
    "\n",
    "    var userQuestion = $\"\"\"\"\"\n",
    "                Use the below articles on the 2022 Winter Olympics to answer the subsequent question. If the answer cannot be found in the articles, write \"I could not find an answer.\"\n",
    "                \n",
    "                \n",
    "                {articles}\n",
    "                \n",
    "\n",
    "                Question: {question}\n",
    "                \"\"\"\"\";\n",
    "\n",
    "    var options= new ChatCompletionsOptions{\n",
    "        Messages =\n",
    "            {\n",
    "                new ChatRequestSystemMessage(@\"You answer questions about the 2022 Winter Olympics.\"),\n",
    "                new ChatRequestUserMessage(userQuestion)\n",
    "            },\n",
    "        Temperature = 0f,\n",
    "        MaxTokens = 3500,\n",
    "        DeploymentName = chatDeployment\n",
    "    };\n",
    "\n",
    "    var response = await client.GetChatCompletionsAsync(options);\n",
    "\n",
    "    var answer = response.Value.Choices.FirstOrDefault()?.Message?.Content;  \n",
    "    return answer;\n",
    "}"
   ]
  },
  {
   "cell_type": "code",
   "execution_count": 21,
   "metadata": {
    "dotnet_interactive": {
     "language": "csharp"
    },
    "polyglot_notebook": {
     "kernelName": "csharp"
    },
    "vscode": {
     "languageId": "polyglot-notebook"
    }
   },
   "outputs": [
    {
     "data": {
      "text/plain": [
       "According to the articles, Norway won a total of 16 gold medals at the 2022 Winter Olympics."
      ]
     },
     "metadata": {},
     "output_type": "display_data"
    }
   ],
   "source": [
    "await AskAsync(\"How many gold medals in total?\")"
   ]
  },
  {
   "cell_type": "code",
   "execution_count": 22,
   "metadata": {
    "dotnet_interactive": {
     "language": "csharp"
    },
    "polyglot_notebook": {
     "kernelName": "csharp"
    },
    "vscode": {
     "languageId": "polyglot-notebook"
    }
   },
   "outputs": [
    {
     "data": {
      "text/plain": [
       "The 2022 Winter Olympics took place in Beijing, China."
      ]
     },
     "metadata": {},
     "output_type": "display_data"
    }
   ],
   "source": [
    "await AskAsync(\"Where did the 2022 winter Olympics took place?\")"
   ]
  }
 ],
 "metadata": {
  "language_info": {
   "name": "csharp"
  },
  "orig_nbformat": 4
 },
 "nbformat": 4,
 "nbformat_minor": 2
}
