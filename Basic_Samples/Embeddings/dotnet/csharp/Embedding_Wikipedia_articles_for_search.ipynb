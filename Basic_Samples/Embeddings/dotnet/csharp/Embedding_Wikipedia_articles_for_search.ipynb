{
 "cells": [
  {
   "cell_type": "markdown",
   "metadata": {},
   "source": [
    "## Embedding Wikipedia articles for search\n",
    "This notebook gives an example on how to get embeddings from a large dataset.\n",
    "This notebook shows how we prepared a dataset of Wikipedia articles for search, used in [Question_answering_using_embeddings.ipynb](Question_answering_using_embeddings.ipynb)."
   ]
  },
  {
   "cell_type": "markdown",
   "metadata": {},
   "source": [
    "## Installation\n",
    "Install the Azure Open AI SDK using the below command."
   ]
  },
  {
   "cell_type": "code",
   "execution_count": 1,
   "metadata": {
    "dotnet_interactive": {
     "language": "csharp"
    },
    "polyglot_notebook": {
     "kernelName": "csharp"
    },
    "vscode": {
     "languageId": "polyglot-notebook"
    }
   },
   "outputs": [
    {
     "data": {
      "text/html": [
       "<div><div></div><div></div><div><strong>Installed Packages</strong><ul><li><span>Azure.AI.OpenAI, 1.0.0-beta.14</span></li></ul></div></div>"
      ]
     },
     "metadata": {},
     "output_type": "display_data"
    }
   ],
   "source": [
    "#r \"nuget: Azure.AI.OpenAI, 1.0.0-beta.14\""
   ]
  },
  {
   "cell_type": "code",
   "execution_count": 2,
   "metadata": {
    "dotnet_interactive": {
     "language": "csharp"
    },
    "polyglot_notebook": {
     "kernelName": "csharp"
    },
    "vscode": {
     "languageId": "polyglot-notebook"
    }
   },
   "outputs": [],
   "source": [
    "using Microsoft.DotNet.Interactive;"
   ]
  },
  {
   "cell_type": "markdown",
   "metadata": {},
   "source": [
    "## Run this cell, it will prompt you for the apiKey, endPoint, and embedding deployment"
   ]
  },
  {
   "cell_type": "code",
   "execution_count": 3,
   "metadata": {
    "dotnet_interactive": {
     "language": "csharp"
    },
    "polyglot_notebook": {
     "kernelName": "csharp"
    },
    "vscode": {
     "languageId": "polyglot-notebook"
    }
   },
   "outputs": [],
   "source": [
    "var azureOpenAIKey = await Kernel.GetPasswordAsync(\"Provide your OPEN_AI_KEY\");\n",
    "\n",
    "// Your endpoint should look like the following https://YOUR_OPEN_AI_RESOURCE_NAME.openai.azure.com/\n",
    "var azureOpenAIEndpoint = await Kernel.GetInputAsync(\"Provide the OPEN_AI_ENDPOINT\");\n",
    "\n",
    "// Enter the deployment name you chose when you deployed the model.\n",
    "var deployment = await Kernel.GetInputAsync(\"Provide EMBEDDING deployment name\");"
   ]
  },
  {
   "cell_type": "markdown",
   "metadata": {},
   "source": [
    "### Import namesapaces and create an instance of `OpenAiClient` using the `azureOpenAIEndpoint` and the `azureOpenAIKey`"
   ]
  },
  {
   "cell_type": "code",
   "execution_count": 4,
   "metadata": {
    "dotnet_interactive": {
     "language": "csharp"
    },
    "polyglot_notebook": {
     "kernelName": "csharp"
    },
    "vscode": {
     "languageId": "polyglot-notebook"
    }
   },
   "outputs": [],
   "source": [
    "using Azure;\n",
    "using Azure.AI.OpenAI;"
   ]
  },
  {
   "cell_type": "code",
   "execution_count": 5,
   "metadata": {
    "dotnet_interactive": {
     "language": "csharp"
    },
    "polyglot_notebook": {
     "kernelName": "csharp"
    },
    "vscode": {
     "languageId": "polyglot-notebook"
    }
   },
   "outputs": [],
   "source": [
    "OpenAIClient client = new (new Uri(azureOpenAIEndpoint), new AzureKeyCredential(azureOpenAIKey.GetClearTextPassword()));"
   ]
  },
  {
   "cell_type": "markdown",
   "metadata": {},
   "source": [
    "## 1. Collect documents\n",
    "In this example, we'll download a few hundred Wikipedia articles related to the 2022 Winter Olympics."
   ]
  },
  {
   "cell_type": "code",
   "execution_count": 6,
   "metadata": {
    "dotnet_interactive": {
     "language": "csharp"
    },
    "polyglot_notebook": {
     "kernelName": "csharp"
    },
    "vscode": {
     "languageId": "polyglot-notebook"
    }
   },
   "outputs": [
    {
     "data": {
      "text/html": [
       "<div><div></div><div></div><div><strong>Installed Packages</strong><ul><li><span>CXuesong.MW.MwParserFromScratch, 0.2.1</span></li><li><span>CXuesong.MW.WikiClientLibrary, 0.7.5</span></li></ul></div></div>"
      ]
     },
     "metadata": {},
     "output_type": "display_data"
    }
   ],
   "source": [
    "#r \"nuget: CXuesong.MW.WikiClientLibrary, 0.7.5\"\n",
    "#r \"nuget: CXuesong.MW.MwParserFromScratch, 0.2.1\""
   ]
  },
  {
   "cell_type": "code",
   "execution_count": 7,
   "metadata": {
    "dotnet_interactive": {
     "language": "csharp"
    },
    "polyglot_notebook": {
     "kernelName": "csharp"
    },
    "vscode": {
     "languageId": "polyglot-notebook"
    }
   },
   "outputs": [
    {
     "name": "stdout",
     "output_type": "stream",
     "text": [
      "Total pages: 17\r\n"
     ]
    }
   ],
   "source": [
    "using WikiClientLibrary;\n",
    "using WikiClientLibrary.Client;\n",
    "using WikiClientLibrary.Sites;\n",
    "using WikiClientLibrary.Pages;\n",
    "using WikiClientLibrary.Pages.Queries;\n",
    "using WikiClientLibrary.Pages.Queries.Properties;\n",
    "using WikiClientLibrary.Generators;\n",
    "\n",
    "var wikiClient = new WikiClient\n",
    "    {\n",
    "        ClientUserAgent = \"WCLQuickStart/1.0 (your user name or contact information here)\"\n",
    "    };\n",
    "\n",
    "var site = new WikiSite(wikiClient, await WikiSite.SearchApiEndpointAsync(wikiClient, \"en.wikipedia.org\"));\n",
    "await site.Initialization;\n",
    "        \n",
    "\n",
    "var contentPages = new List<WikiPage>();\n",
    "\n",
    "var generator = new CategoryMembersGenerator(site, \"2022 Winter Olympics\") { PaginationSize = 50, MemberTypes = CategoryMemberTypes.Page }  ;\n",
    "var pages = await generator.EnumPagesAsync(PageQueryOptions.FetchContent).ToListAsync();\n",
    "\n",
    "foreach (var page in pages)\n",
    "{\n",
    "    contentPages.Add(page);\n",
    "}\n",
    "\n",
    "Console.WriteLine($\"Total pages: {contentPages.Count}\");\n",
    "\n"
   ]
  },
  {
   "cell_type": "code",
   "execution_count": 8,
   "metadata": {
    "dotnet_interactive": {
     "language": "csharp"
    },
    "polyglot_notebook": {
     "kernelName": "csharp"
    },
    "vscode": {
     "languageId": "polyglot-notebook"
    }
   },
   "outputs": [],
   "source": [
    "using System.Text.RegularExpressions;\n",
    "\n",
    "public bool Filter(string text){\n",
    "    if (string.IsNullOrEmpty(text)){\n",
    "        return false;\n",
    "    }\n",
    "    if(Regex.IsMatch(text, @\"\\{\\|\\s*class=\\s*\"\"wikitable\")){\n",
    "        return false;\n",
    "    }\n",
    "\n",
    "    return true;\n",
    "}"
   ]
  },
  {
   "cell_type": "markdown",
   "metadata": {},
   "source": [
    "Next, we'll recursively split long sections into smaller sections.\n",
    "There's no perfect recipe for splitting text into sections.\n",
    "Some tradeoffs include:\n",
    " - Longer sections may be better for questions that require more context\n",
    " - Longer sections may be worse for retrieval, as they may have more topics muddled together\n",
    " - Shorter sections are better for reducing costs (which are proportional to the number of tokens)\n",
    " - Overlapping sections may help prevent answers from being cut by section boundaries\n",
    "\n",
    " Here, we'll use a simple approach and limit sections to 1,600 tokens each, recursively halving any sections that are too long."
   ]
  },
  {
   "cell_type": "code",
   "execution_count": null,
   "metadata": {
    "dotnet_interactive": {
     "language": "csharp"
    },
    "polyglot_notebook": {
     "kernelName": "csharp"
    },
    "vscode": {
     "languageId": "polyglot-notebook"
    }
   },
   "outputs": [],
   "source": [
    "#r \"nuget:Microsoft.DotNet.Interactive.AIUtilities, 1.0.0-beta.24129.1\""
   ]
  },
  {
   "cell_type": "code",
   "execution_count": 10,
   "metadata": {
    "dotnet_interactive": {
     "language": "csharp"
    },
    "polyglot_notebook": {
     "kernelName": "csharp"
    },
    "vscode": {
     "languageId": "polyglot-notebook"
    }
   },
   "outputs": [],
   "source": [
    "using Microsoft.DotNet.Interactive.AIUtilities;\n",
    "\n",
    "var tokenizer = await Tokenizer.CreateAsync(TokenizerModel.ada2);"
   ]
  },
  {
   "cell_type": "code",
   "execution_count": 11,
   "metadata": {
    "dotnet_interactive": {
     "language": "csharp"
    },
    "polyglot_notebook": {
     "kernelName": "csharp"
    },
    "vscode": {
     "languageId": "polyglot-notebook"
    }
   },
   "outputs": [],
   "source": [
    "using MwParserFromScratch;\n",
    "using MwParserFromScratch.Nodes;\n",
    "\n",
    "record PageBlockWithEmbeddings(string PageTitle, string Block, float[] Embedding);\n",
    "var parser = new WikitextParser();\n",
    "var pageBlocks = new List<PageBlockWithEmbeddings>();\n",
    "foreach (var page in contentPages) {\n",
    "    var content = page.Content;\n",
    "    var ast = parser.Parse(content);\n",
    "    \n",
    "    // split page into block\n",
    "    var blocks = ast.EnumChildren().OfType<Paragraph>().Where(p => Filter(p.ToPlainText())).Select(b => b.ToPlainText()).ToList();\n",
    "    foreach(var block in blocks){\n",
    "        //split blocks by 1600 tokens\n",
    "        var blockChunks = tokenizer.ChunkByTokenCountWithOverlap(block, 1600, 10, true).ToArray();\n",
    "\n",
    "        // generate embeddings\n",
    "        foreach(var chunk in blockChunks.Chunk(16)) {\n",
    "            var response = await client.GetEmbeddingsAsync(new EmbeddingsOptions(deployment, chunk));\n",
    "            foreach( var embeddingItem in response.Value.Data){\n",
    "                    var embedding = embeddingItem.Embedding.ToArray();\n",
    "                    var blockWithEmbeddings = new PageBlockWithEmbeddings(page.Title, chunk[embeddingItem.Index], embedding);\n",
    "                    pageBlocks.Add(blockWithEmbeddings);\n",
    "                }\n",
    "        }\n",
    "    }\n",
    "}\n"
   ]
  },
  {
   "cell_type": "code",
   "execution_count": 12,
   "metadata": {
    "dotnet_interactive": {
     "language": "csharp"
    },
    "polyglot_notebook": {
     "kernelName": "csharp"
    },
    "vscode": {
     "languageId": "polyglot-notebook"
    }
   },
   "outputs": [
    {
     "data": {
      "text/html": [
       "<div class=\"dni-plaintext\"><pre>389</pre></div><style>\r\n",
       ".dni-code-hint {\r\n",
       "    font-style: italic;\r\n",
       "    overflow: hidden;\r\n",
       "    white-space: nowrap;\r\n",
       "}\r\n",
       ".dni-treeview {\r\n",
       "    white-space: nowrap;\r\n",
       "}\r\n",
       ".dni-treeview td {\r\n",
       "    vertical-align: top;\r\n",
       "    text-align: start;\r\n",
       "}\r\n",
       "details.dni-treeview {\r\n",
       "    padding-left: 1em;\r\n",
       "}\r\n",
       "table td {\r\n",
       "    text-align: start;\r\n",
       "}\r\n",
       "table tr { \r\n",
       "    vertical-align: top; \r\n",
       "    margin: 0em 0px;\r\n",
       "}\r\n",
       "table tr td pre \r\n",
       "{ \r\n",
       "    vertical-align: top !important; \r\n",
       "    margin: 0em 0px !important;\r\n",
       "} \r\n",
       "table th {\r\n",
       "    text-align: start;\r\n",
       "}\r\n",
       "</style>"
      ]
     },
     "metadata": {},
     "output_type": "display_data"
    }
   ],
   "source": [
    "pageBlocks.Count.Display();"
   ]
  },
  {
   "cell_type": "code",
   "execution_count": 13,
   "metadata": {
    "dotnet_interactive": {
     "language": "csharp"
    },
    "polyglot_notebook": {
     "kernelName": "csharp"
    },
    "vscode": {
     "languageId": "polyglot-notebook"
    }
   },
   "outputs": [],
   "source": [
    "using System.Text.Json;\n",
    "using System.IO;\n",
    "\n",
    "var filePath = Path.Combine(\"..\",\"..\",\"..\",\"Data\",\"wikipedia_embeddings.json\");\n",
    "\n",
    "var options = new JsonSerializerOptions\n",
    "{\n",
    "    WriteIndented = true,\n",
    "};\n",
    "\n",
    "var jsonString = JsonSerializer.Serialize(pageBlocks, options);\n",
    "await System.IO.File.WriteAllTextAsync(filePath, jsonString);"
   ]
  }
 ],
 "metadata": {
  "language_info": {
   "name": "csharp"
  },
  "orig_nbformat": 4
 },
 "nbformat": 4,
 "nbformat_minor": 2
}
