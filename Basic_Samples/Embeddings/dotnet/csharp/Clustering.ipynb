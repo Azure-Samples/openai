{
 "cells": [
  {
   "cell_type": "markdown",
   "metadata": {},
   "source": [
    "## K-means Clustering in C# using OpenAI\n",
    "We use a simple k-means algorithm to demonstrate how clustering can be done. Clustering can help discover valuable, hidden groupings within the data. The dataset is created in the [Get_embeddings_from_dataset Notebook](Get_embeddings_from_dataset.ipynb) Notebook."
   ]
  },
  {
   "cell_type": "code",
   "execution_count": 1,
   "metadata": {
    "dotnet_interactive": {
     "language": "csharp"
    },
    "polyglot_notebook": {
     "kernelName": "csharp"
    },
    "vscode": {
     "languageId": "polyglot-notebook"
    }
   },
   "outputs": [
    {
     "data": {
      "text/html": [
       "<div><div></div><div></div><div><strong>Installed Packages</strong><ul><li><span>Azure.AI.OpenAI, 1.0.0-beta.9</span></li></ul></div></div>"
      ]
     },
     "metadata": {},
     "output_type": "display_data"
    }
   ],
   "source": [
    "#r \"nuget: Azure.AI.OpenAI, 1.0.0-beta.9\""
   ]
  },
  {
   "cell_type": "code",
   "execution_count": 2,
   "metadata": {
    "dotnet_interactive": {
     "language": "csharp"
    },
    "polyglot_notebook": {
     "kernelName": "csharp"
    },
    "vscode": {
     "languageId": "polyglot-notebook"
    }
   },
   "outputs": [
    {
     "data": {
      "text/html": [
       "<div><div></div><div></div><div><strong>Installed Packages</strong><ul><li><span>Microsoft.DotNet.Interactive.AIUtilities, 1.0.0-beta.23606.2</span></li></ul></div></div>"
      ]
     },
     "metadata": {},
     "output_type": "display_data"
    },
    {
     "data": {
      "text/plain": [
       "Loading extension script from `C:\\Users\\dicolomb\\.nuget\\packages\\microsoft.dotnet.interactive.aiutilities\\1.0.0-beta.23606.2\\interactive-extensions\\dotnet\\extension.dib`"
      ]
     },
     "metadata": {},
     "output_type": "display_data"
    }
   ],
   "source": [
    "#r \"nuget:Microsoft.DotNet.Interactive.AIUtilities, 1.0.0-beta.23606.2\""
   ]
  },
  {
   "cell_type": "code",
   "execution_count": 3,
   "metadata": {
    "dotnet_interactive": {
     "language": "csharp"
    },
    "polyglot_notebook": {
     "kernelName": "csharp"
    },
    "vscode": {
     "languageId": "polyglot-notebook"
    }
   },
   "outputs": [],
   "source": [
    "using Microsoft.DotNet.Interactive;\n",
    "using Microsoft.DotNet.Interactive.AIUtilities;\n",
    "using Azure;\n",
    "using Azure.AI.OpenAI;"
   ]
  },
  {
   "cell_type": "markdown",
   "metadata": {},
   "source": [
    "## Run this cell, it will prompt you for the apiKey, endPoint, and chatDeployment"
   ]
  },
  {
   "cell_type": "code",
   "execution_count": 4,
   "metadata": {
    "dotnet_interactive": {
     "language": "csharp"
    },
    "polyglot_notebook": {
     "kernelName": "csharp"
    },
    "vscode": {
     "languageId": "polyglot-notebook"
    }
   },
   "outputs": [],
   "source": [
    "var azureOpenAIKey = await Kernel.GetPasswordAsync(\"Provide your OPEN_AI_KEY\");\n",
    "\n",
    "// Your endpoint should look like the following https://YOUR_OPEN_AI_RESOURCE_NAME.openai.azure.com/\n",
    "var azureOpenAIEndpoint = await Kernel.GetInputAsync(\"Provide the OPEN_AI_ENDPOINT\");\n",
    "\n",
    "// Enter the deployment name you chose when you deployed the model.\n",
    "var chatDeployment = await Kernel.GetInputAsync(\"Provide chat deployment name\");"
   ]
  },
  {
   "cell_type": "code",
   "execution_count": 5,
   "metadata": {
    "dotnet_interactive": {
     "language": "csharp"
    },
    "polyglot_notebook": {
     "kernelName": "csharp"
    },
    "vscode": {
     "languageId": "polyglot-notebook"
    }
   },
   "outputs": [],
   "source": [
    "OpenAIClient client = new (new Uri(azureOpenAIEndpoint), new AzureKeyCredential(azureOpenAIKey.GetClearTextPassword()));"
   ]
  },
  {
   "cell_type": "code",
   "execution_count": 6,
   "metadata": {
    "dotnet_interactive": {
     "language": "csharp"
    },
    "polyglot_notebook": {
     "kernelName": "csharp"
    },
    "vscode": {
     "languageId": "polyglot-notebook"
    }
   },
   "outputs": [
    {
     "data": {
      "text/html": [
       "<div><div></div><div></div><div><strong>Installed Packages</strong><ul><li><span>Microsoft.ML, 3.0.0-preview.23511.1</span></li></ul></div></div>"
      ]
     },
     "metadata": {},
     "output_type": "display_data"
    }
   ],
   "source": [
    "#r \"nuget: Microsoft.ML,  3.0.0-preview.23511.1\""
   ]
  },
  {
   "cell_type": "code",
   "execution_count": 7,
   "metadata": {
    "dotnet_interactive": {
     "language": "csharp"
    },
    "polyglot_notebook": {
     "kernelName": "csharp"
    },
    "vscode": {
     "languageId": "polyglot-notebook"
    }
   },
   "outputs": [],
   "source": [
    "\n",
    "using Microsoft.ML;\n",
    "using Microsoft.ML.Data;\n",
    "using Microsoft.ML.Trainers;"
   ]
  },
  {
   "cell_type": "code",
   "execution_count": 8,
   "metadata": {
    "dotnet_interactive": {
     "language": "csharp"
    },
    "polyglot_notebook": {
     "kernelName": "csharp"
    },
    "vscode": {
     "languageId": "polyglot-notebook"
    }
   },
   "outputs": [],
   "source": [
    "public class DataRow{\n",
    "    public string ProducIt {get;set;} \n",
    "    public string UserId {get;set;} \n",
    "    public int Score {get;set;} \n",
    "    public string Summary {get;set;} \n",
    "    public string Text {get;set;} \n",
    "    public int TokenCount {get;set;} \n",
    "    [VectorType(1536)]\n",
    "    public float[] Embedding {get;set;} \n",
    "};"
   ]
  },
  {
   "cell_type": "code",
   "execution_count": 9,
   "metadata": {
    "dotnet_interactive": {
     "language": "csharp"
    },
    "polyglot_notebook": {
     "kernelName": "csharp"
    },
    "vscode": {
     "languageId": "polyglot-notebook"
    }
   },
   "outputs": [],
   "source": [
    "using System.Text.Json;\n",
    "using System.Text.Json.Serialization;\n",
    "using System.IO;\n",
    "\n",
    "var filePath = Path.Combine(\"..\",\"..\",\"..\",\"Data\",\"fine_food_reviews_with_embeddings_1k.json\");\n",
    "\n",
    "var foodReviewsData = JsonSerializer.Deserialize<DataRow[]>(File.ReadAllText(filePath));"
   ]
  },
  {
   "cell_type": "markdown",
   "metadata": {},
   "source": [
    "### 1. Find the clusters using K-means\n",
    "We show the simplest use of K-means. You can pick the number of clusters that fits your use case best."
   ]
  },
  {
   "cell_type": "markdown",
   "metadata": {},
   "source": [
    "First, a new instance of the `MLContext` class is created. \n",
    "\n",
    "Next, the `LoadFromEnumerable` method of the `Data` property of the `context` object is called to load the `foodReviewsData` into an `IDataView` object, which is a flexible, efficient way of describing tabular data (numeric and text).\n",
    "\n",
    "A pipeline is then defined using the `Clustering.Trainers.KMeans` method of the `context` object. This method creates a new K-Means clustering trainer. The first argument is the name of the feature column (in this case, \"Embedding\"), and the `numberOfClusters` parameter is set to 4, indicating that the algorithm should group the data into 4 clusters.\n",
    "\n",
    "The `Fit` method is then called on the pipeline, passing in the `idv` object. This trains the model on the loaded data and returns the trained model.\n",
    "\n",
    "The `Transform` method is then called on the `model` object, passing in the `idv` object. This applies the trained model to the loaded data, assigning each data point to a cluster.\n",
    "\n",
    "Finally, the `GetClusterCentroids` method is called on the `Model` property of the `model` object. This method retrieves the centroids of the clusters identified by the model. The centroids are stored in the `centroids` variable.\n"
   ]
  },
  {
   "cell_type": "code",
   "execution_count": 10,
   "metadata": {
    "dotnet_interactive": {
     "language": "csharp"
    },
    "polyglot_notebook": {
     "kernelName": "csharp"
    },
    "vscode": {
     "languageId": "polyglot-notebook"
    }
   },
   "outputs": [],
   "source": [
    "var context = new MLContext();\n",
    "var idv = context.Data.LoadFromEnumerable(foodReviewsData);\n",
    "var pipeline =  context.Clustering.Trainers.KMeans(\"Embedding\", numberOfClusters: 4);\n",
    "var model = pipeline.Fit(idv);\n",
    "var clusteredData = model.Transform(idv);\n",
    "\n",
    "VBuffer<float>[] centroids = default;\n",
    "model.Model.GetClusterCentroids(ref centroids, out var _);"
   ]
  },
  {
   "cell_type": "markdown",
   "metadata": {},
   "source": [
    "### 2. Text samples in the clusters & naming the clusters\n",
    "Let's show samples from each cluster. We'll use GPT to name the clusters, based on a random sample of 5 reviews from that cluster.\n",
    "Iterating over the clusters' centroids we find the most relevant reviewes using `CosineSimilarityComparer`. The we randomly pick 5 for each cluster."
   ]
  },
  {
   "cell_type": "code",
   "execution_count": 11,
   "metadata": {
    "dotnet_interactive": {
     "language": "csharp"
    },
    "polyglot_notebook": {
     "kernelName": "csharp"
    },
    "vscode": {
     "languageId": "polyglot-notebook"
    }
   },
   "outputs": [],
   "source": [
    "var rnd = new Random(42);\n",
    "\n",
    "var examples = centroids.Select(c => {\n",
    "    var embedding = c.GetValues().ToArray();\n",
    "    var samples = foodReviewsData\n",
    "        .ScoreBySimilarityTo(embedding, new CosineSimilarityComparer<float[]>(v => v), r => r.Embedding )\n",
    "        .OrderByDescending(e => e.Score)\n",
    "        .Select(e => e.Value)\n",
    "        .Take(200)\n",
    "        .Shuffle()\n",
    "        .Take(5);\n",
    "\n",
    "    return new {\n",
    "            CenstroidEmbedding = embedding,\n",
    "            Reviews = samples\n",
    "            };\n",
    "    }\n",
    ").ToArray();"
   ]
  },
  {
   "cell_type": "markdown",
   "metadata": {},
   "source": [
    "Using the 5 random samples of each cluster we ask GPT for the common theme"
   ]
  },
  {
   "cell_type": "code",
   "execution_count": 12,
   "metadata": {
    "dotnet_interactive": {
     "language": "csharp"
    },
    "polyglot_notebook": {
     "kernelName": "csharp"
    },
    "vscode": {
     "languageId": "polyglot-notebook"
    }
   },
   "outputs": [
    {
     "data": {
      "text/plain": [
       "Cluster theme : The common theme in these customer reviews is that they are all positive reviews about different beverages (coffee and tea).\r\n",
       "5, Yummy!: I love this tea.  When I made it, it was a purplish color, and kind of strong.  If you wanted it weaker you might want to not let it steep as long as I did.  You can definitely make out both the blackberry and vanilla, and they blend very nicely.  There is a slight aftertaste, but it isn't unpleasant.  I made it hot, but didn't finish it and the air conditioning was on, so it got cold.  It was quite cold when I tried it for the second time, and it tasted great!  This is the type of tea I like drinking in the afternoon; I won't be switching my morning Lady Grey tea for this.<br /><br />I love the tea bag design.  With the pyramid tea bag I can see what the tea is, rather than look through an opaque square tea bag.  The tea tasted very fresh, too.\r\n",
       "\r\n",
       "1, NOT HAPPY!!: If I can learn anything from this I have learned~You get what you pay for!! Please, whatever you do, don't get this particular package, because you will be horribly disappointed, unless you want the K-cups no one else would want or drink!! Yes, they are all different, but out of the 35 there I will only be drinking maybe 10 of them, the rest I will try to give away although I doubt anyone will want them!! Alot are decaf, which I don't drink, or they are tea or hot chocolate. I was hoping for actual flavored coffee, now I know to only order my K-cups from Keurig or I will buy them at the store!! I am sadly disappointed in this assortment of K-cups, and the person that packed my bag really did a HORRIBLE job!! Oh, and 4 of them are either empty, or the coffee in them is hard and stale!!\r\n",
       "\r\n",
       "5, Love this coffee...: This is the best coffee ever! Wish I could order a box of 100 at a time as we go thru a box of 80 in about a month and a half. Buying it online is soooo much cheaper than buying at the grocery store.\r\n",
       "\r\n",
       "5, Best Ice tea we've had!: We go to a local mom and pops Italian restaurant in our neighborhood and always loved their ice tea. One day we asked the owner what they use to brew it with and he told us Calypso by Mighty Leaf. He even gave us a sample bag to take home with us. Anyways, we have been ordering it ever since and love it. If you are an ice tea lover, this is the best you can use. It has this subtle kind of passion fruit like after taste.. which compliments every time you take a sip and exhale.\r\n",
       "\r\n",
       "5, chocolate heaven: Excellent smooth taste. Any one who loves chocolate will enjoy this drink. Almost has good as International house's dark mayan chocolate coffee was.\r\n"
      ]
     },
     "metadata": {},
     "output_type": "display_data"
    },
    {
     "data": {
      "text/plain": [
       "Cluster theme : The common theme among these customer reviews is that they are all positive and express satisfaction with the product.\r\n",
       "5, Yummy and Healthy: Loved the cranberry-like flavor and slightly crunchy texture.  Worked well with wheat bread. A little on the expensive side but my kids like it too.\r\n",
       "\r\n",
       "4, Worth the money, but nothing to write home about.: First of all, shipping and packaging went very well. I'm impressed in that regard. After reading the previous review, I was kind of expecting to be blown away by the wonderful smell and taste. I'm not saying it tastes or smells bad, but it's not as amazing as the other reviewer puts it. The fragrance and taste is hard to describe, but good. I brewed it at a relatively hot temperature for about 6 minutes, and added sugar with it. The tea tastes fruity but with a cinnamon kick to it as well as floral undertones. I would recommend this product to another person, but I don't think I'll be able to use all 16oz of it. Buying a smaller bag might be a good idea.\r\n",
       "\r\n",
       "5, Great for HS lunch: Great for HS lunch, kid enjoy as a snack also, will buy again. Salted chips are good too, tried them too.\r\n",
       "\r\n",
       "5, very good!!: just like the runts<br />great flavor, def worth getting<br />I even ordered again 2 wks latter (all gone)<br />just like I remember :)\r\n",
       "\r\n",
       "5, Great Choice on Popcorn: This powder is unlike anything I've had with its unique flavors.  It's a mildly sweet, tangy flavor which goes fantastic on popcorn.  While I think most of us love hot, buttered popcorn with an ample amount of salt the simple fact is it's not very healthy.  So, I was on a search to find something which was flavorful on air-popped popcorn, but not too bad nutritionally.  This fits the bill.\r\n"
      ]
     },
     "metadata": {},
     "output_type": "display_data"
    },
    {
     "data": {
      "text/plain": [
       "Cluster theme : The common theme among these customer reviews is that they all discuss the taste and quality of the products they purchased.\r\n",
       "1, KNOCK OFF: This is not the product that should come in this box.  I have had this tea from a local store which was excellent, very flavorful pellets.  This was a powdered product which was tasteless I can only assume it is another Chinese knock off.  Don't bother spending money for it.\r\n",
       "\r\n",
       "4, yummy cookies!: We've ordered for them every month and only once the package inside the seal had a small hole and wasn't as fresh.\r\n",
       "\r\n",
       "5, So convenient, for so little!: I needed two vanilla beans for the Love Goddess cake that my husbands adores. So you can spend exorbitant amounts of money at the grocery store for more vanilla beans than you need, or you can order the amount you need with free shipping. Each bean was in its own plastic vacuum package that looked like it could keep for awhile if you needed it to. The cake was, of course, delicious, and my trash smelled great from the two little plastic vanilla bean packages, so maybe you could use them to make something else smell nice.\r\n",
       "\r\n",
       "3, French Vanilla Wolfgang Puck: Product is easy to use.... Just cut or tear pack open and place into the coffee pot.  But I definitely did not think that the flavor was particularly French Vanilla, even with French Vanilla creamer.  It felt \"heavy\" on my tongue and had a \"dark\" coffee flavor which I believe overcame the French Vanilla flavor.  I was very disappointed that I had paid so much for so little flavor. Additionally, when I tried to return the products, the site informed me tht they ewere not returnable (Even the unopened packages).\r\n",
       "\r\n",
       "3, The Kind Plus item was sticky: I have no complaint about the product itself. I likely would have rated it very good had it not been subjected excessive heat somewhere along, before it arrived. Although I ate them, each one was sticking to the wrapper and<br />difficult to eat without sticky deposits on my face and hands.\r\n"
      ]
     },
     "metadata": {},
     "output_type": "display_data"
    },
    {
     "data": {
      "text/plain": [
       "Cluster theme : The common theme among these customer reviews is that they are all discussing different products and their experiences with them.\r\n",
       "5, Delicious!: Love these packs. I have made pretzel dogs, bites and sticks. I  have even used the pretzel mix to make calzones and pizza. Both came out great.\r\n",
       "\r\n",
       "2, dingos: The red part of the dingos was missing from 3 of the balls in one bag and two of them in the other. The others have not been opened yet and I found this very upsetting since this is the part the the puppies go for first. I don't mind paying that price if it is as shown. The bag show no white only balls.<br />Theresa Miller\r\n",
       "\r\n",
       "5, my dogs love the peanut butter!: First off, read the ingredients, no crazy words I can't pronounce, which means it's all natural! I got the peanut butter treats for my two children: husky/shepherd and a lab/shepherd mix, and they can't get enough of them. Plus, on Amazon, this is such a great value for 16oz. Beats petsmart for sure! I'll be looking for more Zuke's products now that I've discovered them. Thanks Zuke's!\r\n",
       "\r\n",
       "5, Happy with the product: My dog was suffering with itchy skin.  He had been eating Natural Choice brand (cheaper) since he was a puppy.  I was nervous to change foods.  The vet suggested to change foods sand see if the skin issues cleared up.  Wellness brand did the job.  My dog seems to love the food and the skin issues cleared up within a few weeks.\r\n",
       "\r\n",
       "5, Love it!: My dog has digestive issues and this product works great for her.  I am not sure she loves the taste because she only eats when she is hungry and does not run to eat it as she would other brands.  But, it does work and that is what counts.  Thank-you for making a product for digestive issues.\r\n"
      ]
     },
     "metadata": {},
     "output_type": "display_data"
    }
   ],
   "source": [
    "foreach (var example in examples)\n",
    "{\n",
    "    var prompt =\n",
    "$\"\"\"\n",
    "What do the following customer reviews have in common?\n",
    "Customer reviews:\n",
    "{string.Join(\"\\n\", example.Reviews.Select(r => $\"{r.Score}, {r.Summary}: {r.Text}\"))}\n",
    "Theme:\n",
    "\"\"\";\n",
    "    var options= new ChatCompletionsOptions{\n",
    "        Messages ={ new ChatMessage(ChatRole.User, prompt)},\n",
    "        Temperature = 0f,\n",
    "        DeploymentName = chatDeployment\n",
    "    };\n",
    "\n",
    "    var response = await client.GetChatCompletionsAsync(options);\n",
    "    var theme = response.Value.Choices.FirstOrDefault()?.Message?.Content;\n",
    "    var text = new StringBuilder($\"Cluster theme : {theme}\");\n",
    "    foreach (var review in example.Reviews)\n",
    "    {\n",
    "        text.AppendLine();\n",
    "        text.AppendLine($\"{review.Score}, {review.Summary}: {review.Text}\");\n",
    "    }\n",
    "    text.ToString().Display();\n",
    "}"
   ]
  }
 ],
 "metadata": {
  "kernelspec": {
   "display_name": ".NET (C#)",
   "language": "C#",
   "name": ".net-csharp"
  },
  "language_info": {
   "name": "csharp"
  },
  "orig_nbformat": 4,
  "polyglot_notebook": {
   "kernelInfo": {
    "defaultKernelName": "csharp",
    "items": [
     {
      "aliases": [],
      "name": "csharp"
     }
    ]
   }
  }
 },
 "nbformat": 4,
 "nbformat_minor": 2
}
