{
 "cells": [
  {
   "cell_type": "markdown",
   "metadata": {},
   "source": [
    "## K-means Clustering in C# using OpenAI\n",
    "We use a simple k-means algorithm to demonstrate how clustering can be done. Clustering can help discover valuable, hidden groupings within the data. The dataset is created in the [Get_embeddings_from_dataset Notebook](Get_embeddings_from_dataset.ipynb) Notebook."
   ]
  },
  {
   "cell_type": "code",
   "execution_count": 2,
   "metadata": {
    "dotnet_interactive": {
     "language": "csharp"
    },
    "polyglot_notebook": {
     "kernelName": "csharp"
    },
    "vscode": {
     "languageId": "polyglot-notebook"
    }
   },
   "outputs": [
    {
     "data": {
      "text/html": [
       "<div><div></div><div></div><div><strong>Installed Packages</strong><ul><li><span>Azure.AI.OpenAI, 1.0.0-beta.9</span></li></ul></div></div>"
      ]
     },
     "metadata": {},
     "output_type": "display_data"
    }
   ],
   "source": [
    "#r \"nuget: Azure.AI.OpenAI, 1.0.0-beta.9\""
   ]
  },
  {
   "cell_type": "code",
   "execution_count": 3,
   "metadata": {
    "dotnet_interactive": {
     "language": "csharp"
    },
    "polyglot_notebook": {
     "kernelName": "csharp"
    },
    "vscode": {
     "languageId": "polyglot-notebook"
    }
   },
   "outputs": [
    {
     "data": {
      "text/html": [
       "<div><div></div><div></div><div><strong>Installed Packages</strong><ul><li><span>Microsoft.DotNet.Interactive.AIUtilities, 1.0.0-beta.23557.4</span></li></ul></div></div>"
      ]
     },
     "metadata": {},
     "output_type": "display_data"
    }
   ],
   "source": [
    "#r \"nuget:Microsoft.DotNet.Interactive.AIUtilities, 1.0.0-beta.23557.4\""
   ]
  },
  {
   "cell_type": "code",
   "execution_count": 3,
   "metadata": {
    "dotnet_interactive": {
     "language": "csharp"
    },
    "polyglot_notebook": {
     "kernelName": "csharp"
    },
    "vscode": {
     "languageId": "polyglot-notebook"
    }
   },
   "outputs": [],
   "source": [
    "using Microsoft.DotNet.Interactive;\n",
    "using Microsoft.DotNet.Interactive.AIUtilities;\n",
    "using Azure;\n",
    "using Azure.AI.OpenAI;"
   ]
  },
  {
   "cell_type": "markdown",
   "metadata": {},
   "source": [
    "## Run this cell, it will prompt you for the apiKey, endPoint, and chatDeployment"
   ]
  },
  {
   "cell_type": "code",
   "execution_count": 4,
   "metadata": {
    "dotnet_interactive": {
     "language": "csharp"
    },
    "polyglot_notebook": {
     "kernelName": "csharp"
    },
    "vscode": {
     "languageId": "polyglot-notebook"
    }
   },
   "outputs": [],
   "source": [
    "var azureOpenAIKey = await Kernel.GetPasswordAsync(\"Provide your OPEN_AI_KEY\");\n",
    "\n",
    "// Your endpoint should look like the following https://YOUR_OPEN_AI_RESOURCE_NAME.openai.azure.com/\n",
    "var azureOpenAIEndpoint = await Kernel.GetInputAsync(\"Provide the OPEN_AI_ENDPOINT\");\n",
    "\n",
    "// Enter the deployment name you chose when you deployed the model.\n",
    "var chatDeployment = await Kernel.GetInputAsync(\"Provide chat deployment name\");"
   ]
  },
  {
   "cell_type": "code",
   "execution_count": 5,
   "metadata": {
    "dotnet_interactive": {
     "language": "csharp"
    },
    "polyglot_notebook": {
     "kernelName": "csharp"
    },
    "vscode": {
     "languageId": "polyglot-notebook"
    }
   },
   "outputs": [],
   "source": [
    "OpenAIClient client = new (new Uri(azureOpenAIEndpoint), new AzureKeyCredential(azureOpenAIKey.GetClearTextPassword()));"
   ]
  },
  {
   "cell_type": "code",
   "execution_count": 6,
   "metadata": {
    "dotnet_interactive": {
     "language": "csharp"
    },
    "polyglot_notebook": {
     "kernelName": "csharp"
    },
    "vscode": {
     "languageId": "polyglot-notebook"
    }
   },
   "outputs": [
    {
     "data": {
      "text/html": [
       "<div><div></div><div></div><div><strong>Installed Packages</strong><ul><li><span>Microsoft.ML, 3.0.0-preview.23511.1</span></li></ul></div></div>"
      ]
     },
     "metadata": {},
     "output_type": "display_data"
    }
   ],
   "source": [
    "#r \"nuget: Microsoft.ML,  3.0.0-preview.23511.1\""
   ]
  },
  {
   "cell_type": "code",
   "execution_count": 7,
   "metadata": {
    "dotnet_interactive": {
     "language": "csharp"
    },
    "polyglot_notebook": {
     "kernelName": "csharp"
    },
    "vscode": {
     "languageId": "polyglot-notebook"
    }
   },
   "outputs": [],
   "source": [
    "\n",
    "using Microsoft.ML;\n",
    "using Microsoft.ML.Data;\n",
    "using Microsoft.ML.Trainers;"
   ]
  },
  {
   "cell_type": "code",
   "execution_count": 8,
   "metadata": {
    "dotnet_interactive": {
     "language": "csharp"
    },
    "polyglot_notebook": {
     "kernelName": "csharp"
    },
    "vscode": {
     "languageId": "polyglot-notebook"
    }
   },
   "outputs": [],
   "source": [
    "public class DataRow{\n",
    "    public string ProducIt {get;set;} \n",
    "    public string UserId {get;set;} \n",
    "    public int Score {get;set;} \n",
    "    public string Summary {get;set;} \n",
    "    public string Text {get;set;} \n",
    "    public int TokenCount {get;set;} \n",
    "    [VectorType(1536)]\n",
    "    public float[] Embedding {get;set;} \n",
    "};"
   ]
  },
  {
   "cell_type": "code",
   "execution_count": 9,
   "metadata": {
    "dotnet_interactive": {
     "language": "csharp"
    },
    "polyglot_notebook": {
     "kernelName": "csharp"
    },
    "vscode": {
     "languageId": "polyglot-notebook"
    }
   },
   "outputs": [],
   "source": [
    "using System.Text.Json;\n",
    "using System.Text.Json.Serialization;\n",
    "using System.IO;\n",
    "\n",
    "var filePath = Path.Combine(\"..\",\"..\",\"..\",\"Data\",\"fine_food_reviews_with_embeddings_1k.json\");\n",
    "\n",
    "var foodReviewsData = JsonSerializer.Deserialize<DataRow[]>(File.ReadAllText(filePath));"
   ]
  },
  {
   "cell_type": "markdown",
   "metadata": {},
   "source": [
    "### 1. Find the clusters using K-means\n",
    "We show the simplest use of K-means. You can pick the number of clusters that fits your use case best."
   ]
  },
  {
   "cell_type": "markdown",
   "metadata": {},
   "source": [
    "First, a new instance of the `MLContext` class is created. \n",
    "\n",
    "Next, the `LoadFromEnumerable` method of the `Data` property of the `context` object is called to load the `foodReviewsData` into an `IDataView` object, which is a flexible, efficient way of describing tabular data (numeric and text).\n",
    "\n",
    "A pipeline is then defined using the `Clustering.Trainers.KMeans` method of the `context` object. This method creates a new K-Means clustering trainer. The first argument is the name of the feature column (in this case, \"Embedding\"), and the `numberOfClusters` parameter is set to 4, indicating that the algorithm should group the data into 4 clusters.\n",
    "\n",
    "The `Fit` method is then called on the pipeline, passing in the `idv` object. This trains the model on the loaded data and returns the trained model.\n",
    "\n",
    "The `Transform` method is then called on the `model` object, passing in the `idv` object. This applies the trained model to the loaded data, assigning each data point to a cluster.\n",
    "\n",
    "Finally, the `GetClusterCentroids` method is called on the `Model` property of the `model` object. This method retrieves the centroids of the clusters identified by the model. The centroids are stored in the `centroids` variable.\n"
   ]
  },
  {
   "cell_type": "code",
   "execution_count": 10,
   "metadata": {
    "dotnet_interactive": {
     "language": "csharp"
    },
    "polyglot_notebook": {
     "kernelName": "csharp"
    },
    "vscode": {
     "languageId": "polyglot-notebook"
    }
   },
   "outputs": [],
   "source": [
    "var context = new MLContext();\n",
    "var idv = context.Data.LoadFromEnumerable(foodReviewsData);\n",
    "var pipeline =  context.Clustering.Trainers.KMeans(\"Embedding\", numberOfClusters: 4);\n",
    "var model = pipeline.Fit(idv);\n",
    "var clusteredData = model.Transform(idv);\n",
    "\n",
    "VBuffer<float>[] centroids = default;\n",
    "model.Model.GetClusterCentroids(ref centroids, out var _);"
   ]
  },
  {
   "cell_type": "markdown",
   "metadata": {},
   "source": [
    "### 2. Text samples in the clusters & naming the clusters\n",
    "Let's show samples from each cluster. We'll use GPT to name the clusters, based on a random sample of 5 reviews from that cluster.\n",
    "Iterating over the clusters' centroids we find the most relevant reviewes using `CosineSimilarityComparer`. The we randomly pick 5 for each cluster."
   ]
  },
  {
   "cell_type": "code",
   "execution_count": 11,
   "metadata": {
    "dotnet_interactive": {
     "language": "csharp"
    },
    "polyglot_notebook": {
     "kernelName": "csharp"
    },
    "vscode": {
     "languageId": "polyglot-notebook"
    }
   },
   "outputs": [],
   "source": [
    "var rnd = new Random(42);\n",
    "\n",
    "var examples = centroids.Select(c => {\n",
    "    var embedding = c.GetValues().ToArray();\n",
    "    var samples = foodReviewsData\n",
    "        .ScoreBySimilarityTo(embedding, new CosineSimilarityComparer<float[]>(v => v), r => r.Embedding )\n",
    "        .OrderByDescending(e => e.Value)\n",
    "        .Select(e => e.Key)\n",
    "        .Take(200)\n",
    "        .Shuffle()\n",
    "        .Take(5);\n",
    "\n",
    "    return new {\n",
    "            CenstroidEmbedding = embedding,\n",
    "            Reviews = samples\n",
    "            };\n",
    "    }\n",
    ").ToArray();"
   ]
  },
  {
   "cell_type": "markdown",
   "metadata": {},
   "source": [
    "Using the 5 random samples of each cluster we ask GPT for the common theme"
   ]
  },
  {
   "cell_type": "code",
   "execution_count": 12,
   "metadata": {
    "dotnet_interactive": {
     "language": "csharp"
    },
    "polyglot_notebook": {
     "kernelName": "csharp"
    },
    "vscode": {
     "languageId": "polyglot-notebook"
    }
   },
   "outputs": [
    {
     "data": {
      "text/plain": [
       "Cluster theme : The common theme among these customer reviews is that the products being reviewed are all highly enjoyable and have good flavor.\r\n",
       "5, 5 Star Tea at a super price!: This tea is very good and perfect for the price....you can't go wrong with this product. A must buy for the tea lover.\r\n",
       "\r\n",
       "3, Hot Apple Cider: This was very good for the most part. I like to drink it in the chilly mornings we've had lately (in Vermont). The only bad thing is sometimes if I don't drink it fast enough, I end up with the residue which isn't that good.<br />I appreciate it being sent to me in a timely manner.\r\n",
       "\r\n",
       "2, Super healthy but tastes like ass: I have no idea what these people are thinking saying this stuff tastes great. They must work for Nutiva or have a friend who does.<br />This stuff is super healthy, I'm sure - but tastes friggin' awful. It's like cardboard pulp. I make smoothies with it which my mom said look like diarrhea.<br /><br />I'm stuck with this huge 3 lb bag - which, in its defense - is a fantastic bargain. But I got it in 2010 and I'm still trying to choke it down two years later. Spend the extra money and get yourself some Vega. It's certainly pricier, but you get what you pay for.\r\n",
       "\r\n",
       "5, Delicious!: This ghee is delicious. A little goes a long way because of the intensity of flavor. It imparts wonderful aroma to vegetable dishes and does not burn easily like butter. highly recommended.\r\n",
       "\r\n",
       "5, super coffee: Great coffee and so easy to brew.  This coffee has great aroma and is good to the last drop.  I actually like all the brands.  This is the way coffee should taste!!\r\n"
      ]
     },
     "metadata": {},
     "output_type": "display_data"
    },
    {
     "data": {
      "text/plain": [
       "Cluster theme : The common theme among these customer reviews is that they are all discussing different beverages (tea and coffee) and expressing their opinions about the taste and quality of the products.\r\n",
       "5, Great taste: This product is great.  My husband and I both love it.  It is good as a supplement, and for cooking.  It has a wonderful scent and a soft taste.  It is a very healthy product.  We are pleased.\r\n",
       "\r\n",
       "5, got what I expected: This is a black tea with french vanilla essence, so obviously it's not going to taste like most vanilla people are used to. Black tea has a strong flavor so the vanilla doesn't stand out as much and also natural unsweetened vanilla tastes a lot different than commercial vanilla products or artificial vanilla.<br /><br />I'm guessing a lot of people are used to artificial vanilla since it's a lot sweeter. The difference between real vanilla and artificial vanilla is like the difference between a watermelon and watermelon flavor.<br /><br />I do have one complaint though, the tea leaves smell like maple syrup and vanilla. Kind of weird, but it tastes good.\r\n",
       "\r\n",
       "5, My wife liked it: I ordered this for my wife and she really liked it. The tea brews quickly with the more open bag that allows water to flow around it better. Excellent product with a full rich tea flavor as the end result.\r\n",
       "\r\n",
       "5, Just like the Restaurant...: This is great tasting tea! It tastes just like the tea at the restaurant where we were first turned on to Genmai-cha! Nothing negative to say.\r\n",
       "\r\n",
       "1, Not very tasty!: I love Arnold Plamer's and Starbucks has the best black tea & lemonade.  I was hooked on them all summer.  When I saw a bottled version of this beverage I was so excited.  Unfortunately this is not a tasty product at all.  I drank 1/2 bottle and had to dispose of the rest of it.  Not good at all.  Very disappointed!\r\n"
      ]
     },
     "metadata": {},
     "output_type": "display_data"
    },
    {
     "data": {
      "text/plain": [
       "Cluster theme : The common theme among these customer reviews is that they all express positive opinions about the products being reviewed.\r\n",
       "5, my dogs love the peanut butter!: First off, read the ingredients, no crazy words I can't pronounce, which means it's all natural! I got the peanut butter treats for my two children: husky/shepherd and a lab/shepherd mix, and they can't get enough of them. Plus, on Amazon, this is such a great value for 16oz. Beats petsmart for sure! I'll be looking for more Zuke's products now that I've discovered them. Thanks Zuke's!\r\n",
       "\r\n",
       "5, 5 Hour Energy works very well...: Great price if you buy in bulk.  Product works very well.  No side effects.  I have not tried a flavor that I didn't like.\r\n",
       "\r\n",
       "5, South Beach energy bars dark choc: Want a party in your mouth and a healthy bar at the same time??  My South Beach dark chocolate bars came from Amazon just as my husband was working to increase his fiber for health sake.  This dark chocolate, chewy taste is fantabulous!!  It would be great as breakfast bar with coffee or tea in the morning or a delicious snack with extra fiber any time of day.  This individually packaged bar is convenient to carry and a delictable chew.  <a href=\"http://www.amazon.com/gp/product/B005Y10ZMS\">South Beach Diet Bar Fiber Granola Bar, Dark Chocolate, 5-Count(Pack of 8)</a>\r\n",
       "\r\n",
       "5, Yummy and Healthy: Loved the cranberry-like flavor and slightly crunchy texture.  Worked well with wheat bread. A little on the expensive side but my kids like it too.\r\n",
       "\r\n",
       "5, a great product and deal: I looked at all of the reviews and shopped around locally before buying these.  Locally the best deal I could find was $6 for 1 oz!!!!! I use them on my cereal, yogurt, granola and even in baking. They are yummy and very good for you. I shared one bag with my two health conscious kids and put the other bag in the freezer so I can dip into as needed.  You will not regret buying these.  I tried roasting some but prefer the nibs in their natural state.  I plan to grind some up and try in place of cocoa powder in recipes.\r\n"
      ]
     },
     "metadata": {},
     "output_type": "display_data"
    },
    {
     "data": {
      "text/plain": [
       "Cluster theme : The common theme among these customer reviews is positive feedback and satisfaction with the products.\r\n",
       "5, Favorite Coffee Pods!: I had been buying Senseo coffee pods to use in my Hamilton Beach pod brewer.  The Senseo pods became impossible to find locally, so I looked online.  I drink decaf coffee, and it's often difficult to find decaf in different variaties.  When I found these pods from Baronet, I decided to take a chance on them.  They are so much better than the ones from Senseo!  The flavor is rich and the price is quite a bit less than the old pods I was buying. The Baronet pods are also stronger in flavor, which is great if you want to make a larger mug of coffee.  They come in flavors, too!  Highly recommend!!\r\n",
       "\r\n",
       "5, Very Nice Medium Roast: This coffee has the best aroma!  Great medium taste.  I have replaced our Starbucks Pike's Peak Roast because my husband and I like the taste better.  I store it in a sealed container, don't mind that I can't store it in my drawer with the other k-cups.  The overall morning experience is pleasant!\r\n",
       "\r\n",
       "4, Full- bodied without a bitter after-taste: This is my everyday coffee choice...a good all around crowd pleaser.  Green mountain Sumatra would be my back-up-for-a-change-of-pace second choice...nice to have both on hand!\r\n",
       "\r\n",
       "5, Great bold taste-- compare to Emeril's Bold: I've been drinking Emeril's Bold for a year and a half, and wanted to try something different. A review led me to this brand, and I love it too! I'm a strong coffee gal-- I like Starbuck's-- so this is right up my alley.\r\n",
       "\r\n",
       "4, Like this tea: This tea has a nice flavor although I wish it was a little stronger.  I have brewed way it states and even tried letting it sit longer  to get a stronger cup but it didn't work.  Am pleased with purchase and flavor overall.\r\n"
      ]
     },
     "metadata": {},
     "output_type": "display_data"
    }
   ],
   "source": [
    "foreach (var example in examples)\n",
    "{\n",
    "    var prompt =\n",
    "$\"\"\"\n",
    "What do the following customer reviews have in common?\n",
    "Customer reviews:\n",
    "{string.Join(\"\\n\", example.Reviews.Select(r => $\"{r.Score}, {r.Summary}: {r.Text}\"))}\n",
    "Theme:\n",
    "\"\"\";\n",
    "    var options= new ChatCompletionsOptions{\n",
    "        Messages ={ new ChatMessage(ChatRole.User, prompt)},\n",
    "        Temperature = 0f,\n",
    "        DeploymentName = chatDeployment\n",
    "    };\n",
    "\n",
    "    var response = await client.GetChatCompletionsAsync(options);\n",
    "    var theme = response.Value.Choices.FirstOrDefault()?.Message?.Content;\n",
    "    var text = new StringBuilder($\"Cluster theme : {theme}\");\n",
    "    foreach (var review in example.Reviews)\n",
    "    {\n",
    "        text.AppendLine();\n",
    "        text.AppendLine($\"{review.Score}, {review.Summary}: {review.Text}\");\n",
    "    }\n",
    "    text.ToString().Display();\n",
    "}"
   ]
  }
 ],
 "metadata": {
  "kernelspec": {
   "display_name": ".NET (C#)",
   "language": "C#",
   "name": ".net-csharp"
  },
  "language_info": {
   "name": "csharp"
  },
  "orig_nbformat": 4,
  "polyglot_notebook": {
   "kernelInfo": {
    "defaultKernelName": "csharp",
    "items": [
     {
      "aliases": [],
      "name": "csharp"
     }
    ]
   }
  }
 },
 "nbformat": 4,
 "nbformat_minor": 2
}
