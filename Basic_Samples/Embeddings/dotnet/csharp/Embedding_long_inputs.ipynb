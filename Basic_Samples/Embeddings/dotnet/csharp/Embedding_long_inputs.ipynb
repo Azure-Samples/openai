{
 "cells": [
  {
   "cell_type": "markdown",
   "metadata": {},
   "source": [
    "## Embedding texts that are longer than the model's maximum context length\n",
    "OpenAI's embedding models cannot embed text that exceeds a maximum length. The maximum length varies by model, and is measured by _tokens_, not string length. If you are unfamiliar with tokenization, check out [How to count tokens with tiktoken](How_to_count_tokens_with_tiktoken.ipynb).\n",
    "\n",
    "This notebook shows how to handle texts that are longer than a model's maximum context length. We'll demonstrate using embeddings from `text-embedding-ada-002`, but the same ideas can be applied to other models and tasks. To learn more about embeddings, check out the [OpenAI Embeddings Guide](https://beta.openai.com/docs/guides/embeddings)."
   ]
  },
  {
   "cell_type": "markdown",
   "metadata": {},
   "source": [
    "## Installation\n",
    "Install the Azure Open AI SDK using the below command."
   ]
  },
  {
   "cell_type": "code",
   "execution_count": 11,
   "metadata": {
    "dotnet_interactive": {
     "language": "csharp"
    },
    "polyglot_notebook": {
     "kernelName": "csharp"
    },
    "vscode": {
     "languageId": "polyglot-notebook"
    }
   },
   "outputs": [
    {
     "data": {
      "text/html": [
       "<div><div></div><div></div><div><strong>Installed Packages</strong><ul><li><span>Azure.AI.OpenAI, 1.0.0-beta.8</span></li><li><span>Microsoft.DeepDev.TokenizerLib, 1.3.2</span></li></ul></div></div>"
      ]
     },
     "metadata": {},
     "output_type": "display_data"
    }
   ],
   "source": [
    "#r \"nuget: Azure.AI.OpenAI, *-*\"\n",
    "#r \"nuget: Microsoft.DeepDev.TokenizerLib, 1.3.2\""
   ]
  },
  {
   "cell_type": "code",
   "execution_count": 2,
   "metadata": {
    "dotnet_interactive": {
     "language": "csharp"
    },
    "polyglot_notebook": {
     "kernelName": "csharp"
    },
    "vscode": {
     "languageId": "polyglot-notebook"
    }
   },
   "outputs": [],
   "source": [
    "using Microsoft.DotNet.Interactive;"
   ]
  },
  {
   "cell_type": "code",
   "execution_count": 4,
   "metadata": {
    "dotnet_interactive": {
     "language": "csharp"
    },
    "polyglot_notebook": {
     "kernelName": "csharp"
    },
    "vscode": {
     "languageId": "polyglot-notebook"
    }
   },
   "outputs": [],
   "source": [
    "var azureOpenAIKey = await Kernel.GetPasswordAsync(\"Provide your OPEN_AI_KEY\");\n",
    "\n",
    "// Your endpoint should look like the following https://YOUR_OPEN_AI_RESOURCE_NAME.openai.azure.com/\n",
    "var azureOpenAIEndpoint = await Kernel.GetInputAsync(\"Provide the OPEN_AI_ENDPOINT\");\n",
    "\n",
    "// Enter the deployment name you chose when you deployed the model.\n",
    "var deployment = await Kernel.GetInputAsync(\"Provide deployment name\");"
   ]
  },
  {
   "cell_type": "markdown",
   "metadata": {},
   "source": [
    "### Import namesapaces and create an instance of `OpenAiClient` using the `azureOpenAIEndpoint` and the `azureOpenAIKey`"
   ]
  },
  {
   "cell_type": "code",
   "execution_count": 5,
   "metadata": {
    "dotnet_interactive": {
     "language": "csharp"
    },
    "polyglot_notebook": {
     "kernelName": "csharp"
    },
    "vscode": {
     "languageId": "polyglot-notebook"
    }
   },
   "outputs": [],
   "source": [
    "using Azure;\n",
    "using Azure.AI.OpenAI;\n",
    "using System.Collections.Generic;"
   ]
  },
  {
   "cell_type": "code",
   "execution_count": 6,
   "metadata": {
    "dotnet_interactive": {
     "language": "csharp"
    },
    "polyglot_notebook": {
     "kernelName": "csharp"
    },
    "vscode": {
     "languageId": "polyglot-notebook"
    }
   },
   "outputs": [],
   "source": [
    "OpenAIClient client = new (new Uri(azureOpenAIEndpoint), new AzureKeyCredential(azureOpenAIKey));"
   ]
  },
  {
   "cell_type": "code",
   "execution_count": 17,
   "metadata": {
    "dotnet_interactive": {
     "language": "csharp"
    },
    "polyglot_notebook": {
     "kernelName": "csharp"
    },
    "vscode": {
     "languageId": "polyglot-notebook"
    }
   },
   "outputs": [],
   "source": [
    "var longText = string.Join(\" \", Enumerable.Repeat(\"AGI\", 5000));"
   ]
  },
  {
   "cell_type": "code",
   "execution_count": 19,
   "metadata": {
    "dotnet_interactive": {
     "language": "csharp"
    },
    "polyglot_notebook": {
     "kernelName": "csharp"
    },
    "vscode": {
     "languageId": "polyglot-notebook"
    }
   },
   "outputs": [
    {
     "ename": "Error",
     "evalue": "Azure.RequestFailedException: This model's maximum context length is 8191 tokens, however you requested 10000 tokens (10000 in your prompt; 0 for the completion). Please reduce your prompt; or completion length.\r\nStatus: 400 (model_error)\r\n\r\nContent:\r\n{\n  \"error\": {\n    \"message\": \"This model's maximum context length is 8191 tokens, however you requested 10000 tokens (10000 in your prompt; 0 for the completion). Please reduce your prompt; or completion length.\",\n    \"type\": \"invalid_request_error\",\n    \"param\": null,\n    \"code\": null\n  }\n}\n\r\n\r\nHeaders:\r\nAccess-Control-Allow-Origin: REDACTED\r\napim-request-id: REDACTED\r\nX-Content-Type-Options: REDACTED\r\nopenai-processing-ms: REDACTED\r\nx-ms-region: REDACTED\r\nX-Request-ID: REDACTED\r\nms-azureml-model-error-reason: REDACTED\r\nms-azureml-model-error-statuscode: REDACTED\r\nx-ms-client-request-id: 7e293405-8c6a-4a58-8115-515161dc49be\r\nStrict-Transport-Security: REDACTED\r\nDate: Tue, 03 Oct 2023 14:00:03 GMT\r\nContent-Length: 294\r\nContent-Type: application/json\r\n\r\n   at Azure.Core.HttpPipelineExtensions.ProcessMessageAsync(HttpPipeline pipeline, HttpMessage message, RequestContext requestContext, CancellationToken cancellationToken)\r\n   at Azure.AI.OpenAI.OpenAIClient.GetEmbeddingsAsync(String deploymentOrModelName, EmbeddingsOptions embeddingsOptions, CancellationToken cancellationToken)\r\n   at Submission#18.<<Initialize>>d__0.MoveNext()\r\n--- End of stack trace from previous location ---\r\n   at Microsoft.CodeAnalysis.Scripting.ScriptExecutionState.RunSubmissionsAsync[TResult](ImmutableArray`1 precedingExecutors, Func`2 currentExecutor, StrongBox`1 exceptionHolderOpt, Func`2 catchExceptionOpt, CancellationToken cancellationToken)",
     "output_type": "error",
     "traceback": [
      "Azure.RequestFailedException: This model's maximum context length is 8191 tokens, however you requested 10000 tokens (10000 in your prompt; 0 for the completion). Please reduce your prompt; or completion length.\r\n",
      "Status: 400 (model_error)\r\n",
      "\r\n",
      "Content:\r\n",
      "{\n",
      "  \"error\": {\n",
      "    \"message\": \"This model's maximum context length is 8191 tokens, however you requested 10000 tokens (10000 in your prompt; 0 for the completion). Please reduce your prompt; or completion length.\",\n",
      "    \"type\": \"invalid_request_error\",\n",
      "    \"param\": null,\n",
      "    \"code\": null\n",
      "  }\n",
      "}\n",
      "\r\n",
      "\r\n",
      "Headers:\r\n",
      "Access-Control-Allow-Origin: REDACTED\r\n",
      "apim-request-id: REDACTED\r\n",
      "X-Content-Type-Options: REDACTED\r\n",
      "openai-processing-ms: REDACTED\r\n",
      "x-ms-region: REDACTED\r\n",
      "X-Request-ID: REDACTED\r\n",
      "ms-azureml-model-error-reason: REDACTED\r\n",
      "ms-azureml-model-error-statuscode: REDACTED\r\n",
      "x-ms-client-request-id: 7e293405-8c6a-4a58-8115-515161dc49be\r\n",
      "Strict-Transport-Security: REDACTED\r\n",
      "Date: Tue, 03 Oct 2023 14:00:03 GMT\r\n",
      "Content-Length: 294\r\n",
      "Content-Type: application/json\r\n",
      "\r\n",
      "   at Azure.Core.HttpPipelineExtensions.ProcessMessageAsync(HttpPipeline pipeline, HttpMessage message, RequestContext requestContext, CancellationToken cancellationToken)\r\n",
      "   at Azure.AI.OpenAI.OpenAIClient.GetEmbeddingsAsync(String deploymentOrModelName, EmbeddingsOptions embeddingsOptions, CancellationToken cancellationToken)\r\n",
      "   at Submission#18.<<Initialize>>d__0.MoveNext()\r\n",
      "--- End of stack trace from previous location ---\r\n",
      "   at Microsoft.CodeAnalysis.Scripting.ScriptExecutionState.RunSubmissionsAsync[TResult](ImmutableArray`1 precedingExecutors, Func`2 currentExecutor, StrongBox`1 exceptionHolderOpt, Func`2 catchExceptionOpt, CancellationToken cancellationToken)"
     ]
    }
   ],
   "source": [
    "var embeddingResponse = await client.GetEmbeddingsAsync(deployment, new EmbeddingsOptions(longText));\n"
   ]
  },
  {
   "cell_type": "markdown",
   "metadata": {},
   "source": [
    "Clearly we want to avoid these errors, particularly when handling programmatically with a large number of embeddings. Yet, we still might be faced with texts that are longer than the maximum context length. Below we describe and provide recipes for the main approaches to handling these longer texts: (1) simply truncating the text to the maximum allowed length, and (2) chunking the text and embedding each chunk individually."
   ]
  },
  {
   "cell_type": "markdown",
   "metadata": {},
   "source": [
    "## 1. Truncating the input text\n",
    "The simplest solution is to truncate the input text to the maximum allowed length. Because the context length is measured in tokens, we have to first tokenize the text before truncating it. The API accepts inputs both in the form of text or tokens, so as long as you are careful that you are using the appropriate encoding, there is no need to convert the tokens back into string form. Below is an example of such a truncation function."
   ]
  },
  {
   "cell_type": "code",
   "execution_count": 20,
   "metadata": {
    "dotnet_interactive": {
     "language": "csharp"
    },
    "polyglot_notebook": {
     "kernelName": "csharp"
    },
    "vscode": {
     "languageId": "polyglot-notebook"
    }
   },
   "outputs": [],
   "source": [
    "using System.Collections.Generic;\n",
    "using Microsoft.DeepDev;\n",
    "\n",
    "\n",
    "var tokenizer = await TokenizerBuilder.CreateByModelNameAsync(\"text-embedding-ada-002\");\n",
    "\n",
    "public string TruncateTextTokens(string text, int maxTokens){\n",
    "    if (string.IsNullOrWhiteSpace(text)){\n",
    "        return text;\n",
    "    }\n",
    "    var encoded = tokenizer.Encode(text, Array.Empty<string>()).Take(maxTokens).ToArray();\n",
    "    return tokenizer.Decode(encoded);\n",
    "}"
   ]
  },
  {
   "cell_type": "code",
   "execution_count": 21,
   "metadata": {
    "dotnet_interactive": {
     "language": "csharp"
    },
    "polyglot_notebook": {
     "kernelName": "csharp"
    },
    "vscode": {
     "languageId": "polyglot-notebook"
    }
   },
   "outputs": [
    {
     "data": {
      "text/html": [
       "<div class=\"dni-plaintext\"><pre>19999</pre></div><style>\r\n",
       ".dni-code-hint {\r\n",
       "    font-style: italic;\r\n",
       "    overflow: hidden;\r\n",
       "    white-space: nowrap;\r\n",
       "}\r\n",
       ".dni-treeview {\r\n",
       "    white-space: nowrap;\r\n",
       "}\r\n",
       ".dni-treeview td {\r\n",
       "    vertical-align: top;\r\n",
       "    text-align: start;\r\n",
       "}\r\n",
       "details.dni-treeview {\r\n",
       "    padding-left: 1em;\r\n",
       "}\r\n",
       "table td {\r\n",
       "    text-align: start;\r\n",
       "}\r\n",
       "table tr { \r\n",
       "    vertical-align: top; \r\n",
       "    margin: 0em 0px;\r\n",
       "}\r\n",
       "table tr td pre \r\n",
       "{ \r\n",
       "    vertical-align: top !important; \r\n",
       "    margin: 0em 0px !important;\r\n",
       "} \r\n",
       "table th {\r\n",
       "    text-align: start;\r\n",
       "}\r\n",
       "</style>"
      ]
     },
     "metadata": {},
     "output_type": "display_data"
    },
    {
     "data": {
      "text/html": [
       "<div class=\"dni-plaintext\"><pre>16382</pre></div><style>\r\n",
       ".dni-code-hint {\r\n",
       "    font-style: italic;\r\n",
       "    overflow: hidden;\r\n",
       "    white-space: nowrap;\r\n",
       "}\r\n",
       ".dni-treeview {\r\n",
       "    white-space: nowrap;\r\n",
       "}\r\n",
       ".dni-treeview td {\r\n",
       "    vertical-align: top;\r\n",
       "    text-align: start;\r\n",
       "}\r\n",
       "details.dni-treeview {\r\n",
       "    padding-left: 1em;\r\n",
       "}\r\n",
       "table td {\r\n",
       "    text-align: start;\r\n",
       "}\r\n",
       "table tr { \r\n",
       "    vertical-align: top; \r\n",
       "    margin: 0em 0px;\r\n",
       "}\r\n",
       "table tr td pre \r\n",
       "{ \r\n",
       "    vertical-align: top !important; \r\n",
       "    margin: 0em 0px !important;\r\n",
       "} \r\n",
       "table th {\r\n",
       "    text-align: start;\r\n",
       "}\r\n",
       "</style>"
      ]
     },
     "metadata": {},
     "output_type": "display_data"
    }
   ],
   "source": [
    "var maxTokens = 8191;\n",
    "\n",
    "var truncated = TruncateTextTokens(longText, maxTokens);\n",
    "longText.Length.Display();\n",
    "truncated.Length.Display();\n"
   ]
  },
  {
   "cell_type": "markdown",
   "metadata": {},
   "source": [
    "## 2. Chunking the input text\n",
    "Though truncation works, discarding potentially relevant text is a clear drawback. Another approach is to divide the input text into chunks and then embed each chunk individually. Then, we can either use the chunk embeddings separately, or combine them in some way, such as averaging (weighted by the size of each chunk).\n",
    "\n",
    "Now we define a function that encodes a string into tokens and then breaks it up into chunks.\n",
    "\n",
    "Finally, we can write a function that safely handles embedding requests, even when the input text is longer than the maximum context length, by chunking the input tokens and embedding each chunk individually. The `average` flag can be set to `True` to return the weighted average of the chunk embeddings, or `False` to simply return the unmodified list of chunk embeddings."
   ]
  },
  {
   "cell_type": "code",
   "execution_count": 23,
   "metadata": {
    "dotnet_interactive": {
     "language": "csharp"
    },
    "polyglot_notebook": {
     "kernelName": "csharp"
    },
    "vscode": {
     "languageId": "polyglot-notebook"
    }
   },
   "outputs": [],
   "source": [
    "public IEnumerable<string> ChunkedText(string text, int maxTokens, bool average = false){\n",
    "    if (string.IsNullOrWhiteSpace(text)){\n",
    "        yield break;\n",
    "    }\n",
    "    var chunkSize = maxTokens;\n",
    "    var encoded = tokenizer.Encode(text, Array.Empty<string>()).ToArray();\n",
    "    var batchCount = (encoded.Length / chunkSize) + (encoded.Length % chunkSize == 0 ? 0 : 1);\n",
    "    var encodedChucks = new List<int[]>();\n",
    "    for(var i = 0; i < batchCount; i++)\n",
    "    {\n",
    "        var slice = encoded.Skip(i * maxTokens).Take(maxTokens).ToArray();\n",
    "        encodedChucks.Add(slice);\n",
    "        \n",
    "    }\n",
    "    if(average){\n",
    "        var averageChunk = encodedChucks.Sum(x => x.Length) / (double)(encodedChucks.Count);\n",
    "        chunkSize = (int)Math.Ceiling(averageChunk);\n",
    "        batchCount = (encoded.Length / chunkSize) + (encoded.Length % chunkSize == 0 ? 0 : 1);\n",
    "        encodedChucks = new List<int[]>();\n",
    "        for(var i = 0; i < batchCount; i++)\n",
    "        {\n",
    "            var slice = encoded.Skip(i * maxTokens).Take(maxTokens).ToArray();\n",
    "            encodedChucks.Add(slice);\n",
    "        }\n",
    "    }\n",
    "\n",
    "    foreach(var chunk in encodedChucks){\n",
    "        yield return tokenizer.Decode(chunk);\n",
    "    }\n",
    "}"
   ]
  },
  {
   "cell_type": "code",
   "execution_count": 25,
   "metadata": {
    "dotnet_interactive": {
     "language": "csharp"
    },
    "polyglot_notebook": {
     "kernelName": "csharp"
    },
    "vscode": {
     "languageId": "polyglot-notebook"
    }
   },
   "outputs": [
    {
     "data": {
      "text/html": [
       "<table><thead><tr><th><i>index</i></th><th>value</th></tr></thead><tbody><tr><td>0</td><td><details class=\"dni-treeview\"><summary><span class=\"dni-code-hint\"><code>Azure.AI.OpenAI.EmbeddingItem</code></span></summary><div><table><thead><tr></tr></thead><tbody><tr><td>Embedding</td><td><div class=\"dni-plaintext\"><pre>[ -0.01849635, 0.007244624, -0.007131842, -0.024108943, -0.012545407, -0.00031160342, -0.022848431, -0.0016079815, -0.013507376, -0.025714437, 0.016957197, 0.010263218, -0.011019525, -0.012366282, 0.0016204208, 0.032720227, 0.01857596, 0.01042244, 0.007821806, -0.014356563 ... (1516 more) ]</pre></div></td></tr><tr><td>Index</td><td><div class=\"dni-plaintext\"><pre>0</pre></div></td></tr></tbody></table></div></details></td></tr><tr><td>1</td><td><details class=\"dni-treeview\"><summary><span class=\"dni-code-hint\"><code>Azure.AI.OpenAI.EmbeddingItem</code></span></summary><div><table><thead><tr></tr></thead><tbody><tr><td>Embedding</td><td><div class=\"dni-plaintext\"><pre>[ -0.015453695, 0.0014483652, -0.0033909671, -0.02639057, -0.00070449687, 0.0024443779, -0.013000941, -0.00092062075, -0.011459593, -0.029861955, 0.015359875, 0.011446189, -0.01529286, -0.016164057, -0.0026420727, 0.029406251, 0.01582898, 0.006755128, 0.0080820285, -0.015721757 ... (1516 more) ]</pre></div></td></tr><tr><td>Index</td><td><div class=\"dni-plaintext\"><pre>1</pre></div></td></tr></tbody></table></div></details></td></tr><tr><td>2</td><td><details class=\"dni-treeview\"><summary><span class=\"dni-code-hint\"><code>Azure.AI.OpenAI.EmbeddingItem</code></span></summary><div><table><thead><tr></tr></thead><tbody><tr><td>Embedding</td><td><div class=\"dni-plaintext\"><pre>[ -0.015453695, 0.0014483652, -0.0033909671, -0.02639057, -0.00070449687, 0.0024443779, -0.013000941, -0.00092062075, -0.011459593, -0.029861955, 0.015359875, 0.011446189, -0.01529286, -0.016164057, -0.0026420727, 0.029406251, 0.01582898, 0.006755128, 0.0080820285, -0.015721757 ... (1516 more) ]</pre></div></td></tr><tr><td>Index</td><td><div class=\"dni-plaintext\"><pre>2</pre></div></td></tr></tbody></table></div></details></td></tr><tr><td>3</td><td><details class=\"dni-treeview\"><summary><span class=\"dni-code-hint\"><code>Azure.AI.OpenAI.EmbeddingItem</code></span></summary><div><table><thead><tr></tr></thead><tbody><tr><td>Embedding</td><td><div class=\"dni-plaintext\"><pre>[ -0.013779954, 0.0037425405, -0.004922829, -0.027216071, -0.0010910232, -0.0009786148, -0.01724478, 0.003451601, -0.014599875, -0.03089249, 0.019307805, 0.014441181, -0.017205106, -0.010652354, 0.0004682308, 0.029913874, 0.012966646, 0.008430635, 0.0052997284, -0.014996611 ... (1516 more) ]</pre></div></td></tr><tr><td>Index</td><td><div class=\"dni-plaintext\"><pre>3</pre></div></td></tr></tbody></table></div></details></td></tr></tbody></table><style>\r\n",
       ".dni-code-hint {\r\n",
       "    font-style: italic;\r\n",
       "    overflow: hidden;\r\n",
       "    white-space: nowrap;\r\n",
       "}\r\n",
       ".dni-treeview {\r\n",
       "    white-space: nowrap;\r\n",
       "}\r\n",
       ".dni-treeview td {\r\n",
       "    vertical-align: top;\r\n",
       "    text-align: start;\r\n",
       "}\r\n",
       "details.dni-treeview {\r\n",
       "    padding-left: 1em;\r\n",
       "}\r\n",
       "table td {\r\n",
       "    text-align: start;\r\n",
       "}\r\n",
       "table tr { \r\n",
       "    vertical-align: top; \r\n",
       "    margin: 0em 0px;\r\n",
       "}\r\n",
       "table tr td pre \r\n",
       "{ \r\n",
       "    vertical-align: top !important; \r\n",
       "    margin: 0em 0px !important;\r\n",
       "} \r\n",
       "table th {\r\n",
       "    text-align: start;\r\n",
       "}\r\n",
       "</style>"
      ]
     },
     "metadata": {},
     "output_type": "display_data"
    }
   ],
   "source": [
    "var batchSize =  16;\n",
    "var chunks = ChunkedText(longText, 3000, true).ToList();\n",
    "var batchCount = (chunks.Count / batchSize) + (chunks.Count % batchSize == 0 ? 0 : 1);\n",
    "for(var i = 0; i < batchCount; i++)\n",
    "{\n",
    "   var embeddings = await client.GetEmbeddingsAsync(deployment, new EmbeddingsOptions(chunks.Skip(i*batchSize).Take(batchSize)));\n",
    "    embeddings.Value.Data.Display();\n",
    "}"
   ]
  },
  {
   "cell_type": "markdown",
   "metadata": {},
   "source": [
    "In some cases, it may make sense to split chunks on paragraph boundaries or sentence boundaries to help preserve the meaning of the text."
   ]
  }
 ],
 "metadata": {
  "language_info": {
   "name": "csharp"
  },
  "orig_nbformat": 4
 },
 "nbformat": 4,
 "nbformat_minor": 2
}
