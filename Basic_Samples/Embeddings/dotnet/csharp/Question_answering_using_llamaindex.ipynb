{
 "cells": [
  {
   "cell_type": "markdown",
   "metadata": {},
   "source": [
    "# Question answering using fusion retriever architecture\n",
    "This notebook builds ontop of [Question answering using embeddings-based search](Question_answering_using_embeddings.ipynb) but the data will be loaded from wikipedia using [llamaindex](https://www.llamaindex.ai/)"
   ]
  },
  {
   "cell_type": "markdown",
   "metadata": {},
   "source": [
    "## Installation\n",
    "Install the Azure Open AI SDK using the below command."
   ]
  },
  {
   "cell_type": "code",
   "execution_count": 1,
   "metadata": {
    "dotnet_interactive": {
     "language": "csharp"
    },
    "polyglot_notebook": {
     "kernelName": "csharp"
    },
    "vscode": {
     "languageId": "polyglot-notebook"
    }
   },
   "outputs": [
    {
     "data": {
      "text/html": [
       "<div><div></div><div></div><div><strong>Installed Packages</strong><ul><li><span>Azure.AI.OpenAI, 1.0.0-beta.14</span></li></ul></div></div>"
      ]
     },
     "metadata": {},
     "output_type": "display_data"
    }
   ],
   "source": [
    "#r \"nuget: Azure.AI.OpenAI, 1.0.0-beta.14\""
   ]
  },
  {
   "cell_type": "code",
   "execution_count": null,
   "metadata": {
    "dotnet_interactive": {
     "language": "csharp"
    },
    "polyglot_notebook": {
     "kernelName": "csharp"
    },
    "vscode": {
     "languageId": "polyglot-notebook"
    }
   },
   "outputs": [],
   "source": [
    "#r \"nuget:Microsoft.DotNet.Interactive.AIUtilities, 1.0.0-beta.24129.1\"\n",
    "\n",
    "using Microsoft.DotNet.Interactive;\n",
    "using Microsoft.DotNet.Interactive.AIUtilities;"
   ]
  },
  {
   "cell_type": "markdown",
   "metadata": {},
   "source": [
    "## Run this cell, it will prompt you for the apiKey, endPoint, and chatDeployment"
   ]
  },
  {
   "cell_type": "code",
   "execution_count": 3,
   "metadata": {
    "dotnet_interactive": {
     "language": "csharp"
    },
    "polyglot_notebook": {
     "kernelName": "csharp"
    },
    "vscode": {
     "languageId": "polyglot-notebook"
    }
   },
   "outputs": [],
   "source": [
    "var azureOpenAIKey = await Kernel.GetPasswordAsync(\"Provide your OPEN_AI_KEY\");\n",
    "\n",
    "// Your endpoint should look like the following https://YOUR_OPEN_AI_RESOURCE_NAME.openai.azure.com/\n",
    "var azureOpenAIEndpoint = await Kernel.GetInputAsync(\"Provide the OPEN_AI_ENDPOINT\");\n",
    "\n",
    "// Enter the deployment name you chose when you deployed the model.\n",
    "var chatDeployment = await Kernel.GetInputAsync(\"Provide chat deployment name\");"
   ]
  },
  {
   "cell_type": "markdown",
   "metadata": {},
   "source": [
    "### Import namesapaces and create an instance of `OpenAiClient` using the `azureOpenAIEndpoint` and the `azureOpenAIKey`"
   ]
  },
  {
   "cell_type": "code",
   "execution_count": 4,
   "metadata": {
    "dotnet_interactive": {
     "language": "csharp"
    },
    "polyglot_notebook": {
     "kernelName": "csharp"
    },
    "vscode": {
     "languageId": "polyglot-notebook"
    }
   },
   "outputs": [],
   "source": [
    "using Azure;\n",
    "using Azure.AI.OpenAI;"
   ]
  },
  {
   "cell_type": "code",
   "execution_count": 5,
   "metadata": {
    "dotnet_interactive": {
     "language": "csharp"
    },
    "polyglot_notebook": {
     "kernelName": "csharp"
    },
    "vscode": {
     "languageId": "polyglot-notebook"
    }
   },
   "outputs": [],
   "source": [
    "OpenAIClient client = new (new Uri(azureOpenAIEndpoint), new AzureKeyCredential(azureOpenAIKey.GetClearTextPassword()));"
   ]
  },
  {
   "cell_type": "markdown",
   "metadata": {},
   "source": [
    "## 1. Prepare search data\n",
    "We need to use python to load and idnex data. First we need to connect a Python Kernel"
   ]
  },
  {
   "cell_type": "code",
   "execution_count": 6,
   "metadata": {
    "dotnet_interactive": {
     "language": "csharp"
    },
    "polyglot_notebook": {
     "kernelName": "csharp"
    },
    "vscode": {
     "languageId": "polyglot-notebook"
    }
   },
   "outputs": [
    {
     "data": {
      "text/markdown": [
       "The `#!connect jupyter` feature is in preview. Please report any feedback or issues at https://github.com/dotnet/interactive/issues/new/choose."
      ]
     },
     "metadata": {},
     "output_type": "display_data"
    },
    {
     "data": {
      "text/plain": [
       "Kernel added: #!python3"
      ]
     },
     "metadata": {},
     "output_type": "display_data"
    }
   ],
   "source": [
    "#!connect jupyter --kernel-name python3 --kernel-spec python3 --conda-env AI"
   ]
  },
  {
   "cell_type": "code",
   "execution_count": 8,
   "metadata": {
    "dotnet_interactive": {
     "language": "csharp"
    },
    "polyglot_notebook": {
     "kernelName": "csharp"
    },
    "vscode": {
     "languageId": "polyglot-notebook"
    }
   },
   "outputs": [],
   "source": [
    "using System.Linq;\n",
    "using System.Text.Json;\n",
    "using Microsoft.DotNet.Interactive;\n",
    "using Microsoft.DotNet.Interactive.Commands;\n",
    "using Microsoft.DotNet.Interactive.Events;\n",
    "using Microsoft.DotNet.Interactive.Formatting;"
   ]
  },
  {
   "cell_type": "code",
   "execution_count": 9,
   "metadata": {
    "dotnet_interactive": {
     "language": "csharp"
    },
    "polyglot_notebook": {
     "kernelName": "csharp"
    },
    "vscode": {
     "languageId": "polyglot-notebook"
    }
   },
   "outputs": [],
   "source": [
    "var pythonKernel = Kernel.Root.FindKernelByName(\"python3\");"
   ]
  },
  {
   "cell_type": "markdown",
   "metadata": {},
   "source": [
    "Now we need to setup the python kernel.\n",
    "1. import llama_index\n",
    "2. use [llamahub](https://llamahub.ai/) to load \n",
    "    1. [Wikipedia Reader](https://llamahub.ai/l/wikipedia?from=loaders)\n",
    "    2. [QueryRewritingRetrieverPack](https://llamahub.ai/l/llama_packs-fusion_retriever-query_rewrite)"
   ]
  },
  {
   "cell_type": "code",
   "execution_count": 10,
   "metadata": {
    "dotnet_interactive": {
     "language": "csharp"
    },
    "polyglot_notebook": {
     "kernelName": "csharp"
    },
    "vscode": {
     "languageId": "polyglot-notebook"
    }
   },
   "outputs": [],
   "source": [
    "await pythonKernel.SendAsync(new SubmitCode(\n",
    "    $\"\"\"\n",
    "    from llama_index import download_loader\n",
    "    from llama_index import Document\n",
    "    from llama_index import ServiceContext\n",
    "    from llama_index.embeddings import OpenAIEmbedding\n",
    "    from llama_index.text_splitter import SentenceSplitter\n",
    "    from llama_index.extractors import TitleExtractor\n",
    "    from llama_index.ingestion import IngestionPipeline, IngestionCache\n",
    "    from llama_index.llama_pack import download_llama_pack\n",
    "    from llama_index.embeddings import HuggingFaceEmbedding\n",
    "    from llama_index.llms import AzureOpenAI\n",
    "    from typing import Any, Dict, List\n",
    "    from llama_index.readers.base import BaseReader\n",
    "    from llama_index.readers.schema.base import Document\n",
    "    import wikipedia\n",
    "    from llama_index.node_parser import ( SentenceSplitter, SemanticSplitterNodeParser)\n",
    "    from llama_index.ingestion import IngestionPipeline, IngestionCache\n",
    "    from llama_index import VectorStoreIndex\n",
    "    from llama_index.indices.vector_store import VectorStoreIndex\n",
    "    from llama_index.llama_pack.base import BaseLlamaPack\n",
    "    from llama_index.schema import TextNode\n",
    "    from llama_index.query_engine import RetrieverQueryEngine\n",
    "    from llama_index.indices.service_context import ServiceContext\n",
    "    from llama_index.retrievers import QueryFusionRetriever\n",
    "    import nest_asyncio\n",
    "\n",
    "    nest_asyncio.apply()\n",
    "\n",
    "    llm = AzureOpenAI(\n",
    "        engine=\"{chatDeployment}\",\n",
    "        model=\"{chatDeployment}\",\n",
    "        temperature=0.0,\n",
    "        azure_endpoint=\"{azureOpenAIEndpoint}\",\n",
    "        api_key=\"{azureOpenAIKey.GetClearTextPassword()}\",\n",
    "        api_version=\"2023-07-01-preview\"\n",
    "    )\n",
    "    embed_model = HuggingFaceEmbedding(model_name=\"BAAI/bge-small-en-v1.5\") \n",
    "    service_context = ServiceContext.from_defaults(llm=llm, embed_model=embed_model)    \n",
    "    QueryRewritingRetrieverPack = download_llama_pack(\"QueryRewritingRetrieverPack\", \"./query_rewriting_pack\")\n",
    "    \"\"\"\n",
    "));"
   ]
  },
  {
   "cell_type": "markdown",
   "metadata": {},
   "source": [
    "Loading documents from wikipedia using [LlamaIndex loading](https://docs.llamaindex.ai/en/stable/understanding/loading/loading.html)"
   ]
  },
  {
   "cell_type": "code",
   "execution_count": 11,
   "metadata": {
    "dotnet_interactive": {
     "language": "csharp"
    },
    "polyglot_notebook": {
     "kernelName": "csharp"
    },
    "vscode": {
     "languageId": "polyglot-notebook"
    }
   },
   "outputs": [],
   "source": [
    "public async Task ExtractKnowledgeFromWikipedia(string topic){\n",
    "    await pythonKernel.SendAsync(new SubmitCode(\n",
    "        $\"\"\"\n",
    "        pages = wikipedia.search(\"{topic}\")\n",
    "        documents = []\n",
    "        for page in pages:\n",
    "            try:\n",
    "                wikipedia.set_lang(\"en\")\n",
    "                page_content = wikipedia.page(page).content\n",
    "                documents.append(Document(text=page_content))\n",
    "            except:\n",
    "                pages.remove(page)\n",
    "            \n",
    "        \"\"\"));\n",
    "}"
   ]
  },
  {
   "cell_type": "code",
   "execution_count": 12,
   "metadata": {
    "dotnet_interactive": {
     "language": "csharp"
    },
    "polyglot_notebook": {
     "kernelName": "csharp"
    },
    "vscode": {
     "languageId": "polyglot-notebook"
    }
   },
   "outputs": [],
   "source": [
    "await ExtractKnowledgeFromWikipedia(\"2022 winter olympics\");"
   ]
  },
  {
   "cell_type": "markdown",
   "metadata": {},
   "source": [
    "Now we use a pipeline to create a set of nodes and compute embeddings. "
   ]
  },
  {
   "cell_type": "code",
   "execution_count": 152,
   "metadata": {
    "dotnet_interactive": {
     "language": "csharp"
    },
    "polyglot_notebook": {
     "kernelName": "csharp"
    },
    "vscode": {
     "languageId": "polyglot-notebook"
    }
   },
   "outputs": [],
   "source": [
    "public async Task CreateKnowledgeBase(){\n",
    "     await pythonKernel.SendAsync(new SubmitCode(\n",
    "        $\"\"\"\n",
    "        splitter = SemanticSplitterNodeParser(buffer_size=1, breakpoint_percentile_threshold=95, embed_model=embed_model)       \n",
    "        # create the pipeline with transformations\n",
    "        pipeline = IngestionPipeline( transformations=[ splitter, embed_model ])\n",
    "        # run the pipeline\n",
    "        nodes = pipeline.run(documents=documents)\n",
    "        \"\"\"));\n",
    "}"
   ]
  },
  {
   "cell_type": "code",
   "execution_count": 153,
   "metadata": {
    "dotnet_interactive": {
     "language": "csharp"
    },
    "polyglot_notebook": {
     "kernelName": "csharp"
    },
    "vscode": {
     "languageId": "polyglot-notebook"
    }
   },
   "outputs": [],
   "source": [
    "await CreateKnowledgeBase();"
   ]
  },
  {
   "cell_type": "code",
   "execution_count": 154,
   "metadata": {
    "dotnet_interactive": {
     "language": "csharp"
    },
    "polyglot_notebook": {
     "kernelName": "csharp"
    },
    "vscode": {
     "languageId": "polyglot-notebook"
    }
   },
   "outputs": [],
   "source": [
    "public async Task CreateQueryEngine(){\n",
    "     await pythonKernel.SendAsync(new SubmitCode(\n",
    "        $\"\"\"\n",
    "        index = VectorStoreIndex(nodes, service_context=service_context)\n",
    "        vector_retriever = index.as_retriever(similarity_top_k=10)\n",
    "        fusion_retriever = QueryFusionRetriever(\n",
    "                [vector_retriever],\n",
    "                llm = service_context.llm,\n",
    "                similarity_top_k=10,\n",
    "                num_queries=16,  # set this to 1 to disable query generation\n",
    "                mode=\"reciprocal_rerank\",\n",
    "                # query_gen_prompt=\"...\",  # we could override the query generation prompt here\n",
    "                verbose = True\n",
    "                )\n",
    "        \"\"\"));\n",
    "}"
   ]
  },
  {
   "cell_type": "code",
   "execution_count": 155,
   "metadata": {
    "dotnet_interactive": {
     "language": "csharp"
    },
    "polyglot_notebook": {
     "kernelName": "csharp"
    },
    "vscode": {
     "languageId": "polyglot-notebook"
    }
   },
   "outputs": [],
   "source": [
    "await CreateQueryEngine();"
   ]
  },
  {
   "cell_type": "code",
   "execution_count": 156,
   "metadata": {
    "dotnet_interactive": {
     "language": "csharp"
    },
    "polyglot_notebook": {
     "kernelName": "csharp"
    },
    "vscode": {
     "languageId": "polyglot-notebook"
    }
   },
   "outputs": [],
   "source": [
    "public async Task<string[]> Search(string query){\n",
    "    await pythonKernel.SendAsync(new SubmitCode(\n",
    "        $\"\"\"    \n",
    "        retrievedNodes = fusion_retriever.retrieve(\"{query}\")\n",
    "        articles = []\n",
    "        for node in retrievedNodes:\n",
    "            articles.append(node.text)\n",
    "        \"\"\"));\n",
    "    \n",
    "    var getValue = new RequestValue(\"articles\", JsonFormatter.MimeType);\n",
    "    var result = await pythonKernel.SendAsync(getValue);\n",
    "    var returnValueProduced = result.Events.OfType<ValueProduced>().LastOrDefault();\n",
    "    var json = returnValueProduced.FormattedValue.Value;\n",
    "\n",
    "    var searchResults =  JsonSerializer.Deserialize<string[]>(json);\n",
    "    return searchResults;\n",
    "}"
   ]
  },
  {
   "cell_type": "code",
   "execution_count": 158,
   "metadata": {
    "dotnet_interactive": {
     "language": "csharp"
    },
    "polyglot_notebook": {
     "kernelName": "csharp"
    },
    "vscode": {
     "languageId": "polyglot-notebook"
    }
   },
   "outputs": [],
   "source": [
    "var tokenizer = await Tokenizer.CreateAsync(TokenizerModel.gpt35);\n",
    "\n",
    "public async Task<string> AskAsync(string question){\n",
    "\n",
    "    var searchResults = await Search(question);\n",
    "\n",
    "    var articles = string.Join(\"\\n\", searchResults.Select(s => $\"\"\"\n",
    "    Wikipedia article section:\n",
    "    {s}\n",
    "\n",
    "    \"\"\"));\n",
    "\n",
    "    var userQuestion = $\"\"\"\"\"\n",
    "                Use the below articles on the 2022 Winter Olympics to answer the subsequent question. If the answer cannot be found in the articles, write \"I could not find an answer.\"\n",
    "                                \n",
    "                {articles}\n",
    "                \n",
    "                Question: {question}\n",
    "                \"\"\"\"\";\n",
    "\n",
    "    var options= new ChatCompletionsOptions{\n",
    "        Messages =\n",
    "            {\n",
    "                new ChatRequestSystemMessage(@\"You answer questions about the 2022 Winter Olympics.\"),\n",
    "                new ChatRequestUserMessage(userQuestion)\n",
    "            },\n",
    "        Temperature = 0f,\n",
    "        MaxTokens = 3500,\n",
    "        DeploymentName = chatDeployment\n",
    "    };\n",
    "\n",
    "    var response = await client.GetChatCompletionsAsync(options);\n",
    "\n",
    "    var answer = response.Value.Choices.FirstOrDefault()?.Message?.Content;  \n",
    "    return answer;\n",
    "}"
   ]
  },
  {
   "cell_type": "code",
   "execution_count": 146,
   "metadata": {
    "dotnet_interactive": {
     "language": "csharp"
    },
    "polyglot_notebook": {
     "kernelName": "csharp"
    },
    "vscode": {
     "languageId": "polyglot-notebook"
    }
   },
   "outputs": [
    {
     "name": "stdout",
     "output_type": "stream",
     "text": [
      "Generated queries:\n",
      "1. What countries bid for the 2022 winter Olympics?\n",
      "2. Who won the bid for the 2022 winter Olympics?\n",
      "3. How many cities were considered for the 2022 winter Olympics?\n",
      "4. What were the criteria for selecting the host city for the 2022 winter Olympics?\n",
      "5. What were the venues used for the 2022 winter Olympics?\n",
      "6. How many athletes participated in the 2022 winter Olympics?\n",
      "7. Who were the medal winners at the 2022 winter Olympics?\n",
      "8. What were the most popular sports at the 2022 winter Olympics?\n",
      "9. How did the 2022 winter Olympics impact the host city's economy?\n",
      "10. What were the controversies surrounding the 2022 winter Olympics?\n",
      "11. What were the highlights of the 2022 winter Olympics?\n"
     ]
    },
    {
     "data": {
      "text/plain": [
       "The 2022 Winter Olympics took place in Beijing, China."
      ]
     },
     "metadata": {},
     "output_type": "display_data"
    }
   ],
   "source": [
    "await AskAsync(\"Where did the 2022 winter Olympics took place?\")"
   ]
  },
  {
   "cell_type": "code",
   "execution_count": 151,
   "metadata": {
    "dotnet_interactive": {
     "language": "csharp"
    },
    "polyglot_notebook": {
     "kernelName": "csharp"
    },
    "vscode": {
     "languageId": "polyglot-notebook"
    }
   },
   "outputs": [
    {
     "name": "stdout",
     "output_type": "stream",
     "text": [
      "Generated queries:\n",
      "1. List of countries participating in the 2022 winter Olympics\n",
      "2. Winter Olympics 2022: Which countries participated?\n",
      "3. Complete list of nations involved in the 2022 winter Olympics\n",
      "4. Countries competing in the 2022 winter Olympics\n",
      "5. Winter Olympics 2022: Participating countries\n",
      "6. Which nations took part in the 2022 winter Olympics?\n",
      "7. 2022 winter Olympics: Full list of participating countries\n",
      "8. Countries represented in the 2022 winter Olympics\n",
      "9. Winter Olympics 2022: Countries involved\n",
      "10. List of all the countries that participated in the 2022 winter Olympics\n",
      "11. 2022 winter Olympics: Nations that took part\n"
     ]
    },
    {
     "data": {
      "text/plain": [
       "I could not find an answer."
      ]
     },
     "metadata": {},
     "output_type": "display_data"
    }
   ],
   "source": [
    "await AskAsync(\"What countries did take part in the 2022 winter Olympics? Write me the complete list of the countries.\")"
   ]
  },
  {
   "cell_type": "code",
   "execution_count": 147,
   "metadata": {
    "dotnet_interactive": {
     "language": "csharp"
    },
    "polyglot_notebook": {
     "kernelName": "csharp"
    },
    "vscode": {
     "languageId": "polyglot-notebook"
    }
   },
   "outputs": [
    {
     "name": "stdout",
     "output_type": "stream",
     "text": [
      "Generated queries:\n",
      "1. List of countries participating in the 2022 winter Olympics\n",
      "2. Winter Olympic countries in 2022\n",
      "3. Which nations competed in the 2022 winter Olympics?\n",
      "4. Countries involved in the 2022 winter Olympics\n",
      "5. 2022 winter Olympics participants by country\n",
      "6. What countries were represented in the 2022 winter Olympics?\n",
      "7. Nations that took part in the 2022 winter Olympics\n",
      "8. 2022 winter Olympics: participating countries\n",
      "9. Countries that competed in the 2022 winter Olympics\n",
      "10. Winter Olympic nations in 2022\n",
      "11. List of countries and months for the 2022 winter Olympics\n"
     ]
    },
    {
     "data": {
      "text/plain": [
       "The countries that took part in the 2022 Winter Olympics were not mentioned in the provided articles. However, it is mentioned that Norway led the total medal standings with 39 medals, Germany had 31 medals, Canada had 29 medals, and South Korea won 17 medals. The Winter Olympics were held between 4 and 20 February 2022."
      ]
     },
     "metadata": {},
     "output_type": "display_data"
    }
   ],
   "source": [
    "await AskAsync(\"What countries did take part in the 2022 winter Olympics, what months where they held?\")"
   ]
  }
 ],
 "metadata": {
  "language_info": {
   "name": "csharp"
  },
  "orig_nbformat": 4
 },
 "nbformat": 4,
 "nbformat_minor": 2
}
